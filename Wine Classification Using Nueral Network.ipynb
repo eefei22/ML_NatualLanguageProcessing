{
  "nbformat": 4,
  "nbformat_minor": 0,
  "metadata": {
    "colab": {
      "provenance": [],
      "toc_visible": true
    },
    "kernelspec": {
      "name": "python3",
      "display_name": "Python 3"
    },
    "language_info": {
      "name": "python"
    }
  },
  "cells": [
    {
      "cell_type": "markdown",
      "source": [
        "#Wine Classification Using Nueral Network\n",
        "This lab work assignment performs a systematic analysis on the performance of neural network models in classifying the type of wine \n",
        "(red wine / white wine). 5 models are designed, of which the best will be further tuned to make the best possible prediction.\n"
      ],
      "metadata": {
        "id": "nxDvWyMA3i_U"
      }
    },
    {
      "cell_type": "code",
      "source": [
        "# import libraries\n",
        "\n",
        "import pandas as pd\n",
        "import tensorflow as tf\n",
        "import pandas as pd\n",
        "\n",
        "from tensorflow import keras\n",
        "from keras import optimizers\n",
        "from sklearn.model_selection import train_test_split\n",
        "from IPython.display import SVG, display\n",
        "\n"
      ],
      "metadata": {
        "id": "twR3hRrg55Vr"
      },
      "execution_count": 16,
      "outputs": []
    },
    {
      "cell_type": "markdown",
      "source": [
        "#Data Preperation\n",
        "In this section, basic data preparation steps have been taken including:\n",
        "* Load\n",
        "* Merge\n",
        "* Split for training and testing"
      ],
      "metadata": {
        "id": "bgUR5EQL4DBj"
      }
    },
    {
      "cell_type": "code",
      "source": [
        "from google.colab import drive\n",
        "drive.mount('/content/drive')"
      ],
      "metadata": {
        "colab": {
          "base_uri": "https://localhost:8080/"
        },
        "id": "E0N90dbFt_fy",
        "outputId": "3566d440-46ec-40d5-e6de-cdd780add81d"
      },
      "execution_count": 17,
      "outputs": [
        {
          "output_type": "stream",
          "name": "stdout",
          "text": [
            "Drive already mounted at /content/drive; to attempt to forcibly remount, call drive.mount(\"/content/drive\", force_remount=True).\n"
          ]
        }
      ]
    },
    {
      "cell_type": "code",
      "source": [
        "# Load the dataset\n",
        "dataR = pd.read_csv('/content/drive/MyDrive/Colab Notebooks/winequality-red.csv', sep=';')\n",
        "\n",
        "# Add a new column 'WineType'(boolean) - red wine = 1\n",
        "dataR['WineType'] = 1\n",
        "\n",
        "# Display the resulting dataframe\n",
        "dataR\n"
      ],
      "metadata": {
        "colab": {
          "base_uri": "https://localhost:8080/",
          "height": 485
        },
        "id": "0hmwVvkPufPe",
        "outputId": "eb253540-9713-478c-ac0d-fd5f117813d6"
      },
      "execution_count": 18,
      "outputs": [
        {
          "output_type": "execute_result",
          "data": {
            "text/plain": [
              "      fixed acidity  volatile acidity  citric acid  residual sugar  chlorides  \\\n",
              "0               7.4             0.700         0.00             1.9      0.076   \n",
              "1               7.8             0.880         0.00             2.6      0.098   \n",
              "2               7.8             0.760         0.04             2.3      0.092   \n",
              "3              11.2             0.280         0.56             1.9      0.075   \n",
              "4               7.4             0.700         0.00             1.9      0.076   \n",
              "...             ...               ...          ...             ...        ...   \n",
              "1594            6.2             0.600         0.08             2.0      0.090   \n",
              "1595            5.9             0.550         0.10             2.2      0.062   \n",
              "1596            6.3             0.510         0.13             2.3      0.076   \n",
              "1597            5.9             0.645         0.12             2.0      0.075   \n",
              "1598            6.0             0.310         0.47             3.6      0.067   \n",
              "\n",
              "      free sulfur dioxide  total sulfur dioxide  density    pH  sulphates  \\\n",
              "0                    11.0                  34.0  0.99780  3.51       0.56   \n",
              "1                    25.0                  67.0  0.99680  3.20       0.68   \n",
              "2                    15.0                  54.0  0.99700  3.26       0.65   \n",
              "3                    17.0                  60.0  0.99800  3.16       0.58   \n",
              "4                    11.0                  34.0  0.99780  3.51       0.56   \n",
              "...                   ...                   ...      ...   ...        ...   \n",
              "1594                 32.0                  44.0  0.99490  3.45       0.58   \n",
              "1595                 39.0                  51.0  0.99512  3.52       0.76   \n",
              "1596                 29.0                  40.0  0.99574  3.42       0.75   \n",
              "1597                 32.0                  44.0  0.99547  3.57       0.71   \n",
              "1598                 18.0                  42.0  0.99549  3.39       0.66   \n",
              "\n",
              "      alcohol  quality  WineType  \n",
              "0         9.4        5         1  \n",
              "1         9.8        5         1  \n",
              "2         9.8        5         1  \n",
              "3         9.8        6         1  \n",
              "4         9.4        5         1  \n",
              "...       ...      ...       ...  \n",
              "1594     10.5        5         1  \n",
              "1595     11.2        6         1  \n",
              "1596     11.0        6         1  \n",
              "1597     10.2        5         1  \n",
              "1598     11.0        6         1  \n",
              "\n",
              "[1599 rows x 13 columns]"
            ],
            "text/html": [
              "\n",
              "  <div id=\"df-2747630c-c49f-44e5-8b2a-723952597d27\">\n",
              "    <div class=\"colab-df-container\">\n",
              "      <div>\n",
              "<style scoped>\n",
              "    .dataframe tbody tr th:only-of-type {\n",
              "        vertical-align: middle;\n",
              "    }\n",
              "\n",
              "    .dataframe tbody tr th {\n",
              "        vertical-align: top;\n",
              "    }\n",
              "\n",
              "    .dataframe thead th {\n",
              "        text-align: right;\n",
              "    }\n",
              "</style>\n",
              "<table border=\"1\" class=\"dataframe\">\n",
              "  <thead>\n",
              "    <tr style=\"text-align: right;\">\n",
              "      <th></th>\n",
              "      <th>fixed acidity</th>\n",
              "      <th>volatile acidity</th>\n",
              "      <th>citric acid</th>\n",
              "      <th>residual sugar</th>\n",
              "      <th>chlorides</th>\n",
              "      <th>free sulfur dioxide</th>\n",
              "      <th>total sulfur dioxide</th>\n",
              "      <th>density</th>\n",
              "      <th>pH</th>\n",
              "      <th>sulphates</th>\n",
              "      <th>alcohol</th>\n",
              "      <th>quality</th>\n",
              "      <th>WineType</th>\n",
              "    </tr>\n",
              "  </thead>\n",
              "  <tbody>\n",
              "    <tr>\n",
              "      <th>0</th>\n",
              "      <td>7.4</td>\n",
              "      <td>0.700</td>\n",
              "      <td>0.00</td>\n",
              "      <td>1.9</td>\n",
              "      <td>0.076</td>\n",
              "      <td>11.0</td>\n",
              "      <td>34.0</td>\n",
              "      <td>0.99780</td>\n",
              "      <td>3.51</td>\n",
              "      <td>0.56</td>\n",
              "      <td>9.4</td>\n",
              "      <td>5</td>\n",
              "      <td>1</td>\n",
              "    </tr>\n",
              "    <tr>\n",
              "      <th>1</th>\n",
              "      <td>7.8</td>\n",
              "      <td>0.880</td>\n",
              "      <td>0.00</td>\n",
              "      <td>2.6</td>\n",
              "      <td>0.098</td>\n",
              "      <td>25.0</td>\n",
              "      <td>67.0</td>\n",
              "      <td>0.99680</td>\n",
              "      <td>3.20</td>\n",
              "      <td>0.68</td>\n",
              "      <td>9.8</td>\n",
              "      <td>5</td>\n",
              "      <td>1</td>\n",
              "    </tr>\n",
              "    <tr>\n",
              "      <th>2</th>\n",
              "      <td>7.8</td>\n",
              "      <td>0.760</td>\n",
              "      <td>0.04</td>\n",
              "      <td>2.3</td>\n",
              "      <td>0.092</td>\n",
              "      <td>15.0</td>\n",
              "      <td>54.0</td>\n",
              "      <td>0.99700</td>\n",
              "      <td>3.26</td>\n",
              "      <td>0.65</td>\n",
              "      <td>9.8</td>\n",
              "      <td>5</td>\n",
              "      <td>1</td>\n",
              "    </tr>\n",
              "    <tr>\n",
              "      <th>3</th>\n",
              "      <td>11.2</td>\n",
              "      <td>0.280</td>\n",
              "      <td>0.56</td>\n",
              "      <td>1.9</td>\n",
              "      <td>0.075</td>\n",
              "      <td>17.0</td>\n",
              "      <td>60.0</td>\n",
              "      <td>0.99800</td>\n",
              "      <td>3.16</td>\n",
              "      <td>0.58</td>\n",
              "      <td>9.8</td>\n",
              "      <td>6</td>\n",
              "      <td>1</td>\n",
              "    </tr>\n",
              "    <tr>\n",
              "      <th>4</th>\n",
              "      <td>7.4</td>\n",
              "      <td>0.700</td>\n",
              "      <td>0.00</td>\n",
              "      <td>1.9</td>\n",
              "      <td>0.076</td>\n",
              "      <td>11.0</td>\n",
              "      <td>34.0</td>\n",
              "      <td>0.99780</td>\n",
              "      <td>3.51</td>\n",
              "      <td>0.56</td>\n",
              "      <td>9.4</td>\n",
              "      <td>5</td>\n",
              "      <td>1</td>\n",
              "    </tr>\n",
              "    <tr>\n",
              "      <th>...</th>\n",
              "      <td>...</td>\n",
              "      <td>...</td>\n",
              "      <td>...</td>\n",
              "      <td>...</td>\n",
              "      <td>...</td>\n",
              "      <td>...</td>\n",
              "      <td>...</td>\n",
              "      <td>...</td>\n",
              "      <td>...</td>\n",
              "      <td>...</td>\n",
              "      <td>...</td>\n",
              "      <td>...</td>\n",
              "      <td>...</td>\n",
              "    </tr>\n",
              "    <tr>\n",
              "      <th>1594</th>\n",
              "      <td>6.2</td>\n",
              "      <td>0.600</td>\n",
              "      <td>0.08</td>\n",
              "      <td>2.0</td>\n",
              "      <td>0.090</td>\n",
              "      <td>32.0</td>\n",
              "      <td>44.0</td>\n",
              "      <td>0.99490</td>\n",
              "      <td>3.45</td>\n",
              "      <td>0.58</td>\n",
              "      <td>10.5</td>\n",
              "      <td>5</td>\n",
              "      <td>1</td>\n",
              "    </tr>\n",
              "    <tr>\n",
              "      <th>1595</th>\n",
              "      <td>5.9</td>\n",
              "      <td>0.550</td>\n",
              "      <td>0.10</td>\n",
              "      <td>2.2</td>\n",
              "      <td>0.062</td>\n",
              "      <td>39.0</td>\n",
              "      <td>51.0</td>\n",
              "      <td>0.99512</td>\n",
              "      <td>3.52</td>\n",
              "      <td>0.76</td>\n",
              "      <td>11.2</td>\n",
              "      <td>6</td>\n",
              "      <td>1</td>\n",
              "    </tr>\n",
              "    <tr>\n",
              "      <th>1596</th>\n",
              "      <td>6.3</td>\n",
              "      <td>0.510</td>\n",
              "      <td>0.13</td>\n",
              "      <td>2.3</td>\n",
              "      <td>0.076</td>\n",
              "      <td>29.0</td>\n",
              "      <td>40.0</td>\n",
              "      <td>0.99574</td>\n",
              "      <td>3.42</td>\n",
              "      <td>0.75</td>\n",
              "      <td>11.0</td>\n",
              "      <td>6</td>\n",
              "      <td>1</td>\n",
              "    </tr>\n",
              "    <tr>\n",
              "      <th>1597</th>\n",
              "      <td>5.9</td>\n",
              "      <td>0.645</td>\n",
              "      <td>0.12</td>\n",
              "      <td>2.0</td>\n",
              "      <td>0.075</td>\n",
              "      <td>32.0</td>\n",
              "      <td>44.0</td>\n",
              "      <td>0.99547</td>\n",
              "      <td>3.57</td>\n",
              "      <td>0.71</td>\n",
              "      <td>10.2</td>\n",
              "      <td>5</td>\n",
              "      <td>1</td>\n",
              "    </tr>\n",
              "    <tr>\n",
              "      <th>1598</th>\n",
              "      <td>6.0</td>\n",
              "      <td>0.310</td>\n",
              "      <td>0.47</td>\n",
              "      <td>3.6</td>\n",
              "      <td>0.067</td>\n",
              "      <td>18.0</td>\n",
              "      <td>42.0</td>\n",
              "      <td>0.99549</td>\n",
              "      <td>3.39</td>\n",
              "      <td>0.66</td>\n",
              "      <td>11.0</td>\n",
              "      <td>6</td>\n",
              "      <td>1</td>\n",
              "    </tr>\n",
              "  </tbody>\n",
              "</table>\n",
              "<p>1599 rows × 13 columns</p>\n",
              "</div>\n",
              "      <button class=\"colab-df-convert\" onclick=\"convertToInteractive('df-2747630c-c49f-44e5-8b2a-723952597d27')\"\n",
              "              title=\"Convert this dataframe to an interactive table.\"\n",
              "              style=\"display:none;\">\n",
              "        \n",
              "  <svg xmlns=\"http://www.w3.org/2000/svg\" height=\"24px\"viewBox=\"0 0 24 24\"\n",
              "       width=\"24px\">\n",
              "    <path d=\"M0 0h24v24H0V0z\" fill=\"none\"/>\n",
              "    <path d=\"M18.56 5.44l.94 2.06.94-2.06 2.06-.94-2.06-.94-.94-2.06-.94 2.06-2.06.94zm-11 1L8.5 8.5l.94-2.06 2.06-.94-2.06-.94L8.5 2.5l-.94 2.06-2.06.94zm10 10l.94 2.06.94-2.06 2.06-.94-2.06-.94-.94-2.06-.94 2.06-2.06.94z\"/><path d=\"M17.41 7.96l-1.37-1.37c-.4-.4-.92-.59-1.43-.59-.52 0-1.04.2-1.43.59L10.3 9.45l-7.72 7.72c-.78.78-.78 2.05 0 2.83L4 21.41c.39.39.9.59 1.41.59.51 0 1.02-.2 1.41-.59l7.78-7.78 2.81-2.81c.8-.78.8-2.07 0-2.86zM5.41 20L4 18.59l7.72-7.72 1.47 1.35L5.41 20z\"/>\n",
              "  </svg>\n",
              "      </button>\n",
              "      \n",
              "  <style>\n",
              "    .colab-df-container {\n",
              "      display:flex;\n",
              "      flex-wrap:wrap;\n",
              "      gap: 12px;\n",
              "    }\n",
              "\n",
              "    .colab-df-convert {\n",
              "      background-color: #E8F0FE;\n",
              "      border: none;\n",
              "      border-radius: 50%;\n",
              "      cursor: pointer;\n",
              "      display: none;\n",
              "      fill: #1967D2;\n",
              "      height: 32px;\n",
              "      padding: 0 0 0 0;\n",
              "      width: 32px;\n",
              "    }\n",
              "\n",
              "    .colab-df-convert:hover {\n",
              "      background-color: #E2EBFA;\n",
              "      box-shadow: 0px 1px 2px rgba(60, 64, 67, 0.3), 0px 1px 3px 1px rgba(60, 64, 67, 0.15);\n",
              "      fill: #174EA6;\n",
              "    }\n",
              "\n",
              "    [theme=dark] .colab-df-convert {\n",
              "      background-color: #3B4455;\n",
              "      fill: #D2E3FC;\n",
              "    }\n",
              "\n",
              "    [theme=dark] .colab-df-convert:hover {\n",
              "      background-color: #434B5C;\n",
              "      box-shadow: 0px 1px 3px 1px rgba(0, 0, 0, 0.15);\n",
              "      filter: drop-shadow(0px 1px 2px rgba(0, 0, 0, 0.3));\n",
              "      fill: #FFFFFF;\n",
              "    }\n",
              "  </style>\n",
              "\n",
              "      <script>\n",
              "        const buttonEl =\n",
              "          document.querySelector('#df-2747630c-c49f-44e5-8b2a-723952597d27 button.colab-df-convert');\n",
              "        buttonEl.style.display =\n",
              "          google.colab.kernel.accessAllowed ? 'block' : 'none';\n",
              "\n",
              "        async function convertToInteractive(key) {\n",
              "          const element = document.querySelector('#df-2747630c-c49f-44e5-8b2a-723952597d27');\n",
              "          const dataTable =\n",
              "            await google.colab.kernel.invokeFunction('convertToInteractive',\n",
              "                                                     [key], {});\n",
              "          if (!dataTable) return;\n",
              "\n",
              "          const docLinkHtml = 'Like what you see? Visit the ' +\n",
              "            '<a target=\"_blank\" href=https://colab.research.google.com/notebooks/data_table.ipynb>data table notebook</a>'\n",
              "            + ' to learn more about interactive tables.';\n",
              "          element.innerHTML = '';\n",
              "          dataTable['output_type'] = 'display_data';\n",
              "          await google.colab.output.renderOutput(dataTable, element);\n",
              "          const docLink = document.createElement('div');\n",
              "          docLink.innerHTML = docLinkHtml;\n",
              "          element.appendChild(docLink);\n",
              "        }\n",
              "      </script>\n",
              "    </div>\n",
              "  </div>\n",
              "  "
            ]
          },
          "metadata": {},
          "execution_count": 18
        }
      ]
    },
    {
      "cell_type": "code",
      "source": [
        "# Load the dataset\n",
        "dataW = pd.read_csv('/content/drive/MyDrive/Colab Notebooks/winequality-white.csv', sep=';')\n",
        "\n",
        "# Add a new column 'WineType'(boolean) - white wine = 0\n",
        "dataW ['WineType'] = 0\n",
        "\n",
        "# Display the resulting dataframe\n",
        "dataW"
      ],
      "metadata": {
        "colab": {
          "base_uri": "https://localhost:8080/",
          "height": 485
        },
        "id": "swZmgorXySfF",
        "outputId": "75fb8c69-c59d-49ca-8b7b-7ee759114ec9"
      },
      "execution_count": 19,
      "outputs": [
        {
          "output_type": "execute_result",
          "data": {
            "text/plain": [
              "      fixed acidity  volatile acidity  citric acid  residual sugar  chlorides  \\\n",
              "0               7.0              0.27         0.36            20.7      0.045   \n",
              "1               6.3              0.30         0.34             1.6      0.049   \n",
              "2               8.1              0.28         0.40             6.9      0.050   \n",
              "3               7.2              0.23         0.32             8.5      0.058   \n",
              "4               7.2              0.23         0.32             8.5      0.058   \n",
              "...             ...               ...          ...             ...        ...   \n",
              "4893            6.2              0.21         0.29             1.6      0.039   \n",
              "4894            6.6              0.32         0.36             8.0      0.047   \n",
              "4895            6.5              0.24         0.19             1.2      0.041   \n",
              "4896            5.5              0.29         0.30             1.1      0.022   \n",
              "4897            6.0              0.21         0.38             0.8      0.020   \n",
              "\n",
              "      free sulfur dioxide  total sulfur dioxide  density    pH  sulphates  \\\n",
              "0                    45.0                 170.0  1.00100  3.00       0.45   \n",
              "1                    14.0                 132.0  0.99400  3.30       0.49   \n",
              "2                    30.0                  97.0  0.99510  3.26       0.44   \n",
              "3                    47.0                 186.0  0.99560  3.19       0.40   \n",
              "4                    47.0                 186.0  0.99560  3.19       0.40   \n",
              "...                   ...                   ...      ...   ...        ...   \n",
              "4893                 24.0                  92.0  0.99114  3.27       0.50   \n",
              "4894                 57.0                 168.0  0.99490  3.15       0.46   \n",
              "4895                 30.0                 111.0  0.99254  2.99       0.46   \n",
              "4896                 20.0                 110.0  0.98869  3.34       0.38   \n",
              "4897                 22.0                  98.0  0.98941  3.26       0.32   \n",
              "\n",
              "      alcohol  quality  WineType  \n",
              "0         8.8        6         0  \n",
              "1         9.5        6         0  \n",
              "2        10.1        6         0  \n",
              "3         9.9        6         0  \n",
              "4         9.9        6         0  \n",
              "...       ...      ...       ...  \n",
              "4893     11.2        6         0  \n",
              "4894      9.6        5         0  \n",
              "4895      9.4        6         0  \n",
              "4896     12.8        7         0  \n",
              "4897     11.8        6         0  \n",
              "\n",
              "[4898 rows x 13 columns]"
            ],
            "text/html": [
              "\n",
              "  <div id=\"df-03773e8e-fd5a-4dff-a31b-e99fb3715a97\">\n",
              "    <div class=\"colab-df-container\">\n",
              "      <div>\n",
              "<style scoped>\n",
              "    .dataframe tbody tr th:only-of-type {\n",
              "        vertical-align: middle;\n",
              "    }\n",
              "\n",
              "    .dataframe tbody tr th {\n",
              "        vertical-align: top;\n",
              "    }\n",
              "\n",
              "    .dataframe thead th {\n",
              "        text-align: right;\n",
              "    }\n",
              "</style>\n",
              "<table border=\"1\" class=\"dataframe\">\n",
              "  <thead>\n",
              "    <tr style=\"text-align: right;\">\n",
              "      <th></th>\n",
              "      <th>fixed acidity</th>\n",
              "      <th>volatile acidity</th>\n",
              "      <th>citric acid</th>\n",
              "      <th>residual sugar</th>\n",
              "      <th>chlorides</th>\n",
              "      <th>free sulfur dioxide</th>\n",
              "      <th>total sulfur dioxide</th>\n",
              "      <th>density</th>\n",
              "      <th>pH</th>\n",
              "      <th>sulphates</th>\n",
              "      <th>alcohol</th>\n",
              "      <th>quality</th>\n",
              "      <th>WineType</th>\n",
              "    </tr>\n",
              "  </thead>\n",
              "  <tbody>\n",
              "    <tr>\n",
              "      <th>0</th>\n",
              "      <td>7.0</td>\n",
              "      <td>0.27</td>\n",
              "      <td>0.36</td>\n",
              "      <td>20.7</td>\n",
              "      <td>0.045</td>\n",
              "      <td>45.0</td>\n",
              "      <td>170.0</td>\n",
              "      <td>1.00100</td>\n",
              "      <td>3.00</td>\n",
              "      <td>0.45</td>\n",
              "      <td>8.8</td>\n",
              "      <td>6</td>\n",
              "      <td>0</td>\n",
              "    </tr>\n",
              "    <tr>\n",
              "      <th>1</th>\n",
              "      <td>6.3</td>\n",
              "      <td>0.30</td>\n",
              "      <td>0.34</td>\n",
              "      <td>1.6</td>\n",
              "      <td>0.049</td>\n",
              "      <td>14.0</td>\n",
              "      <td>132.0</td>\n",
              "      <td>0.99400</td>\n",
              "      <td>3.30</td>\n",
              "      <td>0.49</td>\n",
              "      <td>9.5</td>\n",
              "      <td>6</td>\n",
              "      <td>0</td>\n",
              "    </tr>\n",
              "    <tr>\n",
              "      <th>2</th>\n",
              "      <td>8.1</td>\n",
              "      <td>0.28</td>\n",
              "      <td>0.40</td>\n",
              "      <td>6.9</td>\n",
              "      <td>0.050</td>\n",
              "      <td>30.0</td>\n",
              "      <td>97.0</td>\n",
              "      <td>0.99510</td>\n",
              "      <td>3.26</td>\n",
              "      <td>0.44</td>\n",
              "      <td>10.1</td>\n",
              "      <td>6</td>\n",
              "      <td>0</td>\n",
              "    </tr>\n",
              "    <tr>\n",
              "      <th>3</th>\n",
              "      <td>7.2</td>\n",
              "      <td>0.23</td>\n",
              "      <td>0.32</td>\n",
              "      <td>8.5</td>\n",
              "      <td>0.058</td>\n",
              "      <td>47.0</td>\n",
              "      <td>186.0</td>\n",
              "      <td>0.99560</td>\n",
              "      <td>3.19</td>\n",
              "      <td>0.40</td>\n",
              "      <td>9.9</td>\n",
              "      <td>6</td>\n",
              "      <td>0</td>\n",
              "    </tr>\n",
              "    <tr>\n",
              "      <th>4</th>\n",
              "      <td>7.2</td>\n",
              "      <td>0.23</td>\n",
              "      <td>0.32</td>\n",
              "      <td>8.5</td>\n",
              "      <td>0.058</td>\n",
              "      <td>47.0</td>\n",
              "      <td>186.0</td>\n",
              "      <td>0.99560</td>\n",
              "      <td>3.19</td>\n",
              "      <td>0.40</td>\n",
              "      <td>9.9</td>\n",
              "      <td>6</td>\n",
              "      <td>0</td>\n",
              "    </tr>\n",
              "    <tr>\n",
              "      <th>...</th>\n",
              "      <td>...</td>\n",
              "      <td>...</td>\n",
              "      <td>...</td>\n",
              "      <td>...</td>\n",
              "      <td>...</td>\n",
              "      <td>...</td>\n",
              "      <td>...</td>\n",
              "      <td>...</td>\n",
              "      <td>...</td>\n",
              "      <td>...</td>\n",
              "      <td>...</td>\n",
              "      <td>...</td>\n",
              "      <td>...</td>\n",
              "    </tr>\n",
              "    <tr>\n",
              "      <th>4893</th>\n",
              "      <td>6.2</td>\n",
              "      <td>0.21</td>\n",
              "      <td>0.29</td>\n",
              "      <td>1.6</td>\n",
              "      <td>0.039</td>\n",
              "      <td>24.0</td>\n",
              "      <td>92.0</td>\n",
              "      <td>0.99114</td>\n",
              "      <td>3.27</td>\n",
              "      <td>0.50</td>\n",
              "      <td>11.2</td>\n",
              "      <td>6</td>\n",
              "      <td>0</td>\n",
              "    </tr>\n",
              "    <tr>\n",
              "      <th>4894</th>\n",
              "      <td>6.6</td>\n",
              "      <td>0.32</td>\n",
              "      <td>0.36</td>\n",
              "      <td>8.0</td>\n",
              "      <td>0.047</td>\n",
              "      <td>57.0</td>\n",
              "      <td>168.0</td>\n",
              "      <td>0.99490</td>\n",
              "      <td>3.15</td>\n",
              "      <td>0.46</td>\n",
              "      <td>9.6</td>\n",
              "      <td>5</td>\n",
              "      <td>0</td>\n",
              "    </tr>\n",
              "    <tr>\n",
              "      <th>4895</th>\n",
              "      <td>6.5</td>\n",
              "      <td>0.24</td>\n",
              "      <td>0.19</td>\n",
              "      <td>1.2</td>\n",
              "      <td>0.041</td>\n",
              "      <td>30.0</td>\n",
              "      <td>111.0</td>\n",
              "      <td>0.99254</td>\n",
              "      <td>2.99</td>\n",
              "      <td>0.46</td>\n",
              "      <td>9.4</td>\n",
              "      <td>6</td>\n",
              "      <td>0</td>\n",
              "    </tr>\n",
              "    <tr>\n",
              "      <th>4896</th>\n",
              "      <td>5.5</td>\n",
              "      <td>0.29</td>\n",
              "      <td>0.30</td>\n",
              "      <td>1.1</td>\n",
              "      <td>0.022</td>\n",
              "      <td>20.0</td>\n",
              "      <td>110.0</td>\n",
              "      <td>0.98869</td>\n",
              "      <td>3.34</td>\n",
              "      <td>0.38</td>\n",
              "      <td>12.8</td>\n",
              "      <td>7</td>\n",
              "      <td>0</td>\n",
              "    </tr>\n",
              "    <tr>\n",
              "      <th>4897</th>\n",
              "      <td>6.0</td>\n",
              "      <td>0.21</td>\n",
              "      <td>0.38</td>\n",
              "      <td>0.8</td>\n",
              "      <td>0.020</td>\n",
              "      <td>22.0</td>\n",
              "      <td>98.0</td>\n",
              "      <td>0.98941</td>\n",
              "      <td>3.26</td>\n",
              "      <td>0.32</td>\n",
              "      <td>11.8</td>\n",
              "      <td>6</td>\n",
              "      <td>0</td>\n",
              "    </tr>\n",
              "  </tbody>\n",
              "</table>\n",
              "<p>4898 rows × 13 columns</p>\n",
              "</div>\n",
              "      <button class=\"colab-df-convert\" onclick=\"convertToInteractive('df-03773e8e-fd5a-4dff-a31b-e99fb3715a97')\"\n",
              "              title=\"Convert this dataframe to an interactive table.\"\n",
              "              style=\"display:none;\">\n",
              "        \n",
              "  <svg xmlns=\"http://www.w3.org/2000/svg\" height=\"24px\"viewBox=\"0 0 24 24\"\n",
              "       width=\"24px\">\n",
              "    <path d=\"M0 0h24v24H0V0z\" fill=\"none\"/>\n",
              "    <path d=\"M18.56 5.44l.94 2.06.94-2.06 2.06-.94-2.06-.94-.94-2.06-.94 2.06-2.06.94zm-11 1L8.5 8.5l.94-2.06 2.06-.94-2.06-.94L8.5 2.5l-.94 2.06-2.06.94zm10 10l.94 2.06.94-2.06 2.06-.94-2.06-.94-.94-2.06-.94 2.06-2.06.94z\"/><path d=\"M17.41 7.96l-1.37-1.37c-.4-.4-.92-.59-1.43-.59-.52 0-1.04.2-1.43.59L10.3 9.45l-7.72 7.72c-.78.78-.78 2.05 0 2.83L4 21.41c.39.39.9.59 1.41.59.51 0 1.02-.2 1.41-.59l7.78-7.78 2.81-2.81c.8-.78.8-2.07 0-2.86zM5.41 20L4 18.59l7.72-7.72 1.47 1.35L5.41 20z\"/>\n",
              "  </svg>\n",
              "      </button>\n",
              "      \n",
              "  <style>\n",
              "    .colab-df-container {\n",
              "      display:flex;\n",
              "      flex-wrap:wrap;\n",
              "      gap: 12px;\n",
              "    }\n",
              "\n",
              "    .colab-df-convert {\n",
              "      background-color: #E8F0FE;\n",
              "      border: none;\n",
              "      border-radius: 50%;\n",
              "      cursor: pointer;\n",
              "      display: none;\n",
              "      fill: #1967D2;\n",
              "      height: 32px;\n",
              "      padding: 0 0 0 0;\n",
              "      width: 32px;\n",
              "    }\n",
              "\n",
              "    .colab-df-convert:hover {\n",
              "      background-color: #E2EBFA;\n",
              "      box-shadow: 0px 1px 2px rgba(60, 64, 67, 0.3), 0px 1px 3px 1px rgba(60, 64, 67, 0.15);\n",
              "      fill: #174EA6;\n",
              "    }\n",
              "\n",
              "    [theme=dark] .colab-df-convert {\n",
              "      background-color: #3B4455;\n",
              "      fill: #D2E3FC;\n",
              "    }\n",
              "\n",
              "    [theme=dark] .colab-df-convert:hover {\n",
              "      background-color: #434B5C;\n",
              "      box-shadow: 0px 1px 3px 1px rgba(0, 0, 0, 0.15);\n",
              "      filter: drop-shadow(0px 1px 2px rgba(0, 0, 0, 0.3));\n",
              "      fill: #FFFFFF;\n",
              "    }\n",
              "  </style>\n",
              "\n",
              "      <script>\n",
              "        const buttonEl =\n",
              "          document.querySelector('#df-03773e8e-fd5a-4dff-a31b-e99fb3715a97 button.colab-df-convert');\n",
              "        buttonEl.style.display =\n",
              "          google.colab.kernel.accessAllowed ? 'block' : 'none';\n",
              "\n",
              "        async function convertToInteractive(key) {\n",
              "          const element = document.querySelector('#df-03773e8e-fd5a-4dff-a31b-e99fb3715a97');\n",
              "          const dataTable =\n",
              "            await google.colab.kernel.invokeFunction('convertToInteractive',\n",
              "                                                     [key], {});\n",
              "          if (!dataTable) return;\n",
              "\n",
              "          const docLinkHtml = 'Like what you see? Visit the ' +\n",
              "            '<a target=\"_blank\" href=https://colab.research.google.com/notebooks/data_table.ipynb>data table notebook</a>'\n",
              "            + ' to learn more about interactive tables.';\n",
              "          element.innerHTML = '';\n",
              "          dataTable['output_type'] = 'display_data';\n",
              "          await google.colab.output.renderOutput(dataTable, element);\n",
              "          const docLink = document.createElement('div');\n",
              "          docLink.innerHTML = docLinkHtml;\n",
              "          element.appendChild(docLink);\n",
              "        }\n",
              "      </script>\n",
              "    </div>\n",
              "  </div>\n",
              "  "
            ]
          },
          "metadata": {},
          "execution_count": 19
        }
      ]
    },
    {
      "cell_type": "code",
      "source": [
        "#Mege the two data sets\n",
        "data = pd.merge(dataW, dataR, how='outer')\n",
        "\n",
        "data"
      ],
      "metadata": {
        "colab": {
          "base_uri": "https://localhost:8080/",
          "height": 485
        },
        "id": "sY_PdVgd2fvy",
        "outputId": "460a43a4-a828-42f0-bd6b-e7e668d64b45"
      },
      "execution_count": 20,
      "outputs": [
        {
          "output_type": "execute_result",
          "data": {
            "text/plain": [
              "      fixed acidity  volatile acidity  citric acid  residual sugar  chlorides  \\\n",
              "0               7.0             0.270         0.36            20.7      0.045   \n",
              "1               7.0             0.270         0.36            20.7      0.045   \n",
              "2               6.3             0.300         0.34             1.6      0.049   \n",
              "3               6.3             0.300         0.34             1.6      0.049   \n",
              "4               8.1             0.280         0.40             6.9      0.050   \n",
              "...             ...               ...          ...             ...        ...   \n",
              "6492            6.8             0.620         0.08             1.9      0.068   \n",
              "6493            6.2             0.600         0.08             2.0      0.090   \n",
              "6494            5.9             0.550         0.10             2.2      0.062   \n",
              "6495            5.9             0.645         0.12             2.0      0.075   \n",
              "6496            6.0             0.310         0.47             3.6      0.067   \n",
              "\n",
              "      free sulfur dioxide  total sulfur dioxide  density    pH  sulphates  \\\n",
              "0                    45.0                 170.0  1.00100  3.00       0.45   \n",
              "1                    45.0                 170.0  1.00100  3.00       0.45   \n",
              "2                    14.0                 132.0  0.99400  3.30       0.49   \n",
              "3                    14.0                 132.0  0.99400  3.30       0.49   \n",
              "4                    30.0                  97.0  0.99510  3.26       0.44   \n",
              "...                   ...                   ...      ...   ...        ...   \n",
              "6492                 28.0                  38.0  0.99651  3.42       0.82   \n",
              "6493                 32.0                  44.0  0.99490  3.45       0.58   \n",
              "6494                 39.0                  51.0  0.99512  3.52       0.76   \n",
              "6495                 32.0                  44.0  0.99547  3.57       0.71   \n",
              "6496                 18.0                  42.0  0.99549  3.39       0.66   \n",
              "\n",
              "      alcohol  quality  WineType  \n",
              "0         8.8        6         0  \n",
              "1         8.8        6         0  \n",
              "2         9.5        6         0  \n",
              "3         9.5        6         0  \n",
              "4        10.1        6         0  \n",
              "...       ...      ...       ...  \n",
              "6492      9.5        6         1  \n",
              "6493     10.5        5         1  \n",
              "6494     11.2        6         1  \n",
              "6495     10.2        5         1  \n",
              "6496     11.0        6         1  \n",
              "\n",
              "[6497 rows x 13 columns]"
            ],
            "text/html": [
              "\n",
              "  <div id=\"df-f36cbf98-ad02-4ab8-ad57-6e690a089a09\">\n",
              "    <div class=\"colab-df-container\">\n",
              "      <div>\n",
              "<style scoped>\n",
              "    .dataframe tbody tr th:only-of-type {\n",
              "        vertical-align: middle;\n",
              "    }\n",
              "\n",
              "    .dataframe tbody tr th {\n",
              "        vertical-align: top;\n",
              "    }\n",
              "\n",
              "    .dataframe thead th {\n",
              "        text-align: right;\n",
              "    }\n",
              "</style>\n",
              "<table border=\"1\" class=\"dataframe\">\n",
              "  <thead>\n",
              "    <tr style=\"text-align: right;\">\n",
              "      <th></th>\n",
              "      <th>fixed acidity</th>\n",
              "      <th>volatile acidity</th>\n",
              "      <th>citric acid</th>\n",
              "      <th>residual sugar</th>\n",
              "      <th>chlorides</th>\n",
              "      <th>free sulfur dioxide</th>\n",
              "      <th>total sulfur dioxide</th>\n",
              "      <th>density</th>\n",
              "      <th>pH</th>\n",
              "      <th>sulphates</th>\n",
              "      <th>alcohol</th>\n",
              "      <th>quality</th>\n",
              "      <th>WineType</th>\n",
              "    </tr>\n",
              "  </thead>\n",
              "  <tbody>\n",
              "    <tr>\n",
              "      <th>0</th>\n",
              "      <td>7.0</td>\n",
              "      <td>0.270</td>\n",
              "      <td>0.36</td>\n",
              "      <td>20.7</td>\n",
              "      <td>0.045</td>\n",
              "      <td>45.0</td>\n",
              "      <td>170.0</td>\n",
              "      <td>1.00100</td>\n",
              "      <td>3.00</td>\n",
              "      <td>0.45</td>\n",
              "      <td>8.8</td>\n",
              "      <td>6</td>\n",
              "      <td>0</td>\n",
              "    </tr>\n",
              "    <tr>\n",
              "      <th>1</th>\n",
              "      <td>7.0</td>\n",
              "      <td>0.270</td>\n",
              "      <td>0.36</td>\n",
              "      <td>20.7</td>\n",
              "      <td>0.045</td>\n",
              "      <td>45.0</td>\n",
              "      <td>170.0</td>\n",
              "      <td>1.00100</td>\n",
              "      <td>3.00</td>\n",
              "      <td>0.45</td>\n",
              "      <td>8.8</td>\n",
              "      <td>6</td>\n",
              "      <td>0</td>\n",
              "    </tr>\n",
              "    <tr>\n",
              "      <th>2</th>\n",
              "      <td>6.3</td>\n",
              "      <td>0.300</td>\n",
              "      <td>0.34</td>\n",
              "      <td>1.6</td>\n",
              "      <td>0.049</td>\n",
              "      <td>14.0</td>\n",
              "      <td>132.0</td>\n",
              "      <td>0.99400</td>\n",
              "      <td>3.30</td>\n",
              "      <td>0.49</td>\n",
              "      <td>9.5</td>\n",
              "      <td>6</td>\n",
              "      <td>0</td>\n",
              "    </tr>\n",
              "    <tr>\n",
              "      <th>3</th>\n",
              "      <td>6.3</td>\n",
              "      <td>0.300</td>\n",
              "      <td>0.34</td>\n",
              "      <td>1.6</td>\n",
              "      <td>0.049</td>\n",
              "      <td>14.0</td>\n",
              "      <td>132.0</td>\n",
              "      <td>0.99400</td>\n",
              "      <td>3.30</td>\n",
              "      <td>0.49</td>\n",
              "      <td>9.5</td>\n",
              "      <td>6</td>\n",
              "      <td>0</td>\n",
              "    </tr>\n",
              "    <tr>\n",
              "      <th>4</th>\n",
              "      <td>8.1</td>\n",
              "      <td>0.280</td>\n",
              "      <td>0.40</td>\n",
              "      <td>6.9</td>\n",
              "      <td>0.050</td>\n",
              "      <td>30.0</td>\n",
              "      <td>97.0</td>\n",
              "      <td>0.99510</td>\n",
              "      <td>3.26</td>\n",
              "      <td>0.44</td>\n",
              "      <td>10.1</td>\n",
              "      <td>6</td>\n",
              "      <td>0</td>\n",
              "    </tr>\n",
              "    <tr>\n",
              "      <th>...</th>\n",
              "      <td>...</td>\n",
              "      <td>...</td>\n",
              "      <td>...</td>\n",
              "      <td>...</td>\n",
              "      <td>...</td>\n",
              "      <td>...</td>\n",
              "      <td>...</td>\n",
              "      <td>...</td>\n",
              "      <td>...</td>\n",
              "      <td>...</td>\n",
              "      <td>...</td>\n",
              "      <td>...</td>\n",
              "      <td>...</td>\n",
              "    </tr>\n",
              "    <tr>\n",
              "      <th>6492</th>\n",
              "      <td>6.8</td>\n",
              "      <td>0.620</td>\n",
              "      <td>0.08</td>\n",
              "      <td>1.9</td>\n",
              "      <td>0.068</td>\n",
              "      <td>28.0</td>\n",
              "      <td>38.0</td>\n",
              "      <td>0.99651</td>\n",
              "      <td>3.42</td>\n",
              "      <td>0.82</td>\n",
              "      <td>9.5</td>\n",
              "      <td>6</td>\n",
              "      <td>1</td>\n",
              "    </tr>\n",
              "    <tr>\n",
              "      <th>6493</th>\n",
              "      <td>6.2</td>\n",
              "      <td>0.600</td>\n",
              "      <td>0.08</td>\n",
              "      <td>2.0</td>\n",
              "      <td>0.090</td>\n",
              "      <td>32.0</td>\n",
              "      <td>44.0</td>\n",
              "      <td>0.99490</td>\n",
              "      <td>3.45</td>\n",
              "      <td>0.58</td>\n",
              "      <td>10.5</td>\n",
              "      <td>5</td>\n",
              "      <td>1</td>\n",
              "    </tr>\n",
              "    <tr>\n",
              "      <th>6494</th>\n",
              "      <td>5.9</td>\n",
              "      <td>0.550</td>\n",
              "      <td>0.10</td>\n",
              "      <td>2.2</td>\n",
              "      <td>0.062</td>\n",
              "      <td>39.0</td>\n",
              "      <td>51.0</td>\n",
              "      <td>0.99512</td>\n",
              "      <td>3.52</td>\n",
              "      <td>0.76</td>\n",
              "      <td>11.2</td>\n",
              "      <td>6</td>\n",
              "      <td>1</td>\n",
              "    </tr>\n",
              "    <tr>\n",
              "      <th>6495</th>\n",
              "      <td>5.9</td>\n",
              "      <td>0.645</td>\n",
              "      <td>0.12</td>\n",
              "      <td>2.0</td>\n",
              "      <td>0.075</td>\n",
              "      <td>32.0</td>\n",
              "      <td>44.0</td>\n",
              "      <td>0.99547</td>\n",
              "      <td>3.57</td>\n",
              "      <td>0.71</td>\n",
              "      <td>10.2</td>\n",
              "      <td>5</td>\n",
              "      <td>1</td>\n",
              "    </tr>\n",
              "    <tr>\n",
              "      <th>6496</th>\n",
              "      <td>6.0</td>\n",
              "      <td>0.310</td>\n",
              "      <td>0.47</td>\n",
              "      <td>3.6</td>\n",
              "      <td>0.067</td>\n",
              "      <td>18.0</td>\n",
              "      <td>42.0</td>\n",
              "      <td>0.99549</td>\n",
              "      <td>3.39</td>\n",
              "      <td>0.66</td>\n",
              "      <td>11.0</td>\n",
              "      <td>6</td>\n",
              "      <td>1</td>\n",
              "    </tr>\n",
              "  </tbody>\n",
              "</table>\n",
              "<p>6497 rows × 13 columns</p>\n",
              "</div>\n",
              "      <button class=\"colab-df-convert\" onclick=\"convertToInteractive('df-f36cbf98-ad02-4ab8-ad57-6e690a089a09')\"\n",
              "              title=\"Convert this dataframe to an interactive table.\"\n",
              "              style=\"display:none;\">\n",
              "        \n",
              "  <svg xmlns=\"http://www.w3.org/2000/svg\" height=\"24px\"viewBox=\"0 0 24 24\"\n",
              "       width=\"24px\">\n",
              "    <path d=\"M0 0h24v24H0V0z\" fill=\"none\"/>\n",
              "    <path d=\"M18.56 5.44l.94 2.06.94-2.06 2.06-.94-2.06-.94-.94-2.06-.94 2.06-2.06.94zm-11 1L8.5 8.5l.94-2.06 2.06-.94-2.06-.94L8.5 2.5l-.94 2.06-2.06.94zm10 10l.94 2.06.94-2.06 2.06-.94-2.06-.94-.94-2.06-.94 2.06-2.06.94z\"/><path d=\"M17.41 7.96l-1.37-1.37c-.4-.4-.92-.59-1.43-.59-.52 0-1.04.2-1.43.59L10.3 9.45l-7.72 7.72c-.78.78-.78 2.05 0 2.83L4 21.41c.39.39.9.59 1.41.59.51 0 1.02-.2 1.41-.59l7.78-7.78 2.81-2.81c.8-.78.8-2.07 0-2.86zM5.41 20L4 18.59l7.72-7.72 1.47 1.35L5.41 20z\"/>\n",
              "  </svg>\n",
              "      </button>\n",
              "      \n",
              "  <style>\n",
              "    .colab-df-container {\n",
              "      display:flex;\n",
              "      flex-wrap:wrap;\n",
              "      gap: 12px;\n",
              "    }\n",
              "\n",
              "    .colab-df-convert {\n",
              "      background-color: #E8F0FE;\n",
              "      border: none;\n",
              "      border-radius: 50%;\n",
              "      cursor: pointer;\n",
              "      display: none;\n",
              "      fill: #1967D2;\n",
              "      height: 32px;\n",
              "      padding: 0 0 0 0;\n",
              "      width: 32px;\n",
              "    }\n",
              "\n",
              "    .colab-df-convert:hover {\n",
              "      background-color: #E2EBFA;\n",
              "      box-shadow: 0px 1px 2px rgba(60, 64, 67, 0.3), 0px 1px 3px 1px rgba(60, 64, 67, 0.15);\n",
              "      fill: #174EA6;\n",
              "    }\n",
              "\n",
              "    [theme=dark] .colab-df-convert {\n",
              "      background-color: #3B4455;\n",
              "      fill: #D2E3FC;\n",
              "    }\n",
              "\n",
              "    [theme=dark] .colab-df-convert:hover {\n",
              "      background-color: #434B5C;\n",
              "      box-shadow: 0px 1px 3px 1px rgba(0, 0, 0, 0.15);\n",
              "      filter: drop-shadow(0px 1px 2px rgba(0, 0, 0, 0.3));\n",
              "      fill: #FFFFFF;\n",
              "    }\n",
              "  </style>\n",
              "\n",
              "      <script>\n",
              "        const buttonEl =\n",
              "          document.querySelector('#df-f36cbf98-ad02-4ab8-ad57-6e690a089a09 button.colab-df-convert');\n",
              "        buttonEl.style.display =\n",
              "          google.colab.kernel.accessAllowed ? 'block' : 'none';\n",
              "\n",
              "        async function convertToInteractive(key) {\n",
              "          const element = document.querySelector('#df-f36cbf98-ad02-4ab8-ad57-6e690a089a09');\n",
              "          const dataTable =\n",
              "            await google.colab.kernel.invokeFunction('convertToInteractive',\n",
              "                                                     [key], {});\n",
              "          if (!dataTable) return;\n",
              "\n",
              "          const docLinkHtml = 'Like what you see? Visit the ' +\n",
              "            '<a target=\"_blank\" href=https://colab.research.google.com/notebooks/data_table.ipynb>data table notebook</a>'\n",
              "            + ' to learn more about interactive tables.';\n",
              "          element.innerHTML = '';\n",
              "          dataTable['output_type'] = 'display_data';\n",
              "          await google.colab.output.renderOutput(dataTable, element);\n",
              "          const docLink = document.createElement('div');\n",
              "          docLink.innerHTML = docLinkHtml;\n",
              "          element.appendChild(docLink);\n",
              "        }\n",
              "      </script>\n",
              "    </div>\n",
              "  </div>\n",
              "  "
            ]
          },
          "metadata": {},
          "execution_count": 20
        }
      ]
    },
    {
      "cell_type": "code",
      "source": [
        "# Assign WineType as the target \n",
        "y = data['WineType']\n",
        "x = data.drop(columns = ['WineType'])\n",
        "\n",
        "# Splitting the data into train and test sets\n",
        "#Stratify since red and white data are imbalanced\n",
        "x_train, x_test, y_train, y_test = train_test_split(x, y, test_size=0.3, stratify=y, random_state=42)\n"
      ],
      "metadata": {
        "id": "XKmUjIQl5Ofi"
      },
      "execution_count": 21,
      "outputs": []
    },
    {
      "cell_type": "markdown",
      "source": [
        "#Model Building 1 (simple neural network)\n",
        "The first model is a simple neural network that contains 2 layers. The purpose of this is to set a base reference for experimenting with other neural network architectures. The architecture of the model is such that: \n",
        "\n",
        "* Fully connected neural network (Dense)\n",
        "* First layer   - 2 neurons -AF: RELU\n",
        "* Second layer  - 1 neuron  -AF: Sigmoid\n",
        "\n"
      ],
      "metadata": {
        "id": "kGamQbA5KEL3"
      }
    },
    {
      "cell_type": "code",
      "source": [
        "# Define the model:\n",
        "from keras.models import Sequential\n",
        "from keras.layers import Dense\n",
        "model_1 = Sequential()\n",
        "model_1.add(Dense(2, input_dim=12, activation='relu'))\n",
        "model_1.add(Dense(1, activation='sigmoid'))\n",
        "print(model_1.summary())"
      ],
      "metadata": {
        "colab": {
          "base_uri": "https://localhost:8080/"
        },
        "id": "ORg7xVFzFfjG",
        "outputId": "bb89e5ef-c270-41f6-fa05-8077a58eee1a"
      },
      "execution_count": 22,
      "outputs": [
        {
          "output_type": "stream",
          "name": "stdout",
          "text": [
            "Model: \"sequential\"\n",
            "_________________________________________________________________\n",
            " Layer (type)                Output Shape              Param #   \n",
            "=================================================================\n",
            " dense (Dense)               (None, 2)                 26        \n",
            "                                                                 \n",
            " dense_1 (Dense)             (None, 1)                 3         \n",
            "                                                                 \n",
            "=================================================================\n",
            "Total params: 29\n",
            "Trainable params: 29\n",
            "Non-trainable params: 0\n",
            "_________________________________________________________________\n",
            "None\n"
          ]
        }
      ]
    },
    {
      "cell_type": "code",
      "source": [
        "svg_path = '/content/drive/MyDrive/Colab Notebooks/nn (1).svg'\n",
        "display(SVG(svg_path))\n"
      ],
      "metadata": {
        "colab": {
          "base_uri": "https://localhost:8080/",
          "height": 840
        },
        "id": "bSAgtwHpYZt5",
        "outputId": "915750a3-addf-479e-d4a1-fbebd8ce0e85"
      },
      "execution_count": 23,
      "outputs": [
        {
          "output_type": "display_data",
          "data": {
            "text/plain": [
              "<IPython.core.display.SVG object>"
            ],
            "image/svg+xml": "<svg xmlns=\"http://www.w3.org/2000/svg\" xmlns:xlink=\"http://www.w3.org/1999/xlink\" width=\"1707px\" height=\"799px\" viewBox=\"0 0 1279 599\" version=\"1.1\">\n<defs>\n<g>\n<symbol overflow=\"visible\" id=\"glyph0-0\">\n<path style=\"stroke:none;\" d=\"M 1.53125 0 L 1.53125 -6.921875 L 7.0625 -6.921875 L 7.0625 0 Z M 1.703125 -0.171875 L 6.890625 -0.171875 L 6.890625 -6.75 L 1.703125 -6.75 Z M 1.703125 -0.171875 \"/>\n</symbol>\n<symbol overflow=\"visible\" id=\"glyph0-1\">\n<path style=\"stroke:none;\" d=\"M 3.40625 -0.203125 L 3.40625 0 L 0.28125 0 L 0.28125 -0.203125 L 0.53125 -0.203125 C 0.832031 -0.203125 1.050781 -0.289062 1.1875 -0.46875 C 1.28125 -0.582031 1.328125 -0.859375 1.328125 -1.296875 L 1.328125 -6.03125 C 1.328125 -6.40625 1.300781 -6.648438 1.25 -6.765625 C 1.21875 -6.859375 1.144531 -6.9375 1.03125 -7 C 0.875 -7.09375 0.707031 -7.140625 0.53125 -7.140625 L 0.28125 -7.140625 L 0.28125 -7.328125 L 3.40625 -7.328125 L 3.40625 -7.140625 L 3.15625 -7.140625 C 2.851562 -7.140625 2.632812 -7.050781 2.5 -6.875 C 2.40625 -6.757812 2.359375 -6.476562 2.359375 -6.03125 L 2.359375 -1.296875 C 2.359375 -0.921875 2.382812 -0.675781 2.4375 -0.5625 C 2.46875 -0.46875 2.539062 -0.390625 2.65625 -0.328125 C 2.8125 -0.242188 2.976562 -0.203125 3.15625 -0.203125 Z M 3.40625 -0.203125 \"/>\n</symbol>\n<symbol overflow=\"visible\" id=\"glyph0-2\">\n<path style=\"stroke:none;\" d=\"M 1.78125 -4.046875 C 2.363281 -4.742188 2.921875 -5.09375 3.453125 -5.09375 C 3.710938 -5.09375 3.941406 -5.023438 4.140625 -4.890625 C 4.335938 -4.753906 4.492188 -4.535156 4.609375 -4.234375 C 4.679688 -4.015625 4.71875 -3.679688 4.71875 -3.234375 L 4.71875 -1.125 C 4.71875 -0.8125 4.742188 -0.597656 4.796875 -0.484375 C 4.835938 -0.390625 4.898438 -0.316406 4.984375 -0.265625 C 5.078125 -0.210938 5.242188 -0.1875 5.484375 -0.1875 L 5.484375 0 L 3.03125 0 L 3.03125 -0.1875 L 3.140625 -0.1875 C 3.367188 -0.1875 3.53125 -0.222656 3.625 -0.296875 C 3.71875 -0.367188 3.78125 -0.472656 3.8125 -0.609375 C 3.820312 -0.660156 3.828125 -0.832031 3.828125 -1.125 L 3.828125 -3.140625 C 3.828125 -3.597656 3.769531 -3.925781 3.65625 -4.125 C 3.539062 -4.332031 3.34375 -4.4375 3.0625 -4.4375 C 2.632812 -4.4375 2.207031 -4.203125 1.78125 -3.734375 L 1.78125 -1.125 C 1.78125 -0.78125 1.800781 -0.570312 1.84375 -0.5 C 1.894531 -0.394531 1.960938 -0.316406 2.046875 -0.265625 C 2.140625 -0.210938 2.320312 -0.1875 2.59375 -0.1875 L 2.59375 0 L 0.140625 0 L 0.140625 -0.1875 L 0.25 -0.1875 C 0.5 -0.1875 0.664062 -0.25 0.75 -0.375 C 0.84375 -0.507812 0.890625 -0.757812 0.890625 -1.125 L 0.890625 -2.953125 C 0.890625 -3.546875 0.875 -3.90625 0.84375 -4.03125 C 0.820312 -4.164062 0.78125 -4.253906 0.71875 -4.296875 C 0.664062 -4.347656 0.59375 -4.375 0.5 -4.375 C 0.40625 -4.375 0.285156 -4.347656 0.140625 -4.296875 L 0.0625 -4.5 L 1.5625 -5.09375 L 1.78125 -5.09375 Z M 1.78125 -4.046875 \"/>\n</symbol>\n<symbol overflow=\"visible\" id=\"glyph0-3\">\n<path style=\"stroke:none;\" d=\"M -0.015625 -4.46875 L 1.515625 -5.078125 L 1.71875 -5.078125 L 1.71875 -3.921875 C 1.96875 -4.359375 2.222656 -4.660156 2.484375 -4.828125 C 2.742188 -5.003906 3.015625 -5.09375 3.296875 -5.09375 C 3.796875 -5.09375 4.210938 -4.898438 4.546875 -4.515625 C 4.953125 -4.035156 5.15625 -3.414062 5.15625 -2.65625 C 5.15625 -1.800781 4.910156 -1.09375 4.421875 -0.53125 C 4.015625 -0.0703125 3.503906 0.15625 2.890625 0.15625 C 2.628906 0.15625 2.398438 0.113281 2.203125 0.03125 C 2.054688 -0.0195312 1.894531 -0.125 1.71875 -0.28125 L 1.71875 1.21875 C 1.71875 1.5625 1.738281 1.773438 1.78125 1.859375 C 1.820312 1.953125 1.894531 2.023438 2 2.078125 C 2.101562 2.140625 2.289062 2.171875 2.5625 2.171875 L 2.5625 2.375 L -0.03125 2.375 L -0.03125 2.171875 L 0.09375 2.171875 C 0.289062 2.171875 0.460938 2.132812 0.609375 2.0625 C 0.671875 2.019531 0.722656 1.953125 0.765625 1.859375 C 0.804688 1.773438 0.828125 1.550781 0.828125 1.1875 L 0.828125 -3.5 C 0.828125 -3.8125 0.8125 -4.007812 0.78125 -4.09375 C 0.75 -4.1875 0.703125 -4.253906 0.640625 -4.296875 C 0.578125 -4.335938 0.492188 -4.359375 0.390625 -4.359375 C 0.296875 -4.359375 0.179688 -4.335938 0.046875 -4.296875 Z M 1.71875 -3.609375 L 1.71875 -1.75 C 1.71875 -1.351562 1.734375 -1.09375 1.765625 -0.96875 C 1.816406 -0.757812 1.941406 -0.570312 2.140625 -0.40625 C 2.335938 -0.25 2.582031 -0.171875 2.875 -0.171875 C 3.238281 -0.171875 3.53125 -0.3125 3.75 -0.59375 C 4.039062 -0.957031 4.1875 -1.472656 4.1875 -2.140625 C 4.1875 -2.898438 4.019531 -3.484375 3.6875 -3.890625 C 3.457031 -4.171875 3.1875 -4.3125 2.875 -4.3125 C 2.695312 -4.3125 2.523438 -4.269531 2.359375 -4.1875 C 2.234375 -4.125 2.019531 -3.929688 1.71875 -3.609375 Z M 1.71875 -3.609375 \"/>\n</symbol>\n<symbol overflow=\"visible\" id=\"glyph0-4\">\n<path style=\"stroke:none;\" d=\"M 4.6875 -4.953125 L 4.6875 -1.953125 C 4.6875 -1.378906 4.695312 -1.023438 4.71875 -0.890625 C 4.75 -0.765625 4.789062 -0.675781 4.84375 -0.625 C 4.90625 -0.582031 4.976562 -0.5625 5.0625 -0.5625 C 5.175781 -0.5625 5.300781 -0.59375 5.4375 -0.65625 L 5.515625 -0.453125 L 4.03125 0.15625 L 3.796875 0.15625 L 3.796875 -0.890625 C 3.367188 -0.429688 3.039062 -0.140625 2.8125 -0.015625 C 2.59375 0.0976562 2.359375 0.15625 2.109375 0.15625 C 1.835938 0.15625 1.597656 0.078125 1.390625 -0.078125 C 1.179688 -0.242188 1.035156 -0.453125 0.953125 -0.703125 C 0.878906 -0.960938 0.84375 -1.320312 0.84375 -1.78125 L 0.84375 -3.984375 C 0.84375 -4.222656 0.816406 -4.382812 0.765625 -4.46875 C 0.722656 -4.5625 0.648438 -4.632812 0.546875 -4.6875 C 0.453125 -4.738281 0.273438 -4.757812 0.015625 -4.75 L 0.015625 -4.953125 L 1.75 -4.953125 L 1.75 -1.640625 C 1.75 -1.179688 1.828125 -0.878906 1.984375 -0.734375 C 2.140625 -0.585938 2.332031 -0.515625 2.5625 -0.515625 C 2.71875 -0.515625 2.894531 -0.5625 3.09375 -0.65625 C 3.289062 -0.757812 3.523438 -0.945312 3.796875 -1.21875 L 3.796875 -4.03125 C 3.796875 -4.3125 3.742188 -4.5 3.640625 -4.59375 C 3.535156 -4.695312 3.320312 -4.75 3 -4.75 L 3 -4.953125 Z M 4.6875 -4.953125 \"/>\n</symbol>\n<symbol overflow=\"visible\" id=\"glyph0-5\">\n<path style=\"stroke:none;\" d=\"M 1.78125 -6.578125 L 1.78125 -4.953125 L 2.9375 -4.953125 L 2.9375 -4.578125 L 1.78125 -4.578125 L 1.78125 -1.359375 C 1.78125 -1.035156 1.828125 -0.816406 1.921875 -0.703125 C 2.015625 -0.597656 2.132812 -0.546875 2.28125 -0.546875 C 2.394531 -0.546875 2.503906 -0.582031 2.609375 -0.65625 C 2.722656 -0.726562 2.8125 -0.835938 2.875 -0.984375 L 3.09375 -0.984375 C 2.96875 -0.628906 2.785156 -0.363281 2.546875 -0.1875 C 2.316406 -0.0078125 2.082031 0.078125 1.84375 0.078125 C 1.675781 0.078125 1.515625 0.0351562 1.359375 -0.046875 C 1.203125 -0.140625 1.082031 -0.269531 1 -0.4375 C 0.925781 -0.613281 0.890625 -0.882812 0.890625 -1.25 L 0.890625 -4.578125 L 0.109375 -4.578125 L 0.109375 -4.75 C 0.304688 -4.832031 0.507812 -4.96875 0.71875 -5.15625 C 0.925781 -5.34375 1.109375 -5.566406 1.265625 -5.828125 C 1.347656 -5.960938 1.460938 -6.210938 1.609375 -6.578125 Z M 1.78125 -6.578125 \"/>\n</symbol>\n<symbol overflow=\"visible\" id=\"glyph0-6\">\n<path style=\"stroke:none;\" d=\"\"/>\n</symbol>\n<symbol overflow=\"visible\" id=\"glyph0-7\">\n<path style=\"stroke:none;\" d=\"M 6.34375 -2.03125 L 6.515625 -1.984375 L 5.890625 0 L 0.21875 0 L 0.21875 -0.203125 L 0.5 -0.203125 C 0.8125 -0.203125 1.03125 -0.300781 1.15625 -0.5 C 1.238281 -0.613281 1.28125 -0.878906 1.28125 -1.296875 L 1.28125 -6.03125 C 1.28125 -6.488281 1.226562 -6.773438 1.125 -6.890625 C 0.976562 -7.054688 0.769531 -7.140625 0.5 -7.140625 L 0.21875 -7.140625 L 0.21875 -7.328125 L 3.53125 -7.328125 L 3.53125 -7.140625 C 3.144531 -7.140625 2.875 -7.097656 2.71875 -7.015625 C 2.5625 -6.941406 2.453125 -6.847656 2.390625 -6.734375 C 2.335938 -6.617188 2.3125 -6.34375 2.3125 -5.90625 L 2.3125 -1.296875 C 2.3125 -1.003906 2.335938 -0.800781 2.390625 -0.6875 C 2.441406 -0.613281 2.507812 -0.554688 2.59375 -0.515625 C 2.6875 -0.484375 2.96875 -0.46875 3.4375 -0.46875 L 3.96875 -0.46875 C 4.53125 -0.46875 4.925781 -0.507812 5.15625 -0.59375 C 5.382812 -0.675781 5.59375 -0.820312 5.78125 -1.03125 C 5.96875 -1.238281 6.15625 -1.570312 6.34375 -2.03125 Z M 6.34375 -2.03125 \"/>\n</symbol>\n<symbol overflow=\"visible\" id=\"glyph0-8\">\n<path style=\"stroke:none;\" d=\"M 3.15625 -0.71875 C 2.644531 -0.320312 2.320312 -0.09375 2.1875 -0.03125 C 2 0.0625 1.796875 0.109375 1.578125 0.109375 C 1.234375 0.109375 0.945312 -0.00390625 0.71875 -0.234375 C 0.5 -0.472656 0.390625 -0.785156 0.390625 -1.171875 C 0.390625 -1.410156 0.445312 -1.617188 0.5625 -1.796875 C 0.707031 -2.046875 0.960938 -2.273438 1.328125 -2.484375 C 1.691406 -2.703125 2.300781 -2.96875 3.15625 -3.28125 L 3.15625 -3.484375 C 3.15625 -3.972656 3.070312 -4.304688 2.90625 -4.484375 C 2.75 -4.671875 2.523438 -4.765625 2.234375 -4.765625 C 2.003906 -4.765625 1.820312 -4.707031 1.6875 -4.59375 C 1.550781 -4.46875 1.484375 -4.328125 1.484375 -4.171875 L 1.5 -3.84375 C 1.5 -3.6875 1.457031 -3.5625 1.375 -3.46875 C 1.289062 -3.375 1.175781 -3.328125 1.03125 -3.328125 C 0.90625 -3.328125 0.796875 -3.375 0.703125 -3.46875 C 0.617188 -3.5625 0.578125 -3.691406 0.578125 -3.859375 C 0.578125 -4.171875 0.734375 -4.453125 1.046875 -4.703125 C 1.367188 -4.960938 1.816406 -5.09375 2.390625 -5.09375 C 2.828125 -5.09375 3.1875 -5.019531 3.46875 -4.875 C 3.6875 -4.769531 3.84375 -4.597656 3.9375 -4.359375 C 4.007812 -4.203125 4.046875 -3.882812 4.046875 -3.40625 L 4.046875 -1.71875 C 4.046875 -1.25 4.050781 -0.957031 4.0625 -0.84375 C 4.082031 -0.738281 4.113281 -0.664062 4.15625 -0.625 C 4.195312 -0.59375 4.242188 -0.578125 4.296875 -0.578125 C 4.359375 -0.578125 4.410156 -0.59375 4.453125 -0.625 C 4.523438 -0.664062 4.671875 -0.796875 4.890625 -1.015625 L 4.890625 -0.71875 C 4.484375 -0.175781 4.097656 0.09375 3.734375 0.09375 C 3.554688 0.09375 3.414062 0.0351562 3.3125 -0.078125 C 3.207031 -0.203125 3.15625 -0.414062 3.15625 -0.71875 Z M 3.15625 -1.0625 L 3.15625 -2.953125 C 2.601562 -2.734375 2.25 -2.582031 2.09375 -2.5 C 1.8125 -2.332031 1.609375 -2.160156 1.484375 -1.984375 C 1.359375 -1.816406 1.296875 -1.628906 1.296875 -1.421875 C 1.296875 -1.160156 1.375 -0.945312 1.53125 -0.78125 C 1.6875 -0.613281 1.863281 -0.53125 2.0625 -0.53125 C 2.34375 -0.53125 2.707031 -0.707031 3.15625 -1.0625 Z M 3.15625 -1.0625 \"/>\n</symbol>\n<symbol overflow=\"visible\" id=\"glyph0-9\">\n<path style=\"stroke:none;\" d=\"M 0.0625 -4.953125 L 2.375 -4.953125 L 2.375 -4.75 L 2.265625 -4.75 C 2.097656 -4.75 1.972656 -4.710938 1.890625 -4.640625 C 1.804688 -4.578125 1.765625 -4.492188 1.765625 -4.390625 C 1.765625 -4.242188 1.828125 -4.046875 1.953125 -3.796875 L 3.15625 -1.296875 L 4.265625 -4.046875 C 4.328125 -4.191406 4.359375 -4.335938 4.359375 -4.484375 C 4.359375 -4.546875 4.34375 -4.59375 4.3125 -4.625 C 4.28125 -4.664062 4.234375 -4.695312 4.171875 -4.71875 C 4.117188 -4.738281 4.015625 -4.75 3.859375 -4.75 L 3.859375 -4.953125 L 5.46875 -4.953125 L 5.46875 -4.75 C 5.332031 -4.738281 5.226562 -4.710938 5.15625 -4.671875 C 5.082031 -4.628906 5.003906 -4.546875 4.921875 -4.421875 C 4.890625 -4.367188 4.828125 -4.234375 4.734375 -4.015625 L 2.71875 0.9375 C 2.53125 1.414062 2.273438 1.773438 1.953125 2.015625 C 1.640625 2.265625 1.335938 2.390625 1.046875 2.390625 C 0.835938 2.390625 0.660156 2.328125 0.515625 2.203125 C 0.378906 2.078125 0.3125 1.9375 0.3125 1.78125 C 0.3125 1.632812 0.359375 1.515625 0.453125 1.421875 C 0.554688 1.328125 0.695312 1.28125 0.875 1.28125 C 0.988281 1.28125 1.148438 1.320312 1.359375 1.40625 C 1.503906 1.457031 1.59375 1.484375 1.625 1.484375 C 1.738281 1.484375 1.859375 1.425781 1.984375 1.3125 C 2.109375 1.195312 2.238281 0.984375 2.375 0.671875 L 2.71875 -0.1875 L 0.9375 -3.9375 C 0.882812 -4.039062 0.800781 -4.175781 0.6875 -4.34375 C 0.59375 -4.46875 0.519531 -4.554688 0.46875 -4.609375 C 0.382812 -4.660156 0.25 -4.707031 0.0625 -4.75 Z M 0.0625 -4.953125 \"/>\n</symbol>\n<symbol overflow=\"visible\" id=\"glyph0-10\">\n<path style=\"stroke:none;\" d=\"M 1.171875 -3.09375 C 1.171875 -2.351562 1.351562 -1.773438 1.71875 -1.359375 C 2.070312 -0.941406 2.492188 -0.734375 2.984375 -0.734375 C 3.304688 -0.734375 3.585938 -0.820312 3.828125 -1 C 4.066406 -1.175781 4.265625 -1.484375 4.421875 -1.921875 L 4.59375 -1.8125 C 4.519531 -1.3125 4.300781 -0.859375 3.9375 -0.453125 C 3.570312 -0.046875 3.117188 0.15625 2.578125 0.15625 C 1.984375 0.15625 1.472656 -0.0703125 1.046875 -0.53125 C 0.617188 -1 0.40625 -1.625 0.40625 -2.40625 C 0.40625 -3.257812 0.625 -3.921875 1.0625 -4.390625 C 1.5 -4.867188 2.046875 -5.109375 2.703125 -5.109375 C 3.253906 -5.109375 3.707031 -4.925781 4.0625 -4.5625 C 4.414062 -4.195312 4.59375 -3.707031 4.59375 -3.09375 Z M 1.171875 -3.40625 L 3.46875 -3.40625 C 3.445312 -3.71875 3.410156 -3.941406 3.359375 -4.078125 C 3.265625 -4.273438 3.128906 -4.429688 2.953125 -4.546875 C 2.773438 -4.660156 2.585938 -4.71875 2.390625 -4.71875 C 2.085938 -4.71875 1.816406 -4.601562 1.578125 -4.375 C 1.347656 -4.144531 1.210938 -3.820312 1.171875 -3.40625 Z M 1.171875 -3.40625 \"/>\n</symbol>\n<symbol overflow=\"visible\" id=\"glyph0-11\">\n<path style=\"stroke:none;\" d=\"M 1.796875 -5.09375 L 1.796875 -3.984375 C 2.210938 -4.722656 2.632812 -5.09375 3.0625 -5.09375 C 3.257812 -5.09375 3.421875 -5.03125 3.546875 -4.90625 C 3.679688 -4.789062 3.75 -4.65625 3.75 -4.5 C 3.75 -4.363281 3.703125 -4.242188 3.609375 -4.140625 C 3.515625 -4.046875 3.40625 -4 3.28125 -4 C 3.15625 -4 3.015625 -4.0625 2.859375 -4.1875 C 2.703125 -4.3125 2.582031 -4.375 2.5 -4.375 C 2.4375 -4.375 2.367188 -4.335938 2.296875 -4.265625 C 2.128906 -4.117188 1.960938 -3.875 1.796875 -3.53125 L 1.796875 -1.15625 C 1.796875 -0.882812 1.828125 -0.675781 1.890625 -0.53125 C 1.941406 -0.4375 2.023438 -0.351562 2.140625 -0.28125 C 2.265625 -0.21875 2.4375 -0.1875 2.65625 -0.1875 L 2.65625 0 L 0.125 0 L 0.125 -0.1875 C 0.375 -0.1875 0.5625 -0.226562 0.6875 -0.3125 C 0.78125 -0.375 0.84375 -0.46875 0.875 -0.59375 C 0.894531 -0.65625 0.90625 -0.828125 0.90625 -1.109375 L 0.90625 -3.03125 C 0.90625 -3.613281 0.890625 -3.957031 0.859375 -4.0625 C 0.835938 -4.175781 0.796875 -4.253906 0.734375 -4.296875 C 0.671875 -4.347656 0.59375 -4.375 0.5 -4.375 C 0.382812 -4.375 0.257812 -4.347656 0.125 -4.296875 L 0.0625 -4.5 L 1.5625 -5.09375 Z M 1.796875 -5.09375 \"/>\n</symbol>\n<symbol overflow=\"visible\" id=\"glyph0-12\">\n<path style=\"stroke:none;\" d=\"M 0.734375 -7.015625 L 1.84375 -7.484375 L 2.03125 -7.484375 L 2.03125 -4.28125 C 2.03125 -4.0625 2.039062 -3.929688 2.0625 -3.890625 C 2.082031 -3.847656 2.113281 -3.820312 2.15625 -3.8125 C 2.207031 -3.78125 2.347656 -3.765625 2.578125 -3.765625 L 2.578125 -3.59375 L 0.828125 -3.59375 L 0.828125 -3.765625 C 1.054688 -3.765625 1.195312 -3.773438 1.25 -3.796875 C 1.289062 -3.816406 1.320312 -3.847656 1.34375 -3.890625 C 1.363281 -3.929688 1.375 -4.0625 1.375 -4.28125 L 1.375 -6.3125 C 1.375 -6.5625 1.363281 -6.726562 1.34375 -6.8125 C 1.332031 -6.875 1.3125 -6.914062 1.28125 -6.9375 C 1.257812 -6.957031 1.226562 -6.96875 1.1875 -6.96875 C 1.113281 -6.96875 0.992188 -6.929688 0.828125 -6.859375 Z M 0.734375 -7.015625 \"/>\n</symbol>\n<symbol overflow=\"visible\" id=\"glyph0-13\">\n<path style=\"stroke:none;\" d=\"M 3.109375 -4.40625 L 2.78125 -3.59375 L 0.109375 -3.59375 L 0.109375 -3.75 C 0.992188 -4.4375 1.582031 -5 1.875 -5.4375 C 2.0625 -5.707031 2.15625 -5.96875 2.15625 -6.21875 C 2.15625 -6.4375 2.078125 -6.617188 1.921875 -6.765625 C 1.773438 -6.921875 1.585938 -7 1.359375 -7 C 1.148438 -7 0.96875 -6.941406 0.8125 -6.828125 C 0.664062 -6.722656 0.550781 -6.566406 0.46875 -6.359375 L 0.234375 -6.359375 C 0.273438 -6.710938 0.410156 -6.988281 0.640625 -7.1875 C 0.867188 -7.382812 1.164062 -7.484375 1.53125 -7.484375 C 1.914062 -7.484375 2.226562 -7.378906 2.46875 -7.171875 C 2.707031 -6.960938 2.828125 -6.726562 2.828125 -6.46875 C 2.828125 -6.226562 2.738281 -5.972656 2.5625 -5.703125 C 2.289062 -5.285156 1.757812 -4.753906 0.96875 -4.109375 L 1.984375 -4.109375 C 2.296875 -4.109375 2.5 -4.128906 2.59375 -4.171875 C 2.695312 -4.210938 2.785156 -4.289062 2.859375 -4.40625 Z M 3.109375 -4.40625 \"/>\n</symbol>\n<symbol overflow=\"visible\" id=\"glyph0-14\">\n<path style=\"stroke:none;\" d=\"M 2.28125 -3.9375 L 5.671875 -3.9375 L 5.671875 -6.03125 C 5.671875 -6.40625 5.648438 -6.648438 5.609375 -6.765625 C 5.566406 -6.859375 5.488281 -6.9375 5.375 -7 C 5.21875 -7.09375 5.054688 -7.140625 4.890625 -7.140625 L 4.625 -7.140625 L 4.625 -7.328125 L 7.765625 -7.328125 L 7.765625 -7.140625 L 7.5 -7.140625 C 7.332031 -7.140625 7.171875 -7.097656 7.015625 -7.015625 C 6.898438 -6.953125 6.820312 -6.863281 6.78125 -6.75 C 6.738281 -6.632812 6.71875 -6.394531 6.71875 -6.03125 L 6.71875 -1.296875 C 6.71875 -0.921875 6.738281 -0.675781 6.78125 -0.5625 C 6.820312 -0.46875 6.894531 -0.390625 7 -0.328125 C 7.164062 -0.242188 7.332031 -0.203125 7.5 -0.203125 L 7.765625 -0.203125 L 7.765625 0 L 4.625 0 L 4.625 -0.203125 L 4.890625 -0.203125 C 5.191406 -0.203125 5.410156 -0.289062 5.546875 -0.46875 C 5.628906 -0.582031 5.671875 -0.859375 5.671875 -1.296875 L 5.671875 -3.53125 L 2.28125 -3.53125 L 2.28125 -1.296875 C 2.28125 -0.921875 2.300781 -0.675781 2.34375 -0.5625 C 2.375 -0.46875 2.453125 -0.390625 2.578125 -0.328125 C 2.722656 -0.242188 2.882812 -0.203125 3.0625 -0.203125 L 3.328125 -0.203125 L 3.328125 0 L 0.1875 0 L 0.1875 -0.203125 L 0.453125 -0.203125 C 0.753906 -0.203125 0.972656 -0.289062 1.109375 -0.46875 C 1.191406 -0.582031 1.234375 -0.859375 1.234375 -1.296875 L 1.234375 -6.03125 C 1.234375 -6.40625 1.210938 -6.648438 1.171875 -6.765625 C 1.128906 -6.859375 1.050781 -6.9375 0.9375 -7 C 0.78125 -7.09375 0.617188 -7.140625 0.453125 -7.140625 L 0.1875 -7.140625 L 0.1875 -7.328125 L 3.328125 -7.328125 L 3.328125 -7.140625 L 3.0625 -7.140625 C 2.882812 -7.140625 2.722656 -7.097656 2.578125 -7.015625 C 2.460938 -6.953125 2.382812 -6.863281 2.34375 -6.75 C 2.300781 -6.632812 2.28125 -6.394531 2.28125 -6.03125 Z M 2.28125 -3.9375 \"/>\n</symbol>\n<symbol overflow=\"visible\" id=\"glyph0-15\">\n<path style=\"stroke:none;\" d=\"M 1.609375 -7.6875 C 1.753906 -7.6875 1.878906 -7.632812 1.984375 -7.53125 C 2.097656 -7.425781 2.15625 -7.296875 2.15625 -7.140625 C 2.15625 -6.992188 2.097656 -6.863281 1.984375 -6.75 C 1.878906 -6.644531 1.753906 -6.59375 1.609375 -6.59375 C 1.453125 -6.59375 1.316406 -6.644531 1.203125 -6.75 C 1.097656 -6.863281 1.046875 -6.992188 1.046875 -7.140625 C 1.046875 -7.296875 1.097656 -7.425781 1.203125 -7.53125 C 1.316406 -7.632812 1.453125 -7.6875 1.609375 -7.6875 Z M 2.046875 -5.09375 L 2.046875 -1.125 C 2.046875 -0.8125 2.066406 -0.601562 2.109375 -0.5 C 2.160156 -0.394531 2.226562 -0.316406 2.3125 -0.265625 C 2.40625 -0.210938 2.566406 -0.1875 2.796875 -0.1875 L 2.796875 0 L 0.40625 0 L 0.40625 -0.1875 C 0.644531 -0.1875 0.804688 -0.207031 0.890625 -0.25 C 0.972656 -0.300781 1.035156 -0.378906 1.078125 -0.484375 C 1.128906 -0.597656 1.15625 -0.8125 1.15625 -1.125 L 1.15625 -3.03125 C 1.15625 -3.5625 1.140625 -3.910156 1.109375 -4.078125 C 1.078125 -4.191406 1.035156 -4.269531 0.984375 -4.3125 C 0.929688 -4.351562 0.859375 -4.375 0.765625 -4.375 C 0.660156 -4.375 0.539062 -4.347656 0.40625 -4.296875 L 0.328125 -4.5 L 1.8125 -5.09375 Z M 2.046875 -5.09375 \"/>\n</symbol>\n<symbol overflow=\"visible\" id=\"glyph0-16\">\n<path style=\"stroke:none;\" d=\"M 3.84375 -0.5625 C 3.601562 -0.300781 3.363281 -0.113281 3.125 0 C 2.894531 0.101562 2.648438 0.15625 2.390625 0.15625 C 1.847656 0.15625 1.375 -0.0664062 0.96875 -0.515625 C 0.570312 -0.972656 0.375 -1.554688 0.375 -2.265625 C 0.375 -2.984375 0.59375 -3.632812 1.03125 -4.21875 C 1.476562 -4.8125 2.054688 -5.109375 2.765625 -5.109375 C 3.191406 -5.109375 3.550781 -4.96875 3.84375 -4.6875 L 3.84375 -5.609375 C 3.84375 -6.171875 3.828125 -6.515625 3.796875 -6.640625 C 3.773438 -6.773438 3.734375 -6.863281 3.671875 -6.90625 C 3.617188 -6.957031 3.546875 -6.984375 3.453125 -6.984375 C 3.359375 -6.984375 3.234375 -6.953125 3.078125 -6.890625 L 3.015625 -7.09375 L 4.484375 -7.6875 L 4.734375 -7.6875 L 4.734375 -1.96875 C 4.734375 -1.382812 4.742188 -1.023438 4.765625 -0.890625 C 4.796875 -0.765625 4.835938 -0.675781 4.890625 -0.625 C 4.953125 -0.582031 5.023438 -0.5625 5.109375 -0.5625 C 5.203125 -0.5625 5.332031 -0.59375 5.5 -0.65625 L 5.5625 -0.453125 L 4.09375 0.15625 L 3.84375 0.15625 Z M 3.84375 -0.9375 L 3.84375 -3.484375 C 3.820312 -3.734375 3.753906 -3.957031 3.640625 -4.15625 C 3.535156 -4.363281 3.394531 -4.515625 3.21875 -4.609375 C 3.039062 -4.710938 2.867188 -4.765625 2.703125 -4.765625 C 2.378906 -4.765625 2.09375 -4.625 1.84375 -4.34375 C 1.519531 -3.96875 1.359375 -3.421875 1.359375 -2.703125 C 1.359375 -1.972656 1.515625 -1.410156 1.828125 -1.015625 C 2.148438 -0.628906 2.503906 -0.4375 2.890625 -0.4375 C 3.210938 -0.4375 3.53125 -0.601562 3.84375 -0.9375 Z M 3.84375 -0.9375 \"/>\n</symbol>\n<symbol overflow=\"visible\" id=\"glyph0-17\">\n<path style=\"stroke:none;\" d=\"M 4.046875 -7.5 C 4.992188 -7.5 5.816406 -7.132812 6.515625 -6.40625 C 7.210938 -5.6875 7.5625 -4.785156 7.5625 -3.703125 C 7.5625 -2.597656 7.207031 -1.675781 6.5 -0.9375 C 5.800781 -0.195312 4.953125 0.171875 3.953125 0.171875 C 2.953125 0.171875 2.109375 -0.1875 1.421875 -0.90625 C 0.734375 -1.625 0.390625 -2.550781 0.390625 -3.6875 C 0.390625 -4.851562 0.785156 -5.804688 1.578125 -6.546875 C 2.265625 -7.179688 3.085938 -7.5 4.046875 -7.5 Z M 3.9375 -7.109375 C 3.28125 -7.109375 2.753906 -6.863281 2.359375 -6.375 C 1.867188 -5.769531 1.625 -4.882812 1.625 -3.71875 C 1.625 -2.519531 1.878906 -1.597656 2.390625 -0.953125 C 2.785156 -0.460938 3.304688 -0.21875 3.953125 -0.21875 C 4.640625 -0.21875 5.207031 -0.484375 5.65625 -1.015625 C 6.101562 -1.554688 6.328125 -2.40625 6.328125 -3.5625 C 6.328125 -4.820312 6.078125 -5.757812 5.578125 -6.375 C 5.179688 -6.863281 4.632812 -7.109375 3.9375 -7.109375 Z M 3.9375 -7.109375 \"/>\n</symbol>\n<symbol overflow=\"visible\" id=\"glyph1-0\">\n<path style=\"stroke:none;\" d=\"M 0.546875 1.953125 L 0.546875 -7.8125 L 6.078125 -7.8125 L 6.078125 1.953125 Z M 1.171875 1.34375 L 5.46875 1.34375 L 5.46875 -7.1875 L 1.171875 -7.1875 Z M 1.171875 1.34375 \"/>\n</symbol>\n<symbol overflow=\"visible\" id=\"glyph1-1\">\n<path style=\"stroke:none;\" d=\"M 4.640625 -0.859375 L 7.015625 -0.859375 L 7.015625 0 L 4.640625 0 C 4.015625 0 3.429688 -0.15625 2.890625 -0.46875 C 2.359375 -0.78125 1.9375 -1.203125 1.625 -1.734375 C 1.320312 -2.265625 1.171875 -2.84375 1.171875 -3.46875 C 1.171875 -4.09375 1.320312 -4.671875 1.625 -5.203125 C 1.9375 -5.742188 2.359375 -6.171875 2.890625 -6.484375 C 3.429688 -6.796875 4.015625 -6.953125 4.640625 -6.953125 L 7.015625 -6.953125 L 7.015625 -6.078125 L 4.640625 -6.078125 C 4.171875 -6.078125 3.734375 -5.957031 3.328125 -5.71875 C 2.929688 -5.488281 2.617188 -5.175781 2.390625 -4.78125 C 2.234375 -4.5 2.128906 -4.207031 2.078125 -3.90625 L 7.015625 -3.90625 L 7.015625 -3.03125 L 2.078125 -3.03125 C 2.128906 -2.726562 2.234375 -2.441406 2.390625 -2.171875 C 2.617188 -1.765625 2.929688 -1.441406 3.328125 -1.203125 C 3.734375 -0.972656 4.171875 -0.859375 4.640625 -0.859375 Z M 4.640625 -0.859375 \"/>\n</symbol>\n<symbol overflow=\"visible\" id=\"glyph1-2\">\n<path style=\"stroke:none;\" d=\"\"/>\n</symbol>\n<symbol overflow=\"visible\" id=\"glyph1-3\">\n<path style=\"stroke:none;\" d=\"M 5.875 -3.9375 C 6.195312 -3.894531 6.46875 -3.789062 6.6875 -3.625 C 6.90625 -3.457031 7.09375 -3.21875 7.25 -2.90625 L 8.4375 -0.65625 L 9.265625 -0.65625 L 9.265625 0 L 6.609375 0 L 5.328125 -2.4375 C 5.078125 -2.945312 4.863281 -3.269531 4.6875 -3.40625 C 4.507812 -3.539062 4.265625 -3.609375 3.953125 -3.609375 L 3.625 -3.609375 L 3.625 -0.65625 L 4.671875 -0.65625 L 4.671875 0 L 0.515625 0 L 0.515625 -0.65625 L 1.546875 -0.65625 L 1.546875 -7.421875 L 0.515625 -7.421875 L 0.515625 -8.078125 L 5.125 -8.078125 C 6.0625 -8.078125 6.78125 -7.890625 7.28125 -7.515625 C 7.789062 -7.140625 8.046875 -6.601562 8.046875 -5.90625 C 8.046875 -5.34375 7.863281 -4.894531 7.5 -4.5625 C 7.144531 -4.238281 6.601562 -4.03125 5.875 -3.9375 Z M 3.625 -4.265625 L 4.34375 -4.265625 C 4.84375 -4.265625 5.226562 -4.398438 5.5 -4.671875 C 5.769531 -4.941406 5.90625 -5.332031 5.90625 -5.84375 C 5.90625 -6.351562 5.769531 -6.742188 5.5 -7.015625 C 5.226562 -7.285156 4.84375 -7.421875 4.34375 -7.421875 L 3.625 -7.421875 Z M 2.96875 -0.65625 L 2.96875 -7.421875 L 2.203125 -7.421875 L 2.203125 -0.65625 Z M 7.6875 -0.65625 L 6.671875 -2.609375 C 6.554688 -2.828125 6.425781 -2.988281 6.28125 -3.09375 C 6.15625 -3.195312 5.988281 -3.265625 5.78125 -3.296875 L 5.578125 -3.328125 C 5.660156 -3.203125 5.769531 -3.003906 5.90625 -2.734375 L 7 -0.65625 Z M 6.109375 -7.328125 C 6.179688 -7.234375 6.253906 -7.113281 6.328125 -6.96875 C 6.492188 -6.625 6.570312 -6.25 6.5625 -5.84375 C 6.5625 -5.695312 6.554688 -5.570312 6.546875 -5.46875 C 6.535156 -5.375 6.507812 -5.253906 6.46875 -5.109375 C 6.4375 -4.960938 6.382812 -4.820312 6.3125 -4.6875 C 6.644531 -4.78125 6.898438 -4.90625 7.078125 -5.0625 C 7.296875 -5.257812 7.40625 -5.539062 7.40625 -5.90625 C 7.40625 -6.144531 7.363281 -6.351562 7.28125 -6.53125 C 7.195312 -6.707031 7.070312 -6.859375 6.90625 -6.984375 C 6.695312 -7.140625 6.429688 -7.253906 6.109375 -7.328125 Z M 6.109375 -7.328125 \"/>\n</symbol>\n</g>\n</defs>\n<g id=\"surface1\">\n<path style=\"fill-rule:nonzero;fill:rgb(0%,0%,0%);fill-opacity:1;stroke-width:0.5;stroke-linecap:butt;stroke-linejoin:miter;stroke:rgb(31.372549%,31.372549%,31.372549%);stroke-opacity:1;stroke-miterlimit:4;\" d=\"M 693.500406 169.501347 L 873.50122 369.500405 \" transform=\"matrix(0.922457,0,0,0.922973,-564.063988,-74.585808)\"/>\n<path style=\"fill-rule:nonzero;fill:rgb(0%,0%,0%);fill-opacity:1;stroke-width:0.5;stroke-linecap:butt;stroke-linejoin:miter;stroke:rgb(31.372549%,31.372549%,31.372549%);stroke-opacity:1;stroke-miterlimit:4;\" d=\"M 693.500406 169.501347 L 873.50122 409.49937 \" transform=\"matrix(0.922457,0,0,0.922973,-564.063988,-74.585808)\"/>\n<path style=\"fill-rule:nonzero;fill:rgb(0%,0%,0%);fill-opacity:1;stroke-width:0.5;stroke-linecap:butt;stroke-linejoin:miter;stroke:rgb(31.372549%,31.372549%,31.372549%);stroke-opacity:1;stroke-miterlimit:4;\" d=\"M 693.500406 209.500312 L 873.50122 369.500405 \" transform=\"matrix(0.922457,0,0,0.922973,-564.063988,-74.585808)\"/>\n<path style=\"fill-rule:nonzero;fill:rgb(0%,0%,0%);fill-opacity:1;stroke-width:0.5;stroke-linecap:butt;stroke-linejoin:miter;stroke:rgb(31.372549%,31.372549%,31.372549%);stroke-opacity:1;stroke-miterlimit:4;\" d=\"M 693.500406 209.500312 L 873.50122 409.49937 \" transform=\"matrix(0.922457,0,0,0.922973,-564.063988,-74.585808)\"/>\n<path style=\"fill-rule:nonzero;fill:rgb(0%,0%,0%);fill-opacity:1;stroke-width:0.5;stroke-linecap:butt;stroke-linejoin:miter;stroke:rgb(31.372549%,31.372549%,31.372549%);stroke-opacity:1;stroke-miterlimit:4;\" d=\"M 693.500406 249.499277 L 873.50122 369.500405 \" transform=\"matrix(0.922457,0,0,0.922973,-564.063988,-74.585808)\"/>\n<path style=\"fill-rule:nonzero;fill:rgb(0%,0%,0%);fill-opacity:1;stroke-width:0.5;stroke-linecap:butt;stroke-linejoin:miter;stroke:rgb(31.372549%,31.372549%,31.372549%);stroke-opacity:1;stroke-miterlimit:4;\" d=\"M 693.500406 249.499277 L 873.50122 409.49937 \" transform=\"matrix(0.922457,0,0,0.922973,-564.063988,-74.585808)\"/>\n<path style=\"fill-rule:nonzero;fill:rgb(0%,0%,0%);fill-opacity:1;stroke-width:0.5;stroke-linecap:butt;stroke-linejoin:miter;stroke:rgb(31.372549%,31.372549%,31.372549%);stroke-opacity:1;stroke-miterlimit:4;\" d=\"M 693.500406 289.498242 L 873.50122 369.500405 \" transform=\"matrix(0.922457,0,0,0.922973,-564.063988,-74.585808)\"/>\n<path style=\"fill-rule:nonzero;fill:rgb(0%,0%,0%);fill-opacity:1;stroke-width:0.5;stroke-linecap:butt;stroke-linejoin:miter;stroke:rgb(31.372549%,31.372549%,31.372549%);stroke-opacity:1;stroke-miterlimit:4;\" d=\"M 693.500406 289.498242 L 873.50122 409.49937 \" transform=\"matrix(0.922457,0,0,0.922973,-564.063988,-74.585808)\"/>\n<path style=\"fill-rule:nonzero;fill:rgb(0%,0%,0%);fill-opacity:1;stroke-width:0.5;stroke-linecap:butt;stroke-linejoin:miter;stroke:rgb(31.372549%,31.372549%,31.372549%);stroke-opacity:1;stroke-miterlimit:4;\" d=\"M 693.500406 329.50144 L 873.50122 369.500405 \" transform=\"matrix(0.922457,0,0,0.922973,-564.063988,-74.585808)\"/>\n<path style=\"fill-rule:nonzero;fill:rgb(0%,0%,0%);fill-opacity:1;stroke-width:0.5;stroke-linecap:butt;stroke-linejoin:miter;stroke:rgb(31.372549%,31.372549%,31.372549%);stroke-opacity:1;stroke-miterlimit:4;\" d=\"M 693.500406 329.50144 L 873.50122 409.49937 \" transform=\"matrix(0.922457,0,0,0.922973,-564.063988,-74.585808)\"/>\n<path style=\"fill:none;stroke-width:0.5;stroke-linecap:butt;stroke-linejoin:miter;stroke:rgb(31.372549%,31.372549%,31.372549%);stroke-opacity:1;stroke-miterlimit:4;\" d=\"M 693.500406 369.500405 L 873.50122 369.500405 \" transform=\"matrix(0.922457,0,0,0.922973,-564.063988,-74.585808)\"/>\n<path style=\"fill-rule:nonzero;fill:rgb(0%,0%,0%);fill-opacity:1;stroke-width:0.5;stroke-linecap:butt;stroke-linejoin:miter;stroke:rgb(31.372549%,31.372549%,31.372549%);stroke-opacity:1;stroke-miterlimit:4;\" d=\"M 693.500406 369.500405 L 873.50122 409.49937 \" transform=\"matrix(0.922457,0,0,0.922973,-564.063988,-74.585808)\"/>\n<path style=\"fill-rule:nonzero;fill:rgb(0%,0%,0%);fill-opacity:1;stroke-width:0.5;stroke-linecap:butt;stroke-linejoin:miter;stroke:rgb(31.372549%,31.372549%,31.372549%);stroke-opacity:1;stroke-miterlimit:4;\" d=\"M 693.500406 409.49937 L 873.50122 369.500405 \" transform=\"matrix(0.922457,0,0,0.922973,-564.063988,-74.585808)\"/>\n<path style=\"fill:none;stroke-width:0.5;stroke-linecap:butt;stroke-linejoin:miter;stroke:rgb(31.372549%,31.372549%,31.372549%);stroke-opacity:1;stroke-miterlimit:4;\" d=\"M 693.500406 409.49937 L 873.50122 409.49937 \" transform=\"matrix(0.922457,0,0,0.922973,-564.063988,-74.585808)\"/>\n<path style=\"fill-rule:nonzero;fill:rgb(0%,0%,0%);fill-opacity:1;stroke-width:0.5;stroke-linecap:butt;stroke-linejoin:miter;stroke:rgb(31.372549%,31.372549%,31.372549%);stroke-opacity:1;stroke-miterlimit:4;\" d=\"M 693.500406 449.498335 L 873.50122 369.500405 \" transform=\"matrix(0.922457,0,0,0.922973,-564.063988,-74.585808)\"/>\n<path style=\"fill-rule:nonzero;fill:rgb(0%,0%,0%);fill-opacity:1;stroke-width:0.5;stroke-linecap:butt;stroke-linejoin:miter;stroke:rgb(31.372549%,31.372549%,31.372549%);stroke-opacity:1;stroke-miterlimit:4;\" d=\"M 693.500406 449.498335 L 873.50122 409.49937 \" transform=\"matrix(0.922457,0,0,0.922973,-564.063988,-74.585808)\"/>\n<path style=\"fill-rule:nonzero;fill:rgb(0%,0%,0%);fill-opacity:1;stroke-width:0.5;stroke-linecap:butt;stroke-linejoin:miter;stroke:rgb(31.372549%,31.372549%,31.372549%);stroke-opacity:1;stroke-miterlimit:4;\" d=\"M 693.500406 489.501533 L 873.50122 369.500405 \" transform=\"matrix(0.922457,0,0,0.922973,-564.063988,-74.585808)\"/>\n<path style=\"fill-rule:nonzero;fill:rgb(0%,0%,0%);fill-opacity:1;stroke-width:0.5;stroke-linecap:butt;stroke-linejoin:miter;stroke:rgb(31.372549%,31.372549%,31.372549%);stroke-opacity:1;stroke-miterlimit:4;\" d=\"M 693.500406 489.501533 L 873.50122 409.49937 \" transform=\"matrix(0.922457,0,0,0.922973,-564.063988,-74.585808)\"/>\n<path style=\"fill-rule:nonzero;fill:rgb(0%,0%,0%);fill-opacity:1;stroke-width:0.5;stroke-linecap:butt;stroke-linejoin:miter;stroke:rgb(31.372549%,31.372549%,31.372549%);stroke-opacity:1;stroke-miterlimit:4;\" d=\"M 693.500406 529.500498 L 873.50122 369.500405 \" transform=\"matrix(0.922457,0,0,0.922973,-564.063988,-74.585808)\"/>\n<path style=\"fill-rule:nonzero;fill:rgb(0%,0%,0%);fill-opacity:1;stroke-width:0.5;stroke-linecap:butt;stroke-linejoin:miter;stroke:rgb(31.372549%,31.372549%,31.372549%);stroke-opacity:1;stroke-miterlimit:4;\" d=\"M 693.500406 529.500498 L 873.50122 409.49937 \" transform=\"matrix(0.922457,0,0,0.922973,-564.063988,-74.585808)\"/>\n<path style=\"fill-rule:nonzero;fill:rgb(0%,0%,0%);fill-opacity:1;stroke-width:0.5;stroke-linecap:butt;stroke-linejoin:miter;stroke:rgb(31.372549%,31.372549%,31.372549%);stroke-opacity:1;stroke-miterlimit:4;\" d=\"M 693.500406 569.499463 L 873.50122 369.500405 \" transform=\"matrix(0.922457,0,0,0.922973,-564.063988,-74.585808)\"/>\n<path style=\"fill-rule:nonzero;fill:rgb(0%,0%,0%);fill-opacity:1;stroke-width:0.5;stroke-linecap:butt;stroke-linejoin:miter;stroke:rgb(31.372549%,31.372549%,31.372549%);stroke-opacity:1;stroke-miterlimit:4;\" d=\"M 693.500406 569.499463 L 873.50122 409.49937 \" transform=\"matrix(0.922457,0,0,0.922973,-564.063988,-74.585808)\"/>\n<path style=\"fill-rule:nonzero;fill:rgb(0%,0%,0%);fill-opacity:1;stroke-width:0.5;stroke-linecap:butt;stroke-linejoin:miter;stroke:rgb(31.372549%,31.372549%,31.372549%);stroke-opacity:1;stroke-miterlimit:4;\" d=\"M 693.500406 609.498429 L 873.50122 369.500405 \" transform=\"matrix(0.922457,0,0,0.922973,-564.063988,-74.585808)\"/>\n<path style=\"fill-rule:nonzero;fill:rgb(0%,0%,0%);fill-opacity:1;stroke-width:0.5;stroke-linecap:butt;stroke-linejoin:miter;stroke:rgb(31.372549%,31.372549%,31.372549%);stroke-opacity:1;stroke-miterlimit:4;\" d=\"M 693.500406 609.498429 L 873.50122 409.49937 \" transform=\"matrix(0.922457,0,0,0.922973,-564.063988,-74.585808)\"/>\n<path style=\"fill-rule:nonzero;fill:rgb(0%,0%,0%);fill-opacity:1;stroke-width:0.5;stroke-linecap:butt;stroke-linejoin:miter;stroke:rgb(31.372549%,31.372549%,31.372549%);stroke-opacity:1;stroke-miterlimit:4;\" d=\"M 873.50122 369.500405 L 1053.502033 389.502004 \" transform=\"matrix(0.922457,0,0,0.922973,-564.063988,-74.585808)\"/>\n<path style=\"fill-rule:nonzero;fill:rgb(0%,0%,0%);fill-opacity:1;stroke-width:0.5;stroke-linecap:butt;stroke-linejoin:miter;stroke:rgb(31.372549%,31.372549%,31.372549%);stroke-opacity:1;stroke-miterlimit:4;\" d=\"M 873.50122 409.49937 L 1053.502033 389.502004 \" transform=\"matrix(0.922457,0,0,0.922973,-564.063988,-74.585808)\"/>\n<path style=\"fill-rule:nonzero;fill:rgb(100%,100%,100%);fill-opacity:1;stroke-width:1;stroke-linecap:butt;stroke-linejoin:miter;stroke:rgb(20%,20%,20%);stroke-opacity:1;stroke-miterlimit:4;\" d=\"M 703.498334 169.501347 C 703.498334 175.024429 699.022345 179.497914 693.500406 179.497914 C 687.978467 179.497914 683.498244 175.024429 683.498244 169.501347 C 683.498244 163.978265 687.978467 159.500547 693.500406 159.500547 C 699.022345 159.500547 703.498334 163.978265 703.498334 169.501347 Z M 703.498334 169.501347 \" transform=\"matrix(0.922457,0,0,0.922973,-564.063988,-74.585808)\"/>\n<path style=\"fill-rule:nonzero;fill:rgb(100%,100%,100%);fill-opacity:1;stroke-width:1;stroke-linecap:butt;stroke-linejoin:miter;stroke:rgb(20%,20%,20%);stroke-opacity:1;stroke-miterlimit:4;\" d=\"M 703.498334 209.500312 C 703.498334 215.023394 699.022345 219.501111 693.500406 219.501111 C 687.978467 219.501111 683.498244 215.023394 683.498244 209.500312 C 683.498244 203.97723 687.978467 199.499513 693.500406 199.499513 C 699.022345 199.499513 703.498334 203.97723 703.498334 209.500312 Z M 703.498334 209.500312 \" transform=\"matrix(0.922457,0,0,0.922973,-564.063988,-74.585808)\"/>\n<path style=\"fill-rule:nonzero;fill:rgb(100%,100%,100%);fill-opacity:1;stroke-width:1;stroke-linecap:butt;stroke-linejoin:miter;stroke:rgb(20%,20%,20%);stroke-opacity:1;stroke-miterlimit:4;\" d=\"M 703.498334 249.499277 C 703.498334 255.022359 699.022345 259.500076 693.500406 259.500076 C 687.978467 259.500076 683.498244 255.022359 683.498244 249.499277 C 683.498244 243.976195 687.978467 239.498478 693.500406 239.498478 C 699.022345 239.498478 703.498334 243.976195 703.498334 249.499277 Z M 703.498334 249.499277 \" transform=\"matrix(0.922457,0,0,0.922973,-564.063988,-74.585808)\"/>\n<path style=\"fill-rule:nonzero;fill:rgb(100%,100%,100%);fill-opacity:1;stroke-width:1;stroke-linecap:butt;stroke-linejoin:miter;stroke:rgb(20%,20%,20%);stroke-opacity:1;stroke-miterlimit:4;\" d=\"M 703.498334 289.498242 C 703.498334 295.021325 699.022345 299.499042 693.500406 299.499042 C 687.978467 299.499042 683.498244 295.021325 683.498244 289.498242 C 683.498244 283.97516 687.978467 279.501675 693.500406 279.501675 C 699.022345 279.501675 703.498334 283.97516 703.498334 289.498242 Z M 703.498334 289.498242 \" transform=\"matrix(0.922457,0,0,0.922973,-564.063988,-74.585808)\"/>\n<path style=\"fill-rule:nonzero;fill:rgb(100%,100%,100%);fill-opacity:1;stroke-width:1;stroke-linecap:butt;stroke-linejoin:miter;stroke:rgb(20%,20%,20%);stroke-opacity:1;stroke-miterlimit:4;\" d=\"M 703.498334 329.50144 C 703.498334 335.024522 699.022345 339.498007 693.500406 339.498007 C 687.978467 339.498007 683.498244 335.024522 683.498244 329.50144 C 683.498244 323.978358 687.978467 319.50064 693.500406 319.50064 C 699.022345 319.50064 703.498334 323.978358 703.498334 329.50144 Z M 703.498334 329.50144 \" transform=\"matrix(0.922457,0,0,0.922973,-564.063988,-74.585808)\"/>\n<path style=\"fill-rule:nonzero;fill:rgb(100%,100%,100%);fill-opacity:1;stroke-width:1;stroke-linecap:butt;stroke-linejoin:miter;stroke:rgb(20%,20%,20%);stroke-opacity:1;stroke-miterlimit:4;\" d=\"M 703.498334 369.500405 C 703.498334 375.023487 699.022345 379.501204 693.500406 379.501204 C 687.978467 379.501204 683.498244 375.023487 683.498244 369.500405 C 683.498244 363.977323 687.978467 359.499606 693.500406 359.499606 C 699.022345 359.499606 703.498334 363.977323 703.498334 369.500405 Z M 703.498334 369.500405 \" transform=\"matrix(0.922457,0,0,0.922973,-564.063988,-74.585808)\"/>\n<path style=\"fill-rule:nonzero;fill:rgb(100%,100%,100%);fill-opacity:1;stroke-width:1;stroke-linecap:butt;stroke-linejoin:miter;stroke:rgb(20%,20%,20%);stroke-opacity:1;stroke-miterlimit:4;\" d=\"M 703.498334 409.49937 C 703.498334 415.022452 699.022345 419.50017 693.500406 419.50017 C 687.978467 419.50017 683.498244 415.022452 683.498244 409.49937 C 683.498244 403.976288 687.978467 399.498571 693.500406 399.498571 C 699.022345 399.498571 703.498334 403.976288 703.498334 409.49937 Z M 703.498334 409.49937 \" transform=\"matrix(0.922457,0,0,0.922973,-564.063988,-74.585808)\"/>\n<path style=\"fill-rule:nonzero;fill:rgb(100%,100%,100%);fill-opacity:1;stroke-width:1;stroke-linecap:butt;stroke-linejoin:miter;stroke:rgb(20%,20%,20%);stroke-opacity:1;stroke-miterlimit:4;\" d=\"M 703.498334 449.498335 C 703.498334 455.021418 699.022345 459.499135 693.500406 459.499135 C 687.978467 459.499135 683.498244 455.021418 683.498244 449.498335 C 683.498244 443.975253 687.978467 439.501768 693.500406 439.501768 C 699.022345 439.501768 703.498334 443.975253 703.498334 449.498335 Z M 703.498334 449.498335 \" transform=\"matrix(0.922457,0,0,0.922973,-564.063988,-74.585808)\"/>\n<path style=\"fill-rule:nonzero;fill:rgb(100%,100%,100%);fill-opacity:1;stroke-width:1;stroke-linecap:butt;stroke-linejoin:miter;stroke:rgb(20%,20%,20%);stroke-opacity:1;stroke-miterlimit:4;\" d=\"M 703.498334 489.501533 C 703.498334 495.024615 699.022345 499.4981 693.500406 499.4981 C 687.978467 499.4981 683.498244 495.024615 683.498244 489.501533 C 683.498244 483.978451 687.978467 479.500734 693.500406 479.500734 C 699.022345 479.500734 703.498334 483.978451 703.498334 489.501533 Z M 703.498334 489.501533 \" transform=\"matrix(0.922457,0,0,0.922973,-564.063988,-74.585808)\"/>\n<path style=\"fill-rule:nonzero;fill:rgb(100%,100%,100%);fill-opacity:1;stroke-width:1;stroke-linecap:butt;stroke-linejoin:miter;stroke:rgb(20%,20%,20%);stroke-opacity:1;stroke-miterlimit:4;\" d=\"M 703.498334 529.500498 C 703.498334 535.02358 699.022345 539.501297 693.500406 539.501297 C 687.978467 539.501297 683.498244 535.02358 683.498244 529.500498 C 683.498244 523.977416 687.978467 519.499699 693.500406 519.499699 C 699.022345 519.499699 703.498334 523.977416 703.498334 529.500498 Z M 703.498334 529.500498 \" transform=\"matrix(0.922457,0,0,0.922973,-564.063988,-74.585808)\"/>\n<path style=\"fill-rule:nonzero;fill:rgb(100%,100%,100%);fill-opacity:1;stroke-width:1;stroke-linecap:butt;stroke-linejoin:miter;stroke:rgb(20%,20%,20%);stroke-opacity:1;stroke-miterlimit:4;\" d=\"M 703.498334 569.499463 C 703.498334 575.022545 699.022345 579.500263 693.500406 579.500263 C 687.978467 579.500263 683.498244 575.022545 683.498244 569.499463 C 683.498244 563.976381 687.978467 559.498664 693.500406 559.498664 C 699.022345 559.498664 703.498334 563.976381 703.498334 569.499463 Z M 703.498334 569.499463 \" transform=\"matrix(0.922457,0,0,0.922973,-564.063988,-74.585808)\"/>\n<path style=\"fill-rule:nonzero;fill:rgb(100%,100%,100%);fill-opacity:1;stroke-width:1;stroke-linecap:butt;stroke-linejoin:miter;stroke:rgb(20%,20%,20%);stroke-opacity:1;stroke-miterlimit:4;\" d=\"M 703.498334 609.498429 C 703.498334 615.021511 699.022345 619.499228 693.500406 619.499228 C 687.978467 619.499228 683.498244 615.021511 683.498244 609.498429 C 683.498244 603.975346 687.978467 599.501861 693.500406 599.501861 C 699.022345 599.501861 703.498334 603.975346 703.498334 609.498429 Z M 703.498334 609.498429 \" transform=\"matrix(0.922457,0,0,0.922973,-564.063988,-74.585808)\"/>\n<path style=\"fill-rule:nonzero;fill:rgb(100%,100%,100%);fill-opacity:1;stroke-width:1;stroke-linecap:butt;stroke-linejoin:miter;stroke:rgb(20%,20%,20%);stroke-opacity:1;stroke-miterlimit:4;\" d=\"M 883.499147 369.500405 C 883.499147 375.023487 879.023159 379.501204 873.50122 379.501204 C 867.975046 379.501204 863.499057 375.023487 863.499057 369.500405 C 863.499057 363.977323 867.975046 359.499606 873.50122 359.499606 C 879.023159 359.499606 883.499147 363.977323 883.499147 369.500405 Z M 883.499147 369.500405 \" transform=\"matrix(0.922457,0,0,0.922973,-564.063988,-74.585808)\"/>\n<path style=\"fill-rule:nonzero;fill:rgb(100%,100%,100%);fill-opacity:1;stroke-width:1;stroke-linecap:butt;stroke-linejoin:miter;stroke:rgb(20%,20%,20%);stroke-opacity:1;stroke-miterlimit:4;\" d=\"M 883.499147 409.49937 C 883.499147 415.022452 879.023159 419.50017 873.50122 419.50017 C 867.975046 419.50017 863.499057 415.022452 863.499057 409.49937 C 863.499057 403.976288 867.975046 399.498571 873.50122 399.498571 C 879.023159 399.498571 883.499147 403.976288 883.499147 409.49937 Z M 883.499147 409.49937 \" transform=\"matrix(0.922457,0,0,0.922973,-564.063988,-74.585808)\"/>\n<path style=\"fill-rule:nonzero;fill:rgb(100%,100%,100%);fill-opacity:1;stroke-width:1;stroke-linecap:butt;stroke-linejoin:miter;stroke:rgb(20%,20%,20%);stroke-opacity:1;stroke-miterlimit:4;\" d=\"M 1063.499961 389.502004 C 1063.499961 395.020854 1059.023972 399.498571 1053.502033 399.498571 C 1047.975859 399.498571 1043.49987 395.020854 1043.49987 389.502004 C 1043.49987 383.978922 1047.975859 379.501204 1053.502033 379.501204 C 1059.023972 379.501204 1063.499961 383.978922 1063.499961 389.502004 Z M 1063.499961 389.502004 \" transform=\"matrix(0.922457,0,0,0.922973,-564.063988,-74.585808)\"/>\n<g style=\"fill:rgb(0%,0%,0%);fill-opacity:1;\">\n  <use xlink:href=\"#glyph0-1\" x=\"43.375\" y=\"528.761163\"/>\n  <use xlink:href=\"#glyph0-2\" x=\"47.061224\" y=\"528.761163\"/>\n  <use xlink:href=\"#glyph0-3\" x=\"52.595964\" y=\"528.761163\"/>\n  <use xlink:href=\"#glyph0-4\" x=\"58.130705\" y=\"528.761163\"/>\n  <use xlink:href=\"#glyph0-5\" x=\"63.665446\" y=\"528.761163\"/>\n  <use xlink:href=\"#glyph0-6\" x=\"66.740902\" y=\"528.761163\"/>\n  <use xlink:href=\"#glyph0-7\" x=\"69.508272\" y=\"528.761163\"/>\n  <use xlink:href=\"#glyph0-8\" x=\"76.269953\" y=\"528.761163\"/>\n  <use xlink:href=\"#glyph0-9\" x=\"81.183116\" y=\"528.761163\"/>\n  <use xlink:href=\"#glyph0-10\" x=\"86.717856\" y=\"528.761163\"/>\n  <use xlink:href=\"#glyph0-11\" x=\"91.63102\" y=\"528.761163\"/>\n  <use xlink:href=\"#glyph0-6\" x=\"95.317243\" y=\"528.761163\"/>\n</g>\n<g style=\"fill:rgb(0%,0%,0%);fill-opacity:1;\">\n  <use xlink:href=\"#glyph1-1\" x=\"98.084614\" y=\"528.761163\"/>\n  <use xlink:href=\"#glyph1-2\" x=\"106.278624\" y=\"528.761163\"/>\n  <use xlink:href=\"#glyph1-3\" x=\"109.797292\" y=\"528.761163\"/>\n</g>\n<g style=\"fill:rgb(0%,0%,0%);fill-opacity:1;\">\n  <use xlink:href=\"#glyph0-12\" x=\"118.996637\" y=\"528.761163\"/>\n  <use xlink:href=\"#glyph0-13\" x=\"122.315319\" y=\"528.761163\"/>\n</g>\n<g style=\"fill:rgb(0%,0%,0%);fill-opacity:1;\">\n  <use xlink:href=\"#glyph0-14\" x=\"209.414062\" y=\"528.761163\"/>\n  <use xlink:href=\"#glyph0-15\" x=\"217.408087\" y=\"528.761163\"/>\n  <use xlink:href=\"#glyph0-16\" x=\"220.483544\" y=\"528.761163\"/>\n  <use xlink:href=\"#glyph0-16\" x=\"226.018284\" y=\"528.761163\"/>\n  <use xlink:href=\"#glyph0-10\" x=\"231.553025\" y=\"528.761163\"/>\n  <use xlink:href=\"#glyph0-2\" x=\"236.466188\" y=\"528.761163\"/>\n  <use xlink:href=\"#glyph0-6\" x=\"242.000929\" y=\"528.761163\"/>\n  <use xlink:href=\"#glyph0-7\" x=\"244.768299\" y=\"528.761163\"/>\n  <use xlink:href=\"#glyph0-8\" x=\"251.529979\" y=\"528.761163\"/>\n  <use xlink:href=\"#glyph0-9\" x=\"256.443143\" y=\"528.761163\"/>\n  <use xlink:href=\"#glyph0-10\" x=\"261.977883\" y=\"528.761163\"/>\n  <use xlink:href=\"#glyph0-11\" x=\"266.891047\" y=\"528.761163\"/>\n  <use xlink:href=\"#glyph0-6\" x=\"270.57727\" y=\"528.761163\"/>\n</g>\n<g style=\"fill:rgb(0%,0%,0%);fill-opacity:1;\">\n  <use xlink:href=\"#glyph1-1\" x=\"273.344641\" y=\"528.761163\"/>\n  <use xlink:href=\"#glyph1-2\" x=\"281.538651\" y=\"528.761163\"/>\n  <use xlink:href=\"#glyph1-3\" x=\"285.057319\" y=\"528.761163\"/>\n</g>\n<g style=\"fill:rgb(0%,0%,0%);fill-opacity:1;\">\n  <use xlink:href=\"#glyph0-13\" x=\"294.256663\" y=\"528.761163\"/>\n</g>\n<g style=\"fill:rgb(0%,0%,0%);fill-opacity:1;\">\n  <use xlink:href=\"#glyph0-17\" x=\"375.457031\" y=\"528.761163\"/>\n  <use xlink:href=\"#glyph0-4\" x=\"383.451056\" y=\"528.761163\"/>\n  <use xlink:href=\"#glyph0-5\" x=\"388.985797\" y=\"528.761163\"/>\n  <use xlink:href=\"#glyph0-3\" x=\"392.061253\" y=\"528.761163\"/>\n  <use xlink:href=\"#glyph0-4\" x=\"397.595994\" y=\"528.761163\"/>\n  <use xlink:href=\"#glyph0-5\" x=\"403.130734\" y=\"528.761163\"/>\n  <use xlink:href=\"#glyph0-6\" x=\"406.206191\" y=\"528.761163\"/>\n  <use xlink:href=\"#glyph0-7\" x=\"408.973561\" y=\"528.761163\"/>\n  <use xlink:href=\"#glyph0-8\" x=\"415.735241\" y=\"528.761163\"/>\n  <use xlink:href=\"#glyph0-9\" x=\"420.648405\" y=\"528.761163\"/>\n  <use xlink:href=\"#glyph0-10\" x=\"426.183145\" y=\"528.761163\"/>\n  <use xlink:href=\"#glyph0-11\" x=\"431.096308\" y=\"528.761163\"/>\n  <use xlink:href=\"#glyph0-6\" x=\"434.782532\" y=\"528.761163\"/>\n</g>\n<g style=\"fill:rgb(0%,0%,0%);fill-opacity:1;\">\n  <use xlink:href=\"#glyph1-1\" x=\"437.549903\" y=\"528.761163\"/>\n  <use xlink:href=\"#glyph1-2\" x=\"445.743913\" y=\"528.761163\"/>\n  <use xlink:href=\"#glyph1-3\" x=\"449.262581\" y=\"528.761163\"/>\n</g>\n<g style=\"fill:rgb(0%,0%,0%);fill-opacity:1;\">\n  <use xlink:href=\"#glyph0-12\" x=\"458.461925\" y=\"528.761163\"/>\n</g>\n</g>\n</svg>"
          },
          "metadata": {}
        }
      ]
    },
    {
      "cell_type": "code",
      "source": [
        "#Compile the model\n",
        "model_1.compile(loss='binary_crossentropy', optimizer='adam', metrics=['accuracy'])\n",
        "\n",
        "#Fit training data to the model\n",
        "model_1.fit(x_train, y_train, epochs=10, batch_size=32, validation_data=(x_test, y_test))\n"
      ],
      "metadata": {
        "colab": {
          "base_uri": "https://localhost:8080/"
        },
        "id": "IazlqdBRMZ67",
        "outputId": "49126d8f-25eb-47ac-c0b4-84b5cbe2448b"
      },
      "execution_count": 24,
      "outputs": [
        {
          "output_type": "stream",
          "name": "stdout",
          "text": [
            "Epoch 1/10\n",
            "143/143 [==============================] - 2s 5ms/step - loss: 17.4347 - accuracy: 0.7539 - val_loss: 13.5521 - val_accuracy: 0.7538\n",
            "Epoch 2/10\n",
            "143/143 [==============================] - 0s 2ms/step - loss: 9.5900 - accuracy: 0.7539 - val_loss: 6.5230 - val_accuracy: 0.7549\n",
            "Epoch 3/10\n",
            "143/143 [==============================] - 0s 3ms/step - loss: 3.8986 - accuracy: 0.7873 - val_loss: 2.1538 - val_accuracy: 0.8236\n",
            "Epoch 4/10\n",
            "143/143 [==============================] - 0s 3ms/step - loss: 1.1689 - accuracy: 0.8790 - val_loss: 0.5597 - val_accuracy: 0.9087\n",
            "Epoch 5/10\n",
            "143/143 [==============================] - 0s 3ms/step - loss: 0.4062 - accuracy: 0.9221 - val_loss: 0.3245 - val_accuracy: 0.9149\n",
            "Epoch 6/10\n",
            "143/143 [==============================] - 0s 3ms/step - loss: 0.3279 - accuracy: 0.9021 - val_loss: 0.3135 - val_accuracy: 0.9082\n",
            "Epoch 7/10\n",
            "143/143 [==============================] - 0s 3ms/step - loss: 0.3193 - accuracy: 0.9019 - val_loss: 0.3079 - val_accuracy: 0.9123\n",
            "Epoch 8/10\n",
            "143/143 [==============================] - 0s 3ms/step - loss: 0.3143 - accuracy: 0.9059 - val_loss: 0.3036 - val_accuracy: 0.9082\n",
            "Epoch 9/10\n",
            "143/143 [==============================] - 1s 4ms/step - loss: 0.3083 - accuracy: 0.9050 - val_loss: 0.2982 - val_accuracy: 0.9113\n",
            "Epoch 10/10\n",
            "143/143 [==============================] - 1s 4ms/step - loss: 0.3027 - accuracy: 0.9090 - val_loss: 0.2937 - val_accuracy: 0.9205\n"
          ]
        },
        {
          "output_type": "execute_result",
          "data": {
            "text/plain": [
              "<keras.callbacks.History at 0x7ff4ac24f760>"
            ]
          },
          "metadata": {},
          "execution_count": 24
        }
      ]
    },
    {
      "cell_type": "code",
      "source": [
        "# Evaluate model on the test data \n",
        "loss, accuracy = model_1.evaluate(x_test, y_test)\n",
        "print(f'Test Loss: {loss:.4f}')\n",
        "print(f'Test Accuracy: {accuracy:.4f}')"
      ],
      "metadata": {
        "colab": {
          "base_uri": "https://localhost:8080/"
        },
        "id": "bp_XMLNmNY3d",
        "outputId": "a2ae51ad-2173-4ddb-a2fa-ee72976f56a8"
      },
      "execution_count": 25,
      "outputs": [
        {
          "output_type": "stream",
          "name": "stdout",
          "text": [
            "61/61 [==============================] - 0s 2ms/step - loss: 0.2937 - accuracy: 0.9205\n",
            "Test Loss: 0.2937\n",
            "Test Accuracy: 0.9205\n"
          ]
        }
      ]
    },
    {
      "cell_type": "markdown",
      "source": [
        "# Model building 2 (additional neurons)\n",
        "The second model adds on 2 more neuraons to the first layer, everything else remain the same. The architecture of the model is such that:\n",
        "* Fully connected neural network (Dense)\n",
        "* First layer   - 4 neurons -AF: RELU\n",
        "* Second layer  - 1 neuron  -AF: Sigmoid\n",
        "\n",
        "Note: Test results coming from this model has significantly improved commpared to the first moodel\n",
        "\n"
      ],
      "metadata": {
        "id": "M5BFqPXEPI2f"
      }
    },
    {
      "cell_type": "code",
      "source": [
        "# Define the model:\n",
        "model_2 = Sequential()\n",
        "model_2.add(Dense(4, input_dim=12, activation='relu'))\n",
        "model_2.add(Dense(1, activation='sigmoid'))\n",
        "print(model_2.summary())"
      ],
      "metadata": {
        "colab": {
          "base_uri": "https://localhost:8080/"
        },
        "outputId": "a818ebb4-9d03-4b32-9961-2109f74e0951",
        "id": "C4bg5h5kPN-D"
      },
      "execution_count": 26,
      "outputs": [
        {
          "output_type": "stream",
          "name": "stdout",
          "text": [
            "Model: \"sequential_1\"\n",
            "_________________________________________________________________\n",
            " Layer (type)                Output Shape              Param #   \n",
            "=================================================================\n",
            " dense_2 (Dense)             (None, 4)                 52        \n",
            "                                                                 \n",
            " dense_3 (Dense)             (None, 1)                 5         \n",
            "                                                                 \n",
            "=================================================================\n",
            "Total params: 57\n",
            "Trainable params: 57\n",
            "Non-trainable params: 0\n",
            "_________________________________________________________________\n",
            "None\n"
          ]
        }
      ]
    },
    {
      "cell_type": "code",
      "source": [
        "svg2_path = '/content/drive/MyDrive/Colab Notebooks/nn (2).svg'\n",
        "display(SVG(svg2_path))"
      ],
      "metadata": {
        "colab": {
          "base_uri": "https://localhost:8080/",
          "height": 840
        },
        "id": "yMoeG4o4bRJK",
        "outputId": "a9446b55-9c30-44ac-b261-eddf971463b6"
      },
      "execution_count": 27,
      "outputs": [
        {
          "output_type": "display_data",
          "data": {
            "text/plain": [
              "<IPython.core.display.SVG object>"
            ],
            "image/svg+xml": "<svg xmlns=\"http://www.w3.org/2000/svg\" xmlns:xlink=\"http://www.w3.org/1999/xlink\" width=\"1707px\" height=\"799px\" viewBox=\"0 0 1279 599\" version=\"1.1\">\n<defs>\n<g>\n<symbol overflow=\"visible\" id=\"glyph0-0\">\n<path style=\"stroke:none;\" d=\"M 1.53125 0 L 1.53125 -6.921875 L 7.0625 -6.921875 L 7.0625 0 Z M 1.703125 -0.171875 L 6.890625 -0.171875 L 6.890625 -6.75 L 1.703125 -6.75 Z M 1.703125 -0.171875 \"/>\n</symbol>\n<symbol overflow=\"visible\" id=\"glyph0-1\">\n<path style=\"stroke:none;\" d=\"M 3.40625 -0.203125 L 3.40625 0 L 0.28125 0 L 0.28125 -0.203125 L 0.53125 -0.203125 C 0.832031 -0.203125 1.050781 -0.289062 1.1875 -0.46875 C 1.28125 -0.582031 1.328125 -0.859375 1.328125 -1.296875 L 1.328125 -6.03125 C 1.328125 -6.40625 1.300781 -6.648438 1.25 -6.765625 C 1.21875 -6.859375 1.144531 -6.9375 1.03125 -7 C 0.875 -7.09375 0.707031 -7.140625 0.53125 -7.140625 L 0.28125 -7.140625 L 0.28125 -7.328125 L 3.40625 -7.328125 L 3.40625 -7.140625 L 3.15625 -7.140625 C 2.851562 -7.140625 2.632812 -7.050781 2.5 -6.875 C 2.40625 -6.757812 2.359375 -6.476562 2.359375 -6.03125 L 2.359375 -1.296875 C 2.359375 -0.921875 2.382812 -0.675781 2.4375 -0.5625 C 2.46875 -0.46875 2.539062 -0.390625 2.65625 -0.328125 C 2.8125 -0.242188 2.976562 -0.203125 3.15625 -0.203125 Z M 3.40625 -0.203125 \"/>\n</symbol>\n<symbol overflow=\"visible\" id=\"glyph0-2\">\n<path style=\"stroke:none;\" d=\"M 1.78125 -4.046875 C 2.363281 -4.742188 2.921875 -5.09375 3.453125 -5.09375 C 3.710938 -5.09375 3.941406 -5.023438 4.140625 -4.890625 C 4.335938 -4.753906 4.492188 -4.535156 4.609375 -4.234375 C 4.679688 -4.015625 4.71875 -3.679688 4.71875 -3.234375 L 4.71875 -1.125 C 4.71875 -0.8125 4.742188 -0.597656 4.796875 -0.484375 C 4.835938 -0.390625 4.898438 -0.316406 4.984375 -0.265625 C 5.078125 -0.210938 5.242188 -0.1875 5.484375 -0.1875 L 5.484375 0 L 3.03125 0 L 3.03125 -0.1875 L 3.140625 -0.1875 C 3.367188 -0.1875 3.53125 -0.222656 3.625 -0.296875 C 3.71875 -0.367188 3.78125 -0.472656 3.8125 -0.609375 C 3.820312 -0.660156 3.828125 -0.832031 3.828125 -1.125 L 3.828125 -3.140625 C 3.828125 -3.597656 3.769531 -3.925781 3.65625 -4.125 C 3.539062 -4.332031 3.34375 -4.4375 3.0625 -4.4375 C 2.632812 -4.4375 2.207031 -4.203125 1.78125 -3.734375 L 1.78125 -1.125 C 1.78125 -0.78125 1.800781 -0.570312 1.84375 -0.5 C 1.894531 -0.394531 1.960938 -0.316406 2.046875 -0.265625 C 2.140625 -0.210938 2.320312 -0.1875 2.59375 -0.1875 L 2.59375 0 L 0.140625 0 L 0.140625 -0.1875 L 0.25 -0.1875 C 0.5 -0.1875 0.664062 -0.25 0.75 -0.375 C 0.84375 -0.507812 0.890625 -0.757812 0.890625 -1.125 L 0.890625 -2.953125 C 0.890625 -3.546875 0.875 -3.90625 0.84375 -4.03125 C 0.820312 -4.164062 0.78125 -4.253906 0.71875 -4.296875 C 0.664062 -4.347656 0.59375 -4.375 0.5 -4.375 C 0.40625 -4.375 0.285156 -4.347656 0.140625 -4.296875 L 0.0625 -4.5 L 1.5625 -5.09375 L 1.78125 -5.09375 Z M 1.78125 -4.046875 \"/>\n</symbol>\n<symbol overflow=\"visible\" id=\"glyph0-3\">\n<path style=\"stroke:none;\" d=\"M -0.015625 -4.46875 L 1.515625 -5.078125 L 1.71875 -5.078125 L 1.71875 -3.921875 C 1.96875 -4.359375 2.222656 -4.660156 2.484375 -4.828125 C 2.742188 -5.003906 3.015625 -5.09375 3.296875 -5.09375 C 3.796875 -5.09375 4.210938 -4.898438 4.546875 -4.515625 C 4.953125 -4.035156 5.15625 -3.414062 5.15625 -2.65625 C 5.15625 -1.800781 4.910156 -1.09375 4.421875 -0.53125 C 4.015625 -0.0703125 3.503906 0.15625 2.890625 0.15625 C 2.628906 0.15625 2.398438 0.113281 2.203125 0.03125 C 2.054688 -0.0195312 1.894531 -0.125 1.71875 -0.28125 L 1.71875 1.21875 C 1.71875 1.5625 1.738281 1.773438 1.78125 1.859375 C 1.820312 1.953125 1.894531 2.023438 2 2.078125 C 2.101562 2.140625 2.289062 2.171875 2.5625 2.171875 L 2.5625 2.375 L -0.03125 2.375 L -0.03125 2.171875 L 0.09375 2.171875 C 0.289062 2.171875 0.460938 2.132812 0.609375 2.0625 C 0.671875 2.019531 0.722656 1.953125 0.765625 1.859375 C 0.804688 1.773438 0.828125 1.550781 0.828125 1.1875 L 0.828125 -3.5 C 0.828125 -3.8125 0.8125 -4.007812 0.78125 -4.09375 C 0.75 -4.1875 0.703125 -4.253906 0.640625 -4.296875 C 0.578125 -4.335938 0.492188 -4.359375 0.390625 -4.359375 C 0.296875 -4.359375 0.179688 -4.335938 0.046875 -4.296875 Z M 1.71875 -3.609375 L 1.71875 -1.75 C 1.71875 -1.351562 1.734375 -1.09375 1.765625 -0.96875 C 1.816406 -0.757812 1.941406 -0.570312 2.140625 -0.40625 C 2.335938 -0.25 2.582031 -0.171875 2.875 -0.171875 C 3.238281 -0.171875 3.53125 -0.3125 3.75 -0.59375 C 4.039062 -0.957031 4.1875 -1.472656 4.1875 -2.140625 C 4.1875 -2.898438 4.019531 -3.484375 3.6875 -3.890625 C 3.457031 -4.171875 3.1875 -4.3125 2.875 -4.3125 C 2.695312 -4.3125 2.523438 -4.269531 2.359375 -4.1875 C 2.234375 -4.125 2.019531 -3.929688 1.71875 -3.609375 Z M 1.71875 -3.609375 \"/>\n</symbol>\n<symbol overflow=\"visible\" id=\"glyph0-4\">\n<path style=\"stroke:none;\" d=\"M 4.6875 -4.953125 L 4.6875 -1.953125 C 4.6875 -1.378906 4.695312 -1.023438 4.71875 -0.890625 C 4.75 -0.765625 4.789062 -0.675781 4.84375 -0.625 C 4.90625 -0.582031 4.976562 -0.5625 5.0625 -0.5625 C 5.175781 -0.5625 5.300781 -0.59375 5.4375 -0.65625 L 5.515625 -0.453125 L 4.03125 0.15625 L 3.796875 0.15625 L 3.796875 -0.890625 C 3.367188 -0.429688 3.039062 -0.140625 2.8125 -0.015625 C 2.59375 0.0976562 2.359375 0.15625 2.109375 0.15625 C 1.835938 0.15625 1.597656 0.078125 1.390625 -0.078125 C 1.179688 -0.242188 1.035156 -0.453125 0.953125 -0.703125 C 0.878906 -0.960938 0.84375 -1.320312 0.84375 -1.78125 L 0.84375 -3.984375 C 0.84375 -4.222656 0.816406 -4.382812 0.765625 -4.46875 C 0.722656 -4.5625 0.648438 -4.632812 0.546875 -4.6875 C 0.453125 -4.738281 0.273438 -4.757812 0.015625 -4.75 L 0.015625 -4.953125 L 1.75 -4.953125 L 1.75 -1.640625 C 1.75 -1.179688 1.828125 -0.878906 1.984375 -0.734375 C 2.140625 -0.585938 2.332031 -0.515625 2.5625 -0.515625 C 2.71875 -0.515625 2.894531 -0.5625 3.09375 -0.65625 C 3.289062 -0.757812 3.523438 -0.945312 3.796875 -1.21875 L 3.796875 -4.03125 C 3.796875 -4.3125 3.742188 -4.5 3.640625 -4.59375 C 3.535156 -4.695312 3.320312 -4.75 3 -4.75 L 3 -4.953125 Z M 4.6875 -4.953125 \"/>\n</symbol>\n<symbol overflow=\"visible\" id=\"glyph0-5\">\n<path style=\"stroke:none;\" d=\"M 1.78125 -6.578125 L 1.78125 -4.953125 L 2.9375 -4.953125 L 2.9375 -4.578125 L 1.78125 -4.578125 L 1.78125 -1.359375 C 1.78125 -1.035156 1.828125 -0.816406 1.921875 -0.703125 C 2.015625 -0.597656 2.132812 -0.546875 2.28125 -0.546875 C 2.394531 -0.546875 2.503906 -0.582031 2.609375 -0.65625 C 2.722656 -0.726562 2.8125 -0.835938 2.875 -0.984375 L 3.09375 -0.984375 C 2.96875 -0.628906 2.785156 -0.363281 2.546875 -0.1875 C 2.316406 -0.0078125 2.082031 0.078125 1.84375 0.078125 C 1.675781 0.078125 1.515625 0.0351562 1.359375 -0.046875 C 1.203125 -0.140625 1.082031 -0.269531 1 -0.4375 C 0.925781 -0.613281 0.890625 -0.882812 0.890625 -1.25 L 0.890625 -4.578125 L 0.109375 -4.578125 L 0.109375 -4.75 C 0.304688 -4.832031 0.507812 -4.96875 0.71875 -5.15625 C 0.925781 -5.34375 1.109375 -5.566406 1.265625 -5.828125 C 1.347656 -5.960938 1.460938 -6.210938 1.609375 -6.578125 Z M 1.78125 -6.578125 \"/>\n</symbol>\n<symbol overflow=\"visible\" id=\"glyph0-6\">\n<path style=\"stroke:none;\" d=\"\"/>\n</symbol>\n<symbol overflow=\"visible\" id=\"glyph0-7\">\n<path style=\"stroke:none;\" d=\"M 6.34375 -2.03125 L 6.515625 -1.984375 L 5.890625 0 L 0.21875 0 L 0.21875 -0.203125 L 0.5 -0.203125 C 0.8125 -0.203125 1.03125 -0.300781 1.15625 -0.5 C 1.238281 -0.613281 1.28125 -0.878906 1.28125 -1.296875 L 1.28125 -6.03125 C 1.28125 -6.488281 1.226562 -6.773438 1.125 -6.890625 C 0.976562 -7.054688 0.769531 -7.140625 0.5 -7.140625 L 0.21875 -7.140625 L 0.21875 -7.328125 L 3.53125 -7.328125 L 3.53125 -7.140625 C 3.144531 -7.140625 2.875 -7.097656 2.71875 -7.015625 C 2.5625 -6.941406 2.453125 -6.847656 2.390625 -6.734375 C 2.335938 -6.617188 2.3125 -6.34375 2.3125 -5.90625 L 2.3125 -1.296875 C 2.3125 -1.003906 2.335938 -0.800781 2.390625 -0.6875 C 2.441406 -0.613281 2.507812 -0.554688 2.59375 -0.515625 C 2.6875 -0.484375 2.96875 -0.46875 3.4375 -0.46875 L 3.96875 -0.46875 C 4.53125 -0.46875 4.925781 -0.507812 5.15625 -0.59375 C 5.382812 -0.675781 5.59375 -0.820312 5.78125 -1.03125 C 5.96875 -1.238281 6.15625 -1.570312 6.34375 -2.03125 Z M 6.34375 -2.03125 \"/>\n</symbol>\n<symbol overflow=\"visible\" id=\"glyph0-8\">\n<path style=\"stroke:none;\" d=\"M 3.15625 -0.71875 C 2.644531 -0.320312 2.320312 -0.09375 2.1875 -0.03125 C 2 0.0625 1.796875 0.109375 1.578125 0.109375 C 1.234375 0.109375 0.945312 -0.00390625 0.71875 -0.234375 C 0.5 -0.472656 0.390625 -0.785156 0.390625 -1.171875 C 0.390625 -1.410156 0.445312 -1.617188 0.5625 -1.796875 C 0.707031 -2.046875 0.960938 -2.273438 1.328125 -2.484375 C 1.691406 -2.703125 2.300781 -2.96875 3.15625 -3.28125 L 3.15625 -3.484375 C 3.15625 -3.972656 3.070312 -4.304688 2.90625 -4.484375 C 2.75 -4.671875 2.523438 -4.765625 2.234375 -4.765625 C 2.003906 -4.765625 1.820312 -4.707031 1.6875 -4.59375 C 1.550781 -4.46875 1.484375 -4.328125 1.484375 -4.171875 L 1.5 -3.84375 C 1.5 -3.6875 1.457031 -3.5625 1.375 -3.46875 C 1.289062 -3.375 1.175781 -3.328125 1.03125 -3.328125 C 0.90625 -3.328125 0.796875 -3.375 0.703125 -3.46875 C 0.617188 -3.5625 0.578125 -3.691406 0.578125 -3.859375 C 0.578125 -4.171875 0.734375 -4.453125 1.046875 -4.703125 C 1.367188 -4.960938 1.816406 -5.09375 2.390625 -5.09375 C 2.828125 -5.09375 3.1875 -5.019531 3.46875 -4.875 C 3.6875 -4.769531 3.84375 -4.597656 3.9375 -4.359375 C 4.007812 -4.203125 4.046875 -3.882812 4.046875 -3.40625 L 4.046875 -1.71875 C 4.046875 -1.25 4.050781 -0.957031 4.0625 -0.84375 C 4.082031 -0.738281 4.113281 -0.664062 4.15625 -0.625 C 4.195312 -0.59375 4.242188 -0.578125 4.296875 -0.578125 C 4.359375 -0.578125 4.410156 -0.59375 4.453125 -0.625 C 4.523438 -0.664062 4.671875 -0.796875 4.890625 -1.015625 L 4.890625 -0.71875 C 4.484375 -0.175781 4.097656 0.09375 3.734375 0.09375 C 3.554688 0.09375 3.414062 0.0351562 3.3125 -0.078125 C 3.207031 -0.203125 3.15625 -0.414062 3.15625 -0.71875 Z M 3.15625 -1.0625 L 3.15625 -2.953125 C 2.601562 -2.734375 2.25 -2.582031 2.09375 -2.5 C 1.8125 -2.332031 1.609375 -2.160156 1.484375 -1.984375 C 1.359375 -1.816406 1.296875 -1.628906 1.296875 -1.421875 C 1.296875 -1.160156 1.375 -0.945312 1.53125 -0.78125 C 1.6875 -0.613281 1.863281 -0.53125 2.0625 -0.53125 C 2.34375 -0.53125 2.707031 -0.707031 3.15625 -1.0625 Z M 3.15625 -1.0625 \"/>\n</symbol>\n<symbol overflow=\"visible\" id=\"glyph0-9\">\n<path style=\"stroke:none;\" d=\"M 0.0625 -4.953125 L 2.375 -4.953125 L 2.375 -4.75 L 2.265625 -4.75 C 2.097656 -4.75 1.972656 -4.710938 1.890625 -4.640625 C 1.804688 -4.578125 1.765625 -4.492188 1.765625 -4.390625 C 1.765625 -4.242188 1.828125 -4.046875 1.953125 -3.796875 L 3.15625 -1.296875 L 4.265625 -4.046875 C 4.328125 -4.191406 4.359375 -4.335938 4.359375 -4.484375 C 4.359375 -4.546875 4.34375 -4.59375 4.3125 -4.625 C 4.28125 -4.664062 4.234375 -4.695312 4.171875 -4.71875 C 4.117188 -4.738281 4.015625 -4.75 3.859375 -4.75 L 3.859375 -4.953125 L 5.46875 -4.953125 L 5.46875 -4.75 C 5.332031 -4.738281 5.226562 -4.710938 5.15625 -4.671875 C 5.082031 -4.628906 5.003906 -4.546875 4.921875 -4.421875 C 4.890625 -4.367188 4.828125 -4.234375 4.734375 -4.015625 L 2.71875 0.9375 C 2.53125 1.414062 2.273438 1.773438 1.953125 2.015625 C 1.640625 2.265625 1.335938 2.390625 1.046875 2.390625 C 0.835938 2.390625 0.660156 2.328125 0.515625 2.203125 C 0.378906 2.078125 0.3125 1.9375 0.3125 1.78125 C 0.3125 1.632812 0.359375 1.515625 0.453125 1.421875 C 0.554688 1.328125 0.695312 1.28125 0.875 1.28125 C 0.988281 1.28125 1.148438 1.320312 1.359375 1.40625 C 1.503906 1.457031 1.59375 1.484375 1.625 1.484375 C 1.738281 1.484375 1.859375 1.425781 1.984375 1.3125 C 2.109375 1.195312 2.238281 0.984375 2.375 0.671875 L 2.71875 -0.1875 L 0.9375 -3.9375 C 0.882812 -4.039062 0.800781 -4.175781 0.6875 -4.34375 C 0.59375 -4.46875 0.519531 -4.554688 0.46875 -4.609375 C 0.382812 -4.660156 0.25 -4.707031 0.0625 -4.75 Z M 0.0625 -4.953125 \"/>\n</symbol>\n<symbol overflow=\"visible\" id=\"glyph0-10\">\n<path style=\"stroke:none;\" d=\"M 1.171875 -3.09375 C 1.171875 -2.351562 1.351562 -1.773438 1.71875 -1.359375 C 2.070312 -0.941406 2.492188 -0.734375 2.984375 -0.734375 C 3.304688 -0.734375 3.585938 -0.820312 3.828125 -1 C 4.066406 -1.175781 4.265625 -1.484375 4.421875 -1.921875 L 4.59375 -1.8125 C 4.519531 -1.3125 4.300781 -0.859375 3.9375 -0.453125 C 3.570312 -0.046875 3.117188 0.15625 2.578125 0.15625 C 1.984375 0.15625 1.472656 -0.0703125 1.046875 -0.53125 C 0.617188 -1 0.40625 -1.625 0.40625 -2.40625 C 0.40625 -3.257812 0.625 -3.921875 1.0625 -4.390625 C 1.5 -4.867188 2.046875 -5.109375 2.703125 -5.109375 C 3.253906 -5.109375 3.707031 -4.925781 4.0625 -4.5625 C 4.414062 -4.195312 4.59375 -3.707031 4.59375 -3.09375 Z M 1.171875 -3.40625 L 3.46875 -3.40625 C 3.445312 -3.71875 3.410156 -3.941406 3.359375 -4.078125 C 3.265625 -4.273438 3.128906 -4.429688 2.953125 -4.546875 C 2.773438 -4.660156 2.585938 -4.71875 2.390625 -4.71875 C 2.085938 -4.71875 1.816406 -4.601562 1.578125 -4.375 C 1.347656 -4.144531 1.210938 -3.820312 1.171875 -3.40625 Z M 1.171875 -3.40625 \"/>\n</symbol>\n<symbol overflow=\"visible\" id=\"glyph0-11\">\n<path style=\"stroke:none;\" d=\"M 1.796875 -5.09375 L 1.796875 -3.984375 C 2.210938 -4.722656 2.632812 -5.09375 3.0625 -5.09375 C 3.257812 -5.09375 3.421875 -5.03125 3.546875 -4.90625 C 3.679688 -4.789062 3.75 -4.65625 3.75 -4.5 C 3.75 -4.363281 3.703125 -4.242188 3.609375 -4.140625 C 3.515625 -4.046875 3.40625 -4 3.28125 -4 C 3.15625 -4 3.015625 -4.0625 2.859375 -4.1875 C 2.703125 -4.3125 2.582031 -4.375 2.5 -4.375 C 2.4375 -4.375 2.367188 -4.335938 2.296875 -4.265625 C 2.128906 -4.117188 1.960938 -3.875 1.796875 -3.53125 L 1.796875 -1.15625 C 1.796875 -0.882812 1.828125 -0.675781 1.890625 -0.53125 C 1.941406 -0.4375 2.023438 -0.351562 2.140625 -0.28125 C 2.265625 -0.21875 2.4375 -0.1875 2.65625 -0.1875 L 2.65625 0 L 0.125 0 L 0.125 -0.1875 C 0.375 -0.1875 0.5625 -0.226562 0.6875 -0.3125 C 0.78125 -0.375 0.84375 -0.46875 0.875 -0.59375 C 0.894531 -0.65625 0.90625 -0.828125 0.90625 -1.109375 L 0.90625 -3.03125 C 0.90625 -3.613281 0.890625 -3.957031 0.859375 -4.0625 C 0.835938 -4.175781 0.796875 -4.253906 0.734375 -4.296875 C 0.671875 -4.347656 0.59375 -4.375 0.5 -4.375 C 0.382812 -4.375 0.257812 -4.347656 0.125 -4.296875 L 0.0625 -4.5 L 1.5625 -5.09375 Z M 1.796875 -5.09375 \"/>\n</symbol>\n<symbol overflow=\"visible\" id=\"glyph0-12\">\n<path style=\"stroke:none;\" d=\"M 0.734375 -7.015625 L 1.84375 -7.484375 L 2.03125 -7.484375 L 2.03125 -4.28125 C 2.03125 -4.0625 2.039062 -3.929688 2.0625 -3.890625 C 2.082031 -3.847656 2.113281 -3.820312 2.15625 -3.8125 C 2.207031 -3.78125 2.347656 -3.765625 2.578125 -3.765625 L 2.578125 -3.59375 L 0.828125 -3.59375 L 0.828125 -3.765625 C 1.054688 -3.765625 1.195312 -3.773438 1.25 -3.796875 C 1.289062 -3.816406 1.320312 -3.847656 1.34375 -3.890625 C 1.363281 -3.929688 1.375 -4.0625 1.375 -4.28125 L 1.375 -6.3125 C 1.375 -6.5625 1.363281 -6.726562 1.34375 -6.8125 C 1.332031 -6.875 1.3125 -6.914062 1.28125 -6.9375 C 1.257812 -6.957031 1.226562 -6.96875 1.1875 -6.96875 C 1.113281 -6.96875 0.992188 -6.929688 0.828125 -6.859375 Z M 0.734375 -7.015625 \"/>\n</symbol>\n<symbol overflow=\"visible\" id=\"glyph0-13\">\n<path style=\"stroke:none;\" d=\"M 3.109375 -4.40625 L 2.78125 -3.59375 L 0.109375 -3.59375 L 0.109375 -3.75 C 0.992188 -4.4375 1.582031 -5 1.875 -5.4375 C 2.0625 -5.707031 2.15625 -5.96875 2.15625 -6.21875 C 2.15625 -6.4375 2.078125 -6.617188 1.921875 -6.765625 C 1.773438 -6.921875 1.585938 -7 1.359375 -7 C 1.148438 -7 0.96875 -6.941406 0.8125 -6.828125 C 0.664062 -6.722656 0.550781 -6.566406 0.46875 -6.359375 L 0.234375 -6.359375 C 0.273438 -6.710938 0.410156 -6.988281 0.640625 -7.1875 C 0.867188 -7.382812 1.164062 -7.484375 1.53125 -7.484375 C 1.914062 -7.484375 2.226562 -7.378906 2.46875 -7.171875 C 2.707031 -6.960938 2.828125 -6.726562 2.828125 -6.46875 C 2.828125 -6.226562 2.738281 -5.972656 2.5625 -5.703125 C 2.289062 -5.285156 1.757812 -4.753906 0.96875 -4.109375 L 1.984375 -4.109375 C 2.296875 -4.109375 2.5 -4.128906 2.59375 -4.171875 C 2.695312 -4.210938 2.785156 -4.289062 2.859375 -4.40625 Z M 3.109375 -4.40625 \"/>\n</symbol>\n<symbol overflow=\"visible\" id=\"glyph0-14\">\n<path style=\"stroke:none;\" d=\"M 2.28125 -3.9375 L 5.671875 -3.9375 L 5.671875 -6.03125 C 5.671875 -6.40625 5.648438 -6.648438 5.609375 -6.765625 C 5.566406 -6.859375 5.488281 -6.9375 5.375 -7 C 5.21875 -7.09375 5.054688 -7.140625 4.890625 -7.140625 L 4.625 -7.140625 L 4.625 -7.328125 L 7.765625 -7.328125 L 7.765625 -7.140625 L 7.5 -7.140625 C 7.332031 -7.140625 7.171875 -7.097656 7.015625 -7.015625 C 6.898438 -6.953125 6.820312 -6.863281 6.78125 -6.75 C 6.738281 -6.632812 6.71875 -6.394531 6.71875 -6.03125 L 6.71875 -1.296875 C 6.71875 -0.921875 6.738281 -0.675781 6.78125 -0.5625 C 6.820312 -0.46875 6.894531 -0.390625 7 -0.328125 C 7.164062 -0.242188 7.332031 -0.203125 7.5 -0.203125 L 7.765625 -0.203125 L 7.765625 0 L 4.625 0 L 4.625 -0.203125 L 4.890625 -0.203125 C 5.191406 -0.203125 5.410156 -0.289062 5.546875 -0.46875 C 5.628906 -0.582031 5.671875 -0.859375 5.671875 -1.296875 L 5.671875 -3.53125 L 2.28125 -3.53125 L 2.28125 -1.296875 C 2.28125 -0.921875 2.300781 -0.675781 2.34375 -0.5625 C 2.375 -0.46875 2.453125 -0.390625 2.578125 -0.328125 C 2.722656 -0.242188 2.882812 -0.203125 3.0625 -0.203125 L 3.328125 -0.203125 L 3.328125 0 L 0.1875 0 L 0.1875 -0.203125 L 0.453125 -0.203125 C 0.753906 -0.203125 0.972656 -0.289062 1.109375 -0.46875 C 1.191406 -0.582031 1.234375 -0.859375 1.234375 -1.296875 L 1.234375 -6.03125 C 1.234375 -6.40625 1.210938 -6.648438 1.171875 -6.765625 C 1.128906 -6.859375 1.050781 -6.9375 0.9375 -7 C 0.78125 -7.09375 0.617188 -7.140625 0.453125 -7.140625 L 0.1875 -7.140625 L 0.1875 -7.328125 L 3.328125 -7.328125 L 3.328125 -7.140625 L 3.0625 -7.140625 C 2.882812 -7.140625 2.722656 -7.097656 2.578125 -7.015625 C 2.460938 -6.953125 2.382812 -6.863281 2.34375 -6.75 C 2.300781 -6.632812 2.28125 -6.394531 2.28125 -6.03125 Z M 2.28125 -3.9375 \"/>\n</symbol>\n<symbol overflow=\"visible\" id=\"glyph0-15\">\n<path style=\"stroke:none;\" d=\"M 1.609375 -7.6875 C 1.753906 -7.6875 1.878906 -7.632812 1.984375 -7.53125 C 2.097656 -7.425781 2.15625 -7.296875 2.15625 -7.140625 C 2.15625 -6.992188 2.097656 -6.863281 1.984375 -6.75 C 1.878906 -6.644531 1.753906 -6.59375 1.609375 -6.59375 C 1.453125 -6.59375 1.316406 -6.644531 1.203125 -6.75 C 1.097656 -6.863281 1.046875 -6.992188 1.046875 -7.140625 C 1.046875 -7.296875 1.097656 -7.425781 1.203125 -7.53125 C 1.316406 -7.632812 1.453125 -7.6875 1.609375 -7.6875 Z M 2.046875 -5.09375 L 2.046875 -1.125 C 2.046875 -0.8125 2.066406 -0.601562 2.109375 -0.5 C 2.160156 -0.394531 2.226562 -0.316406 2.3125 -0.265625 C 2.40625 -0.210938 2.566406 -0.1875 2.796875 -0.1875 L 2.796875 0 L 0.40625 0 L 0.40625 -0.1875 C 0.644531 -0.1875 0.804688 -0.207031 0.890625 -0.25 C 0.972656 -0.300781 1.035156 -0.378906 1.078125 -0.484375 C 1.128906 -0.597656 1.15625 -0.8125 1.15625 -1.125 L 1.15625 -3.03125 C 1.15625 -3.5625 1.140625 -3.910156 1.109375 -4.078125 C 1.078125 -4.191406 1.035156 -4.269531 0.984375 -4.3125 C 0.929688 -4.351562 0.859375 -4.375 0.765625 -4.375 C 0.660156 -4.375 0.539062 -4.347656 0.40625 -4.296875 L 0.328125 -4.5 L 1.8125 -5.09375 Z M 2.046875 -5.09375 \"/>\n</symbol>\n<symbol overflow=\"visible\" id=\"glyph0-16\">\n<path style=\"stroke:none;\" d=\"M 3.84375 -0.5625 C 3.601562 -0.300781 3.363281 -0.113281 3.125 0 C 2.894531 0.101562 2.648438 0.15625 2.390625 0.15625 C 1.847656 0.15625 1.375 -0.0664062 0.96875 -0.515625 C 0.570312 -0.972656 0.375 -1.554688 0.375 -2.265625 C 0.375 -2.984375 0.59375 -3.632812 1.03125 -4.21875 C 1.476562 -4.8125 2.054688 -5.109375 2.765625 -5.109375 C 3.191406 -5.109375 3.550781 -4.96875 3.84375 -4.6875 L 3.84375 -5.609375 C 3.84375 -6.171875 3.828125 -6.515625 3.796875 -6.640625 C 3.773438 -6.773438 3.734375 -6.863281 3.671875 -6.90625 C 3.617188 -6.957031 3.546875 -6.984375 3.453125 -6.984375 C 3.359375 -6.984375 3.234375 -6.953125 3.078125 -6.890625 L 3.015625 -7.09375 L 4.484375 -7.6875 L 4.734375 -7.6875 L 4.734375 -1.96875 C 4.734375 -1.382812 4.742188 -1.023438 4.765625 -0.890625 C 4.796875 -0.765625 4.835938 -0.675781 4.890625 -0.625 C 4.953125 -0.582031 5.023438 -0.5625 5.109375 -0.5625 C 5.203125 -0.5625 5.332031 -0.59375 5.5 -0.65625 L 5.5625 -0.453125 L 4.09375 0.15625 L 3.84375 0.15625 Z M 3.84375 -0.9375 L 3.84375 -3.484375 C 3.820312 -3.734375 3.753906 -3.957031 3.640625 -4.15625 C 3.535156 -4.363281 3.394531 -4.515625 3.21875 -4.609375 C 3.039062 -4.710938 2.867188 -4.765625 2.703125 -4.765625 C 2.378906 -4.765625 2.09375 -4.625 1.84375 -4.34375 C 1.519531 -3.96875 1.359375 -3.421875 1.359375 -2.703125 C 1.359375 -1.972656 1.515625 -1.410156 1.828125 -1.015625 C 2.148438 -0.628906 2.503906 -0.4375 2.890625 -0.4375 C 3.210938 -0.4375 3.53125 -0.601562 3.84375 -0.9375 Z M 3.84375 -0.9375 \"/>\n</symbol>\n<symbol overflow=\"visible\" id=\"glyph0-17\">\n<path style=\"stroke:none;\" d=\"M 4.046875 -7.5 C 4.992188 -7.5 5.816406 -7.132812 6.515625 -6.40625 C 7.210938 -5.6875 7.5625 -4.785156 7.5625 -3.703125 C 7.5625 -2.597656 7.207031 -1.675781 6.5 -0.9375 C 5.800781 -0.195312 4.953125 0.171875 3.953125 0.171875 C 2.953125 0.171875 2.109375 -0.1875 1.421875 -0.90625 C 0.734375 -1.625 0.390625 -2.550781 0.390625 -3.6875 C 0.390625 -4.851562 0.785156 -5.804688 1.578125 -6.546875 C 2.265625 -7.179688 3.085938 -7.5 4.046875 -7.5 Z M 3.9375 -7.109375 C 3.28125 -7.109375 2.753906 -6.863281 2.359375 -6.375 C 1.867188 -5.769531 1.625 -4.882812 1.625 -3.71875 C 1.625 -2.519531 1.878906 -1.597656 2.390625 -0.953125 C 2.785156 -0.460938 3.304688 -0.21875 3.953125 -0.21875 C 4.640625 -0.21875 5.207031 -0.484375 5.65625 -1.015625 C 6.101562 -1.554688 6.328125 -2.40625 6.328125 -3.5625 C 6.328125 -4.820312 6.078125 -5.757812 5.578125 -6.375 C 5.179688 -6.863281 4.632812 -7.109375 3.9375 -7.109375 Z M 3.9375 -7.109375 \"/>\n</symbol>\n<symbol overflow=\"visible\" id=\"glyph1-0\">\n<path style=\"stroke:none;\" d=\"M 0.546875 1.953125 L 0.546875 -7.8125 L 6.078125 -7.8125 L 6.078125 1.953125 Z M 1.171875 1.34375 L 5.46875 1.34375 L 5.46875 -7.1875 L 1.171875 -7.1875 Z M 1.171875 1.34375 \"/>\n</symbol>\n<symbol overflow=\"visible\" id=\"glyph1-1\">\n<path style=\"stroke:none;\" d=\"M 4.640625 -0.859375 L 7.015625 -0.859375 L 7.015625 0 L 4.640625 0 C 4.015625 0 3.429688 -0.15625 2.890625 -0.46875 C 2.359375 -0.78125 1.9375 -1.203125 1.625 -1.734375 C 1.320312 -2.265625 1.171875 -2.84375 1.171875 -3.46875 C 1.171875 -4.09375 1.320312 -4.671875 1.625 -5.203125 C 1.9375 -5.742188 2.359375 -6.171875 2.890625 -6.484375 C 3.429688 -6.796875 4.015625 -6.953125 4.640625 -6.953125 L 7.015625 -6.953125 L 7.015625 -6.078125 L 4.640625 -6.078125 C 4.171875 -6.078125 3.734375 -5.957031 3.328125 -5.71875 C 2.929688 -5.488281 2.617188 -5.175781 2.390625 -4.78125 C 2.234375 -4.5 2.128906 -4.207031 2.078125 -3.90625 L 7.015625 -3.90625 L 7.015625 -3.03125 L 2.078125 -3.03125 C 2.128906 -2.726562 2.234375 -2.441406 2.390625 -2.171875 C 2.617188 -1.765625 2.929688 -1.441406 3.328125 -1.203125 C 3.734375 -0.972656 4.171875 -0.859375 4.640625 -0.859375 Z M 4.640625 -0.859375 \"/>\n</symbol>\n<symbol overflow=\"visible\" id=\"glyph1-2\">\n<path style=\"stroke:none;\" d=\"\"/>\n</symbol>\n<symbol overflow=\"visible\" id=\"glyph1-3\">\n<path style=\"stroke:none;\" d=\"M 5.875 -3.9375 C 6.195312 -3.894531 6.46875 -3.789062 6.6875 -3.625 C 6.90625 -3.457031 7.09375 -3.21875 7.25 -2.90625 L 8.4375 -0.65625 L 9.265625 -0.65625 L 9.265625 0 L 6.609375 0 L 5.328125 -2.4375 C 5.078125 -2.945312 4.863281 -3.269531 4.6875 -3.40625 C 4.507812 -3.539062 4.265625 -3.609375 3.953125 -3.609375 L 3.625 -3.609375 L 3.625 -0.65625 L 4.671875 -0.65625 L 4.671875 0 L 0.515625 0 L 0.515625 -0.65625 L 1.546875 -0.65625 L 1.546875 -7.421875 L 0.515625 -7.421875 L 0.515625 -8.078125 L 5.125 -8.078125 C 6.0625 -8.078125 6.78125 -7.890625 7.28125 -7.515625 C 7.789062 -7.140625 8.046875 -6.601562 8.046875 -5.90625 C 8.046875 -5.34375 7.863281 -4.894531 7.5 -4.5625 C 7.144531 -4.238281 6.601562 -4.03125 5.875 -3.9375 Z M 3.625 -4.265625 L 4.34375 -4.265625 C 4.84375 -4.265625 5.226562 -4.398438 5.5 -4.671875 C 5.769531 -4.941406 5.90625 -5.332031 5.90625 -5.84375 C 5.90625 -6.351562 5.769531 -6.742188 5.5 -7.015625 C 5.226562 -7.285156 4.84375 -7.421875 4.34375 -7.421875 L 3.625 -7.421875 Z M 2.96875 -0.65625 L 2.96875 -7.421875 L 2.203125 -7.421875 L 2.203125 -0.65625 Z M 7.6875 -0.65625 L 6.671875 -2.609375 C 6.554688 -2.828125 6.425781 -2.988281 6.28125 -3.09375 C 6.15625 -3.195312 5.988281 -3.265625 5.78125 -3.296875 L 5.578125 -3.328125 C 5.660156 -3.203125 5.769531 -3.003906 5.90625 -2.734375 L 7 -0.65625 Z M 6.109375 -7.328125 C 6.179688 -7.234375 6.253906 -7.113281 6.328125 -6.96875 C 6.492188 -6.625 6.570312 -6.25 6.5625 -5.84375 C 6.5625 -5.695312 6.554688 -5.570312 6.546875 -5.46875 C 6.535156 -5.375 6.507812 -5.253906 6.46875 -5.109375 C 6.4375 -4.960938 6.382812 -4.820312 6.3125 -4.6875 C 6.644531 -4.78125 6.898438 -4.90625 7.078125 -5.0625 C 7.296875 -5.257812 7.40625 -5.539062 7.40625 -5.90625 C 7.40625 -6.144531 7.363281 -6.351562 7.28125 -6.53125 C 7.195312 -6.707031 7.070312 -6.859375 6.90625 -6.984375 C 6.695312 -7.140625 6.429688 -7.253906 6.109375 -7.328125 Z M 6.109375 -7.328125 \"/>\n</symbol>\n<symbol overflow=\"visible\" id=\"glyph1-4\">\n<path style=\"stroke:none;\" d=\"M 2.4375 -5.25 L 2.4375 -7.453125 L 0.765625 -5.25 Z M 3.984375 -3.609375 L 1.640625 -3.609375 L 1.640625 -4.0625 L 2.4375 -4.0625 L 2.4375 -4.8125 L 0.28125 -4.8125 L 0.28125 -5.265625 L 2.453125 -8.125 L 3.203125 -8.125 L 3.203125 -5.25 L 4.09375 -5.25 L 4.09375 -4.8125 L 3.203125 -4.8125 L 3.203125 -4.0625 L 3.984375 -4.0625 Z M 3.984375 -3.609375 \"/>\n</symbol>\n</g>\n</defs>\n<g id=\"surface1\">\n<path style=\"fill-rule:nonzero;fill:rgb(0%,0%,0%);fill-opacity:1;stroke-width:0.5;stroke-linecap:butt;stroke-linejoin:miter;stroke:rgb(31.372549%,31.372549%,31.372549%);stroke-opacity:1;stroke-miterlimit:4;\" d=\"M 693.500406 169.501347 L 873.50122 329.50144 \" transform=\"matrix(0.922457,0,0,0.922973,-564.063988,-74.585808)\"/>\n<path style=\"fill-rule:nonzero;fill:rgb(0%,0%,0%);fill-opacity:1;stroke-width:0.5;stroke-linecap:butt;stroke-linejoin:miter;stroke:rgb(31.372549%,31.372549%,31.372549%);stroke-opacity:1;stroke-miterlimit:4;\" d=\"M 693.500406 169.501347 L 873.50122 369.500405 \" transform=\"matrix(0.922457,0,0,0.922973,-564.063988,-74.585808)\"/>\n<path style=\"fill-rule:nonzero;fill:rgb(0%,0%,0%);fill-opacity:1;stroke-width:0.5;stroke-linecap:butt;stroke-linejoin:miter;stroke:rgb(31.372549%,31.372549%,31.372549%);stroke-opacity:1;stroke-miterlimit:4;\" d=\"M 693.500406 209.500312 L 873.50122 329.50144 \" transform=\"matrix(0.922457,0,0,0.922973,-564.063988,-74.585808)\"/>\n<path style=\"fill-rule:nonzero;fill:rgb(0%,0%,0%);fill-opacity:1;stroke-width:0.5;stroke-linecap:butt;stroke-linejoin:miter;stroke:rgb(31.372549%,31.372549%,31.372549%);stroke-opacity:1;stroke-miterlimit:4;\" d=\"M 693.500406 209.500312 L 873.50122 369.500405 \" transform=\"matrix(0.922457,0,0,0.922973,-564.063988,-74.585808)\"/>\n<path style=\"fill-rule:nonzero;fill:rgb(0%,0%,0%);fill-opacity:1;stroke-width:0.5;stroke-linecap:butt;stroke-linejoin:miter;stroke:rgb(31.372549%,31.372549%,31.372549%);stroke-opacity:1;stroke-miterlimit:4;\" d=\"M 693.500406 249.499277 L 873.50122 329.50144 \" transform=\"matrix(0.922457,0,0,0.922973,-564.063988,-74.585808)\"/>\n<path style=\"fill-rule:nonzero;fill:rgb(0%,0%,0%);fill-opacity:1;stroke-width:0.5;stroke-linecap:butt;stroke-linejoin:miter;stroke:rgb(31.372549%,31.372549%,31.372549%);stroke-opacity:1;stroke-miterlimit:4;\" d=\"M 693.500406 249.499277 L 873.50122 369.500405 \" transform=\"matrix(0.922457,0,0,0.922973,-564.063988,-74.585808)\"/>\n<path style=\"fill-rule:nonzero;fill:rgb(0%,0%,0%);fill-opacity:1;stroke-width:0.5;stroke-linecap:butt;stroke-linejoin:miter;stroke:rgb(31.372549%,31.372549%,31.372549%);stroke-opacity:1;stroke-miterlimit:4;\" d=\"M 693.500406 289.498242 L 873.50122 329.50144 \" transform=\"matrix(0.922457,0,0,0.922973,-564.063988,-74.585808)\"/>\n<path style=\"fill-rule:nonzero;fill:rgb(0%,0%,0%);fill-opacity:1;stroke-width:0.5;stroke-linecap:butt;stroke-linejoin:miter;stroke:rgb(31.372549%,31.372549%,31.372549%);stroke-opacity:1;stroke-miterlimit:4;\" d=\"M 693.500406 289.498242 L 873.50122 369.500405 \" transform=\"matrix(0.922457,0,0,0.922973,-564.063988,-74.585808)\"/>\n<path style=\"fill:none;stroke-width:0.5;stroke-linecap:butt;stroke-linejoin:miter;stroke:rgb(31.372549%,31.372549%,31.372549%);stroke-opacity:1;stroke-miterlimit:4;\" d=\"M 693.500406 329.50144 L 873.50122 329.50144 \" transform=\"matrix(0.922457,0,0,0.922973,-564.063988,-74.585808)\"/>\n<path style=\"fill-rule:nonzero;fill:rgb(0%,0%,0%);fill-opacity:1;stroke-width:0.5;stroke-linecap:butt;stroke-linejoin:miter;stroke:rgb(31.372549%,31.372549%,31.372549%);stroke-opacity:1;stroke-miterlimit:4;\" d=\"M 693.500406 329.50144 L 873.50122 369.500405 \" transform=\"matrix(0.922457,0,0,0.922973,-564.063988,-74.585808)\"/>\n<path style=\"fill-rule:nonzero;fill:rgb(0%,0%,0%);fill-opacity:1;stroke-width:0.5;stroke-linecap:butt;stroke-linejoin:miter;stroke:rgb(31.372549%,31.372549%,31.372549%);stroke-opacity:1;stroke-miterlimit:4;\" d=\"M 693.500406 369.500405 L 873.50122 329.50144 \" transform=\"matrix(0.922457,0,0,0.922973,-564.063988,-74.585808)\"/>\n<path style=\"fill:none;stroke-width:0.5;stroke-linecap:butt;stroke-linejoin:miter;stroke:rgb(31.372549%,31.372549%,31.372549%);stroke-opacity:1;stroke-miterlimit:4;\" d=\"M 693.500406 369.500405 L 873.50122 369.500405 \" transform=\"matrix(0.922457,0,0,0.922973,-564.063988,-74.585808)\"/>\n<path style=\"fill-rule:nonzero;fill:rgb(0%,0%,0%);fill-opacity:1;stroke-width:0.5;stroke-linecap:butt;stroke-linejoin:miter;stroke:rgb(31.372549%,31.372549%,31.372549%);stroke-opacity:1;stroke-miterlimit:4;\" d=\"M 693.500406 409.49937 L 873.50122 329.50144 \" transform=\"matrix(0.922457,0,0,0.922973,-564.063988,-74.585808)\"/>\n<path style=\"fill-rule:nonzero;fill:rgb(0%,0%,0%);fill-opacity:1;stroke-width:0.5;stroke-linecap:butt;stroke-linejoin:miter;stroke:rgb(31.372549%,31.372549%,31.372549%);stroke-opacity:1;stroke-miterlimit:4;\" d=\"M 693.500406 409.49937 L 873.50122 369.500405 \" transform=\"matrix(0.922457,0,0,0.922973,-564.063988,-74.585808)\"/>\n<path style=\"fill-rule:nonzero;fill:rgb(0%,0%,0%);fill-opacity:1;stroke-width:0.5;stroke-linecap:butt;stroke-linejoin:miter;stroke:rgb(31.372549%,31.372549%,31.372549%);stroke-opacity:1;stroke-miterlimit:4;\" d=\"M 693.500406 449.498335 L 873.50122 329.50144 \" transform=\"matrix(0.922457,0,0,0.922973,-564.063988,-74.585808)\"/>\n<path style=\"fill-rule:nonzero;fill:rgb(0%,0%,0%);fill-opacity:1;stroke-width:0.5;stroke-linecap:butt;stroke-linejoin:miter;stroke:rgb(31.372549%,31.372549%,31.372549%);stroke-opacity:1;stroke-miterlimit:4;\" d=\"M 693.500406 449.498335 L 873.50122 369.500405 \" transform=\"matrix(0.922457,0,0,0.922973,-564.063988,-74.585808)\"/>\n<path style=\"fill-rule:nonzero;fill:rgb(0%,0%,0%);fill-opacity:1;stroke-width:0.5;stroke-linecap:butt;stroke-linejoin:miter;stroke:rgb(31.372549%,31.372549%,31.372549%);stroke-opacity:1;stroke-miterlimit:4;\" d=\"M 693.500406 489.501533 L 873.50122 329.50144 \" transform=\"matrix(0.922457,0,0,0.922973,-564.063988,-74.585808)\"/>\n<path style=\"fill-rule:nonzero;fill:rgb(0%,0%,0%);fill-opacity:1;stroke-width:0.5;stroke-linecap:butt;stroke-linejoin:miter;stroke:rgb(31.372549%,31.372549%,31.372549%);stroke-opacity:1;stroke-miterlimit:4;\" d=\"M 693.500406 489.501533 L 873.50122 369.500405 \" transform=\"matrix(0.922457,0,0,0.922973,-564.063988,-74.585808)\"/>\n<path style=\"fill-rule:nonzero;fill:rgb(0%,0%,0%);fill-opacity:1;stroke-width:0.5;stroke-linecap:butt;stroke-linejoin:miter;stroke:rgb(31.372549%,31.372549%,31.372549%);stroke-opacity:1;stroke-miterlimit:4;\" d=\"M 693.500406 529.500498 L 873.50122 329.50144 \" transform=\"matrix(0.922457,0,0,0.922973,-564.063988,-74.585808)\"/>\n<path style=\"fill-rule:nonzero;fill:rgb(0%,0%,0%);fill-opacity:1;stroke-width:0.5;stroke-linecap:butt;stroke-linejoin:miter;stroke:rgb(31.372549%,31.372549%,31.372549%);stroke-opacity:1;stroke-miterlimit:4;\" d=\"M 693.500406 529.500498 L 873.50122 369.500405 \" transform=\"matrix(0.922457,0,0,0.922973,-564.063988,-74.585808)\"/>\n<path style=\"fill-rule:nonzero;fill:rgb(0%,0%,0%);fill-opacity:1;stroke-width:0.5;stroke-linecap:butt;stroke-linejoin:miter;stroke:rgb(31.372549%,31.372549%,31.372549%);stroke-opacity:1;stroke-miterlimit:4;\" d=\"M 693.500406 569.499463 L 873.50122 329.50144 \" transform=\"matrix(0.922457,0,0,0.922973,-564.063988,-74.585808)\"/>\n<path style=\"fill-rule:nonzero;fill:rgb(0%,0%,0%);fill-opacity:1;stroke-width:0.5;stroke-linecap:butt;stroke-linejoin:miter;stroke:rgb(31.372549%,31.372549%,31.372549%);stroke-opacity:1;stroke-miterlimit:4;\" d=\"M 693.500406 569.499463 L 873.50122 369.500405 \" transform=\"matrix(0.922457,0,0,0.922973,-564.063988,-74.585808)\"/>\n<path style=\"fill-rule:nonzero;fill:rgb(0%,0%,0%);fill-opacity:1;stroke-width:0.5;stroke-linecap:butt;stroke-linejoin:miter;stroke:rgb(31.372549%,31.372549%,31.372549%);stroke-opacity:1;stroke-miterlimit:4;\" d=\"M 693.500406 609.498429 L 873.50122 329.50144 \" transform=\"matrix(0.922457,0,0,0.922973,-564.063988,-74.585808)\"/>\n<path style=\"fill-rule:nonzero;fill:rgb(0%,0%,0%);fill-opacity:1;stroke-width:0.5;stroke-linecap:butt;stroke-linejoin:miter;stroke:rgb(31.372549%,31.372549%,31.372549%);stroke-opacity:1;stroke-miterlimit:4;\" d=\"M 693.500406 609.498429 L 873.50122 369.500405 \" transform=\"matrix(0.922457,0,0,0.922973,-564.063988,-74.585808)\"/>\n<path style=\"fill-rule:nonzero;fill:rgb(0%,0%,0%);fill-opacity:1;stroke-width:0.5;stroke-linecap:butt;stroke-linejoin:miter;stroke:rgb(31.372549%,31.372549%,31.372549%);stroke-opacity:1;stroke-miterlimit:4;\" d=\"M 873.50122 329.50144 L 1053.502033 389.502004 \" transform=\"matrix(0.922457,0,0,0.922973,-564.063988,-74.585808)\"/>\n<path style=\"fill-rule:nonzero;fill:rgb(0%,0%,0%);fill-opacity:1;stroke-width:0.5;stroke-linecap:butt;stroke-linejoin:miter;stroke:rgb(31.372549%,31.372549%,31.372549%);stroke-opacity:1;stroke-miterlimit:4;\" d=\"M 873.50122 369.500405 L 1053.502033 389.502004 \" transform=\"matrix(0.922457,0,0,0.922973,-564.063988,-74.585808)\"/>\n<path style=\"fill-rule:nonzero;fill:rgb(0%,0%,0%);fill-opacity:1;stroke-width:0.5;stroke-linecap:butt;stroke-linejoin:miter;stroke:rgb(31.372549%,31.372549%,31.372549%);stroke-opacity:1;stroke-miterlimit:4;\" d=\"M 693.500406 169.501347 L 873.50122 409.49937 \" transform=\"matrix(0.922457,0,0,0.922973,-564.063988,-74.585808)\"/>\n<path style=\"fill-rule:nonzero;fill:rgb(0%,0%,0%);fill-opacity:1;stroke-width:0.5;stroke-linecap:butt;stroke-linejoin:miter;stroke:rgb(31.372549%,31.372549%,31.372549%);stroke-opacity:1;stroke-miterlimit:4;\" d=\"M 693.500406 209.500312 L 873.50122 409.49937 \" transform=\"matrix(0.922457,0,0,0.922973,-564.063988,-74.585808)\"/>\n<path style=\"fill-rule:nonzero;fill:rgb(0%,0%,0%);fill-opacity:1;stroke-width:0.5;stroke-linecap:butt;stroke-linejoin:miter;stroke:rgb(31.372549%,31.372549%,31.372549%);stroke-opacity:1;stroke-miterlimit:4;\" d=\"M 693.500406 249.499277 L 873.50122 409.49937 \" transform=\"matrix(0.922457,0,0,0.922973,-564.063988,-74.585808)\"/>\n<path style=\"fill-rule:nonzero;fill:rgb(0%,0%,0%);fill-opacity:1;stroke-width:0.5;stroke-linecap:butt;stroke-linejoin:miter;stroke:rgb(31.372549%,31.372549%,31.372549%);stroke-opacity:1;stroke-miterlimit:4;\" d=\"M 693.500406 289.498242 L 873.50122 409.49937 \" transform=\"matrix(0.922457,0,0,0.922973,-564.063988,-74.585808)\"/>\n<path style=\"fill-rule:nonzero;fill:rgb(0%,0%,0%);fill-opacity:1;stroke-width:0.5;stroke-linecap:butt;stroke-linejoin:miter;stroke:rgb(31.372549%,31.372549%,31.372549%);stroke-opacity:1;stroke-miterlimit:4;\" d=\"M 693.500406 329.50144 L 873.50122 409.49937 \" transform=\"matrix(0.922457,0,0,0.922973,-564.063988,-74.585808)\"/>\n<path style=\"fill-rule:nonzero;fill:rgb(0%,0%,0%);fill-opacity:1;stroke-width:0.5;stroke-linecap:butt;stroke-linejoin:miter;stroke:rgb(31.372549%,31.372549%,31.372549%);stroke-opacity:1;stroke-miterlimit:4;\" d=\"M 693.500406 369.500405 L 873.50122 409.49937 \" transform=\"matrix(0.922457,0,0,0.922973,-564.063988,-74.585808)\"/>\n<path style=\"fill:none;stroke-width:0.5;stroke-linecap:butt;stroke-linejoin:miter;stroke:rgb(31.372549%,31.372549%,31.372549%);stroke-opacity:1;stroke-miterlimit:4;\" d=\"M 693.500406 409.49937 L 873.50122 409.49937 \" transform=\"matrix(0.922457,0,0,0.922973,-564.063988,-74.585808)\"/>\n<path style=\"fill-rule:nonzero;fill:rgb(0%,0%,0%);fill-opacity:1;stroke-width:0.5;stroke-linecap:butt;stroke-linejoin:miter;stroke:rgb(31.372549%,31.372549%,31.372549%);stroke-opacity:1;stroke-miterlimit:4;\" d=\"M 693.500406 449.498335 L 873.50122 409.49937 \" transform=\"matrix(0.922457,0,0,0.922973,-564.063988,-74.585808)\"/>\n<path style=\"fill-rule:nonzero;fill:rgb(0%,0%,0%);fill-opacity:1;stroke-width:0.5;stroke-linecap:butt;stroke-linejoin:miter;stroke:rgb(31.372549%,31.372549%,31.372549%);stroke-opacity:1;stroke-miterlimit:4;\" d=\"M 693.500406 489.501533 L 873.50122 409.49937 \" transform=\"matrix(0.922457,0,0,0.922973,-564.063988,-74.585808)\"/>\n<path style=\"fill-rule:nonzero;fill:rgb(0%,0%,0%);fill-opacity:1;stroke-width:0.5;stroke-linecap:butt;stroke-linejoin:miter;stroke:rgb(31.372549%,31.372549%,31.372549%);stroke-opacity:1;stroke-miterlimit:4;\" d=\"M 693.500406 529.500498 L 873.50122 409.49937 \" transform=\"matrix(0.922457,0,0,0.922973,-564.063988,-74.585808)\"/>\n<path style=\"fill-rule:nonzero;fill:rgb(0%,0%,0%);fill-opacity:1;stroke-width:0.5;stroke-linecap:butt;stroke-linejoin:miter;stroke:rgb(31.372549%,31.372549%,31.372549%);stroke-opacity:1;stroke-miterlimit:4;\" d=\"M 693.500406 569.499463 L 873.50122 409.49937 \" transform=\"matrix(0.922457,0,0,0.922973,-564.063988,-74.585808)\"/>\n<path style=\"fill-rule:nonzero;fill:rgb(0%,0%,0%);fill-opacity:1;stroke-width:0.5;stroke-linecap:butt;stroke-linejoin:miter;stroke:rgb(31.372549%,31.372549%,31.372549%);stroke-opacity:1;stroke-miterlimit:4;\" d=\"M 693.500406 609.498429 L 873.50122 409.49937 \" transform=\"matrix(0.922457,0,0,0.922973,-564.063988,-74.585808)\"/>\n<path style=\"fill-rule:nonzero;fill:rgb(0%,0%,0%);fill-opacity:1;stroke-width:0.5;stroke-linecap:butt;stroke-linejoin:miter;stroke:rgb(31.372549%,31.372549%,31.372549%);stroke-opacity:1;stroke-miterlimit:4;\" d=\"M 873.50122 409.49937 L 1053.502033 389.502004 \" transform=\"matrix(0.922457,0,0,0.922973,-564.063988,-74.585808)\"/>\n<path style=\"fill-rule:nonzero;fill:rgb(0%,0%,0%);fill-opacity:1;stroke-width:0.5;stroke-linecap:butt;stroke-linejoin:miter;stroke:rgb(31.372549%,31.372549%,31.372549%);stroke-opacity:1;stroke-miterlimit:4;\" d=\"M 693.500406 169.501347 L 873.50122 449.498335 \" transform=\"matrix(0.922457,0,0,0.922973,-564.063988,-74.585808)\"/>\n<path style=\"fill-rule:nonzero;fill:rgb(0%,0%,0%);fill-opacity:1;stroke-width:0.5;stroke-linecap:butt;stroke-linejoin:miter;stroke:rgb(31.372549%,31.372549%,31.372549%);stroke-opacity:1;stroke-miterlimit:4;\" d=\"M 693.500406 209.500312 L 873.50122 449.498335 \" transform=\"matrix(0.922457,0,0,0.922973,-564.063988,-74.585808)\"/>\n<path style=\"fill-rule:nonzero;fill:rgb(0%,0%,0%);fill-opacity:1;stroke-width:0.5;stroke-linecap:butt;stroke-linejoin:miter;stroke:rgb(31.372549%,31.372549%,31.372549%);stroke-opacity:1;stroke-miterlimit:4;\" d=\"M 693.500406 249.499277 L 873.50122 449.498335 \" transform=\"matrix(0.922457,0,0,0.922973,-564.063988,-74.585808)\"/>\n<path style=\"fill-rule:nonzero;fill:rgb(0%,0%,0%);fill-opacity:1;stroke-width:0.5;stroke-linecap:butt;stroke-linejoin:miter;stroke:rgb(31.372549%,31.372549%,31.372549%);stroke-opacity:1;stroke-miterlimit:4;\" d=\"M 693.500406 289.498242 L 873.50122 449.498335 \" transform=\"matrix(0.922457,0,0,0.922973,-564.063988,-74.585808)\"/>\n<path style=\"fill-rule:nonzero;fill:rgb(0%,0%,0%);fill-opacity:1;stroke-width:0.5;stroke-linecap:butt;stroke-linejoin:miter;stroke:rgb(31.372549%,31.372549%,31.372549%);stroke-opacity:1;stroke-miterlimit:4;\" d=\"M 693.500406 329.50144 L 873.50122 449.498335 \" transform=\"matrix(0.922457,0,0,0.922973,-564.063988,-74.585808)\"/>\n<path style=\"fill-rule:nonzero;fill:rgb(0%,0%,0%);fill-opacity:1;stroke-width:0.5;stroke-linecap:butt;stroke-linejoin:miter;stroke:rgb(31.372549%,31.372549%,31.372549%);stroke-opacity:1;stroke-miterlimit:4;\" d=\"M 693.500406 369.500405 L 873.50122 449.498335 \" transform=\"matrix(0.922457,0,0,0.922973,-564.063988,-74.585808)\"/>\n<path style=\"fill-rule:nonzero;fill:rgb(0%,0%,0%);fill-opacity:1;stroke-width:0.5;stroke-linecap:butt;stroke-linejoin:miter;stroke:rgb(31.372549%,31.372549%,31.372549%);stroke-opacity:1;stroke-miterlimit:4;\" d=\"M 693.500406 409.49937 L 873.50122 449.498335 \" transform=\"matrix(0.922457,0,0,0.922973,-564.063988,-74.585808)\"/>\n<path style=\"fill:none;stroke-width:0.5;stroke-linecap:butt;stroke-linejoin:miter;stroke:rgb(31.372549%,31.372549%,31.372549%);stroke-opacity:1;stroke-miterlimit:4;\" d=\"M 693.500406 449.498335 L 873.50122 449.498335 \" transform=\"matrix(0.922457,0,0,0.922973,-564.063988,-74.585808)\"/>\n<path style=\"fill-rule:nonzero;fill:rgb(0%,0%,0%);fill-opacity:1;stroke-width:0.5;stroke-linecap:butt;stroke-linejoin:miter;stroke:rgb(31.372549%,31.372549%,31.372549%);stroke-opacity:1;stroke-miterlimit:4;\" d=\"M 693.500406 489.501533 L 873.50122 449.498335 \" transform=\"matrix(0.922457,0,0,0.922973,-564.063988,-74.585808)\"/>\n<path style=\"fill-rule:nonzero;fill:rgb(0%,0%,0%);fill-opacity:1;stroke-width:0.5;stroke-linecap:butt;stroke-linejoin:miter;stroke:rgb(31.372549%,31.372549%,31.372549%);stroke-opacity:1;stroke-miterlimit:4;\" d=\"M 693.500406 529.500498 L 873.50122 449.498335 \" transform=\"matrix(0.922457,0,0,0.922973,-564.063988,-74.585808)\"/>\n<path style=\"fill-rule:nonzero;fill:rgb(0%,0%,0%);fill-opacity:1;stroke-width:0.5;stroke-linecap:butt;stroke-linejoin:miter;stroke:rgb(31.372549%,31.372549%,31.372549%);stroke-opacity:1;stroke-miterlimit:4;\" d=\"M 693.500406 569.499463 L 873.50122 449.498335 \" transform=\"matrix(0.922457,0,0,0.922973,-564.063988,-74.585808)\"/>\n<path style=\"fill-rule:nonzero;fill:rgb(0%,0%,0%);fill-opacity:1;stroke-width:0.5;stroke-linecap:butt;stroke-linejoin:miter;stroke:rgb(31.372549%,31.372549%,31.372549%);stroke-opacity:1;stroke-miterlimit:4;\" d=\"M 693.500406 609.498429 L 873.50122 449.498335 \" transform=\"matrix(0.922457,0,0,0.922973,-564.063988,-74.585808)\"/>\n<path style=\"fill-rule:nonzero;fill:rgb(0%,0%,0%);fill-opacity:1;stroke-width:0.5;stroke-linecap:butt;stroke-linejoin:miter;stroke:rgb(31.372549%,31.372549%,31.372549%);stroke-opacity:1;stroke-miterlimit:4;\" d=\"M 873.50122 449.498335 L 1053.502033 389.502004 \" transform=\"matrix(0.922457,0,0,0.922973,-564.063988,-74.585808)\"/>\n<path style=\"fill-rule:nonzero;fill:rgb(100%,100%,100%);fill-opacity:1;stroke-width:1;stroke-linecap:butt;stroke-linejoin:miter;stroke:rgb(20%,20%,20%);stroke-opacity:1;stroke-miterlimit:4;\" d=\"M 703.498334 169.501347 C 703.498334 175.024429 699.022345 179.497914 693.500406 179.497914 C 687.978467 179.497914 683.498244 175.024429 683.498244 169.501347 C 683.498244 163.978265 687.978467 159.500547 693.500406 159.500547 C 699.022345 159.500547 703.498334 163.978265 703.498334 169.501347 Z M 703.498334 169.501347 \" transform=\"matrix(0.922457,0,0,0.922973,-564.063988,-74.585808)\"/>\n<path style=\"fill-rule:nonzero;fill:rgb(100%,100%,100%);fill-opacity:1;stroke-width:1;stroke-linecap:butt;stroke-linejoin:miter;stroke:rgb(20%,20%,20%);stroke-opacity:1;stroke-miterlimit:4;\" d=\"M 703.498334 209.500312 C 703.498334 215.023394 699.022345 219.501111 693.500406 219.501111 C 687.978467 219.501111 683.498244 215.023394 683.498244 209.500312 C 683.498244 203.97723 687.978467 199.499513 693.500406 199.499513 C 699.022345 199.499513 703.498334 203.97723 703.498334 209.500312 Z M 703.498334 209.500312 \" transform=\"matrix(0.922457,0,0,0.922973,-564.063988,-74.585808)\"/>\n<path style=\"fill-rule:nonzero;fill:rgb(100%,100%,100%);fill-opacity:1;stroke-width:1;stroke-linecap:butt;stroke-linejoin:miter;stroke:rgb(20%,20%,20%);stroke-opacity:1;stroke-miterlimit:4;\" d=\"M 703.498334 249.499277 C 703.498334 255.022359 699.022345 259.500076 693.500406 259.500076 C 687.978467 259.500076 683.498244 255.022359 683.498244 249.499277 C 683.498244 243.976195 687.978467 239.498478 693.500406 239.498478 C 699.022345 239.498478 703.498334 243.976195 703.498334 249.499277 Z M 703.498334 249.499277 \" transform=\"matrix(0.922457,0,0,0.922973,-564.063988,-74.585808)\"/>\n<path style=\"fill-rule:nonzero;fill:rgb(100%,100%,100%);fill-opacity:1;stroke-width:1;stroke-linecap:butt;stroke-linejoin:miter;stroke:rgb(20%,20%,20%);stroke-opacity:1;stroke-miterlimit:4;\" d=\"M 703.498334 289.498242 C 703.498334 295.021325 699.022345 299.499042 693.500406 299.499042 C 687.978467 299.499042 683.498244 295.021325 683.498244 289.498242 C 683.498244 283.97516 687.978467 279.501675 693.500406 279.501675 C 699.022345 279.501675 703.498334 283.97516 703.498334 289.498242 Z M 703.498334 289.498242 \" transform=\"matrix(0.922457,0,0,0.922973,-564.063988,-74.585808)\"/>\n<path style=\"fill-rule:nonzero;fill:rgb(100%,100%,100%);fill-opacity:1;stroke-width:1;stroke-linecap:butt;stroke-linejoin:miter;stroke:rgb(20%,20%,20%);stroke-opacity:1;stroke-miterlimit:4;\" d=\"M 703.498334 329.50144 C 703.498334 335.024522 699.022345 339.498007 693.500406 339.498007 C 687.978467 339.498007 683.498244 335.024522 683.498244 329.50144 C 683.498244 323.978358 687.978467 319.50064 693.500406 319.50064 C 699.022345 319.50064 703.498334 323.978358 703.498334 329.50144 Z M 703.498334 329.50144 \" transform=\"matrix(0.922457,0,0,0.922973,-564.063988,-74.585808)\"/>\n<path style=\"fill-rule:nonzero;fill:rgb(100%,100%,100%);fill-opacity:1;stroke-width:1;stroke-linecap:butt;stroke-linejoin:miter;stroke:rgb(20%,20%,20%);stroke-opacity:1;stroke-miterlimit:4;\" d=\"M 703.498334 369.500405 C 703.498334 375.023487 699.022345 379.501204 693.500406 379.501204 C 687.978467 379.501204 683.498244 375.023487 683.498244 369.500405 C 683.498244 363.977323 687.978467 359.499606 693.500406 359.499606 C 699.022345 359.499606 703.498334 363.977323 703.498334 369.500405 Z M 703.498334 369.500405 \" transform=\"matrix(0.922457,0,0,0.922973,-564.063988,-74.585808)\"/>\n<path style=\"fill-rule:nonzero;fill:rgb(100%,100%,100%);fill-opacity:1;stroke-width:1;stroke-linecap:butt;stroke-linejoin:miter;stroke:rgb(20%,20%,20%);stroke-opacity:1;stroke-miterlimit:4;\" d=\"M 703.498334 409.49937 C 703.498334 415.022452 699.022345 419.50017 693.500406 419.50017 C 687.978467 419.50017 683.498244 415.022452 683.498244 409.49937 C 683.498244 403.976288 687.978467 399.498571 693.500406 399.498571 C 699.022345 399.498571 703.498334 403.976288 703.498334 409.49937 Z M 703.498334 409.49937 \" transform=\"matrix(0.922457,0,0,0.922973,-564.063988,-74.585808)\"/>\n<path style=\"fill-rule:nonzero;fill:rgb(100%,100%,100%);fill-opacity:1;stroke-width:1;stroke-linecap:butt;stroke-linejoin:miter;stroke:rgb(20%,20%,20%);stroke-opacity:1;stroke-miterlimit:4;\" d=\"M 703.498334 449.498335 C 703.498334 455.021418 699.022345 459.499135 693.500406 459.499135 C 687.978467 459.499135 683.498244 455.021418 683.498244 449.498335 C 683.498244 443.975253 687.978467 439.501768 693.500406 439.501768 C 699.022345 439.501768 703.498334 443.975253 703.498334 449.498335 Z M 703.498334 449.498335 \" transform=\"matrix(0.922457,0,0,0.922973,-564.063988,-74.585808)\"/>\n<path style=\"fill-rule:nonzero;fill:rgb(100%,100%,100%);fill-opacity:1;stroke-width:1;stroke-linecap:butt;stroke-linejoin:miter;stroke:rgb(20%,20%,20%);stroke-opacity:1;stroke-miterlimit:4;\" d=\"M 703.498334 489.501533 C 703.498334 495.024615 699.022345 499.4981 693.500406 499.4981 C 687.978467 499.4981 683.498244 495.024615 683.498244 489.501533 C 683.498244 483.978451 687.978467 479.500734 693.500406 479.500734 C 699.022345 479.500734 703.498334 483.978451 703.498334 489.501533 Z M 703.498334 489.501533 \" transform=\"matrix(0.922457,0,0,0.922973,-564.063988,-74.585808)\"/>\n<path style=\"fill-rule:nonzero;fill:rgb(100%,100%,100%);fill-opacity:1;stroke-width:1;stroke-linecap:butt;stroke-linejoin:miter;stroke:rgb(20%,20%,20%);stroke-opacity:1;stroke-miterlimit:4;\" d=\"M 703.498334 529.500498 C 703.498334 535.02358 699.022345 539.501297 693.500406 539.501297 C 687.978467 539.501297 683.498244 535.02358 683.498244 529.500498 C 683.498244 523.977416 687.978467 519.499699 693.500406 519.499699 C 699.022345 519.499699 703.498334 523.977416 703.498334 529.500498 Z M 703.498334 529.500498 \" transform=\"matrix(0.922457,0,0,0.922973,-564.063988,-74.585808)\"/>\n<path style=\"fill-rule:nonzero;fill:rgb(100%,100%,100%);fill-opacity:1;stroke-width:1;stroke-linecap:butt;stroke-linejoin:miter;stroke:rgb(20%,20%,20%);stroke-opacity:1;stroke-miterlimit:4;\" d=\"M 703.498334 569.499463 C 703.498334 575.022545 699.022345 579.500263 693.500406 579.500263 C 687.978467 579.500263 683.498244 575.022545 683.498244 569.499463 C 683.498244 563.976381 687.978467 559.498664 693.500406 559.498664 C 699.022345 559.498664 703.498334 563.976381 703.498334 569.499463 Z M 703.498334 569.499463 \" transform=\"matrix(0.922457,0,0,0.922973,-564.063988,-74.585808)\"/>\n<path style=\"fill-rule:nonzero;fill:rgb(100%,100%,100%);fill-opacity:1;stroke-width:1;stroke-linecap:butt;stroke-linejoin:miter;stroke:rgb(20%,20%,20%);stroke-opacity:1;stroke-miterlimit:4;\" d=\"M 703.498334 609.498429 C 703.498334 615.021511 699.022345 619.499228 693.500406 619.499228 C 687.978467 619.499228 683.498244 615.021511 683.498244 609.498429 C 683.498244 603.975346 687.978467 599.501861 693.500406 599.501861 C 699.022345 599.501861 703.498334 603.975346 703.498334 609.498429 Z M 703.498334 609.498429 \" transform=\"matrix(0.922457,0,0,0.922973,-564.063988,-74.585808)\"/>\n<path style=\"fill-rule:nonzero;fill:rgb(100%,100%,100%);fill-opacity:1;stroke-width:1;stroke-linecap:butt;stroke-linejoin:miter;stroke:rgb(20%,20%,20%);stroke-opacity:1;stroke-miterlimit:4;\" d=\"M 883.499147 329.50144 C 883.499147 335.024522 879.023159 339.498007 873.50122 339.498007 C 867.975046 339.498007 863.499057 335.024522 863.499057 329.50144 C 863.499057 323.978358 867.975046 319.50064 873.50122 319.50064 C 879.023159 319.50064 883.499147 323.978358 883.499147 329.50144 Z M 883.499147 329.50144 \" transform=\"matrix(0.922457,0,0,0.922973,-564.063988,-74.585808)\"/>\n<path style=\"fill-rule:nonzero;fill:rgb(100%,100%,100%);fill-opacity:1;stroke-width:1;stroke-linecap:butt;stroke-linejoin:miter;stroke:rgb(20%,20%,20%);stroke-opacity:1;stroke-miterlimit:4;\" d=\"M 883.499147 369.500405 C 883.499147 375.023487 879.023159 379.501204 873.50122 379.501204 C 867.975046 379.501204 863.499057 375.023487 863.499057 369.500405 C 863.499057 363.977323 867.975046 359.499606 873.50122 359.499606 C 879.023159 359.499606 883.499147 363.977323 883.499147 369.500405 Z M 883.499147 369.500405 \" transform=\"matrix(0.922457,0,0,0.922973,-564.063988,-74.585808)\"/>\n<path style=\"fill-rule:nonzero;fill:rgb(100%,100%,100%);fill-opacity:1;stroke-width:1;stroke-linecap:butt;stroke-linejoin:miter;stroke:rgb(20%,20%,20%);stroke-opacity:1;stroke-miterlimit:4;\" d=\"M 883.499147 409.49937 C 883.499147 415.022452 879.023159 419.50017 873.50122 419.50017 C 867.975046 419.50017 863.499057 415.022452 863.499057 409.49937 C 863.499057 403.976288 867.975046 399.498571 873.50122 399.498571 C 879.023159 399.498571 883.499147 403.976288 883.499147 409.49937 Z M 883.499147 409.49937 \" transform=\"matrix(0.922457,0,0,0.922973,-564.063988,-74.585808)\"/>\n<path style=\"fill-rule:nonzero;fill:rgb(100%,100%,100%);fill-opacity:1;stroke-width:1;stroke-linecap:butt;stroke-linejoin:miter;stroke:rgb(20%,20%,20%);stroke-opacity:1;stroke-miterlimit:4;\" d=\"M 883.499147 449.498335 C 883.499147 455.021418 879.023159 459.499135 873.50122 459.499135 C 867.975046 459.499135 863.499057 455.021418 863.499057 449.498335 C 863.499057 443.975253 867.975046 439.501768 873.50122 439.501768 C 879.023159 439.501768 883.499147 443.975253 883.499147 449.498335 Z M 883.499147 449.498335 \" transform=\"matrix(0.922457,0,0,0.922973,-564.063988,-74.585808)\"/>\n<path style=\"fill-rule:nonzero;fill:rgb(100%,100%,100%);fill-opacity:1;stroke-width:1;stroke-linecap:butt;stroke-linejoin:miter;stroke:rgb(20%,20%,20%);stroke-opacity:1;stroke-miterlimit:4;\" d=\"M 1063.499961 389.502004 C 1063.499961 395.020854 1059.023972 399.498571 1053.502033 399.498571 C 1047.975859 399.498571 1043.49987 395.020854 1043.49987 389.502004 C 1043.49987 383.978922 1047.975859 379.501204 1053.502033 379.501204 C 1059.023972 379.501204 1063.499961 383.978922 1063.499961 389.502004 Z M 1063.499961 389.502004 \" transform=\"matrix(0.922457,0,0,0.922973,-564.063988,-74.585808)\"/>\n<g style=\"fill:rgb(0%,0%,0%);fill-opacity:1;\">\n  <use xlink:href=\"#glyph0-1\" x=\"43.375\" y=\"528.761163\"/>\n  <use xlink:href=\"#glyph0-2\" x=\"47.061224\" y=\"528.761163\"/>\n  <use xlink:href=\"#glyph0-3\" x=\"52.595964\" y=\"528.761163\"/>\n  <use xlink:href=\"#glyph0-4\" x=\"58.130705\" y=\"528.761163\"/>\n  <use xlink:href=\"#glyph0-5\" x=\"63.665446\" y=\"528.761163\"/>\n  <use xlink:href=\"#glyph0-6\" x=\"66.740902\" y=\"528.761163\"/>\n  <use xlink:href=\"#glyph0-7\" x=\"69.508272\" y=\"528.761163\"/>\n  <use xlink:href=\"#glyph0-8\" x=\"76.269953\" y=\"528.761163\"/>\n  <use xlink:href=\"#glyph0-9\" x=\"81.183116\" y=\"528.761163\"/>\n  <use xlink:href=\"#glyph0-10\" x=\"86.717856\" y=\"528.761163\"/>\n  <use xlink:href=\"#glyph0-11\" x=\"91.63102\" y=\"528.761163\"/>\n  <use xlink:href=\"#glyph0-6\" x=\"95.317243\" y=\"528.761163\"/>\n</g>\n<g style=\"fill:rgb(0%,0%,0%);fill-opacity:1;\">\n  <use xlink:href=\"#glyph1-1\" x=\"98.084614\" y=\"528.761163\"/>\n  <use xlink:href=\"#glyph1-2\" x=\"106.278624\" y=\"528.761163\"/>\n  <use xlink:href=\"#glyph1-3\" x=\"109.797292\" y=\"528.761163\"/>\n</g>\n<g style=\"fill:rgb(0%,0%,0%);fill-opacity:1;\">\n  <use xlink:href=\"#glyph0-12\" x=\"118.996637\" y=\"528.761163\"/>\n  <use xlink:href=\"#glyph0-13\" x=\"122.315319\" y=\"528.761163\"/>\n</g>\n<g style=\"fill:rgb(0%,0%,0%);fill-opacity:1;\">\n  <use xlink:href=\"#glyph0-14\" x=\"209.414062\" y=\"528.761163\"/>\n  <use xlink:href=\"#glyph0-15\" x=\"217.408087\" y=\"528.761163\"/>\n  <use xlink:href=\"#glyph0-16\" x=\"220.483544\" y=\"528.761163\"/>\n  <use xlink:href=\"#glyph0-16\" x=\"226.018284\" y=\"528.761163\"/>\n  <use xlink:href=\"#glyph0-10\" x=\"231.553025\" y=\"528.761163\"/>\n  <use xlink:href=\"#glyph0-2\" x=\"236.466188\" y=\"528.761163\"/>\n  <use xlink:href=\"#glyph0-6\" x=\"242.000929\" y=\"528.761163\"/>\n  <use xlink:href=\"#glyph0-7\" x=\"244.768299\" y=\"528.761163\"/>\n  <use xlink:href=\"#glyph0-8\" x=\"251.529979\" y=\"528.761163\"/>\n  <use xlink:href=\"#glyph0-9\" x=\"256.443143\" y=\"528.761163\"/>\n  <use xlink:href=\"#glyph0-10\" x=\"261.977883\" y=\"528.761163\"/>\n  <use xlink:href=\"#glyph0-11\" x=\"266.891047\" y=\"528.761163\"/>\n  <use xlink:href=\"#glyph0-6\" x=\"270.57727\" y=\"528.761163\"/>\n</g>\n<g style=\"fill:rgb(0%,0%,0%);fill-opacity:1;\">\n  <use xlink:href=\"#glyph1-1\" x=\"273.344641\" y=\"528.761163\"/>\n  <use xlink:href=\"#glyph1-2\" x=\"281.538651\" y=\"528.761163\"/>\n  <use xlink:href=\"#glyph1-3\" x=\"285.057319\" y=\"528.761163\"/>\n  <use xlink:href=\"#glyph1-4\" x=\"294.256663\" y=\"528.761163\"/>\n</g>\n<g style=\"fill:rgb(0%,0%,0%);fill-opacity:1;\">\n  <use xlink:href=\"#glyph0-17\" x=\"375.457031\" y=\"528.761163\"/>\n  <use xlink:href=\"#glyph0-4\" x=\"383.451056\" y=\"528.761163\"/>\n  <use xlink:href=\"#glyph0-5\" x=\"388.985797\" y=\"528.761163\"/>\n  <use xlink:href=\"#glyph0-3\" x=\"392.061253\" y=\"528.761163\"/>\n  <use xlink:href=\"#glyph0-4\" x=\"397.595994\" y=\"528.761163\"/>\n  <use xlink:href=\"#glyph0-5\" x=\"403.130734\" y=\"528.761163\"/>\n  <use xlink:href=\"#glyph0-6\" x=\"406.206191\" y=\"528.761163\"/>\n  <use xlink:href=\"#glyph0-7\" x=\"408.973561\" y=\"528.761163\"/>\n  <use xlink:href=\"#glyph0-8\" x=\"415.735241\" y=\"528.761163\"/>\n  <use xlink:href=\"#glyph0-9\" x=\"420.648405\" y=\"528.761163\"/>\n  <use xlink:href=\"#glyph0-10\" x=\"426.183145\" y=\"528.761163\"/>\n  <use xlink:href=\"#glyph0-11\" x=\"431.096308\" y=\"528.761163\"/>\n  <use xlink:href=\"#glyph0-6\" x=\"434.782532\" y=\"528.761163\"/>\n</g>\n<g style=\"fill:rgb(0%,0%,0%);fill-opacity:1;\">\n  <use xlink:href=\"#glyph1-1\" x=\"437.549903\" y=\"528.761163\"/>\n  <use xlink:href=\"#glyph1-2\" x=\"445.743913\" y=\"528.761163\"/>\n  <use xlink:href=\"#glyph1-3\" x=\"449.262581\" y=\"528.761163\"/>\n</g>\n<g style=\"fill:rgb(0%,0%,0%);fill-opacity:1;\">\n  <use xlink:href=\"#glyph0-12\" x=\"458.461925\" y=\"528.761163\"/>\n</g>\n</g>\n</svg>"
          },
          "metadata": {}
        }
      ]
    },
    {
      "cell_type": "code",
      "source": [
        "#Compile the model\n",
        "model_2.compile(loss='binary_crossentropy', optimizer='adam', metrics=['accuracy'])\n",
        "\n",
        "#Fit training data to the model\n",
        "model_2.fit(x_train, y_train, epochs=10, batch_size=32, validation_data=(x_test, y_test))\n"
      ],
      "metadata": {
        "colab": {
          "base_uri": "https://localhost:8080/"
        },
        "outputId": "35ca636e-cc78-44b5-8bbb-1354f85e68aa",
        "id": "p89n-t8vVbMU"
      },
      "execution_count": 28,
      "outputs": [
        {
          "output_type": "stream",
          "name": "stdout",
          "text": [
            "Epoch 1/10\n",
            "143/143 [==============================] - 2s 6ms/step - loss: 0.5316 - accuracy: 0.7539 - val_loss: 0.3516 - val_accuracy: 0.7538\n",
            "Epoch 2/10\n",
            "143/143 [==============================] - 1s 4ms/step - loss: 0.3410 - accuracy: 0.8861 - val_loss: 0.3017 - val_accuracy: 0.9231\n",
            "Epoch 3/10\n",
            "143/143 [==============================] - 0s 3ms/step - loss: 0.3022 - accuracy: 0.9217 - val_loss: 0.2752 - val_accuracy: 0.9318\n",
            "Epoch 4/10\n",
            "143/143 [==============================] - 0s 2ms/step - loss: 0.2784 - accuracy: 0.9329 - val_loss: 0.2593 - val_accuracy: 0.9354\n",
            "Epoch 5/10\n",
            "143/143 [==============================] - 0s 3ms/step - loss: 0.2638 - accuracy: 0.9367 - val_loss: 0.2487 - val_accuracy: 0.9385\n",
            "Epoch 6/10\n",
            "143/143 [==============================] - 0s 3ms/step - loss: 0.2536 - accuracy: 0.9404 - val_loss: 0.2405 - val_accuracy: 0.9385\n",
            "Epoch 7/10\n",
            "143/143 [==============================] - 0s 3ms/step - loss: 0.2447 - accuracy: 0.9397 - val_loss: 0.2330 - val_accuracy: 0.9400\n",
            "Epoch 8/10\n",
            "143/143 [==============================] - 0s 3ms/step - loss: 0.2377 - accuracy: 0.9389 - val_loss: 0.2262 - val_accuracy: 0.9390\n",
            "Epoch 9/10\n",
            "143/143 [==============================] - 0s 3ms/step - loss: 0.2314 - accuracy: 0.9397 - val_loss: 0.2201 - val_accuracy: 0.9385\n",
            "Epoch 10/10\n",
            "143/143 [==============================] - 0s 3ms/step - loss: 0.2242 - accuracy: 0.9428 - val_loss: 0.2143 - val_accuracy: 0.9405\n"
          ]
        },
        {
          "output_type": "execute_result",
          "data": {
            "text/plain": [
              "<keras.callbacks.History at 0x7ff4a7698070>"
            ]
          },
          "metadata": {},
          "execution_count": 28
        }
      ]
    },
    {
      "cell_type": "code",
      "source": [
        "# Evaluate model on the test data \n",
        "loss, accuracy = model_2.evaluate(x_test, y_test)\n",
        "print(f'Test Loss: {loss:.4f}')\n",
        "print(f'Test Accuracy: {accuracy:.4f}')"
      ],
      "metadata": {
        "colab": {
          "base_uri": "https://localhost:8080/"
        },
        "outputId": "a1b677c2-7d3e-4386-b095-ba856352c178",
        "id": "msrzyH-QWVyk"
      },
      "execution_count": 29,
      "outputs": [
        {
          "output_type": "stream",
          "name": "stdout",
          "text": [
            "61/61 [==============================] - 0s 2ms/step - loss: 0.2143 - accuracy: 0.9405\n",
            "Test Loss: 0.2143\n",
            "Test Accuracy: 0.9405\n"
          ]
        }
      ]
    },
    {
      "cell_type": "markdown",
      "source": [
        "# Model building 3 (additional hidden layer)\n",
        "The third model adds on a new hidden layer. With 2 nuerons for the first and second layer. The architecture is as follows:\n",
        "* Fully connected neural network (Dense)\n",
        "* First layer   - 2 neurons -AF: RELU\n",
        "* Second layer  - 2 neuron  -AF: RELU\n",
        "* Third layer   - 1 neuron  -AF: Sigmoid\n",
        "\n",
        "Note: Test results from this model is quite similar to the first model, no apparent improvement of accuracy scores.\n",
        "\n"
      ],
      "metadata": {
        "id": "I9xOJUQbc_yC"
      }
    },
    {
      "cell_type": "code",
      "source": [
        "# Define the model:\n",
        "model_3 = Sequential()\n",
        "model_3.add(Dense(2, input_dim=12, activation='relu'))\n",
        "model_3.add(Dense(2, activation='relu'))\n",
        "model_3.add(Dense(1, activation='sigmoid'))\n",
        "print(model_3.summary())"
      ],
      "metadata": {
        "colab": {
          "base_uri": "https://localhost:8080/"
        },
        "outputId": "0fdfe561-de7f-4ce1-ca4e-163718f8ec51",
        "id": "DAjGzqfTc_yC"
      },
      "execution_count": 30,
      "outputs": [
        {
          "output_type": "stream",
          "name": "stdout",
          "text": [
            "Model: \"sequential_2\"\n",
            "_________________________________________________________________\n",
            " Layer (type)                Output Shape              Param #   \n",
            "=================================================================\n",
            " dense_4 (Dense)             (None, 2)                 26        \n",
            "                                                                 \n",
            " dense_5 (Dense)             (None, 2)                 6         \n",
            "                                                                 \n",
            " dense_6 (Dense)             (None, 1)                 3         \n",
            "                                                                 \n",
            "=================================================================\n",
            "Total params: 35\n",
            "Trainable params: 35\n",
            "Non-trainable params: 0\n",
            "_________________________________________________________________\n",
            "None\n"
          ]
        }
      ]
    },
    {
      "cell_type": "code",
      "source": [
        "svg3_path = '/content/drive/MyDrive/Colab Notebooks/nn (3).svg'\n",
        "display(SVG(svg3_path))\n"
      ],
      "metadata": {
        "colab": {
          "base_uri": "https://localhost:8080/",
          "height": 897
        },
        "id": "u3T09KdvbkXJ",
        "outputId": "80ecb817-604d-4ce3-9820-4d0b1d9111d4"
      },
      "execution_count": 31,
      "outputs": [
        {
          "output_type": "display_data",
          "data": {
            "text/plain": [
              "<IPython.core.display.SVG object>"
            ],
            "image/svg+xml": "<svg xmlns=\"http://www.w3.org/2000/svg\" xmlns:xlink=\"http://www.w3.org/1999/xlink\" width=\"1707px\" height=\"856px\" viewBox=\"0 0 1707 856\" version=\"1.1\">\n<defs>\n<g>\n<symbol overflow=\"visible\" id=\"glyph0-0\">\n<path style=\"stroke:none;\" d=\"M 2.046875 0 L 2.046875 -9.234375 L 9.4375 -9.234375 L 9.4375 0 Z M 2.28125 -0.234375 L 9.203125 -0.234375 L 9.203125 -9 L 2.28125 -9 Z M 2.28125 -0.234375 \"/>\n</symbol>\n<symbol overflow=\"visible\" id=\"glyph0-1\">\n<path style=\"stroke:none;\" d=\"M 4.5625 -0.265625 L 4.5625 0 L 0.375 0 L 0.375 -0.265625 L 0.71875 -0.265625 C 1.113281 -0.265625 1.40625 -0.382812 1.59375 -0.625 C 1.707031 -0.769531 1.765625 -1.140625 1.765625 -1.734375 L 1.765625 -8.046875 C 1.765625 -8.535156 1.734375 -8.863281 1.671875 -9.03125 C 1.617188 -9.144531 1.519531 -9.25 1.375 -9.34375 C 1.164062 -9.457031 0.945312 -9.515625 0.71875 -9.515625 L 0.375 -9.515625 L 0.375 -9.78125 L 4.5625 -9.78125 L 4.5625 -9.515625 L 4.203125 -9.515625 C 3.804688 -9.515625 3.515625 -9.394531 3.328125 -9.15625 C 3.210938 -9 3.15625 -8.628906 3.15625 -8.046875 L 3.15625 -1.734375 C 3.15625 -1.234375 3.1875 -0.90625 3.25 -0.75 C 3.289062 -0.625 3.390625 -0.519531 3.546875 -0.4375 C 3.753906 -0.320312 3.972656 -0.265625 4.203125 -0.265625 Z M 4.5625 -0.265625 \"/>\n</symbol>\n<symbol overflow=\"visible\" id=\"glyph0-2\">\n<path style=\"stroke:none;\" d=\"M 2.390625 -5.40625 C 3.160156 -6.332031 3.894531 -6.796875 4.59375 -6.796875 C 4.957031 -6.796875 5.269531 -6.707031 5.53125 -6.53125 C 5.789062 -6.351562 6 -6.054688 6.15625 -5.640625 C 6.257812 -5.347656 6.3125 -4.90625 6.3125 -4.3125 L 6.3125 -1.5 C 6.3125 -1.070312 6.34375 -0.785156 6.40625 -0.640625 C 6.457031 -0.523438 6.539062 -0.429688 6.65625 -0.359375 C 6.78125 -0.296875 7 -0.265625 7.3125 -0.265625 L 7.3125 0 L 4.046875 0 L 4.046875 -0.265625 L 4.1875 -0.265625 C 4.5 -0.265625 4.710938 -0.3125 4.828125 -0.40625 C 4.953125 -0.5 5.039062 -0.632812 5.09375 -0.8125 C 5.113281 -0.882812 5.125 -1.113281 5.125 -1.5 L 5.125 -4.203125 C 5.125 -4.796875 5.046875 -5.226562 4.890625 -5.5 C 4.734375 -5.769531 4.46875 -5.90625 4.09375 -5.90625 C 3.519531 -5.90625 2.953125 -5.59375 2.390625 -4.96875 L 2.390625 -1.5 C 2.390625 -1.050781 2.414062 -0.769531 2.46875 -0.65625 C 2.53125 -0.519531 2.617188 -0.421875 2.734375 -0.359375 C 2.859375 -0.296875 3.097656 -0.265625 3.453125 -0.265625 L 3.453125 0 L 0.1875 0 L 0.1875 -0.265625 L 0.34375 -0.265625 C 0.675781 -0.265625 0.898438 -0.347656 1.015625 -0.515625 C 1.140625 -0.679688 1.203125 -1.007812 1.203125 -1.5 L 1.203125 -3.9375 C 1.203125 -4.738281 1.179688 -5.222656 1.140625 -5.390625 C 1.109375 -5.566406 1.050781 -5.6875 0.96875 -5.75 C 0.894531 -5.8125 0.796875 -5.84375 0.671875 -5.84375 C 0.535156 -5.84375 0.375 -5.804688 0.1875 -5.734375 L 0.09375 -5.984375 L 2.078125 -6.796875 L 2.390625 -6.796875 Z M 2.390625 -5.40625 \"/>\n</symbol>\n<symbol overflow=\"visible\" id=\"glyph0-3\">\n<path style=\"stroke:none;\" d=\"M -0.015625 -5.953125 L 2.015625 -6.765625 L 2.296875 -6.765625 L 2.296875 -5.234375 C 2.628906 -5.804688 2.96875 -6.207031 3.3125 -6.4375 C 3.65625 -6.675781 4.019531 -6.796875 4.40625 -6.796875 C 5.070312 -6.796875 5.625 -6.535156 6.0625 -6.015625 C 6.601562 -5.378906 6.875 -4.554688 6.875 -3.546875 C 6.875 -2.398438 6.546875 -1.457031 5.890625 -0.71875 C 5.359375 -0.101562 4.679688 0.203125 3.859375 0.203125 C 3.503906 0.203125 3.195312 0.148438 2.9375 0.046875 C 2.75 -0.0234375 2.535156 -0.164062 2.296875 -0.375 L 2.296875 1.625 C 2.296875 2.082031 2.320312 2.367188 2.375 2.484375 C 2.425781 2.609375 2.519531 2.707031 2.65625 2.78125 C 2.800781 2.851562 3.050781 2.890625 3.40625 2.890625 L 3.40625 3.15625 L -0.046875 3.15625 L -0.046875 2.890625 L 0.125 2.890625 C 0.394531 2.890625 0.625 2.835938 0.8125 2.734375 C 0.894531 2.679688 0.960938 2.597656 1.015625 2.484375 C 1.066406 2.367188 1.09375 2.070312 1.09375 1.59375 L 1.09375 -4.65625 C 1.09375 -5.082031 1.070312 -5.351562 1.03125 -5.46875 C 1 -5.582031 0.941406 -5.664062 0.859375 -5.71875 C 0.773438 -5.78125 0.660156 -5.8125 0.515625 -5.8125 C 0.398438 -5.8125 0.253906 -5.78125 0.078125 -5.71875 Z M 2.296875 -4.796875 L 2.296875 -2.34375 C 2.296875 -1.800781 2.316406 -1.445312 2.359375 -1.28125 C 2.421875 -1 2.582031 -0.753906 2.84375 -0.546875 C 3.113281 -0.335938 3.445312 -0.234375 3.84375 -0.234375 C 4.320312 -0.234375 4.710938 -0.421875 5.015625 -0.796875 C 5.398438 -1.285156 5.59375 -1.972656 5.59375 -2.859375 C 5.59375 -3.867188 5.375 -4.644531 4.9375 -5.1875 C 4.625 -5.5625 4.253906 -5.75 3.828125 -5.75 C 3.597656 -5.75 3.375 -5.691406 3.15625 -5.578125 C 2.976562 -5.492188 2.691406 -5.234375 2.296875 -4.796875 Z M 2.296875 -4.796875 \"/>\n</symbol>\n<symbol overflow=\"visible\" id=\"glyph0-4\">\n<path style=\"stroke:none;\" d=\"M 6.25 -6.609375 L 6.25 -2.609375 C 6.25 -1.835938 6.265625 -1.363281 6.296875 -1.1875 C 6.335938 -1.019531 6.394531 -0.90625 6.46875 -0.84375 C 6.550781 -0.78125 6.644531 -0.75 6.75 -0.75 C 6.90625 -0.75 7.078125 -0.785156 7.265625 -0.859375 L 7.359375 -0.609375 L 5.390625 0.203125 L 5.0625 0.203125 L 5.0625 -1.203125 C 4.488281 -0.585938 4.050781 -0.195312 3.75 -0.03125 C 3.457031 0.125 3.144531 0.203125 2.8125 0.203125 C 2.445312 0.203125 2.128906 0.0976562 1.859375 -0.109375 C 1.585938 -0.328125 1.394531 -0.601562 1.28125 -0.9375 C 1.175781 -1.28125 1.125 -1.757812 1.125 -2.375 L 1.125 -5.328125 C 1.125 -5.640625 1.09375 -5.851562 1.03125 -5.96875 C 0.96875 -6.09375 0.867188 -6.1875 0.734375 -6.25 C 0.597656 -6.3125 0.359375 -6.34375 0.015625 -6.34375 L 0.015625 -6.609375 L 2.328125 -6.609375 L 2.328125 -2.1875 C 2.328125 -1.570312 2.429688 -1.164062 2.640625 -0.96875 C 2.859375 -0.78125 3.117188 -0.6875 3.421875 -0.6875 C 3.628906 -0.6875 3.863281 -0.75 4.125 -0.875 C 4.382812 -1.007812 4.695312 -1.257812 5.0625 -1.625 L 5.0625 -5.359375 C 5.0625 -5.734375 4.992188 -5.988281 4.859375 -6.125 C 4.722656 -6.257812 4.4375 -6.332031 4 -6.34375 L 4 -6.609375 Z M 6.25 -6.609375 \"/>\n</symbol>\n<symbol overflow=\"visible\" id=\"glyph0-5\">\n<path style=\"stroke:none;\" d=\"M 2.375 -8.78125 L 2.375 -6.609375 L 3.921875 -6.609375 L 3.921875 -6.09375 L 2.375 -6.09375 L 2.375 -1.8125 C 2.375 -1.382812 2.4375 -1.097656 2.5625 -0.953125 C 2.6875 -0.804688 2.84375 -0.734375 3.03125 -0.734375 C 3.1875 -0.734375 3.335938 -0.78125 3.484375 -0.875 C 3.640625 -0.976562 3.757812 -1.125 3.84375 -1.3125 L 4.125 -1.3125 C 3.957031 -0.84375 3.71875 -0.488281 3.40625 -0.25 C 3.101562 -0.0078125 2.785156 0.109375 2.453125 0.109375 C 2.234375 0.109375 2.019531 0.046875 1.8125 -0.078125 C 1.601562 -0.203125 1.445312 -0.375 1.34375 -0.59375 C 1.238281 -0.820312 1.1875 -1.175781 1.1875 -1.65625 L 1.1875 -6.09375 L 0.140625 -6.09375 L 0.140625 -6.34375 C 0.410156 -6.445312 0.679688 -6.625 0.953125 -6.875 C 1.234375 -7.125 1.476562 -7.421875 1.6875 -7.765625 C 1.800781 -7.953125 1.957031 -8.289062 2.15625 -8.78125 Z M 2.375 -8.78125 \"/>\n</symbol>\n<symbol overflow=\"visible\" id=\"glyph0-6\">\n<path style=\"stroke:none;\" d=\"\"/>\n</symbol>\n<symbol overflow=\"visible\" id=\"glyph0-7\">\n<path style=\"stroke:none;\" d=\"M 8.46875 -2.703125 L 8.703125 -2.65625 L 7.859375 0 L 0.296875 0 L 0.296875 -0.265625 L 0.65625 -0.265625 C 1.070312 -0.265625 1.367188 -0.398438 1.546875 -0.671875 C 1.648438 -0.828125 1.703125 -1.179688 1.703125 -1.734375 L 1.703125 -8.046875 C 1.703125 -8.660156 1.632812 -9.039062 1.5 -9.1875 C 1.3125 -9.40625 1.03125 -9.515625 0.65625 -9.515625 L 0.296875 -9.515625 L 0.296875 -9.78125 L 4.71875 -9.78125 L 4.71875 -9.515625 C 4.195312 -9.515625 3.832031 -9.460938 3.625 -9.359375 C 3.414062 -9.265625 3.269531 -9.140625 3.1875 -8.984375 C 3.113281 -8.828125 3.078125 -8.457031 3.078125 -7.875 L 3.078125 -1.734375 C 3.078125 -1.335938 3.117188 -1.066406 3.203125 -0.921875 C 3.253906 -0.816406 3.335938 -0.738281 3.453125 -0.6875 C 3.578125 -0.644531 3.957031 -0.625 4.59375 -0.625 L 5.3125 -0.625 C 6.0625 -0.625 6.585938 -0.675781 6.890625 -0.78125 C 7.191406 -0.894531 7.46875 -1.09375 7.71875 -1.375 C 7.96875 -1.65625 8.21875 -2.097656 8.46875 -2.703125 Z M 8.46875 -2.703125 \"/>\n</symbol>\n<symbol overflow=\"visible\" id=\"glyph0-8\">\n<path style=\"stroke:none;\" d=\"M 4.203125 -0.953125 C 3.523438 -0.429688 3.097656 -0.128906 2.921875 -0.046875 C 2.660156 0.078125 2.382812 0.140625 2.09375 0.140625 C 1.632812 0.140625 1.257812 -0.015625 0.96875 -0.328125 C 0.675781 -0.640625 0.53125 -1.050781 0.53125 -1.5625 C 0.53125 -1.882812 0.601562 -2.164062 0.75 -2.40625 C 0.9375 -2.726562 1.273438 -3.03125 1.765625 -3.3125 C 2.253906 -3.601562 3.066406 -3.957031 4.203125 -4.375 L 4.203125 -4.640625 C 4.203125 -5.296875 4.097656 -5.742188 3.890625 -5.984375 C 3.679688 -6.234375 3.378906 -6.359375 2.984375 -6.359375 C 2.671875 -6.359375 2.425781 -6.273438 2.25 -6.109375 C 2.070312 -5.953125 1.984375 -5.765625 1.984375 -5.546875 L 2 -5.140625 C 2 -4.910156 1.941406 -4.734375 1.828125 -4.609375 C 1.710938 -4.492188 1.566406 -4.4375 1.390625 -4.4375 C 1.210938 -4.4375 1.066406 -4.5 0.953125 -4.625 C 0.835938 -4.75 0.78125 -4.921875 0.78125 -5.140625 C 0.78125 -5.554688 0.988281 -5.9375 1.40625 -6.28125 C 1.832031 -6.625 2.425781 -6.796875 3.1875 -6.796875 C 3.78125 -6.796875 4.265625 -6.695312 4.640625 -6.5 C 4.921875 -6.351562 5.128906 -6.117188 5.265625 -5.796875 C 5.347656 -5.597656 5.390625 -5.175781 5.390625 -4.53125 L 5.390625 -2.296875 C 5.390625 -1.660156 5.398438 -1.269531 5.421875 -1.125 C 5.453125 -0.988281 5.492188 -0.894531 5.546875 -0.84375 C 5.597656 -0.800781 5.660156 -0.78125 5.734375 -0.78125 C 5.816406 -0.78125 5.882812 -0.796875 5.9375 -0.828125 C 6.039062 -0.890625 6.238281 -1.066406 6.53125 -1.359375 L 6.53125 -0.953125 C 5.988281 -0.234375 5.472656 0.125 4.984375 0.125 C 4.742188 0.125 4.550781 0.046875 4.40625 -0.109375 C 4.269531 -0.273438 4.203125 -0.554688 4.203125 -0.953125 Z M 4.203125 -1.421875 L 4.203125 -3.9375 C 3.472656 -3.644531 3.003906 -3.441406 2.796875 -3.328125 C 2.421875 -3.109375 2.148438 -2.882812 1.984375 -2.65625 C 1.816406 -2.425781 1.734375 -2.175781 1.734375 -1.90625 C 1.734375 -1.5625 1.835938 -1.273438 2.046875 -1.046875 C 2.253906 -0.816406 2.492188 -0.703125 2.765625 -0.703125 C 3.128906 -0.703125 3.609375 -0.941406 4.203125 -1.421875 Z M 4.203125 -1.421875 \"/>\n</symbol>\n<symbol overflow=\"visible\" id=\"glyph0-9\">\n<path style=\"stroke:none;\" d=\"M 0.09375 -6.609375 L 3.171875 -6.609375 L 3.171875 -6.34375 L 3.015625 -6.34375 C 2.796875 -6.34375 2.628906 -6.296875 2.515625 -6.203125 C 2.410156 -6.109375 2.359375 -5.988281 2.359375 -5.84375 C 2.359375 -5.65625 2.441406 -5.394531 2.609375 -5.0625 L 4.203125 -1.734375 L 5.6875 -5.390625 C 5.769531 -5.585938 5.8125 -5.78125 5.8125 -5.96875 C 5.8125 -6.050781 5.796875 -6.117188 5.765625 -6.171875 C 5.722656 -6.222656 5.660156 -6.265625 5.578125 -6.296875 C 5.492188 -6.328125 5.347656 -6.34375 5.140625 -6.34375 L 5.140625 -6.609375 L 7.296875 -6.609375 L 7.296875 -6.34375 C 7.117188 -6.320312 6.976562 -6.28125 6.875 -6.21875 C 6.78125 -6.164062 6.675781 -6.054688 6.5625 -5.890625 C 6.519531 -5.828125 6.441406 -5.644531 6.328125 -5.34375 L 3.640625 1.25 C 3.378906 1.882812 3.035156 2.363281 2.609375 2.6875 C 2.191406 3.019531 1.789062 3.1875 1.40625 3.1875 C 1.113281 3.1875 0.875 3.101562 0.6875 2.9375 C 0.507812 2.78125 0.421875 2.59375 0.421875 2.375 C 0.421875 2.175781 0.488281 2.015625 0.625 1.890625 C 0.757812 1.765625 0.941406 1.703125 1.171875 1.703125 C 1.328125 1.703125 1.539062 1.757812 1.8125 1.875 C 2.007812 1.9375 2.128906 1.96875 2.171875 1.96875 C 2.316406 1.96875 2.472656 1.894531 2.640625 1.75 C 2.816406 1.601562 2.992188 1.316406 3.171875 0.890625 L 3.640625 -0.265625 L 1.265625 -5.234375 C 1.191406 -5.390625 1.078125 -5.578125 0.921875 -5.796875 C 0.796875 -5.960938 0.695312 -6.078125 0.625 -6.140625 C 0.507812 -6.210938 0.332031 -6.28125 0.09375 -6.34375 Z M 0.09375 -6.609375 \"/>\n</symbol>\n<symbol overflow=\"visible\" id=\"glyph0-10\">\n<path style=\"stroke:none;\" d=\"M 1.578125 -4.109375 C 1.566406 -3.128906 1.800781 -2.363281 2.28125 -1.8125 C 2.757812 -1.25 3.328125 -0.96875 3.984375 -0.96875 C 4.410156 -0.96875 4.785156 -1.085938 5.109375 -1.328125 C 5.429688 -1.566406 5.695312 -1.972656 5.90625 -2.546875 L 6.140625 -2.40625 C 6.035156 -1.75 5.738281 -1.148438 5.25 -0.609375 C 4.769531 -0.0664062 4.164062 0.203125 3.4375 0.203125 C 2.644531 0.203125 1.960938 -0.101562 1.390625 -0.71875 C 0.828125 -1.34375 0.546875 -2.175781 0.546875 -3.21875 C 0.546875 -4.34375 0.832031 -5.222656 1.40625 -5.859375 C 1.988281 -6.492188 2.71875 -6.8125 3.59375 -6.8125 C 4.332031 -6.8125 4.941406 -6.566406 5.421875 -6.078125 C 5.898438 -5.585938 6.140625 -4.929688 6.140625 -4.109375 Z M 1.578125 -4.53125 L 4.625 -4.53125 C 4.601562 -4.957031 4.554688 -5.253906 4.484375 -5.421875 C 4.359375 -5.691406 4.175781 -5.90625 3.9375 -6.0625 C 3.695312 -6.21875 3.445312 -6.296875 3.1875 -6.296875 C 2.789062 -6.296875 2.4375 -6.140625 2.125 -5.828125 C 1.8125 -5.515625 1.628906 -5.082031 1.578125 -4.53125 Z M 1.578125 -4.53125 \"/>\n</symbol>\n<symbol overflow=\"visible\" id=\"glyph0-11\">\n<path style=\"stroke:none;\" d=\"M 2.390625 -6.796875 L 2.390625 -5.3125 C 2.941406 -6.300781 3.507812 -6.796875 4.09375 -6.796875 C 4.351562 -6.796875 4.570312 -6.710938 4.75 -6.546875 C 4.925781 -6.390625 5.015625 -6.207031 5.015625 -6 C 5.015625 -5.8125 4.953125 -5.648438 4.828125 -5.515625 C 4.703125 -5.390625 4.550781 -5.328125 4.375 -5.328125 C 4.207031 -5.328125 4.019531 -5.410156 3.8125 -5.578125 C 3.601562 -5.742188 3.445312 -5.828125 3.34375 -5.828125 C 3.257812 -5.828125 3.164062 -5.78125 3.0625 -5.6875 C 2.84375 -5.488281 2.617188 -5.160156 2.390625 -4.703125 L 2.390625 -1.546875 C 2.390625 -1.179688 2.4375 -0.90625 2.53125 -0.71875 C 2.59375 -0.582031 2.703125 -0.472656 2.859375 -0.390625 C 3.015625 -0.304688 3.242188 -0.265625 3.546875 -0.265625 L 3.546875 0 L 0.171875 0 L 0.171875 -0.265625 C 0.503906 -0.265625 0.753906 -0.316406 0.921875 -0.421875 C 1.035156 -0.492188 1.117188 -0.613281 1.171875 -0.78125 C 1.191406 -0.863281 1.203125 -1.097656 1.203125 -1.484375 L 1.203125 -4.046875 C 1.203125 -4.816406 1.1875 -5.273438 1.15625 -5.421875 C 1.125 -5.566406 1.066406 -5.671875 0.984375 -5.734375 C 0.898438 -5.804688 0.796875 -5.84375 0.671875 -5.84375 C 0.523438 -5.84375 0.359375 -5.804688 0.171875 -5.734375 L 0.09375 -5.984375 L 2.09375 -6.796875 Z M 2.390625 -6.796875 \"/>\n</symbol>\n<symbol overflow=\"visible\" id=\"glyph0-12\">\n<path style=\"stroke:none;\" d=\"M 0.984375 -9.34375 L 2.453125 -9.984375 L 2.703125 -9.984375 L 2.703125 -5.703125 C 2.703125 -5.421875 2.71875 -5.242188 2.75 -5.171875 C 2.78125 -5.128906 2.820312 -5.097656 2.875 -5.078125 C 2.945312 -5.035156 3.132812 -5.015625 3.4375 -5.015625 L 3.4375 -4.78125 L 1.09375 -4.78125 L 1.09375 -5.015625 C 1.40625 -5.015625 1.597656 -5.03125 1.671875 -5.0625 C 1.734375 -5.09375 1.773438 -5.132812 1.796875 -5.1875 C 1.816406 -5.238281 1.828125 -5.410156 1.828125 -5.703125 L 1.828125 -8.40625 C 1.828125 -8.75 1.816406 -8.972656 1.796875 -9.078125 C 1.785156 -9.160156 1.757812 -9.21875 1.71875 -9.25 C 1.6875 -9.28125 1.640625 -9.296875 1.578125 -9.296875 C 1.484375 -9.296875 1.320312 -9.25 1.09375 -9.15625 Z M 0.984375 -9.34375 \"/>\n</symbol>\n<symbol overflow=\"visible\" id=\"glyph0-13\">\n<path style=\"stroke:none;\" d=\"M 4.140625 -5.890625 L 3.703125 -4.78125 L 0.140625 -4.78125 L 0.140625 -5 C 1.328125 -5.914062 2.117188 -6.664062 2.515625 -7.25 C 2.753906 -7.601562 2.875 -7.945312 2.875 -8.28125 C 2.875 -8.570312 2.769531 -8.816406 2.5625 -9.015625 C 2.363281 -9.222656 2.113281 -9.328125 1.8125 -9.328125 C 1.539062 -9.328125 1.300781 -9.253906 1.09375 -9.109375 C 0.882812 -8.960938 0.726562 -8.75 0.625 -8.46875 L 0.296875 -8.46875 C 0.367188 -8.9375 0.554688 -9.304688 0.859375 -9.578125 C 1.160156 -9.847656 1.554688 -9.984375 2.046875 -9.984375 C 2.554688 -9.984375 2.96875 -9.84375 3.28125 -9.5625 C 3.601562 -9.28125 3.765625 -8.96875 3.765625 -8.625 C 3.765625 -8.300781 3.648438 -7.960938 3.421875 -7.609375 C 3.066406 -7.046875 2.359375 -6.335938 1.296875 -5.484375 L 2.640625 -5.484375 C 3.054688 -5.484375 3.332031 -5.507812 3.46875 -5.5625 C 3.601562 -5.625 3.722656 -5.734375 3.828125 -5.890625 Z M 4.140625 -5.890625 \"/>\n</symbol>\n<symbol overflow=\"visible\" id=\"glyph0-14\">\n<path style=\"stroke:none;\" d=\"M 3.03125 -5.234375 L 7.578125 -5.234375 L 7.578125 -8.03125 C 7.578125 -8.53125 7.546875 -8.863281 7.484375 -9.03125 C 7.429688 -9.144531 7.332031 -9.25 7.1875 -9.34375 C 6.976562 -9.457031 6.757812 -9.515625 6.53125 -9.515625 L 6.171875 -9.515625 L 6.171875 -9.78125 L 10.359375 -9.78125 L 10.359375 -9.515625 L 10.015625 -9.515625 C 9.785156 -9.515625 9.566406 -9.457031 9.359375 -9.34375 C 9.203125 -9.269531 9.097656 -9.15625 9.046875 -9 C 8.992188 -8.84375 8.96875 -8.519531 8.96875 -8.03125 L 8.96875 -1.734375 C 8.96875 -1.234375 9 -0.90625 9.0625 -0.75 C 9.101562 -0.625 9.195312 -0.519531 9.34375 -0.4375 C 9.5625 -0.320312 9.785156 -0.265625 10.015625 -0.265625 L 10.359375 -0.265625 L 10.359375 0 L 6.171875 0 L 6.171875 -0.265625 L 6.53125 -0.265625 C 6.925781 -0.265625 7.210938 -0.382812 7.390625 -0.625 C 7.515625 -0.769531 7.578125 -1.140625 7.578125 -1.734375 L 7.578125 -4.703125 L 3.03125 -4.703125 L 3.03125 -1.734375 C 3.03125 -1.234375 3.0625 -0.90625 3.125 -0.75 C 3.175781 -0.625 3.28125 -0.519531 3.4375 -0.4375 C 3.632812 -0.320312 3.851562 -0.265625 4.09375 -0.265625 L 4.4375 -0.265625 L 4.4375 0 L 0.25 0 L 0.25 -0.265625 L 0.59375 -0.265625 C 1 -0.265625 1.296875 -0.382812 1.484375 -0.625 C 1.597656 -0.769531 1.65625 -1.140625 1.65625 -1.734375 L 1.65625 -8.03125 C 1.65625 -8.53125 1.625 -8.863281 1.5625 -9.03125 C 1.507812 -9.144531 1.410156 -9.25 1.265625 -9.34375 C 1.046875 -9.457031 0.820312 -9.515625 0.59375 -9.515625 L 0.25 -9.515625 L 0.25 -9.78125 L 4.4375 -9.78125 L 4.4375 -9.515625 L 4.09375 -9.515625 C 3.851562 -9.515625 3.632812 -9.457031 3.4375 -9.34375 C 3.28125 -9.269531 3.171875 -9.15625 3.109375 -9 C 3.054688 -8.84375 3.03125 -8.519531 3.03125 -8.03125 Z M 3.03125 -5.234375 \"/>\n</symbol>\n<symbol overflow=\"visible\" id=\"glyph0-15\">\n<path style=\"stroke:none;\" d=\"M 2.140625 -10.25 C 2.335938 -10.25 2.507812 -10.175781 2.65625 -10.03125 C 2.800781 -9.894531 2.875 -9.726562 2.875 -9.53125 C 2.875 -9.320312 2.800781 -9.144531 2.65625 -9 C 2.507812 -8.851562 2.335938 -8.78125 2.140625 -8.78125 C 1.941406 -8.78125 1.769531 -8.851562 1.625 -9 C 1.476562 -9.144531 1.40625 -9.320312 1.40625 -9.53125 C 1.40625 -9.726562 1.472656 -9.894531 1.609375 -10.03125 C 1.753906 -10.175781 1.929688 -10.25 2.140625 -10.25 Z M 2.734375 -6.796875 L 2.734375 -1.5 C 2.734375 -1.082031 2.765625 -0.804688 2.828125 -0.671875 C 2.890625 -0.535156 2.976562 -0.429688 3.09375 -0.359375 C 3.207031 -0.296875 3.421875 -0.265625 3.734375 -0.265625 L 3.734375 0 L 0.53125 0 L 0.53125 -0.265625 C 0.851562 -0.265625 1.066406 -0.296875 1.171875 -0.359375 C 1.285156 -0.421875 1.375 -0.519531 1.4375 -0.65625 C 1.507812 -0.800781 1.546875 -1.082031 1.546875 -1.5 L 1.546875 -4.03125 C 1.546875 -4.75 1.523438 -5.210938 1.484375 -5.421875 C 1.441406 -5.578125 1.382812 -5.6875 1.3125 -5.75 C 1.25 -5.8125 1.15625 -5.84375 1.03125 -5.84375 C 0.894531 -5.84375 0.726562 -5.804688 0.53125 -5.734375 L 0.4375 -5.984375 L 2.421875 -6.796875 Z M 2.734375 -6.796875 \"/>\n</symbol>\n<symbol overflow=\"visible\" id=\"glyph0-16\">\n<path style=\"stroke:none;\" d=\"M 5.125 -0.75 C 4.800781 -0.40625 4.484375 -0.160156 4.171875 -0.015625 C 3.867188 0.128906 3.539062 0.203125 3.1875 0.203125 C 2.46875 0.203125 1.835938 -0.0976562 1.296875 -0.703125 C 0.753906 -1.304688 0.484375 -2.082031 0.484375 -3.03125 C 0.484375 -3.976562 0.78125 -4.84375 1.375 -5.625 C 1.976562 -6.414062 2.75 -6.8125 3.6875 -6.8125 C 4.269531 -6.8125 4.75 -6.625 5.125 -6.25 L 5.125 -7.46875 C 5.125 -8.21875 5.101562 -8.679688 5.0625 -8.859375 C 5.03125 -9.035156 4.972656 -9.15625 4.890625 -9.21875 C 4.816406 -9.28125 4.722656 -9.3125 4.609375 -9.3125 C 4.484375 -9.3125 4.316406 -9.269531 4.109375 -9.1875 L 4.015625 -9.4375 L 5.984375 -10.25 L 6.3125 -10.25 L 6.3125 -2.609375 C 6.3125 -1.835938 6.328125 -1.363281 6.359375 -1.1875 C 6.398438 -1.019531 6.457031 -0.90625 6.53125 -0.84375 C 6.613281 -0.78125 6.710938 -0.75 6.828125 -0.75 C 6.953125 -0.75 7.125 -0.785156 7.34375 -0.859375 L 7.421875 -0.609375 L 5.453125 0.203125 L 5.125 0.203125 Z M 5.125 -1.25 L 5.125 -4.65625 C 5.09375 -4.976562 5.003906 -5.273438 4.859375 -5.546875 C 4.722656 -5.816406 4.535156 -6.019531 4.296875 -6.15625 C 4.054688 -6.289062 3.820312 -6.359375 3.59375 -6.359375 C 3.175781 -6.359375 2.800781 -6.171875 2.46875 -5.796875 C 2.03125 -5.296875 1.8125 -4.5625 1.8125 -3.59375 C 1.8125 -2.625 2.019531 -1.878906 2.4375 -1.359375 C 2.863281 -0.847656 3.335938 -0.59375 3.859375 -0.59375 C 4.296875 -0.59375 4.71875 -0.8125 5.125 -1.25 Z M 5.125 -1.25 \"/>\n</symbol>\n<symbol overflow=\"visible\" id=\"glyph0-17\">\n<path style=\"stroke:none;\" d=\"M 5.40625 -10 C 6.664062 -10 7.757812 -9.515625 8.6875 -8.546875 C 9.625 -7.585938 10.09375 -6.390625 10.09375 -4.953125 C 10.09375 -3.460938 9.625 -2.226562 8.6875 -1.25 C 7.75 -0.269531 6.613281 0.21875 5.28125 0.21875 C 3.9375 0.21875 2.804688 -0.253906 1.890625 -1.203125 C 0.972656 -2.160156 0.515625 -3.398438 0.515625 -4.921875 C 0.515625 -6.472656 1.046875 -7.738281 2.109375 -8.71875 C 3.023438 -9.570312 4.125 -10 5.40625 -10 Z M 5.265625 -9.46875 C 4.390625 -9.46875 3.6875 -9.144531 3.15625 -8.5 C 2.5 -7.695312 2.171875 -6.515625 2.171875 -4.953125 C 2.171875 -3.359375 2.507812 -2.128906 3.1875 -1.265625 C 3.71875 -0.609375 4.410156 -0.28125 5.265625 -0.28125 C 6.179688 -0.28125 6.9375 -0.640625 7.53125 -1.359375 C 8.132812 -2.078125 8.4375 -3.207031 8.4375 -4.75 C 8.4375 -6.425781 8.109375 -7.675781 7.453125 -8.5 C 6.921875 -9.144531 6.191406 -9.46875 5.265625 -9.46875 Z M 5.265625 -9.46875 \"/>\n</symbol>\n<symbol overflow=\"visible\" id=\"glyph1-0\">\n<path style=\"stroke:none;\" d=\"M 0.734375 2.609375 L 0.734375 -10.40625 L 8.125 -10.40625 L 8.125 2.609375 Z M 1.5625 1.78125 L 7.296875 1.78125 L 7.296875 -9.578125 L 1.5625 -9.578125 Z M 1.5625 1.78125 \"/>\n</symbol>\n<symbol overflow=\"visible\" id=\"glyph1-1\">\n<path style=\"stroke:none;\" d=\"M 6.1875 -1.15625 L 9.359375 -1.15625 L 9.359375 0 L 6.1875 0 C 5.351562 0 4.578125 -0.203125 3.859375 -0.609375 C 3.148438 -1.023438 2.585938 -1.585938 2.171875 -2.296875 C 1.765625 -3.015625 1.5625 -3.789062 1.5625 -4.625 C 1.5625 -5.46875 1.765625 -6.242188 2.171875 -6.953125 C 2.585938 -7.660156 3.148438 -8.21875 3.859375 -8.625 C 4.578125 -9.039062 5.351562 -9.25 6.1875 -9.25 L 9.359375 -9.25 L 9.359375 -8.109375 L 6.1875 -8.109375 C 5.5625 -8.109375 4.984375 -7.953125 4.453125 -7.640625 C 3.921875 -7.328125 3.5 -6.898438 3.1875 -6.359375 C 2.976562 -5.992188 2.835938 -5.613281 2.765625 -5.21875 L 9.359375 -5.21875 L 9.359375 -4.046875 L 2.765625 -4.046875 C 2.835938 -3.640625 2.976562 -3.253906 3.1875 -2.890625 C 3.5 -2.359375 3.921875 -1.9375 4.453125 -1.625 C 4.984375 -1.3125 5.5625 -1.15625 6.1875 -1.15625 Z M 6.1875 -1.15625 \"/>\n</symbol>\n<symbol overflow=\"visible\" id=\"glyph1-2\">\n<path style=\"stroke:none;\" d=\"\"/>\n</symbol>\n<symbol overflow=\"visible\" id=\"glyph1-3\">\n<path style=\"stroke:none;\" d=\"M 7.84375 -5.25 C 8.269531 -5.1875 8.628906 -5.046875 8.921875 -4.828125 C 9.210938 -4.609375 9.46875 -4.289062 9.6875 -3.875 L 11.25 -0.875 L 12.359375 -0.875 L 12.359375 0 L 8.8125 0 L 7.109375 -3.25 C 6.773438 -3.925781 6.488281 -4.351562 6.25 -4.53125 C 6.019531 -4.71875 5.695312 -4.8125 5.28125 -4.8125 L 4.84375 -4.8125 L 4.84375 -0.875 L 6.234375 -0.875 L 6.234375 0 L 0.6875 0 L 0.6875 -0.875 L 2.0625 -0.875 L 2.0625 -9.890625 L 0.6875 -9.890625 L 0.6875 -10.765625 L 6.828125 -10.765625 C 8.078125 -10.765625 9.039062 -10.507812 9.71875 -10 C 10.40625 -9.5 10.75 -8.789062 10.75 -7.875 C 10.75 -7.125 10.503906 -6.53125 10.015625 -6.09375 C 9.535156 -5.65625 8.8125 -5.375 7.84375 -5.25 Z M 4.84375 -5.6875 L 5.796875 -5.6875 C 6.460938 -5.6875 6.976562 -5.867188 7.34375 -6.234375 C 7.707031 -6.597656 7.890625 -7.117188 7.890625 -7.796875 C 7.890625 -8.472656 7.707031 -8.988281 7.34375 -9.34375 C 6.976562 -9.707031 6.460938 -9.890625 5.796875 -9.890625 L 4.84375 -9.890625 Z M 3.96875 -0.875 L 3.96875 -9.890625 L 2.9375 -9.890625 L 2.9375 -0.875 Z M 10.265625 -0.875 L 8.90625 -3.46875 C 8.75 -3.769531 8.578125 -3.988281 8.390625 -4.125 C 8.210938 -4.257812 7.988281 -4.347656 7.71875 -4.390625 L 7.453125 -4.4375 C 7.554688 -4.269531 7.695312 -4.003906 7.875 -3.640625 L 9.34375 -0.875 Z M 8.140625 -9.765625 C 8.253906 -9.640625 8.359375 -9.476562 8.453125 -9.28125 C 8.671875 -8.820312 8.773438 -8.328125 8.765625 -7.796875 C 8.753906 -7.597656 8.742188 -7.429688 8.734375 -7.296875 C 8.722656 -7.171875 8.691406 -7.007812 8.640625 -6.8125 C 8.585938 -6.613281 8.515625 -6.425781 8.421875 -6.25 C 8.867188 -6.375 9.207031 -6.535156 9.4375 -6.734375 C 9.726562 -7.003906 9.875 -7.382812 9.875 -7.875 C 9.875 -8.195312 9.820312 -8.472656 9.71875 -8.703125 C 9.613281 -8.941406 9.445312 -9.144531 9.21875 -9.3125 C 8.9375 -9.519531 8.578125 -9.671875 8.140625 -9.765625 Z M 8.140625 -9.765625 \"/>\n</symbol>\n</g>\n</defs>\n<g id=\"surface1\">\n<path style=\"fill-rule:nonzero;fill:rgb(0%,0%,0%);fill-opacity:1;stroke-width:0.5;stroke-linecap:butt;stroke-linejoin:miter;stroke:rgb(31.372549%,31.372549%,31.372549%);stroke-opacity:1;stroke-miterlimit:4;\" d=\"M 640.165968 197.999999 L 820.165542 398.001288 \" transform=\"matrix(1.231144,0,0,1.231144,-703.820349,-99.489249)\"/>\n<path style=\"fill-rule:nonzero;fill:rgb(0%,0%,0%);fill-opacity:1;stroke-width:0.5;stroke-linecap:butt;stroke-linejoin:miter;stroke:rgb(31.372549%,31.372549%,31.372549%);stroke-opacity:1;stroke-miterlimit:4;\" d=\"M 640.165968 197.999999 L 820.165542 438.001545 \" transform=\"matrix(1.231144,0,0,1.231144,-703.820349,-99.489249)\"/>\n<path style=\"fill-rule:nonzero;fill:rgb(0%,0%,0%);fill-opacity:1;stroke-width:0.5;stroke-linecap:butt;stroke-linejoin:miter;stroke:rgb(31.372549%,31.372549%,31.372549%);stroke-opacity:1;stroke-miterlimit:4;\" d=\"M 640.165968 238.000257 L 820.165542 398.001288 \" transform=\"matrix(1.231144,0,0,1.231144,-703.820349,-99.489249)\"/>\n<path style=\"fill-rule:nonzero;fill:rgb(0%,0%,0%);fill-opacity:1;stroke-width:0.5;stroke-linecap:butt;stroke-linejoin:miter;stroke:rgb(31.372549%,31.372549%,31.372549%);stroke-opacity:1;stroke-miterlimit:4;\" d=\"M 640.165968 238.000257 L 820.165542 438.001545 \" transform=\"matrix(1.231144,0,0,1.231144,-703.820349,-99.489249)\"/>\n<path style=\"fill-rule:nonzero;fill:rgb(0%,0%,0%);fill-opacity:1;stroke-width:0.5;stroke-linecap:butt;stroke-linejoin:miter;stroke:rgb(31.372549%,31.372549%,31.372549%);stroke-opacity:1;stroke-miterlimit:4;\" d=\"M 640.165968 278.000515 L 820.165542 398.001288 \" transform=\"matrix(1.231144,0,0,1.231144,-703.820349,-99.489249)\"/>\n<path style=\"fill-rule:nonzero;fill:rgb(0%,0%,0%);fill-opacity:1;stroke-width:0.5;stroke-linecap:butt;stroke-linejoin:miter;stroke:rgb(31.372549%,31.372549%,31.372549%);stroke-opacity:1;stroke-miterlimit:4;\" d=\"M 640.165968 278.000515 L 820.165542 438.001545 \" transform=\"matrix(1.231144,0,0,1.231144,-703.820349,-99.489249)\"/>\n<path style=\"fill-rule:nonzero;fill:rgb(0%,0%,0%);fill-opacity:1;stroke-width:0.5;stroke-linecap:butt;stroke-linejoin:miter;stroke:rgb(31.372549%,31.372549%,31.372549%);stroke-opacity:1;stroke-miterlimit:4;\" d=\"M 640.165968 318.000772 L 820.165542 398.001288 \" transform=\"matrix(1.231144,0,0,1.231144,-703.820349,-99.489249)\"/>\n<path style=\"fill-rule:nonzero;fill:rgb(0%,0%,0%);fill-opacity:1;stroke-width:0.5;stroke-linecap:butt;stroke-linejoin:miter;stroke:rgb(31.372549%,31.372549%,31.372549%);stroke-opacity:1;stroke-miterlimit:4;\" d=\"M 640.165968 318.000772 L 820.165542 438.001545 \" transform=\"matrix(1.231144,0,0,1.231144,-703.820349,-99.489249)\"/>\n<path style=\"fill-rule:nonzero;fill:rgb(0%,0%,0%);fill-opacity:1;stroke-width:0.5;stroke-linecap:butt;stroke-linejoin:miter;stroke:rgb(31.372549%,31.372549%,31.372549%);stroke-opacity:1;stroke-miterlimit:4;\" d=\"M 640.165968 358.00103 L 820.165542 398.001288 \" transform=\"matrix(1.231144,0,0,1.231144,-703.820349,-99.489249)\"/>\n<path style=\"fill-rule:nonzero;fill:rgb(0%,0%,0%);fill-opacity:1;stroke-width:0.5;stroke-linecap:butt;stroke-linejoin:miter;stroke:rgb(31.372549%,31.372549%,31.372549%);stroke-opacity:1;stroke-miterlimit:4;\" d=\"M 640.165968 358.00103 L 820.165542 438.001545 \" transform=\"matrix(1.231144,0,0,1.231144,-703.820349,-99.489249)\"/>\n<path style=\"fill:none;stroke-width:0.5;stroke-linecap:butt;stroke-linejoin:miter;stroke:rgb(31.372549%,31.372549%,31.372549%);stroke-opacity:1;stroke-miterlimit:4;\" d=\"M 640.165968 398.001288 L 820.165542 398.001288 \" transform=\"matrix(1.231144,0,0,1.231144,-703.820349,-99.489249)\"/>\n<path style=\"fill-rule:nonzero;fill:rgb(0%,0%,0%);fill-opacity:1;stroke-width:0.5;stroke-linecap:butt;stroke-linejoin:miter;stroke:rgb(31.372549%,31.372549%,31.372549%);stroke-opacity:1;stroke-miterlimit:4;\" d=\"M 640.165968 398.001288 L 820.165542 438.001545 \" transform=\"matrix(1.231144,0,0,1.231144,-703.820349,-99.489249)\"/>\n<path style=\"fill-rule:nonzero;fill:rgb(0%,0%,0%);fill-opacity:1;stroke-width:0.5;stroke-linecap:butt;stroke-linejoin:miter;stroke:rgb(31.372549%,31.372549%,31.372549%);stroke-opacity:1;stroke-miterlimit:4;\" d=\"M 640.165968 438.001545 L 820.165542 398.001288 \" transform=\"matrix(1.231144,0,0,1.231144,-703.820349,-99.489249)\"/>\n<path style=\"fill:none;stroke-width:0.5;stroke-linecap:butt;stroke-linejoin:miter;stroke:rgb(31.372549%,31.372549%,31.372549%);stroke-opacity:1;stroke-miterlimit:4;\" d=\"M 640.165968 438.001545 L 820.165542 438.001545 \" transform=\"matrix(1.231144,0,0,1.231144,-703.820349,-99.489249)\"/>\n<path style=\"fill-rule:nonzero;fill:rgb(0%,0%,0%);fill-opacity:1;stroke-width:0.5;stroke-linecap:butt;stroke-linejoin:miter;stroke:rgb(31.372549%,31.372549%,31.372549%);stroke-opacity:1;stroke-miterlimit:4;\" d=\"M 640.165968 477.99863 L 820.165542 398.001288 \" transform=\"matrix(1.231144,0,0,1.231144,-703.820349,-99.489249)\"/>\n<path style=\"fill-rule:nonzero;fill:rgb(0%,0%,0%);fill-opacity:1;stroke-width:0.5;stroke-linecap:butt;stroke-linejoin:miter;stroke:rgb(31.372549%,31.372549%,31.372549%);stroke-opacity:1;stroke-miterlimit:4;\" d=\"M 640.165968 477.99863 L 820.165542 438.001545 \" transform=\"matrix(1.231144,0,0,1.231144,-703.820349,-99.489249)\"/>\n<path style=\"fill-rule:nonzero;fill:rgb(0%,0%,0%);fill-opacity:1;stroke-width:0.5;stroke-linecap:butt;stroke-linejoin:miter;stroke:rgb(31.372549%,31.372549%,31.372549%);stroke-opacity:1;stroke-miterlimit:4;\" d=\"M 640.165968 517.998888 L 820.165542 398.001288 \" transform=\"matrix(1.231144,0,0,1.231144,-703.820349,-99.489249)\"/>\n<path style=\"fill-rule:nonzero;fill:rgb(0%,0%,0%);fill-opacity:1;stroke-width:0.5;stroke-linecap:butt;stroke-linejoin:miter;stroke:rgb(31.372549%,31.372549%,31.372549%);stroke-opacity:1;stroke-miterlimit:4;\" d=\"M 640.165968 517.998888 L 820.165542 438.001545 \" transform=\"matrix(1.231144,0,0,1.231144,-703.820349,-99.489249)\"/>\n<path style=\"fill-rule:nonzero;fill:rgb(0%,0%,0%);fill-opacity:1;stroke-width:0.5;stroke-linecap:butt;stroke-linejoin:miter;stroke:rgb(31.372549%,31.372549%,31.372549%);stroke-opacity:1;stroke-miterlimit:4;\" d=\"M 640.165968 557.999145 L 820.165542 398.001288 \" transform=\"matrix(1.231144,0,0,1.231144,-703.820349,-99.489249)\"/>\n<path style=\"fill-rule:nonzero;fill:rgb(0%,0%,0%);fill-opacity:1;stroke-width:0.5;stroke-linecap:butt;stroke-linejoin:miter;stroke:rgb(31.372549%,31.372549%,31.372549%);stroke-opacity:1;stroke-miterlimit:4;\" d=\"M 640.165968 557.999145 L 820.165542 438.001545 \" transform=\"matrix(1.231144,0,0,1.231144,-703.820349,-99.489249)\"/>\n<path style=\"fill-rule:nonzero;fill:rgb(0%,0%,0%);fill-opacity:1;stroke-width:0.5;stroke-linecap:butt;stroke-linejoin:miter;stroke:rgb(31.372549%,31.372549%,31.372549%);stroke-opacity:1;stroke-miterlimit:4;\" d=\"M 640.165968 597.999403 L 820.165542 398.001288 \" transform=\"matrix(1.231144,0,0,1.231144,-703.820349,-99.489249)\"/>\n<path style=\"fill-rule:nonzero;fill:rgb(0%,0%,0%);fill-opacity:1;stroke-width:0.5;stroke-linecap:butt;stroke-linejoin:miter;stroke:rgb(31.372549%,31.372549%,31.372549%);stroke-opacity:1;stroke-miterlimit:4;\" d=\"M 640.165968 597.999403 L 820.165542 438.001545 \" transform=\"matrix(1.231144,0,0,1.231144,-703.820349,-99.489249)\"/>\n<path style=\"fill-rule:nonzero;fill:rgb(0%,0%,0%);fill-opacity:1;stroke-width:0.5;stroke-linecap:butt;stroke-linejoin:miter;stroke:rgb(31.372549%,31.372549%,31.372549%);stroke-opacity:1;stroke-miterlimit:4;\" d=\"M 640.165968 637.999661 L 820.165542 398.001288 \" transform=\"matrix(1.231144,0,0,1.231144,-703.820349,-99.489249)\"/>\n<path style=\"fill-rule:nonzero;fill:rgb(0%,0%,0%);fill-opacity:1;stroke-width:0.5;stroke-linecap:butt;stroke-linejoin:miter;stroke:rgb(31.372549%,31.372549%,31.372549%);stroke-opacity:1;stroke-miterlimit:4;\" d=\"M 640.165968 637.999661 L 820.165542 438.001545 \" transform=\"matrix(1.231144,0,0,1.231144,-703.820349,-99.489249)\"/>\n<path style=\"fill:none;stroke-width:0.5;stroke-linecap:butt;stroke-linejoin:miter;stroke:rgb(31.372549%,31.372549%,31.372549%);stroke-opacity:1;stroke-miterlimit:4;\" d=\"M 820.165542 398.001288 L 1000.165115 398.001288 \" transform=\"matrix(1.231144,0,0,1.231144,-703.820349,-99.489249)\"/>\n<path style=\"fill-rule:nonzero;fill:rgb(0%,0%,0%);fill-opacity:1;stroke-width:0.5;stroke-linecap:butt;stroke-linejoin:miter;stroke:rgb(31.372549%,31.372549%,31.372549%);stroke-opacity:1;stroke-miterlimit:4;\" d=\"M 820.165542 438.001545 L 1000.165115 398.001288 \" transform=\"matrix(1.231144,0,0,1.231144,-703.820349,-99.489249)\"/>\n<path style=\"fill-rule:nonzero;fill:rgb(0%,0%,0%);fill-opacity:1;stroke-width:0.5;stroke-linecap:butt;stroke-linejoin:miter;stroke:rgb(31.372549%,31.372549%,31.372549%);stroke-opacity:1;stroke-miterlimit:4;\" d=\"M 820.165542 398.001288 L 1000.165115 438.001545 \" transform=\"matrix(1.231144,0,0,1.231144,-703.820349,-99.489249)\"/>\n<path style=\"fill:none;stroke-width:0.5;stroke-linecap:butt;stroke-linejoin:miter;stroke:rgb(31.372549%,31.372549%,31.372549%);stroke-opacity:1;stroke-miterlimit:4;\" d=\"M 820.165542 438.001545 L 1000.165115 438.001545 \" transform=\"matrix(1.231144,0,0,1.231144,-703.820349,-99.489249)\"/>\n<path style=\"fill-rule:nonzero;fill:rgb(0%,0%,0%);fill-opacity:1;stroke-width:0.5;stroke-linecap:butt;stroke-linejoin:miter;stroke:rgb(31.372549%,31.372549%,31.372549%);stroke-opacity:1;stroke-miterlimit:4;\" d=\"M 1000.165115 398.001288 L 1180.16786 417.99983 \" transform=\"matrix(1.231144,0,0,1.231144,-703.820349,-99.489249)\"/>\n<path style=\"fill-rule:nonzero;fill:rgb(0%,0%,0%);fill-opacity:1;stroke-width:0.5;stroke-linecap:butt;stroke-linejoin:miter;stroke:rgb(31.372549%,31.372549%,31.372549%);stroke-opacity:1;stroke-miterlimit:4;\" d=\"M 1000.165115 438.001545 L 1180.16786 417.99983 \" transform=\"matrix(1.231144,0,0,1.231144,-703.820349,-99.489249)\"/>\n<path style=\"fill-rule:nonzero;fill:rgb(100%,100%,100%);fill-opacity:1;stroke-width:1;stroke-linecap:butt;stroke-linejoin:miter;stroke:rgb(20%,20%,20%);stroke-opacity:1;stroke-miterlimit:4;\" d=\"M 650.166826 197.999999 C 650.166826 203.52395 645.689919 208.000857 640.165968 208.000857 C 634.64519 208.000857 630.165111 203.52395 630.165111 197.999999 C 630.165111 192.476049 634.64519 187.999142 640.165968 187.999142 C 645.689919 187.999142 650.166826 192.476049 650.166826 197.999999 Z M 650.166826 197.999999 \" transform=\"matrix(1.231144,0,0,1.231144,-703.820349,-99.489249)\"/>\n<path style=\"fill-rule:nonzero;fill:rgb(100%,100%,100%);fill-opacity:1;stroke-width:1;stroke-linecap:butt;stroke-linejoin:miter;stroke:rgb(20%,20%,20%);stroke-opacity:1;stroke-miterlimit:4;\" d=\"M 650.166826 238.000257 C 650.166826 243.524208 645.689919 248.001115 640.165968 248.001115 C 634.64519 248.001115 630.165111 243.524208 630.165111 238.000257 C 630.165111 232.476306 634.64519 227.999399 640.165968 227.999399 C 645.689919 227.999399 650.166826 232.476306 650.166826 238.000257 Z M 650.166826 238.000257 \" transform=\"matrix(1.231144,0,0,1.231144,-703.820349,-99.489249)\"/>\n<path style=\"fill-rule:nonzero;fill:rgb(100%,100%,100%);fill-opacity:1;stroke-width:1;stroke-linecap:butt;stroke-linejoin:miter;stroke:rgb(20%,20%,20%);stroke-opacity:1;stroke-miterlimit:4;\" d=\"M 650.166826 278.000515 C 650.166826 283.521293 645.689919 288.001372 640.165968 288.001372 C 634.64519 288.001372 630.165111 283.521293 630.165111 278.000515 C 630.165111 272.476564 634.64519 267.999657 640.165968 267.999657 C 645.689919 267.999657 650.166826 272.476564 650.166826 278.000515 Z M 650.166826 278.000515 \" transform=\"matrix(1.231144,0,0,1.231144,-703.820349,-99.489249)\"/>\n<path style=\"fill-rule:nonzero;fill:rgb(100%,100%,100%);fill-opacity:1;stroke-width:1;stroke-linecap:butt;stroke-linejoin:miter;stroke:rgb(20%,20%,20%);stroke-opacity:1;stroke-miterlimit:4;\" d=\"M 650.166826 318.000772 C 650.166826 323.52155 645.689919 327.998457 640.165968 327.998457 C 634.64519 327.998457 630.165111 323.52155 630.165111 318.000772 C 630.165111 312.476822 634.64519 307.999915 640.165968 307.999915 C 645.689919 307.999915 650.166826 312.476822 650.166826 318.000772 Z M 650.166826 318.000772 \" transform=\"matrix(1.231144,0,0,1.231144,-703.820349,-99.489249)\"/>\n<path style=\"fill-rule:nonzero;fill:rgb(100%,100%,100%);fill-opacity:1;stroke-width:1;stroke-linecap:butt;stroke-linejoin:miter;stroke:rgb(20%,20%,20%);stroke-opacity:1;stroke-miterlimit:4;\" d=\"M 650.166826 358.00103 C 650.166826 363.521808 645.689919 367.998715 640.165968 367.998715 C 634.64519 367.998715 630.165111 363.521808 630.165111 358.00103 C 630.165111 352.477079 634.64519 348.000172 640.165968 348.000172 C 645.689919 348.000172 650.166826 352.477079 650.166826 358.00103 Z M 650.166826 358.00103 \" transform=\"matrix(1.231144,0,0,1.231144,-703.820349,-99.489249)\"/>\n<path style=\"fill-rule:nonzero;fill:rgb(100%,100%,100%);fill-opacity:1;stroke-width:1;stroke-linecap:butt;stroke-linejoin:miter;stroke:rgb(20%,20%,20%);stroke-opacity:1;stroke-miterlimit:4;\" d=\"M 650.166826 398.001288 C 650.166826 403.522066 645.689919 407.998972 640.165968 407.998972 C 634.64519 407.998972 630.165111 403.522066 630.165111 398.001288 C 630.165111 392.477337 634.64519 388.00043 640.165968 388.00043 C 645.689919 388.00043 650.166826 392.477337 650.166826 398.001288 Z M 650.166826 398.001288 \" transform=\"matrix(1.231144,0,0,1.231144,-703.820349,-99.489249)\"/>\n<path style=\"fill-rule:nonzero;fill:rgb(100%,100%,100%);fill-opacity:1;stroke-width:1;stroke-linecap:butt;stroke-linejoin:miter;stroke:rgb(20%,20%,20%);stroke-opacity:1;stroke-miterlimit:4;\" d=\"M 650.166826 438.001545 C 650.166826 443.522323 645.689919 447.99923 640.165968 447.99923 C 634.64519 447.99923 630.165111 443.522323 630.165111 438.001545 C 630.165111 432.477595 634.64519 428.000688 640.165968 428.000688 C 645.689919 428.000688 650.166826 432.477595 650.166826 438.001545 Z M 650.166826 438.001545 \" transform=\"matrix(1.231144,0,0,1.231144,-703.820349,-99.489249)\"/>\n<path style=\"fill-rule:nonzero;fill:rgb(100%,100%,100%);fill-opacity:1;stroke-width:1;stroke-linecap:butt;stroke-linejoin:miter;stroke:rgb(20%,20%,20%);stroke-opacity:1;stroke-miterlimit:4;\" d=\"M 650.166826 477.99863 C 650.166826 483.522581 645.689919 487.999488 640.165968 487.999488 C 634.64519 487.999488 630.165111 483.522581 630.165111 477.99863 C 630.165111 472.477852 634.64519 468.000945 640.165968 468.000945 C 645.689919 468.000945 650.166826 472.477852 650.166826 477.99863 Z M 650.166826 477.99863 \" transform=\"matrix(1.231144,0,0,1.231144,-703.820349,-99.489249)\"/>\n<path style=\"fill-rule:nonzero;fill:rgb(100%,100%,100%);fill-opacity:1;stroke-width:1;stroke-linecap:butt;stroke-linejoin:miter;stroke:rgb(20%,20%,20%);stroke-opacity:1;stroke-miterlimit:4;\" d=\"M 650.166826 517.998888 C 650.166826 523.522839 645.689919 527.999745 640.165968 527.999745 C 634.64519 527.999745 630.165111 523.522839 630.165111 517.998888 C 630.165111 512.47811 634.64519 508.001203 640.165968 508.001203 C 645.689919 508.001203 650.166826 512.47811 650.166826 517.998888 Z M 650.166826 517.998888 \" transform=\"matrix(1.231144,0,0,1.231144,-703.820349,-99.489249)\"/>\n<path style=\"fill-rule:nonzero;fill:rgb(100%,100%,100%);fill-opacity:1;stroke-width:1;stroke-linecap:butt;stroke-linejoin:miter;stroke:rgb(20%,20%,20%);stroke-opacity:1;stroke-miterlimit:4;\" d=\"M 650.166826 557.999145 C 650.166826 563.523096 645.689919 568.000003 640.165968 568.000003 C 634.64519 568.000003 630.165111 563.523096 630.165111 557.999145 C 630.165111 552.478367 634.64519 548.001461 640.165968 548.001461 C 645.689919 548.001461 650.166826 552.478367 650.166826 557.999145 Z M 650.166826 557.999145 \" transform=\"matrix(1.231144,0,0,1.231144,-703.820349,-99.489249)\"/>\n<path style=\"fill-rule:nonzero;fill:rgb(100%,100%,100%);fill-opacity:1;stroke-width:1;stroke-linecap:butt;stroke-linejoin:miter;stroke:rgb(20%,20%,20%);stroke-opacity:1;stroke-miterlimit:4;\" d=\"M 650.166826 597.999403 C 650.166826 603.523354 645.689919 608.000261 640.165968 608.000261 C 634.64519 608.000261 630.165111 603.523354 630.165111 597.999403 C 630.165111 592.478625 634.64519 587.998546 640.165968 587.998546 C 645.689919 587.998546 650.166826 592.478625 650.166826 597.999403 Z M 650.166826 597.999403 \" transform=\"matrix(1.231144,0,0,1.231144,-703.820349,-99.489249)\"/>\n<path style=\"fill-rule:nonzero;fill:rgb(100%,100%,100%);fill-opacity:1;stroke-width:1;stroke-linecap:butt;stroke-linejoin:miter;stroke:rgb(20%,20%,20%);stroke-opacity:1;stroke-miterlimit:4;\" d=\"M 650.166826 637.999661 C 650.166826 643.523612 645.689919 648.000518 640.165968 648.000518 C 634.64519 648.000518 630.165111 643.523612 630.165111 637.999661 C 630.165111 632.47571 634.64519 627.998803 640.165968 627.998803 C 645.689919 627.998803 650.166826 632.47571 650.166826 637.999661 Z M 650.166826 637.999661 \" transform=\"matrix(1.231144,0,0,1.231144,-703.820349,-99.489249)\"/>\n<path style=\"fill-rule:nonzero;fill:rgb(100%,100%,100%);fill-opacity:1;stroke-width:1;stroke-linecap:butt;stroke-linejoin:miter;stroke:rgb(20%,20%,20%);stroke-opacity:1;stroke-miterlimit:4;\" d=\"M 830.166399 398.001288 C 830.166399 403.522066 825.689492 407.998972 820.165542 407.998972 C 814.644764 407.998972 810.167857 403.522066 810.167857 398.001288 C 810.167857 392.477337 814.644764 388.00043 820.165542 388.00043 C 825.689492 388.00043 830.166399 392.477337 830.166399 398.001288 Z M 830.166399 398.001288 \" transform=\"matrix(1.231144,0,0,1.231144,-703.820349,-99.489249)\"/>\n<path style=\"fill-rule:nonzero;fill:rgb(100%,100%,100%);fill-opacity:1;stroke-width:1;stroke-linecap:butt;stroke-linejoin:miter;stroke:rgb(20%,20%,20%);stroke-opacity:1;stroke-miterlimit:4;\" d=\"M 830.166399 438.001545 C 830.166399 443.522323 825.689492 447.99923 820.165542 447.99923 C 814.644764 447.99923 810.167857 443.522323 810.167857 438.001545 C 810.167857 432.477595 814.644764 428.000688 820.165542 428.000688 C 825.689492 428.000688 830.166399 432.477595 830.166399 438.001545 Z M 830.166399 438.001545 \" transform=\"matrix(1.231144,0,0,1.231144,-703.820349,-99.489249)\"/>\n<path style=\"fill-rule:nonzero;fill:rgb(100%,100%,100%);fill-opacity:1;stroke-width:1;stroke-linecap:butt;stroke-linejoin:miter;stroke:rgb(20%,20%,20%);stroke-opacity:1;stroke-miterlimit:4;\" d=\"M 1010.165972 398.001288 C 1010.165972 403.522066 1005.689065 407.998972 1000.165115 407.998972 C 994.644337 407.998972 990.16743 403.522066 990.16743 398.001288 C 990.16743 392.477337 994.644337 388.00043 1000.165115 388.00043 C 1005.689065 388.00043 1010.165972 392.477337 1010.165972 398.001288 Z M 1010.165972 398.001288 \" transform=\"matrix(1.231144,0,0,1.231144,-703.820349,-99.489249)\"/>\n<g style=\"fill:rgb(0%,0%,0%);fill-opacity:1;\">\n  <use xlink:href=\"#glyph0-1\" x=\"41.226562\" y=\"740.396907\"/>\n  <use xlink:href=\"#glyph0-2\" x=\"46.146331\" y=\"740.396907\"/>\n  <use xlink:href=\"#glyph0-3\" x=\"53.533197\" y=\"740.396907\"/>\n  <use xlink:href=\"#glyph0-4\" x=\"60.920064\" y=\"740.396907\"/>\n  <use xlink:href=\"#glyph0-5\" x=\"68.30693\" y=\"740.396907\"/>\n  <use xlink:href=\"#glyph0-6\" x=\"72.411547\" y=\"740.396907\"/>\n  <use xlink:href=\"#glyph0-7\" x=\"76.10498\" y=\"740.396907\"/>\n  <use xlink:href=\"#glyph0-8\" x=\"85.129365\" y=\"740.396907\"/>\n  <use xlink:href=\"#glyph0-9\" x=\"91.686651\" y=\"740.396907\"/>\n  <use xlink:href=\"#glyph0-10\" x=\"99.073518\" y=\"740.396907\"/>\n  <use xlink:href=\"#glyph0-11\" x=\"105.630805\" y=\"740.396907\"/>\n  <use xlink:href=\"#glyph0-6\" x=\"110.550573\" y=\"740.396907\"/>\n</g>\n<g style=\"fill:rgb(0%,0%,0%);fill-opacity:1;\">\n  <use xlink:href=\"#glyph1-1\" x=\"114.244006\" y=\"740.396907\"/>\n  <use xlink:href=\"#glyph1-2\" x=\"125.180031\" y=\"740.396907\"/>\n  <use xlink:href=\"#glyph1-3\" x=\"129.876174\" y=\"740.396907\"/>\n</g>\n<g style=\"fill:rgb(0%,0%,0%);fill-opacity:1;\">\n  <use xlink:href=\"#glyph0-12\" x=\"142.153954\" y=\"740.396907\"/>\n  <use xlink:href=\"#glyph0-13\" x=\"146.583188\" y=\"740.396907\"/>\n</g>\n<g style=\"fill:rgb(0%,0%,0%);fill-opacity:1;\">\n  <use xlink:href=\"#glyph0-14\" x=\"262.832031\" y=\"740.396907\"/>\n  <use xlink:href=\"#glyph0-15\" x=\"273.501148\" y=\"740.396907\"/>\n  <use xlink:href=\"#glyph0-16\" x=\"277.605764\" y=\"740.396907\"/>\n  <use xlink:href=\"#glyph0-16\" x=\"284.992631\" y=\"740.396907\"/>\n  <use xlink:href=\"#glyph0-10\" x=\"292.379497\" y=\"740.396907\"/>\n  <use xlink:href=\"#glyph0-2\" x=\"298.936784\" y=\"740.396907\"/>\n  <use xlink:href=\"#glyph0-6\" x=\"306.32365\" y=\"740.396907\"/>\n  <use xlink:href=\"#glyph0-7\" x=\"310.017084\" y=\"740.396907\"/>\n  <use xlink:href=\"#glyph0-8\" x=\"319.041468\" y=\"740.396907\"/>\n  <use xlink:href=\"#glyph0-9\" x=\"325.598755\" y=\"740.396907\"/>\n  <use xlink:href=\"#glyph0-10\" x=\"332.985622\" y=\"740.396907\"/>\n  <use xlink:href=\"#glyph0-11\" x=\"339.542908\" y=\"740.396907\"/>\n  <use xlink:href=\"#glyph0-6\" x=\"344.462677\" y=\"740.396907\"/>\n</g>\n<g style=\"fill:rgb(0%,0%,0%);fill-opacity:1;\">\n  <use xlink:href=\"#glyph1-1\" x=\"348.15611\" y=\"740.396907\"/>\n  <use xlink:href=\"#glyph1-2\" x=\"359.092135\" y=\"740.396907\"/>\n  <use xlink:href=\"#glyph1-3\" x=\"363.788278\" y=\"740.396907\"/>\n</g>\n<g style=\"fill:rgb(0%,0%,0%);fill-opacity:1;\">\n  <use xlink:href=\"#glyph0-13\" x=\"376.066058\" y=\"740.396907\"/>\n</g>\n<g style=\"fill:rgb(0%,0%,0%);fill-opacity:1;\">\n  <use xlink:href=\"#glyph0-14\" x=\"484.4375\" y=\"740.396907\"/>\n  <use xlink:href=\"#glyph0-15\" x=\"495.106617\" y=\"740.396907\"/>\n  <use xlink:href=\"#glyph0-16\" x=\"499.211233\" y=\"740.396907\"/>\n  <use xlink:href=\"#glyph0-16\" x=\"506.598099\" y=\"740.396907\"/>\n  <use xlink:href=\"#glyph0-10\" x=\"513.984966\" y=\"740.396907\"/>\n  <use xlink:href=\"#glyph0-2\" x=\"520.542253\" y=\"740.396907\"/>\n  <use xlink:href=\"#glyph0-6\" x=\"527.929119\" y=\"740.396907\"/>\n  <use xlink:href=\"#glyph0-7\" x=\"531.622552\" y=\"740.396907\"/>\n  <use xlink:href=\"#glyph0-8\" x=\"540.646937\" y=\"740.396907\"/>\n  <use xlink:href=\"#glyph0-9\" x=\"547.204224\" y=\"740.396907\"/>\n  <use xlink:href=\"#glyph0-10\" x=\"554.59109\" y=\"740.396907\"/>\n  <use xlink:href=\"#glyph0-11\" x=\"561.148377\" y=\"740.396907\"/>\n  <use xlink:href=\"#glyph0-6\" x=\"566.068146\" y=\"740.396907\"/>\n</g>\n<g style=\"fill:rgb(0%,0%,0%);fill-opacity:1;\">\n  <use xlink:href=\"#glyph1-1\" x=\"569.761579\" y=\"740.396907\"/>\n  <use xlink:href=\"#glyph1-2\" x=\"580.697604\" y=\"740.396907\"/>\n  <use xlink:href=\"#glyph1-3\" x=\"585.393746\" y=\"740.396907\"/>\n</g>\n<g style=\"fill:rgb(0%,0%,0%);fill-opacity:1;\">\n  <use xlink:href=\"#glyph0-13\" x=\"597.671527\" y=\"740.396907\"/>\n</g>\n<path style=\"fill-rule:nonzero;fill:rgb(100%,100%,100%);fill-opacity:1;stroke-width:1;stroke-linecap:butt;stroke-linejoin:miter;stroke:rgb(20%,20%,20%);stroke-opacity:1;stroke-miterlimit:4;\" d=\"M 1010.165972 438.001545 C 1010.165972 443.522323 1005.689065 447.99923 1000.165115 447.99923 C 994.644337 447.99923 990.16743 443.522323 990.16743 438.001545 C 990.16743 432.477595 994.644337 428.000688 1000.165115 428.000688 C 1005.689065 428.000688 1010.165972 432.477595 1010.165972 438.001545 Z M 1010.165972 438.001545 \" transform=\"matrix(1.231144,0,0,1.231144,-703.820349,-99.489249)\"/>\n<path style=\"fill-rule:nonzero;fill:rgb(100%,100%,100%);fill-opacity:1;stroke-width:1;stroke-linecap:butt;stroke-linejoin:miter;stroke:rgb(20%,20%,20%);stroke-opacity:1;stroke-miterlimit:4;\" d=\"M 1190.165545 417.99983 C 1190.165545 423.523781 1185.688638 428.000688 1180.16786 428.000688 C 1174.64391 428.000688 1170.167003 423.523781 1170.167003 417.99983 C 1170.167003 412.475879 1174.64391 407.998972 1180.16786 407.998972 C 1185.688638 407.998972 1190.165545 412.475879 1190.165545 417.99983 Z M 1190.165545 417.99983 \" transform=\"matrix(1.231144,0,0,1.231144,-703.820349,-99.489249)\"/>\n<g style=\"fill:rgb(0%,0%,0%);fill-opacity:1;\">\n  <use xlink:href=\"#glyph0-17\" x=\"706.046875\" y=\"740.396907\"/>\n  <use xlink:href=\"#glyph0-4\" x=\"716.715992\" y=\"740.396907\"/>\n  <use xlink:href=\"#glyph0-5\" x=\"724.102858\" y=\"740.396907\"/>\n  <use xlink:href=\"#glyph0-3\" x=\"728.207474\" y=\"740.396907\"/>\n  <use xlink:href=\"#glyph0-4\" x=\"735.594341\" y=\"740.396907\"/>\n  <use xlink:href=\"#glyph0-5\" x=\"742.981207\" y=\"740.396907\"/>\n  <use xlink:href=\"#glyph0-6\" x=\"747.085824\" y=\"740.396907\"/>\n  <use xlink:href=\"#glyph0-7\" x=\"750.779257\" y=\"740.396907\"/>\n  <use xlink:href=\"#glyph0-8\" x=\"759.803642\" y=\"740.396907\"/>\n  <use xlink:href=\"#glyph0-9\" x=\"766.360928\" y=\"740.396907\"/>\n  <use xlink:href=\"#glyph0-10\" x=\"773.747795\" y=\"740.396907\"/>\n  <use xlink:href=\"#glyph0-11\" x=\"780.305082\" y=\"740.396907\"/>\n  <use xlink:href=\"#glyph0-6\" x=\"785.22485\" y=\"740.396907\"/>\n</g>\n<g style=\"fill:rgb(0%,0%,0%);fill-opacity:1;\">\n  <use xlink:href=\"#glyph1-1\" x=\"788.918283\" y=\"740.396907\"/>\n  <use xlink:href=\"#glyph1-2\" x=\"799.854308\" y=\"740.396907\"/>\n  <use xlink:href=\"#glyph1-3\" x=\"804.550451\" y=\"740.396907\"/>\n</g>\n<g style=\"fill:rgb(0%,0%,0%);fill-opacity:1;\">\n  <use xlink:href=\"#glyph0-12\" x=\"816.828231\" y=\"740.396907\"/>\n</g>\n</g>\n</svg>"
          },
          "metadata": {}
        }
      ]
    },
    {
      "cell_type": "code",
      "source": [
        "#Compile the model\n",
        "model_3.compile(loss='binary_crossentropy', optimizer='adam', metrics=['accuracy'])\n",
        "\n",
        "#Fit training data to the model\n",
        "model_3.fit(x_train, y_train, epochs=10, batch_size=32, validation_data=(x_test, y_test))\n"
      ],
      "metadata": {
        "colab": {
          "base_uri": "https://localhost:8080/"
        },
        "outputId": "3b8d87d0-fcaa-415c-c74a-c579eef5b48c",
        "id": "S2hdGoTSc_yC"
      },
      "execution_count": 32,
      "outputs": [
        {
          "output_type": "stream",
          "name": "stdout",
          "text": [
            "Epoch 1/10\n",
            "143/143 [==============================] - 1s 4ms/step - loss: 0.6770 - accuracy: 0.7537 - val_loss: 0.6614 - val_accuracy: 0.7538\n",
            "Epoch 2/10\n",
            "143/143 [==============================] - 0s 3ms/step - loss: 0.6487 - accuracy: 0.7537 - val_loss: 0.6363 - val_accuracy: 0.7538\n",
            "Epoch 3/10\n",
            "143/143 [==============================] - 0s 3ms/step - loss: 0.6260 - accuracy: 0.7537 - val_loss: 0.6164 - val_accuracy: 0.7538\n",
            "Epoch 4/10\n",
            "143/143 [==============================] - 0s 2ms/step - loss: 0.6085 - accuracy: 0.7539 - val_loss: 0.6010 - val_accuracy: 0.7538\n",
            "Epoch 5/10\n",
            "143/143 [==============================] - 0s 3ms/step - loss: 0.5949 - accuracy: 0.7539 - val_loss: 0.5891 - val_accuracy: 0.7538\n",
            "Epoch 6/10\n",
            "143/143 [==============================] - 0s 3ms/step - loss: 0.5845 - accuracy: 0.7539 - val_loss: 0.5804 - val_accuracy: 0.7538\n",
            "Epoch 7/10\n",
            "143/143 [==============================] - 0s 3ms/step - loss: 0.5769 - accuracy: 0.7539 - val_loss: 0.5737 - val_accuracy: 0.7538\n",
            "Epoch 8/10\n",
            "143/143 [==============================] - 0s 3ms/step - loss: 0.5712 - accuracy: 0.7539 - val_loss: 0.5691 - val_accuracy: 0.7538\n",
            "Epoch 9/10\n",
            "143/143 [==============================] - 0s 3ms/step - loss: 0.5671 - accuracy: 0.7539 - val_loss: 0.5655 - val_accuracy: 0.7538\n",
            "Epoch 10/10\n",
            "143/143 [==============================] - 0s 3ms/step - loss: 0.5640 - accuracy: 0.7539 - val_loss: 0.5629 - val_accuracy: 0.7538\n"
          ]
        },
        {
          "output_type": "execute_result",
          "data": {
            "text/plain": [
              "<keras.callbacks.History at 0x7ff4a76de770>"
            ]
          },
          "metadata": {},
          "execution_count": 32
        }
      ]
    },
    {
      "cell_type": "code",
      "source": [
        "# Evaluate model on the test data \n",
        "loss, accuracy = model_3.evaluate(x_test, y_test)\n",
        "print(f'Test Loss: {loss:.4f}')\n",
        "print(f'Test Accuracy: {accuracy:.4f}')"
      ],
      "metadata": {
        "colab": {
          "base_uri": "https://localhost:8080/"
        },
        "outputId": "476fc2c5-dbbe-48a9-d062-0b11328219e8",
        "id": "Oyi--J-kc_yC"
      },
      "execution_count": 33,
      "outputs": [
        {
          "output_type": "stream",
          "name": "stdout",
          "text": [
            "61/61 [==============================] - 0s 2ms/step - loss: 0.5629 - accuracy: 0.7538\n",
            "Test Loss: 0.5629\n",
            "Test Accuracy: 0.7538\n"
          ]
        }
      ]
    },
    {
      "cell_type": "markdown",
      "source": [
        "# Model building 4 (experimenting with hyperbolic tan AF)\n",
        "The fourth model attempts to use a different actvation function, the hyperbolic tan function. Since model_2 returns the highest test score so far, the architecture follows the second model with:\n",
        "\n",
        "* Fully connected neural network (Dense)\n",
        "* First layer   - 4 neurons -AF: tanh\n",
        "* Second layer  - 1 neuron  -AF: Sigmoid\n",
        "\n",
        "Note: A higher test score is obtained, slighth improvement from model_2"
      ],
      "metadata": {
        "id": "eQnS0_Pid3OD"
      }
    },
    {
      "cell_type": "code",
      "source": [
        "# Define the model:\n",
        "model_4 = Sequential()\n",
        "model_4.add(Dense(4, input_dim=12, activation='tanh'))\n",
        "model_4.add(Dense(1, activation='sigmoid'))\n",
        "print(model_4.summary())"
      ],
      "metadata": {
        "colab": {
          "base_uri": "https://localhost:8080/"
        },
        "outputId": "b539a81a-b76f-4552-ad49-5ab868d1d60f",
        "id": "w9ujBDypd3OD"
      },
      "execution_count": 34,
      "outputs": [
        {
          "output_type": "stream",
          "name": "stdout",
          "text": [
            "Model: \"sequential_3\"\n",
            "_________________________________________________________________\n",
            " Layer (type)                Output Shape              Param #   \n",
            "=================================================================\n",
            " dense_7 (Dense)             (None, 4)                 52        \n",
            "                                                                 \n",
            " dense_8 (Dense)             (None, 1)                 5         \n",
            "                                                                 \n",
            "=================================================================\n",
            "Total params: 57\n",
            "Trainable params: 57\n",
            "Non-trainable params: 0\n",
            "_________________________________________________________________\n",
            "None\n"
          ]
        }
      ]
    },
    {
      "cell_type": "code",
      "source": [
        "svg4_path = '/content/drive/MyDrive/Colab Notebooks/nn (2).svg'\n",
        "display(SVG(svg4_path))\n"
      ],
      "metadata": {
        "colab": {
          "base_uri": "https://localhost:8080/",
          "height": 840
        },
        "id": "B6rrPaJ9clGc",
        "outputId": "09bc2bfd-30cf-483f-c10b-dd2cdfb5ea79"
      },
      "execution_count": 35,
      "outputs": [
        {
          "output_type": "display_data",
          "data": {
            "text/plain": [
              "<IPython.core.display.SVG object>"
            ],
            "image/svg+xml": "<svg xmlns=\"http://www.w3.org/2000/svg\" xmlns:xlink=\"http://www.w3.org/1999/xlink\" width=\"1707px\" height=\"799px\" viewBox=\"0 0 1279 599\" version=\"1.1\">\n<defs>\n<g>\n<symbol overflow=\"visible\" id=\"glyph0-0\">\n<path style=\"stroke:none;\" d=\"M 1.53125 0 L 1.53125 -6.921875 L 7.0625 -6.921875 L 7.0625 0 Z M 1.703125 -0.171875 L 6.890625 -0.171875 L 6.890625 -6.75 L 1.703125 -6.75 Z M 1.703125 -0.171875 \"/>\n</symbol>\n<symbol overflow=\"visible\" id=\"glyph0-1\">\n<path style=\"stroke:none;\" d=\"M 3.40625 -0.203125 L 3.40625 0 L 0.28125 0 L 0.28125 -0.203125 L 0.53125 -0.203125 C 0.832031 -0.203125 1.050781 -0.289062 1.1875 -0.46875 C 1.28125 -0.582031 1.328125 -0.859375 1.328125 -1.296875 L 1.328125 -6.03125 C 1.328125 -6.40625 1.300781 -6.648438 1.25 -6.765625 C 1.21875 -6.859375 1.144531 -6.9375 1.03125 -7 C 0.875 -7.09375 0.707031 -7.140625 0.53125 -7.140625 L 0.28125 -7.140625 L 0.28125 -7.328125 L 3.40625 -7.328125 L 3.40625 -7.140625 L 3.15625 -7.140625 C 2.851562 -7.140625 2.632812 -7.050781 2.5 -6.875 C 2.40625 -6.757812 2.359375 -6.476562 2.359375 -6.03125 L 2.359375 -1.296875 C 2.359375 -0.921875 2.382812 -0.675781 2.4375 -0.5625 C 2.46875 -0.46875 2.539062 -0.390625 2.65625 -0.328125 C 2.8125 -0.242188 2.976562 -0.203125 3.15625 -0.203125 Z M 3.40625 -0.203125 \"/>\n</symbol>\n<symbol overflow=\"visible\" id=\"glyph0-2\">\n<path style=\"stroke:none;\" d=\"M 1.78125 -4.046875 C 2.363281 -4.742188 2.921875 -5.09375 3.453125 -5.09375 C 3.710938 -5.09375 3.941406 -5.023438 4.140625 -4.890625 C 4.335938 -4.753906 4.492188 -4.535156 4.609375 -4.234375 C 4.679688 -4.015625 4.71875 -3.679688 4.71875 -3.234375 L 4.71875 -1.125 C 4.71875 -0.8125 4.742188 -0.597656 4.796875 -0.484375 C 4.835938 -0.390625 4.898438 -0.316406 4.984375 -0.265625 C 5.078125 -0.210938 5.242188 -0.1875 5.484375 -0.1875 L 5.484375 0 L 3.03125 0 L 3.03125 -0.1875 L 3.140625 -0.1875 C 3.367188 -0.1875 3.53125 -0.222656 3.625 -0.296875 C 3.71875 -0.367188 3.78125 -0.472656 3.8125 -0.609375 C 3.820312 -0.660156 3.828125 -0.832031 3.828125 -1.125 L 3.828125 -3.140625 C 3.828125 -3.597656 3.769531 -3.925781 3.65625 -4.125 C 3.539062 -4.332031 3.34375 -4.4375 3.0625 -4.4375 C 2.632812 -4.4375 2.207031 -4.203125 1.78125 -3.734375 L 1.78125 -1.125 C 1.78125 -0.78125 1.800781 -0.570312 1.84375 -0.5 C 1.894531 -0.394531 1.960938 -0.316406 2.046875 -0.265625 C 2.140625 -0.210938 2.320312 -0.1875 2.59375 -0.1875 L 2.59375 0 L 0.140625 0 L 0.140625 -0.1875 L 0.25 -0.1875 C 0.5 -0.1875 0.664062 -0.25 0.75 -0.375 C 0.84375 -0.507812 0.890625 -0.757812 0.890625 -1.125 L 0.890625 -2.953125 C 0.890625 -3.546875 0.875 -3.90625 0.84375 -4.03125 C 0.820312 -4.164062 0.78125 -4.253906 0.71875 -4.296875 C 0.664062 -4.347656 0.59375 -4.375 0.5 -4.375 C 0.40625 -4.375 0.285156 -4.347656 0.140625 -4.296875 L 0.0625 -4.5 L 1.5625 -5.09375 L 1.78125 -5.09375 Z M 1.78125 -4.046875 \"/>\n</symbol>\n<symbol overflow=\"visible\" id=\"glyph0-3\">\n<path style=\"stroke:none;\" d=\"M -0.015625 -4.46875 L 1.515625 -5.078125 L 1.71875 -5.078125 L 1.71875 -3.921875 C 1.96875 -4.359375 2.222656 -4.660156 2.484375 -4.828125 C 2.742188 -5.003906 3.015625 -5.09375 3.296875 -5.09375 C 3.796875 -5.09375 4.210938 -4.898438 4.546875 -4.515625 C 4.953125 -4.035156 5.15625 -3.414062 5.15625 -2.65625 C 5.15625 -1.800781 4.910156 -1.09375 4.421875 -0.53125 C 4.015625 -0.0703125 3.503906 0.15625 2.890625 0.15625 C 2.628906 0.15625 2.398438 0.113281 2.203125 0.03125 C 2.054688 -0.0195312 1.894531 -0.125 1.71875 -0.28125 L 1.71875 1.21875 C 1.71875 1.5625 1.738281 1.773438 1.78125 1.859375 C 1.820312 1.953125 1.894531 2.023438 2 2.078125 C 2.101562 2.140625 2.289062 2.171875 2.5625 2.171875 L 2.5625 2.375 L -0.03125 2.375 L -0.03125 2.171875 L 0.09375 2.171875 C 0.289062 2.171875 0.460938 2.132812 0.609375 2.0625 C 0.671875 2.019531 0.722656 1.953125 0.765625 1.859375 C 0.804688 1.773438 0.828125 1.550781 0.828125 1.1875 L 0.828125 -3.5 C 0.828125 -3.8125 0.8125 -4.007812 0.78125 -4.09375 C 0.75 -4.1875 0.703125 -4.253906 0.640625 -4.296875 C 0.578125 -4.335938 0.492188 -4.359375 0.390625 -4.359375 C 0.296875 -4.359375 0.179688 -4.335938 0.046875 -4.296875 Z M 1.71875 -3.609375 L 1.71875 -1.75 C 1.71875 -1.351562 1.734375 -1.09375 1.765625 -0.96875 C 1.816406 -0.757812 1.941406 -0.570312 2.140625 -0.40625 C 2.335938 -0.25 2.582031 -0.171875 2.875 -0.171875 C 3.238281 -0.171875 3.53125 -0.3125 3.75 -0.59375 C 4.039062 -0.957031 4.1875 -1.472656 4.1875 -2.140625 C 4.1875 -2.898438 4.019531 -3.484375 3.6875 -3.890625 C 3.457031 -4.171875 3.1875 -4.3125 2.875 -4.3125 C 2.695312 -4.3125 2.523438 -4.269531 2.359375 -4.1875 C 2.234375 -4.125 2.019531 -3.929688 1.71875 -3.609375 Z M 1.71875 -3.609375 \"/>\n</symbol>\n<symbol overflow=\"visible\" id=\"glyph0-4\">\n<path style=\"stroke:none;\" d=\"M 4.6875 -4.953125 L 4.6875 -1.953125 C 4.6875 -1.378906 4.695312 -1.023438 4.71875 -0.890625 C 4.75 -0.765625 4.789062 -0.675781 4.84375 -0.625 C 4.90625 -0.582031 4.976562 -0.5625 5.0625 -0.5625 C 5.175781 -0.5625 5.300781 -0.59375 5.4375 -0.65625 L 5.515625 -0.453125 L 4.03125 0.15625 L 3.796875 0.15625 L 3.796875 -0.890625 C 3.367188 -0.429688 3.039062 -0.140625 2.8125 -0.015625 C 2.59375 0.0976562 2.359375 0.15625 2.109375 0.15625 C 1.835938 0.15625 1.597656 0.078125 1.390625 -0.078125 C 1.179688 -0.242188 1.035156 -0.453125 0.953125 -0.703125 C 0.878906 -0.960938 0.84375 -1.320312 0.84375 -1.78125 L 0.84375 -3.984375 C 0.84375 -4.222656 0.816406 -4.382812 0.765625 -4.46875 C 0.722656 -4.5625 0.648438 -4.632812 0.546875 -4.6875 C 0.453125 -4.738281 0.273438 -4.757812 0.015625 -4.75 L 0.015625 -4.953125 L 1.75 -4.953125 L 1.75 -1.640625 C 1.75 -1.179688 1.828125 -0.878906 1.984375 -0.734375 C 2.140625 -0.585938 2.332031 -0.515625 2.5625 -0.515625 C 2.71875 -0.515625 2.894531 -0.5625 3.09375 -0.65625 C 3.289062 -0.757812 3.523438 -0.945312 3.796875 -1.21875 L 3.796875 -4.03125 C 3.796875 -4.3125 3.742188 -4.5 3.640625 -4.59375 C 3.535156 -4.695312 3.320312 -4.75 3 -4.75 L 3 -4.953125 Z M 4.6875 -4.953125 \"/>\n</symbol>\n<symbol overflow=\"visible\" id=\"glyph0-5\">\n<path style=\"stroke:none;\" d=\"M 1.78125 -6.578125 L 1.78125 -4.953125 L 2.9375 -4.953125 L 2.9375 -4.578125 L 1.78125 -4.578125 L 1.78125 -1.359375 C 1.78125 -1.035156 1.828125 -0.816406 1.921875 -0.703125 C 2.015625 -0.597656 2.132812 -0.546875 2.28125 -0.546875 C 2.394531 -0.546875 2.503906 -0.582031 2.609375 -0.65625 C 2.722656 -0.726562 2.8125 -0.835938 2.875 -0.984375 L 3.09375 -0.984375 C 2.96875 -0.628906 2.785156 -0.363281 2.546875 -0.1875 C 2.316406 -0.0078125 2.082031 0.078125 1.84375 0.078125 C 1.675781 0.078125 1.515625 0.0351562 1.359375 -0.046875 C 1.203125 -0.140625 1.082031 -0.269531 1 -0.4375 C 0.925781 -0.613281 0.890625 -0.882812 0.890625 -1.25 L 0.890625 -4.578125 L 0.109375 -4.578125 L 0.109375 -4.75 C 0.304688 -4.832031 0.507812 -4.96875 0.71875 -5.15625 C 0.925781 -5.34375 1.109375 -5.566406 1.265625 -5.828125 C 1.347656 -5.960938 1.460938 -6.210938 1.609375 -6.578125 Z M 1.78125 -6.578125 \"/>\n</symbol>\n<symbol overflow=\"visible\" id=\"glyph0-6\">\n<path style=\"stroke:none;\" d=\"\"/>\n</symbol>\n<symbol overflow=\"visible\" id=\"glyph0-7\">\n<path style=\"stroke:none;\" d=\"M 6.34375 -2.03125 L 6.515625 -1.984375 L 5.890625 0 L 0.21875 0 L 0.21875 -0.203125 L 0.5 -0.203125 C 0.8125 -0.203125 1.03125 -0.300781 1.15625 -0.5 C 1.238281 -0.613281 1.28125 -0.878906 1.28125 -1.296875 L 1.28125 -6.03125 C 1.28125 -6.488281 1.226562 -6.773438 1.125 -6.890625 C 0.976562 -7.054688 0.769531 -7.140625 0.5 -7.140625 L 0.21875 -7.140625 L 0.21875 -7.328125 L 3.53125 -7.328125 L 3.53125 -7.140625 C 3.144531 -7.140625 2.875 -7.097656 2.71875 -7.015625 C 2.5625 -6.941406 2.453125 -6.847656 2.390625 -6.734375 C 2.335938 -6.617188 2.3125 -6.34375 2.3125 -5.90625 L 2.3125 -1.296875 C 2.3125 -1.003906 2.335938 -0.800781 2.390625 -0.6875 C 2.441406 -0.613281 2.507812 -0.554688 2.59375 -0.515625 C 2.6875 -0.484375 2.96875 -0.46875 3.4375 -0.46875 L 3.96875 -0.46875 C 4.53125 -0.46875 4.925781 -0.507812 5.15625 -0.59375 C 5.382812 -0.675781 5.59375 -0.820312 5.78125 -1.03125 C 5.96875 -1.238281 6.15625 -1.570312 6.34375 -2.03125 Z M 6.34375 -2.03125 \"/>\n</symbol>\n<symbol overflow=\"visible\" id=\"glyph0-8\">\n<path style=\"stroke:none;\" d=\"M 3.15625 -0.71875 C 2.644531 -0.320312 2.320312 -0.09375 2.1875 -0.03125 C 2 0.0625 1.796875 0.109375 1.578125 0.109375 C 1.234375 0.109375 0.945312 -0.00390625 0.71875 -0.234375 C 0.5 -0.472656 0.390625 -0.785156 0.390625 -1.171875 C 0.390625 -1.410156 0.445312 -1.617188 0.5625 -1.796875 C 0.707031 -2.046875 0.960938 -2.273438 1.328125 -2.484375 C 1.691406 -2.703125 2.300781 -2.96875 3.15625 -3.28125 L 3.15625 -3.484375 C 3.15625 -3.972656 3.070312 -4.304688 2.90625 -4.484375 C 2.75 -4.671875 2.523438 -4.765625 2.234375 -4.765625 C 2.003906 -4.765625 1.820312 -4.707031 1.6875 -4.59375 C 1.550781 -4.46875 1.484375 -4.328125 1.484375 -4.171875 L 1.5 -3.84375 C 1.5 -3.6875 1.457031 -3.5625 1.375 -3.46875 C 1.289062 -3.375 1.175781 -3.328125 1.03125 -3.328125 C 0.90625 -3.328125 0.796875 -3.375 0.703125 -3.46875 C 0.617188 -3.5625 0.578125 -3.691406 0.578125 -3.859375 C 0.578125 -4.171875 0.734375 -4.453125 1.046875 -4.703125 C 1.367188 -4.960938 1.816406 -5.09375 2.390625 -5.09375 C 2.828125 -5.09375 3.1875 -5.019531 3.46875 -4.875 C 3.6875 -4.769531 3.84375 -4.597656 3.9375 -4.359375 C 4.007812 -4.203125 4.046875 -3.882812 4.046875 -3.40625 L 4.046875 -1.71875 C 4.046875 -1.25 4.050781 -0.957031 4.0625 -0.84375 C 4.082031 -0.738281 4.113281 -0.664062 4.15625 -0.625 C 4.195312 -0.59375 4.242188 -0.578125 4.296875 -0.578125 C 4.359375 -0.578125 4.410156 -0.59375 4.453125 -0.625 C 4.523438 -0.664062 4.671875 -0.796875 4.890625 -1.015625 L 4.890625 -0.71875 C 4.484375 -0.175781 4.097656 0.09375 3.734375 0.09375 C 3.554688 0.09375 3.414062 0.0351562 3.3125 -0.078125 C 3.207031 -0.203125 3.15625 -0.414062 3.15625 -0.71875 Z M 3.15625 -1.0625 L 3.15625 -2.953125 C 2.601562 -2.734375 2.25 -2.582031 2.09375 -2.5 C 1.8125 -2.332031 1.609375 -2.160156 1.484375 -1.984375 C 1.359375 -1.816406 1.296875 -1.628906 1.296875 -1.421875 C 1.296875 -1.160156 1.375 -0.945312 1.53125 -0.78125 C 1.6875 -0.613281 1.863281 -0.53125 2.0625 -0.53125 C 2.34375 -0.53125 2.707031 -0.707031 3.15625 -1.0625 Z M 3.15625 -1.0625 \"/>\n</symbol>\n<symbol overflow=\"visible\" id=\"glyph0-9\">\n<path style=\"stroke:none;\" d=\"M 0.0625 -4.953125 L 2.375 -4.953125 L 2.375 -4.75 L 2.265625 -4.75 C 2.097656 -4.75 1.972656 -4.710938 1.890625 -4.640625 C 1.804688 -4.578125 1.765625 -4.492188 1.765625 -4.390625 C 1.765625 -4.242188 1.828125 -4.046875 1.953125 -3.796875 L 3.15625 -1.296875 L 4.265625 -4.046875 C 4.328125 -4.191406 4.359375 -4.335938 4.359375 -4.484375 C 4.359375 -4.546875 4.34375 -4.59375 4.3125 -4.625 C 4.28125 -4.664062 4.234375 -4.695312 4.171875 -4.71875 C 4.117188 -4.738281 4.015625 -4.75 3.859375 -4.75 L 3.859375 -4.953125 L 5.46875 -4.953125 L 5.46875 -4.75 C 5.332031 -4.738281 5.226562 -4.710938 5.15625 -4.671875 C 5.082031 -4.628906 5.003906 -4.546875 4.921875 -4.421875 C 4.890625 -4.367188 4.828125 -4.234375 4.734375 -4.015625 L 2.71875 0.9375 C 2.53125 1.414062 2.273438 1.773438 1.953125 2.015625 C 1.640625 2.265625 1.335938 2.390625 1.046875 2.390625 C 0.835938 2.390625 0.660156 2.328125 0.515625 2.203125 C 0.378906 2.078125 0.3125 1.9375 0.3125 1.78125 C 0.3125 1.632812 0.359375 1.515625 0.453125 1.421875 C 0.554688 1.328125 0.695312 1.28125 0.875 1.28125 C 0.988281 1.28125 1.148438 1.320312 1.359375 1.40625 C 1.503906 1.457031 1.59375 1.484375 1.625 1.484375 C 1.738281 1.484375 1.859375 1.425781 1.984375 1.3125 C 2.109375 1.195312 2.238281 0.984375 2.375 0.671875 L 2.71875 -0.1875 L 0.9375 -3.9375 C 0.882812 -4.039062 0.800781 -4.175781 0.6875 -4.34375 C 0.59375 -4.46875 0.519531 -4.554688 0.46875 -4.609375 C 0.382812 -4.660156 0.25 -4.707031 0.0625 -4.75 Z M 0.0625 -4.953125 \"/>\n</symbol>\n<symbol overflow=\"visible\" id=\"glyph0-10\">\n<path style=\"stroke:none;\" d=\"M 1.171875 -3.09375 C 1.171875 -2.351562 1.351562 -1.773438 1.71875 -1.359375 C 2.070312 -0.941406 2.492188 -0.734375 2.984375 -0.734375 C 3.304688 -0.734375 3.585938 -0.820312 3.828125 -1 C 4.066406 -1.175781 4.265625 -1.484375 4.421875 -1.921875 L 4.59375 -1.8125 C 4.519531 -1.3125 4.300781 -0.859375 3.9375 -0.453125 C 3.570312 -0.046875 3.117188 0.15625 2.578125 0.15625 C 1.984375 0.15625 1.472656 -0.0703125 1.046875 -0.53125 C 0.617188 -1 0.40625 -1.625 0.40625 -2.40625 C 0.40625 -3.257812 0.625 -3.921875 1.0625 -4.390625 C 1.5 -4.867188 2.046875 -5.109375 2.703125 -5.109375 C 3.253906 -5.109375 3.707031 -4.925781 4.0625 -4.5625 C 4.414062 -4.195312 4.59375 -3.707031 4.59375 -3.09375 Z M 1.171875 -3.40625 L 3.46875 -3.40625 C 3.445312 -3.71875 3.410156 -3.941406 3.359375 -4.078125 C 3.265625 -4.273438 3.128906 -4.429688 2.953125 -4.546875 C 2.773438 -4.660156 2.585938 -4.71875 2.390625 -4.71875 C 2.085938 -4.71875 1.816406 -4.601562 1.578125 -4.375 C 1.347656 -4.144531 1.210938 -3.820312 1.171875 -3.40625 Z M 1.171875 -3.40625 \"/>\n</symbol>\n<symbol overflow=\"visible\" id=\"glyph0-11\">\n<path style=\"stroke:none;\" d=\"M 1.796875 -5.09375 L 1.796875 -3.984375 C 2.210938 -4.722656 2.632812 -5.09375 3.0625 -5.09375 C 3.257812 -5.09375 3.421875 -5.03125 3.546875 -4.90625 C 3.679688 -4.789062 3.75 -4.65625 3.75 -4.5 C 3.75 -4.363281 3.703125 -4.242188 3.609375 -4.140625 C 3.515625 -4.046875 3.40625 -4 3.28125 -4 C 3.15625 -4 3.015625 -4.0625 2.859375 -4.1875 C 2.703125 -4.3125 2.582031 -4.375 2.5 -4.375 C 2.4375 -4.375 2.367188 -4.335938 2.296875 -4.265625 C 2.128906 -4.117188 1.960938 -3.875 1.796875 -3.53125 L 1.796875 -1.15625 C 1.796875 -0.882812 1.828125 -0.675781 1.890625 -0.53125 C 1.941406 -0.4375 2.023438 -0.351562 2.140625 -0.28125 C 2.265625 -0.21875 2.4375 -0.1875 2.65625 -0.1875 L 2.65625 0 L 0.125 0 L 0.125 -0.1875 C 0.375 -0.1875 0.5625 -0.226562 0.6875 -0.3125 C 0.78125 -0.375 0.84375 -0.46875 0.875 -0.59375 C 0.894531 -0.65625 0.90625 -0.828125 0.90625 -1.109375 L 0.90625 -3.03125 C 0.90625 -3.613281 0.890625 -3.957031 0.859375 -4.0625 C 0.835938 -4.175781 0.796875 -4.253906 0.734375 -4.296875 C 0.671875 -4.347656 0.59375 -4.375 0.5 -4.375 C 0.382812 -4.375 0.257812 -4.347656 0.125 -4.296875 L 0.0625 -4.5 L 1.5625 -5.09375 Z M 1.796875 -5.09375 \"/>\n</symbol>\n<symbol overflow=\"visible\" id=\"glyph0-12\">\n<path style=\"stroke:none;\" d=\"M 0.734375 -7.015625 L 1.84375 -7.484375 L 2.03125 -7.484375 L 2.03125 -4.28125 C 2.03125 -4.0625 2.039062 -3.929688 2.0625 -3.890625 C 2.082031 -3.847656 2.113281 -3.820312 2.15625 -3.8125 C 2.207031 -3.78125 2.347656 -3.765625 2.578125 -3.765625 L 2.578125 -3.59375 L 0.828125 -3.59375 L 0.828125 -3.765625 C 1.054688 -3.765625 1.195312 -3.773438 1.25 -3.796875 C 1.289062 -3.816406 1.320312 -3.847656 1.34375 -3.890625 C 1.363281 -3.929688 1.375 -4.0625 1.375 -4.28125 L 1.375 -6.3125 C 1.375 -6.5625 1.363281 -6.726562 1.34375 -6.8125 C 1.332031 -6.875 1.3125 -6.914062 1.28125 -6.9375 C 1.257812 -6.957031 1.226562 -6.96875 1.1875 -6.96875 C 1.113281 -6.96875 0.992188 -6.929688 0.828125 -6.859375 Z M 0.734375 -7.015625 \"/>\n</symbol>\n<symbol overflow=\"visible\" id=\"glyph0-13\">\n<path style=\"stroke:none;\" d=\"M 3.109375 -4.40625 L 2.78125 -3.59375 L 0.109375 -3.59375 L 0.109375 -3.75 C 0.992188 -4.4375 1.582031 -5 1.875 -5.4375 C 2.0625 -5.707031 2.15625 -5.96875 2.15625 -6.21875 C 2.15625 -6.4375 2.078125 -6.617188 1.921875 -6.765625 C 1.773438 -6.921875 1.585938 -7 1.359375 -7 C 1.148438 -7 0.96875 -6.941406 0.8125 -6.828125 C 0.664062 -6.722656 0.550781 -6.566406 0.46875 -6.359375 L 0.234375 -6.359375 C 0.273438 -6.710938 0.410156 -6.988281 0.640625 -7.1875 C 0.867188 -7.382812 1.164062 -7.484375 1.53125 -7.484375 C 1.914062 -7.484375 2.226562 -7.378906 2.46875 -7.171875 C 2.707031 -6.960938 2.828125 -6.726562 2.828125 -6.46875 C 2.828125 -6.226562 2.738281 -5.972656 2.5625 -5.703125 C 2.289062 -5.285156 1.757812 -4.753906 0.96875 -4.109375 L 1.984375 -4.109375 C 2.296875 -4.109375 2.5 -4.128906 2.59375 -4.171875 C 2.695312 -4.210938 2.785156 -4.289062 2.859375 -4.40625 Z M 3.109375 -4.40625 \"/>\n</symbol>\n<symbol overflow=\"visible\" id=\"glyph0-14\">\n<path style=\"stroke:none;\" d=\"M 2.28125 -3.9375 L 5.671875 -3.9375 L 5.671875 -6.03125 C 5.671875 -6.40625 5.648438 -6.648438 5.609375 -6.765625 C 5.566406 -6.859375 5.488281 -6.9375 5.375 -7 C 5.21875 -7.09375 5.054688 -7.140625 4.890625 -7.140625 L 4.625 -7.140625 L 4.625 -7.328125 L 7.765625 -7.328125 L 7.765625 -7.140625 L 7.5 -7.140625 C 7.332031 -7.140625 7.171875 -7.097656 7.015625 -7.015625 C 6.898438 -6.953125 6.820312 -6.863281 6.78125 -6.75 C 6.738281 -6.632812 6.71875 -6.394531 6.71875 -6.03125 L 6.71875 -1.296875 C 6.71875 -0.921875 6.738281 -0.675781 6.78125 -0.5625 C 6.820312 -0.46875 6.894531 -0.390625 7 -0.328125 C 7.164062 -0.242188 7.332031 -0.203125 7.5 -0.203125 L 7.765625 -0.203125 L 7.765625 0 L 4.625 0 L 4.625 -0.203125 L 4.890625 -0.203125 C 5.191406 -0.203125 5.410156 -0.289062 5.546875 -0.46875 C 5.628906 -0.582031 5.671875 -0.859375 5.671875 -1.296875 L 5.671875 -3.53125 L 2.28125 -3.53125 L 2.28125 -1.296875 C 2.28125 -0.921875 2.300781 -0.675781 2.34375 -0.5625 C 2.375 -0.46875 2.453125 -0.390625 2.578125 -0.328125 C 2.722656 -0.242188 2.882812 -0.203125 3.0625 -0.203125 L 3.328125 -0.203125 L 3.328125 0 L 0.1875 0 L 0.1875 -0.203125 L 0.453125 -0.203125 C 0.753906 -0.203125 0.972656 -0.289062 1.109375 -0.46875 C 1.191406 -0.582031 1.234375 -0.859375 1.234375 -1.296875 L 1.234375 -6.03125 C 1.234375 -6.40625 1.210938 -6.648438 1.171875 -6.765625 C 1.128906 -6.859375 1.050781 -6.9375 0.9375 -7 C 0.78125 -7.09375 0.617188 -7.140625 0.453125 -7.140625 L 0.1875 -7.140625 L 0.1875 -7.328125 L 3.328125 -7.328125 L 3.328125 -7.140625 L 3.0625 -7.140625 C 2.882812 -7.140625 2.722656 -7.097656 2.578125 -7.015625 C 2.460938 -6.953125 2.382812 -6.863281 2.34375 -6.75 C 2.300781 -6.632812 2.28125 -6.394531 2.28125 -6.03125 Z M 2.28125 -3.9375 \"/>\n</symbol>\n<symbol overflow=\"visible\" id=\"glyph0-15\">\n<path style=\"stroke:none;\" d=\"M 1.609375 -7.6875 C 1.753906 -7.6875 1.878906 -7.632812 1.984375 -7.53125 C 2.097656 -7.425781 2.15625 -7.296875 2.15625 -7.140625 C 2.15625 -6.992188 2.097656 -6.863281 1.984375 -6.75 C 1.878906 -6.644531 1.753906 -6.59375 1.609375 -6.59375 C 1.453125 -6.59375 1.316406 -6.644531 1.203125 -6.75 C 1.097656 -6.863281 1.046875 -6.992188 1.046875 -7.140625 C 1.046875 -7.296875 1.097656 -7.425781 1.203125 -7.53125 C 1.316406 -7.632812 1.453125 -7.6875 1.609375 -7.6875 Z M 2.046875 -5.09375 L 2.046875 -1.125 C 2.046875 -0.8125 2.066406 -0.601562 2.109375 -0.5 C 2.160156 -0.394531 2.226562 -0.316406 2.3125 -0.265625 C 2.40625 -0.210938 2.566406 -0.1875 2.796875 -0.1875 L 2.796875 0 L 0.40625 0 L 0.40625 -0.1875 C 0.644531 -0.1875 0.804688 -0.207031 0.890625 -0.25 C 0.972656 -0.300781 1.035156 -0.378906 1.078125 -0.484375 C 1.128906 -0.597656 1.15625 -0.8125 1.15625 -1.125 L 1.15625 -3.03125 C 1.15625 -3.5625 1.140625 -3.910156 1.109375 -4.078125 C 1.078125 -4.191406 1.035156 -4.269531 0.984375 -4.3125 C 0.929688 -4.351562 0.859375 -4.375 0.765625 -4.375 C 0.660156 -4.375 0.539062 -4.347656 0.40625 -4.296875 L 0.328125 -4.5 L 1.8125 -5.09375 Z M 2.046875 -5.09375 \"/>\n</symbol>\n<symbol overflow=\"visible\" id=\"glyph0-16\">\n<path style=\"stroke:none;\" d=\"M 3.84375 -0.5625 C 3.601562 -0.300781 3.363281 -0.113281 3.125 0 C 2.894531 0.101562 2.648438 0.15625 2.390625 0.15625 C 1.847656 0.15625 1.375 -0.0664062 0.96875 -0.515625 C 0.570312 -0.972656 0.375 -1.554688 0.375 -2.265625 C 0.375 -2.984375 0.59375 -3.632812 1.03125 -4.21875 C 1.476562 -4.8125 2.054688 -5.109375 2.765625 -5.109375 C 3.191406 -5.109375 3.550781 -4.96875 3.84375 -4.6875 L 3.84375 -5.609375 C 3.84375 -6.171875 3.828125 -6.515625 3.796875 -6.640625 C 3.773438 -6.773438 3.734375 -6.863281 3.671875 -6.90625 C 3.617188 -6.957031 3.546875 -6.984375 3.453125 -6.984375 C 3.359375 -6.984375 3.234375 -6.953125 3.078125 -6.890625 L 3.015625 -7.09375 L 4.484375 -7.6875 L 4.734375 -7.6875 L 4.734375 -1.96875 C 4.734375 -1.382812 4.742188 -1.023438 4.765625 -0.890625 C 4.796875 -0.765625 4.835938 -0.675781 4.890625 -0.625 C 4.953125 -0.582031 5.023438 -0.5625 5.109375 -0.5625 C 5.203125 -0.5625 5.332031 -0.59375 5.5 -0.65625 L 5.5625 -0.453125 L 4.09375 0.15625 L 3.84375 0.15625 Z M 3.84375 -0.9375 L 3.84375 -3.484375 C 3.820312 -3.734375 3.753906 -3.957031 3.640625 -4.15625 C 3.535156 -4.363281 3.394531 -4.515625 3.21875 -4.609375 C 3.039062 -4.710938 2.867188 -4.765625 2.703125 -4.765625 C 2.378906 -4.765625 2.09375 -4.625 1.84375 -4.34375 C 1.519531 -3.96875 1.359375 -3.421875 1.359375 -2.703125 C 1.359375 -1.972656 1.515625 -1.410156 1.828125 -1.015625 C 2.148438 -0.628906 2.503906 -0.4375 2.890625 -0.4375 C 3.210938 -0.4375 3.53125 -0.601562 3.84375 -0.9375 Z M 3.84375 -0.9375 \"/>\n</symbol>\n<symbol overflow=\"visible\" id=\"glyph0-17\">\n<path style=\"stroke:none;\" d=\"M 4.046875 -7.5 C 4.992188 -7.5 5.816406 -7.132812 6.515625 -6.40625 C 7.210938 -5.6875 7.5625 -4.785156 7.5625 -3.703125 C 7.5625 -2.597656 7.207031 -1.675781 6.5 -0.9375 C 5.800781 -0.195312 4.953125 0.171875 3.953125 0.171875 C 2.953125 0.171875 2.109375 -0.1875 1.421875 -0.90625 C 0.734375 -1.625 0.390625 -2.550781 0.390625 -3.6875 C 0.390625 -4.851562 0.785156 -5.804688 1.578125 -6.546875 C 2.265625 -7.179688 3.085938 -7.5 4.046875 -7.5 Z M 3.9375 -7.109375 C 3.28125 -7.109375 2.753906 -6.863281 2.359375 -6.375 C 1.867188 -5.769531 1.625 -4.882812 1.625 -3.71875 C 1.625 -2.519531 1.878906 -1.597656 2.390625 -0.953125 C 2.785156 -0.460938 3.304688 -0.21875 3.953125 -0.21875 C 4.640625 -0.21875 5.207031 -0.484375 5.65625 -1.015625 C 6.101562 -1.554688 6.328125 -2.40625 6.328125 -3.5625 C 6.328125 -4.820312 6.078125 -5.757812 5.578125 -6.375 C 5.179688 -6.863281 4.632812 -7.109375 3.9375 -7.109375 Z M 3.9375 -7.109375 \"/>\n</symbol>\n<symbol overflow=\"visible\" id=\"glyph1-0\">\n<path style=\"stroke:none;\" d=\"M 0.546875 1.953125 L 0.546875 -7.8125 L 6.078125 -7.8125 L 6.078125 1.953125 Z M 1.171875 1.34375 L 5.46875 1.34375 L 5.46875 -7.1875 L 1.171875 -7.1875 Z M 1.171875 1.34375 \"/>\n</symbol>\n<symbol overflow=\"visible\" id=\"glyph1-1\">\n<path style=\"stroke:none;\" d=\"M 4.640625 -0.859375 L 7.015625 -0.859375 L 7.015625 0 L 4.640625 0 C 4.015625 0 3.429688 -0.15625 2.890625 -0.46875 C 2.359375 -0.78125 1.9375 -1.203125 1.625 -1.734375 C 1.320312 -2.265625 1.171875 -2.84375 1.171875 -3.46875 C 1.171875 -4.09375 1.320312 -4.671875 1.625 -5.203125 C 1.9375 -5.742188 2.359375 -6.171875 2.890625 -6.484375 C 3.429688 -6.796875 4.015625 -6.953125 4.640625 -6.953125 L 7.015625 -6.953125 L 7.015625 -6.078125 L 4.640625 -6.078125 C 4.171875 -6.078125 3.734375 -5.957031 3.328125 -5.71875 C 2.929688 -5.488281 2.617188 -5.175781 2.390625 -4.78125 C 2.234375 -4.5 2.128906 -4.207031 2.078125 -3.90625 L 7.015625 -3.90625 L 7.015625 -3.03125 L 2.078125 -3.03125 C 2.128906 -2.726562 2.234375 -2.441406 2.390625 -2.171875 C 2.617188 -1.765625 2.929688 -1.441406 3.328125 -1.203125 C 3.734375 -0.972656 4.171875 -0.859375 4.640625 -0.859375 Z M 4.640625 -0.859375 \"/>\n</symbol>\n<symbol overflow=\"visible\" id=\"glyph1-2\">\n<path style=\"stroke:none;\" d=\"\"/>\n</symbol>\n<symbol overflow=\"visible\" id=\"glyph1-3\">\n<path style=\"stroke:none;\" d=\"M 5.875 -3.9375 C 6.195312 -3.894531 6.46875 -3.789062 6.6875 -3.625 C 6.90625 -3.457031 7.09375 -3.21875 7.25 -2.90625 L 8.4375 -0.65625 L 9.265625 -0.65625 L 9.265625 0 L 6.609375 0 L 5.328125 -2.4375 C 5.078125 -2.945312 4.863281 -3.269531 4.6875 -3.40625 C 4.507812 -3.539062 4.265625 -3.609375 3.953125 -3.609375 L 3.625 -3.609375 L 3.625 -0.65625 L 4.671875 -0.65625 L 4.671875 0 L 0.515625 0 L 0.515625 -0.65625 L 1.546875 -0.65625 L 1.546875 -7.421875 L 0.515625 -7.421875 L 0.515625 -8.078125 L 5.125 -8.078125 C 6.0625 -8.078125 6.78125 -7.890625 7.28125 -7.515625 C 7.789062 -7.140625 8.046875 -6.601562 8.046875 -5.90625 C 8.046875 -5.34375 7.863281 -4.894531 7.5 -4.5625 C 7.144531 -4.238281 6.601562 -4.03125 5.875 -3.9375 Z M 3.625 -4.265625 L 4.34375 -4.265625 C 4.84375 -4.265625 5.226562 -4.398438 5.5 -4.671875 C 5.769531 -4.941406 5.90625 -5.332031 5.90625 -5.84375 C 5.90625 -6.351562 5.769531 -6.742188 5.5 -7.015625 C 5.226562 -7.285156 4.84375 -7.421875 4.34375 -7.421875 L 3.625 -7.421875 Z M 2.96875 -0.65625 L 2.96875 -7.421875 L 2.203125 -7.421875 L 2.203125 -0.65625 Z M 7.6875 -0.65625 L 6.671875 -2.609375 C 6.554688 -2.828125 6.425781 -2.988281 6.28125 -3.09375 C 6.15625 -3.195312 5.988281 -3.265625 5.78125 -3.296875 L 5.578125 -3.328125 C 5.660156 -3.203125 5.769531 -3.003906 5.90625 -2.734375 L 7 -0.65625 Z M 6.109375 -7.328125 C 6.179688 -7.234375 6.253906 -7.113281 6.328125 -6.96875 C 6.492188 -6.625 6.570312 -6.25 6.5625 -5.84375 C 6.5625 -5.695312 6.554688 -5.570312 6.546875 -5.46875 C 6.535156 -5.375 6.507812 -5.253906 6.46875 -5.109375 C 6.4375 -4.960938 6.382812 -4.820312 6.3125 -4.6875 C 6.644531 -4.78125 6.898438 -4.90625 7.078125 -5.0625 C 7.296875 -5.257812 7.40625 -5.539062 7.40625 -5.90625 C 7.40625 -6.144531 7.363281 -6.351562 7.28125 -6.53125 C 7.195312 -6.707031 7.070312 -6.859375 6.90625 -6.984375 C 6.695312 -7.140625 6.429688 -7.253906 6.109375 -7.328125 Z M 6.109375 -7.328125 \"/>\n</symbol>\n<symbol overflow=\"visible\" id=\"glyph1-4\">\n<path style=\"stroke:none;\" d=\"M 2.4375 -5.25 L 2.4375 -7.453125 L 0.765625 -5.25 Z M 3.984375 -3.609375 L 1.640625 -3.609375 L 1.640625 -4.0625 L 2.4375 -4.0625 L 2.4375 -4.8125 L 0.28125 -4.8125 L 0.28125 -5.265625 L 2.453125 -8.125 L 3.203125 -8.125 L 3.203125 -5.25 L 4.09375 -5.25 L 4.09375 -4.8125 L 3.203125 -4.8125 L 3.203125 -4.0625 L 3.984375 -4.0625 Z M 3.984375 -3.609375 \"/>\n</symbol>\n</g>\n</defs>\n<g id=\"surface1\">\n<path style=\"fill-rule:nonzero;fill:rgb(0%,0%,0%);fill-opacity:1;stroke-width:0.5;stroke-linecap:butt;stroke-linejoin:miter;stroke:rgb(31.372549%,31.372549%,31.372549%);stroke-opacity:1;stroke-miterlimit:4;\" d=\"M 693.500406 169.501347 L 873.50122 329.50144 \" transform=\"matrix(0.922457,0,0,0.922973,-564.063988,-74.585808)\"/>\n<path style=\"fill-rule:nonzero;fill:rgb(0%,0%,0%);fill-opacity:1;stroke-width:0.5;stroke-linecap:butt;stroke-linejoin:miter;stroke:rgb(31.372549%,31.372549%,31.372549%);stroke-opacity:1;stroke-miterlimit:4;\" d=\"M 693.500406 169.501347 L 873.50122 369.500405 \" transform=\"matrix(0.922457,0,0,0.922973,-564.063988,-74.585808)\"/>\n<path style=\"fill-rule:nonzero;fill:rgb(0%,0%,0%);fill-opacity:1;stroke-width:0.5;stroke-linecap:butt;stroke-linejoin:miter;stroke:rgb(31.372549%,31.372549%,31.372549%);stroke-opacity:1;stroke-miterlimit:4;\" d=\"M 693.500406 209.500312 L 873.50122 329.50144 \" transform=\"matrix(0.922457,0,0,0.922973,-564.063988,-74.585808)\"/>\n<path style=\"fill-rule:nonzero;fill:rgb(0%,0%,0%);fill-opacity:1;stroke-width:0.5;stroke-linecap:butt;stroke-linejoin:miter;stroke:rgb(31.372549%,31.372549%,31.372549%);stroke-opacity:1;stroke-miterlimit:4;\" d=\"M 693.500406 209.500312 L 873.50122 369.500405 \" transform=\"matrix(0.922457,0,0,0.922973,-564.063988,-74.585808)\"/>\n<path style=\"fill-rule:nonzero;fill:rgb(0%,0%,0%);fill-opacity:1;stroke-width:0.5;stroke-linecap:butt;stroke-linejoin:miter;stroke:rgb(31.372549%,31.372549%,31.372549%);stroke-opacity:1;stroke-miterlimit:4;\" d=\"M 693.500406 249.499277 L 873.50122 329.50144 \" transform=\"matrix(0.922457,0,0,0.922973,-564.063988,-74.585808)\"/>\n<path style=\"fill-rule:nonzero;fill:rgb(0%,0%,0%);fill-opacity:1;stroke-width:0.5;stroke-linecap:butt;stroke-linejoin:miter;stroke:rgb(31.372549%,31.372549%,31.372549%);stroke-opacity:1;stroke-miterlimit:4;\" d=\"M 693.500406 249.499277 L 873.50122 369.500405 \" transform=\"matrix(0.922457,0,0,0.922973,-564.063988,-74.585808)\"/>\n<path style=\"fill-rule:nonzero;fill:rgb(0%,0%,0%);fill-opacity:1;stroke-width:0.5;stroke-linecap:butt;stroke-linejoin:miter;stroke:rgb(31.372549%,31.372549%,31.372549%);stroke-opacity:1;stroke-miterlimit:4;\" d=\"M 693.500406 289.498242 L 873.50122 329.50144 \" transform=\"matrix(0.922457,0,0,0.922973,-564.063988,-74.585808)\"/>\n<path style=\"fill-rule:nonzero;fill:rgb(0%,0%,0%);fill-opacity:1;stroke-width:0.5;stroke-linecap:butt;stroke-linejoin:miter;stroke:rgb(31.372549%,31.372549%,31.372549%);stroke-opacity:1;stroke-miterlimit:4;\" d=\"M 693.500406 289.498242 L 873.50122 369.500405 \" transform=\"matrix(0.922457,0,0,0.922973,-564.063988,-74.585808)\"/>\n<path style=\"fill:none;stroke-width:0.5;stroke-linecap:butt;stroke-linejoin:miter;stroke:rgb(31.372549%,31.372549%,31.372549%);stroke-opacity:1;stroke-miterlimit:4;\" d=\"M 693.500406 329.50144 L 873.50122 329.50144 \" transform=\"matrix(0.922457,0,0,0.922973,-564.063988,-74.585808)\"/>\n<path style=\"fill-rule:nonzero;fill:rgb(0%,0%,0%);fill-opacity:1;stroke-width:0.5;stroke-linecap:butt;stroke-linejoin:miter;stroke:rgb(31.372549%,31.372549%,31.372549%);stroke-opacity:1;stroke-miterlimit:4;\" d=\"M 693.500406 329.50144 L 873.50122 369.500405 \" transform=\"matrix(0.922457,0,0,0.922973,-564.063988,-74.585808)\"/>\n<path style=\"fill-rule:nonzero;fill:rgb(0%,0%,0%);fill-opacity:1;stroke-width:0.5;stroke-linecap:butt;stroke-linejoin:miter;stroke:rgb(31.372549%,31.372549%,31.372549%);stroke-opacity:1;stroke-miterlimit:4;\" d=\"M 693.500406 369.500405 L 873.50122 329.50144 \" transform=\"matrix(0.922457,0,0,0.922973,-564.063988,-74.585808)\"/>\n<path style=\"fill:none;stroke-width:0.5;stroke-linecap:butt;stroke-linejoin:miter;stroke:rgb(31.372549%,31.372549%,31.372549%);stroke-opacity:1;stroke-miterlimit:4;\" d=\"M 693.500406 369.500405 L 873.50122 369.500405 \" transform=\"matrix(0.922457,0,0,0.922973,-564.063988,-74.585808)\"/>\n<path style=\"fill-rule:nonzero;fill:rgb(0%,0%,0%);fill-opacity:1;stroke-width:0.5;stroke-linecap:butt;stroke-linejoin:miter;stroke:rgb(31.372549%,31.372549%,31.372549%);stroke-opacity:1;stroke-miterlimit:4;\" d=\"M 693.500406 409.49937 L 873.50122 329.50144 \" transform=\"matrix(0.922457,0,0,0.922973,-564.063988,-74.585808)\"/>\n<path style=\"fill-rule:nonzero;fill:rgb(0%,0%,0%);fill-opacity:1;stroke-width:0.5;stroke-linecap:butt;stroke-linejoin:miter;stroke:rgb(31.372549%,31.372549%,31.372549%);stroke-opacity:1;stroke-miterlimit:4;\" d=\"M 693.500406 409.49937 L 873.50122 369.500405 \" transform=\"matrix(0.922457,0,0,0.922973,-564.063988,-74.585808)\"/>\n<path style=\"fill-rule:nonzero;fill:rgb(0%,0%,0%);fill-opacity:1;stroke-width:0.5;stroke-linecap:butt;stroke-linejoin:miter;stroke:rgb(31.372549%,31.372549%,31.372549%);stroke-opacity:1;stroke-miterlimit:4;\" d=\"M 693.500406 449.498335 L 873.50122 329.50144 \" transform=\"matrix(0.922457,0,0,0.922973,-564.063988,-74.585808)\"/>\n<path style=\"fill-rule:nonzero;fill:rgb(0%,0%,0%);fill-opacity:1;stroke-width:0.5;stroke-linecap:butt;stroke-linejoin:miter;stroke:rgb(31.372549%,31.372549%,31.372549%);stroke-opacity:1;stroke-miterlimit:4;\" d=\"M 693.500406 449.498335 L 873.50122 369.500405 \" transform=\"matrix(0.922457,0,0,0.922973,-564.063988,-74.585808)\"/>\n<path style=\"fill-rule:nonzero;fill:rgb(0%,0%,0%);fill-opacity:1;stroke-width:0.5;stroke-linecap:butt;stroke-linejoin:miter;stroke:rgb(31.372549%,31.372549%,31.372549%);stroke-opacity:1;stroke-miterlimit:4;\" d=\"M 693.500406 489.501533 L 873.50122 329.50144 \" transform=\"matrix(0.922457,0,0,0.922973,-564.063988,-74.585808)\"/>\n<path style=\"fill-rule:nonzero;fill:rgb(0%,0%,0%);fill-opacity:1;stroke-width:0.5;stroke-linecap:butt;stroke-linejoin:miter;stroke:rgb(31.372549%,31.372549%,31.372549%);stroke-opacity:1;stroke-miterlimit:4;\" d=\"M 693.500406 489.501533 L 873.50122 369.500405 \" transform=\"matrix(0.922457,0,0,0.922973,-564.063988,-74.585808)\"/>\n<path style=\"fill-rule:nonzero;fill:rgb(0%,0%,0%);fill-opacity:1;stroke-width:0.5;stroke-linecap:butt;stroke-linejoin:miter;stroke:rgb(31.372549%,31.372549%,31.372549%);stroke-opacity:1;stroke-miterlimit:4;\" d=\"M 693.500406 529.500498 L 873.50122 329.50144 \" transform=\"matrix(0.922457,0,0,0.922973,-564.063988,-74.585808)\"/>\n<path style=\"fill-rule:nonzero;fill:rgb(0%,0%,0%);fill-opacity:1;stroke-width:0.5;stroke-linecap:butt;stroke-linejoin:miter;stroke:rgb(31.372549%,31.372549%,31.372549%);stroke-opacity:1;stroke-miterlimit:4;\" d=\"M 693.500406 529.500498 L 873.50122 369.500405 \" transform=\"matrix(0.922457,0,0,0.922973,-564.063988,-74.585808)\"/>\n<path style=\"fill-rule:nonzero;fill:rgb(0%,0%,0%);fill-opacity:1;stroke-width:0.5;stroke-linecap:butt;stroke-linejoin:miter;stroke:rgb(31.372549%,31.372549%,31.372549%);stroke-opacity:1;stroke-miterlimit:4;\" d=\"M 693.500406 569.499463 L 873.50122 329.50144 \" transform=\"matrix(0.922457,0,0,0.922973,-564.063988,-74.585808)\"/>\n<path style=\"fill-rule:nonzero;fill:rgb(0%,0%,0%);fill-opacity:1;stroke-width:0.5;stroke-linecap:butt;stroke-linejoin:miter;stroke:rgb(31.372549%,31.372549%,31.372549%);stroke-opacity:1;stroke-miterlimit:4;\" d=\"M 693.500406 569.499463 L 873.50122 369.500405 \" transform=\"matrix(0.922457,0,0,0.922973,-564.063988,-74.585808)\"/>\n<path style=\"fill-rule:nonzero;fill:rgb(0%,0%,0%);fill-opacity:1;stroke-width:0.5;stroke-linecap:butt;stroke-linejoin:miter;stroke:rgb(31.372549%,31.372549%,31.372549%);stroke-opacity:1;stroke-miterlimit:4;\" d=\"M 693.500406 609.498429 L 873.50122 329.50144 \" transform=\"matrix(0.922457,0,0,0.922973,-564.063988,-74.585808)\"/>\n<path style=\"fill-rule:nonzero;fill:rgb(0%,0%,0%);fill-opacity:1;stroke-width:0.5;stroke-linecap:butt;stroke-linejoin:miter;stroke:rgb(31.372549%,31.372549%,31.372549%);stroke-opacity:1;stroke-miterlimit:4;\" d=\"M 693.500406 609.498429 L 873.50122 369.500405 \" transform=\"matrix(0.922457,0,0,0.922973,-564.063988,-74.585808)\"/>\n<path style=\"fill-rule:nonzero;fill:rgb(0%,0%,0%);fill-opacity:1;stroke-width:0.5;stroke-linecap:butt;stroke-linejoin:miter;stroke:rgb(31.372549%,31.372549%,31.372549%);stroke-opacity:1;stroke-miterlimit:4;\" d=\"M 873.50122 329.50144 L 1053.502033 389.502004 \" transform=\"matrix(0.922457,0,0,0.922973,-564.063988,-74.585808)\"/>\n<path style=\"fill-rule:nonzero;fill:rgb(0%,0%,0%);fill-opacity:1;stroke-width:0.5;stroke-linecap:butt;stroke-linejoin:miter;stroke:rgb(31.372549%,31.372549%,31.372549%);stroke-opacity:1;stroke-miterlimit:4;\" d=\"M 873.50122 369.500405 L 1053.502033 389.502004 \" transform=\"matrix(0.922457,0,0,0.922973,-564.063988,-74.585808)\"/>\n<path style=\"fill-rule:nonzero;fill:rgb(0%,0%,0%);fill-opacity:1;stroke-width:0.5;stroke-linecap:butt;stroke-linejoin:miter;stroke:rgb(31.372549%,31.372549%,31.372549%);stroke-opacity:1;stroke-miterlimit:4;\" d=\"M 693.500406 169.501347 L 873.50122 409.49937 \" transform=\"matrix(0.922457,0,0,0.922973,-564.063988,-74.585808)\"/>\n<path style=\"fill-rule:nonzero;fill:rgb(0%,0%,0%);fill-opacity:1;stroke-width:0.5;stroke-linecap:butt;stroke-linejoin:miter;stroke:rgb(31.372549%,31.372549%,31.372549%);stroke-opacity:1;stroke-miterlimit:4;\" d=\"M 693.500406 209.500312 L 873.50122 409.49937 \" transform=\"matrix(0.922457,0,0,0.922973,-564.063988,-74.585808)\"/>\n<path style=\"fill-rule:nonzero;fill:rgb(0%,0%,0%);fill-opacity:1;stroke-width:0.5;stroke-linecap:butt;stroke-linejoin:miter;stroke:rgb(31.372549%,31.372549%,31.372549%);stroke-opacity:1;stroke-miterlimit:4;\" d=\"M 693.500406 249.499277 L 873.50122 409.49937 \" transform=\"matrix(0.922457,0,0,0.922973,-564.063988,-74.585808)\"/>\n<path style=\"fill-rule:nonzero;fill:rgb(0%,0%,0%);fill-opacity:1;stroke-width:0.5;stroke-linecap:butt;stroke-linejoin:miter;stroke:rgb(31.372549%,31.372549%,31.372549%);stroke-opacity:1;stroke-miterlimit:4;\" d=\"M 693.500406 289.498242 L 873.50122 409.49937 \" transform=\"matrix(0.922457,0,0,0.922973,-564.063988,-74.585808)\"/>\n<path style=\"fill-rule:nonzero;fill:rgb(0%,0%,0%);fill-opacity:1;stroke-width:0.5;stroke-linecap:butt;stroke-linejoin:miter;stroke:rgb(31.372549%,31.372549%,31.372549%);stroke-opacity:1;stroke-miterlimit:4;\" d=\"M 693.500406 329.50144 L 873.50122 409.49937 \" transform=\"matrix(0.922457,0,0,0.922973,-564.063988,-74.585808)\"/>\n<path style=\"fill-rule:nonzero;fill:rgb(0%,0%,0%);fill-opacity:1;stroke-width:0.5;stroke-linecap:butt;stroke-linejoin:miter;stroke:rgb(31.372549%,31.372549%,31.372549%);stroke-opacity:1;stroke-miterlimit:4;\" d=\"M 693.500406 369.500405 L 873.50122 409.49937 \" transform=\"matrix(0.922457,0,0,0.922973,-564.063988,-74.585808)\"/>\n<path style=\"fill:none;stroke-width:0.5;stroke-linecap:butt;stroke-linejoin:miter;stroke:rgb(31.372549%,31.372549%,31.372549%);stroke-opacity:1;stroke-miterlimit:4;\" d=\"M 693.500406 409.49937 L 873.50122 409.49937 \" transform=\"matrix(0.922457,0,0,0.922973,-564.063988,-74.585808)\"/>\n<path style=\"fill-rule:nonzero;fill:rgb(0%,0%,0%);fill-opacity:1;stroke-width:0.5;stroke-linecap:butt;stroke-linejoin:miter;stroke:rgb(31.372549%,31.372549%,31.372549%);stroke-opacity:1;stroke-miterlimit:4;\" d=\"M 693.500406 449.498335 L 873.50122 409.49937 \" transform=\"matrix(0.922457,0,0,0.922973,-564.063988,-74.585808)\"/>\n<path style=\"fill-rule:nonzero;fill:rgb(0%,0%,0%);fill-opacity:1;stroke-width:0.5;stroke-linecap:butt;stroke-linejoin:miter;stroke:rgb(31.372549%,31.372549%,31.372549%);stroke-opacity:1;stroke-miterlimit:4;\" d=\"M 693.500406 489.501533 L 873.50122 409.49937 \" transform=\"matrix(0.922457,0,0,0.922973,-564.063988,-74.585808)\"/>\n<path style=\"fill-rule:nonzero;fill:rgb(0%,0%,0%);fill-opacity:1;stroke-width:0.5;stroke-linecap:butt;stroke-linejoin:miter;stroke:rgb(31.372549%,31.372549%,31.372549%);stroke-opacity:1;stroke-miterlimit:4;\" d=\"M 693.500406 529.500498 L 873.50122 409.49937 \" transform=\"matrix(0.922457,0,0,0.922973,-564.063988,-74.585808)\"/>\n<path style=\"fill-rule:nonzero;fill:rgb(0%,0%,0%);fill-opacity:1;stroke-width:0.5;stroke-linecap:butt;stroke-linejoin:miter;stroke:rgb(31.372549%,31.372549%,31.372549%);stroke-opacity:1;stroke-miterlimit:4;\" d=\"M 693.500406 569.499463 L 873.50122 409.49937 \" transform=\"matrix(0.922457,0,0,0.922973,-564.063988,-74.585808)\"/>\n<path style=\"fill-rule:nonzero;fill:rgb(0%,0%,0%);fill-opacity:1;stroke-width:0.5;stroke-linecap:butt;stroke-linejoin:miter;stroke:rgb(31.372549%,31.372549%,31.372549%);stroke-opacity:1;stroke-miterlimit:4;\" d=\"M 693.500406 609.498429 L 873.50122 409.49937 \" transform=\"matrix(0.922457,0,0,0.922973,-564.063988,-74.585808)\"/>\n<path style=\"fill-rule:nonzero;fill:rgb(0%,0%,0%);fill-opacity:1;stroke-width:0.5;stroke-linecap:butt;stroke-linejoin:miter;stroke:rgb(31.372549%,31.372549%,31.372549%);stroke-opacity:1;stroke-miterlimit:4;\" d=\"M 873.50122 409.49937 L 1053.502033 389.502004 \" transform=\"matrix(0.922457,0,0,0.922973,-564.063988,-74.585808)\"/>\n<path style=\"fill-rule:nonzero;fill:rgb(0%,0%,0%);fill-opacity:1;stroke-width:0.5;stroke-linecap:butt;stroke-linejoin:miter;stroke:rgb(31.372549%,31.372549%,31.372549%);stroke-opacity:1;stroke-miterlimit:4;\" d=\"M 693.500406 169.501347 L 873.50122 449.498335 \" transform=\"matrix(0.922457,0,0,0.922973,-564.063988,-74.585808)\"/>\n<path style=\"fill-rule:nonzero;fill:rgb(0%,0%,0%);fill-opacity:1;stroke-width:0.5;stroke-linecap:butt;stroke-linejoin:miter;stroke:rgb(31.372549%,31.372549%,31.372549%);stroke-opacity:1;stroke-miterlimit:4;\" d=\"M 693.500406 209.500312 L 873.50122 449.498335 \" transform=\"matrix(0.922457,0,0,0.922973,-564.063988,-74.585808)\"/>\n<path style=\"fill-rule:nonzero;fill:rgb(0%,0%,0%);fill-opacity:1;stroke-width:0.5;stroke-linecap:butt;stroke-linejoin:miter;stroke:rgb(31.372549%,31.372549%,31.372549%);stroke-opacity:1;stroke-miterlimit:4;\" d=\"M 693.500406 249.499277 L 873.50122 449.498335 \" transform=\"matrix(0.922457,0,0,0.922973,-564.063988,-74.585808)\"/>\n<path style=\"fill-rule:nonzero;fill:rgb(0%,0%,0%);fill-opacity:1;stroke-width:0.5;stroke-linecap:butt;stroke-linejoin:miter;stroke:rgb(31.372549%,31.372549%,31.372549%);stroke-opacity:1;stroke-miterlimit:4;\" d=\"M 693.500406 289.498242 L 873.50122 449.498335 \" transform=\"matrix(0.922457,0,0,0.922973,-564.063988,-74.585808)\"/>\n<path style=\"fill-rule:nonzero;fill:rgb(0%,0%,0%);fill-opacity:1;stroke-width:0.5;stroke-linecap:butt;stroke-linejoin:miter;stroke:rgb(31.372549%,31.372549%,31.372549%);stroke-opacity:1;stroke-miterlimit:4;\" d=\"M 693.500406 329.50144 L 873.50122 449.498335 \" transform=\"matrix(0.922457,0,0,0.922973,-564.063988,-74.585808)\"/>\n<path style=\"fill-rule:nonzero;fill:rgb(0%,0%,0%);fill-opacity:1;stroke-width:0.5;stroke-linecap:butt;stroke-linejoin:miter;stroke:rgb(31.372549%,31.372549%,31.372549%);stroke-opacity:1;stroke-miterlimit:4;\" d=\"M 693.500406 369.500405 L 873.50122 449.498335 \" transform=\"matrix(0.922457,0,0,0.922973,-564.063988,-74.585808)\"/>\n<path style=\"fill-rule:nonzero;fill:rgb(0%,0%,0%);fill-opacity:1;stroke-width:0.5;stroke-linecap:butt;stroke-linejoin:miter;stroke:rgb(31.372549%,31.372549%,31.372549%);stroke-opacity:1;stroke-miterlimit:4;\" d=\"M 693.500406 409.49937 L 873.50122 449.498335 \" transform=\"matrix(0.922457,0,0,0.922973,-564.063988,-74.585808)\"/>\n<path style=\"fill:none;stroke-width:0.5;stroke-linecap:butt;stroke-linejoin:miter;stroke:rgb(31.372549%,31.372549%,31.372549%);stroke-opacity:1;stroke-miterlimit:4;\" d=\"M 693.500406 449.498335 L 873.50122 449.498335 \" transform=\"matrix(0.922457,0,0,0.922973,-564.063988,-74.585808)\"/>\n<path style=\"fill-rule:nonzero;fill:rgb(0%,0%,0%);fill-opacity:1;stroke-width:0.5;stroke-linecap:butt;stroke-linejoin:miter;stroke:rgb(31.372549%,31.372549%,31.372549%);stroke-opacity:1;stroke-miterlimit:4;\" d=\"M 693.500406 489.501533 L 873.50122 449.498335 \" transform=\"matrix(0.922457,0,0,0.922973,-564.063988,-74.585808)\"/>\n<path style=\"fill-rule:nonzero;fill:rgb(0%,0%,0%);fill-opacity:1;stroke-width:0.5;stroke-linecap:butt;stroke-linejoin:miter;stroke:rgb(31.372549%,31.372549%,31.372549%);stroke-opacity:1;stroke-miterlimit:4;\" d=\"M 693.500406 529.500498 L 873.50122 449.498335 \" transform=\"matrix(0.922457,0,0,0.922973,-564.063988,-74.585808)\"/>\n<path style=\"fill-rule:nonzero;fill:rgb(0%,0%,0%);fill-opacity:1;stroke-width:0.5;stroke-linecap:butt;stroke-linejoin:miter;stroke:rgb(31.372549%,31.372549%,31.372549%);stroke-opacity:1;stroke-miterlimit:4;\" d=\"M 693.500406 569.499463 L 873.50122 449.498335 \" transform=\"matrix(0.922457,0,0,0.922973,-564.063988,-74.585808)\"/>\n<path style=\"fill-rule:nonzero;fill:rgb(0%,0%,0%);fill-opacity:1;stroke-width:0.5;stroke-linecap:butt;stroke-linejoin:miter;stroke:rgb(31.372549%,31.372549%,31.372549%);stroke-opacity:1;stroke-miterlimit:4;\" d=\"M 693.500406 609.498429 L 873.50122 449.498335 \" transform=\"matrix(0.922457,0,0,0.922973,-564.063988,-74.585808)\"/>\n<path style=\"fill-rule:nonzero;fill:rgb(0%,0%,0%);fill-opacity:1;stroke-width:0.5;stroke-linecap:butt;stroke-linejoin:miter;stroke:rgb(31.372549%,31.372549%,31.372549%);stroke-opacity:1;stroke-miterlimit:4;\" d=\"M 873.50122 449.498335 L 1053.502033 389.502004 \" transform=\"matrix(0.922457,0,0,0.922973,-564.063988,-74.585808)\"/>\n<path style=\"fill-rule:nonzero;fill:rgb(100%,100%,100%);fill-opacity:1;stroke-width:1;stroke-linecap:butt;stroke-linejoin:miter;stroke:rgb(20%,20%,20%);stroke-opacity:1;stroke-miterlimit:4;\" d=\"M 703.498334 169.501347 C 703.498334 175.024429 699.022345 179.497914 693.500406 179.497914 C 687.978467 179.497914 683.498244 175.024429 683.498244 169.501347 C 683.498244 163.978265 687.978467 159.500547 693.500406 159.500547 C 699.022345 159.500547 703.498334 163.978265 703.498334 169.501347 Z M 703.498334 169.501347 \" transform=\"matrix(0.922457,0,0,0.922973,-564.063988,-74.585808)\"/>\n<path style=\"fill-rule:nonzero;fill:rgb(100%,100%,100%);fill-opacity:1;stroke-width:1;stroke-linecap:butt;stroke-linejoin:miter;stroke:rgb(20%,20%,20%);stroke-opacity:1;stroke-miterlimit:4;\" d=\"M 703.498334 209.500312 C 703.498334 215.023394 699.022345 219.501111 693.500406 219.501111 C 687.978467 219.501111 683.498244 215.023394 683.498244 209.500312 C 683.498244 203.97723 687.978467 199.499513 693.500406 199.499513 C 699.022345 199.499513 703.498334 203.97723 703.498334 209.500312 Z M 703.498334 209.500312 \" transform=\"matrix(0.922457,0,0,0.922973,-564.063988,-74.585808)\"/>\n<path style=\"fill-rule:nonzero;fill:rgb(100%,100%,100%);fill-opacity:1;stroke-width:1;stroke-linecap:butt;stroke-linejoin:miter;stroke:rgb(20%,20%,20%);stroke-opacity:1;stroke-miterlimit:4;\" d=\"M 703.498334 249.499277 C 703.498334 255.022359 699.022345 259.500076 693.500406 259.500076 C 687.978467 259.500076 683.498244 255.022359 683.498244 249.499277 C 683.498244 243.976195 687.978467 239.498478 693.500406 239.498478 C 699.022345 239.498478 703.498334 243.976195 703.498334 249.499277 Z M 703.498334 249.499277 \" transform=\"matrix(0.922457,0,0,0.922973,-564.063988,-74.585808)\"/>\n<path style=\"fill-rule:nonzero;fill:rgb(100%,100%,100%);fill-opacity:1;stroke-width:1;stroke-linecap:butt;stroke-linejoin:miter;stroke:rgb(20%,20%,20%);stroke-opacity:1;stroke-miterlimit:4;\" d=\"M 703.498334 289.498242 C 703.498334 295.021325 699.022345 299.499042 693.500406 299.499042 C 687.978467 299.499042 683.498244 295.021325 683.498244 289.498242 C 683.498244 283.97516 687.978467 279.501675 693.500406 279.501675 C 699.022345 279.501675 703.498334 283.97516 703.498334 289.498242 Z M 703.498334 289.498242 \" transform=\"matrix(0.922457,0,0,0.922973,-564.063988,-74.585808)\"/>\n<path style=\"fill-rule:nonzero;fill:rgb(100%,100%,100%);fill-opacity:1;stroke-width:1;stroke-linecap:butt;stroke-linejoin:miter;stroke:rgb(20%,20%,20%);stroke-opacity:1;stroke-miterlimit:4;\" d=\"M 703.498334 329.50144 C 703.498334 335.024522 699.022345 339.498007 693.500406 339.498007 C 687.978467 339.498007 683.498244 335.024522 683.498244 329.50144 C 683.498244 323.978358 687.978467 319.50064 693.500406 319.50064 C 699.022345 319.50064 703.498334 323.978358 703.498334 329.50144 Z M 703.498334 329.50144 \" transform=\"matrix(0.922457,0,0,0.922973,-564.063988,-74.585808)\"/>\n<path style=\"fill-rule:nonzero;fill:rgb(100%,100%,100%);fill-opacity:1;stroke-width:1;stroke-linecap:butt;stroke-linejoin:miter;stroke:rgb(20%,20%,20%);stroke-opacity:1;stroke-miterlimit:4;\" d=\"M 703.498334 369.500405 C 703.498334 375.023487 699.022345 379.501204 693.500406 379.501204 C 687.978467 379.501204 683.498244 375.023487 683.498244 369.500405 C 683.498244 363.977323 687.978467 359.499606 693.500406 359.499606 C 699.022345 359.499606 703.498334 363.977323 703.498334 369.500405 Z M 703.498334 369.500405 \" transform=\"matrix(0.922457,0,0,0.922973,-564.063988,-74.585808)\"/>\n<path style=\"fill-rule:nonzero;fill:rgb(100%,100%,100%);fill-opacity:1;stroke-width:1;stroke-linecap:butt;stroke-linejoin:miter;stroke:rgb(20%,20%,20%);stroke-opacity:1;stroke-miterlimit:4;\" d=\"M 703.498334 409.49937 C 703.498334 415.022452 699.022345 419.50017 693.500406 419.50017 C 687.978467 419.50017 683.498244 415.022452 683.498244 409.49937 C 683.498244 403.976288 687.978467 399.498571 693.500406 399.498571 C 699.022345 399.498571 703.498334 403.976288 703.498334 409.49937 Z M 703.498334 409.49937 \" transform=\"matrix(0.922457,0,0,0.922973,-564.063988,-74.585808)\"/>\n<path style=\"fill-rule:nonzero;fill:rgb(100%,100%,100%);fill-opacity:1;stroke-width:1;stroke-linecap:butt;stroke-linejoin:miter;stroke:rgb(20%,20%,20%);stroke-opacity:1;stroke-miterlimit:4;\" d=\"M 703.498334 449.498335 C 703.498334 455.021418 699.022345 459.499135 693.500406 459.499135 C 687.978467 459.499135 683.498244 455.021418 683.498244 449.498335 C 683.498244 443.975253 687.978467 439.501768 693.500406 439.501768 C 699.022345 439.501768 703.498334 443.975253 703.498334 449.498335 Z M 703.498334 449.498335 \" transform=\"matrix(0.922457,0,0,0.922973,-564.063988,-74.585808)\"/>\n<path style=\"fill-rule:nonzero;fill:rgb(100%,100%,100%);fill-opacity:1;stroke-width:1;stroke-linecap:butt;stroke-linejoin:miter;stroke:rgb(20%,20%,20%);stroke-opacity:1;stroke-miterlimit:4;\" d=\"M 703.498334 489.501533 C 703.498334 495.024615 699.022345 499.4981 693.500406 499.4981 C 687.978467 499.4981 683.498244 495.024615 683.498244 489.501533 C 683.498244 483.978451 687.978467 479.500734 693.500406 479.500734 C 699.022345 479.500734 703.498334 483.978451 703.498334 489.501533 Z M 703.498334 489.501533 \" transform=\"matrix(0.922457,0,0,0.922973,-564.063988,-74.585808)\"/>\n<path style=\"fill-rule:nonzero;fill:rgb(100%,100%,100%);fill-opacity:1;stroke-width:1;stroke-linecap:butt;stroke-linejoin:miter;stroke:rgb(20%,20%,20%);stroke-opacity:1;stroke-miterlimit:4;\" d=\"M 703.498334 529.500498 C 703.498334 535.02358 699.022345 539.501297 693.500406 539.501297 C 687.978467 539.501297 683.498244 535.02358 683.498244 529.500498 C 683.498244 523.977416 687.978467 519.499699 693.500406 519.499699 C 699.022345 519.499699 703.498334 523.977416 703.498334 529.500498 Z M 703.498334 529.500498 \" transform=\"matrix(0.922457,0,0,0.922973,-564.063988,-74.585808)\"/>\n<path style=\"fill-rule:nonzero;fill:rgb(100%,100%,100%);fill-opacity:1;stroke-width:1;stroke-linecap:butt;stroke-linejoin:miter;stroke:rgb(20%,20%,20%);stroke-opacity:1;stroke-miterlimit:4;\" d=\"M 703.498334 569.499463 C 703.498334 575.022545 699.022345 579.500263 693.500406 579.500263 C 687.978467 579.500263 683.498244 575.022545 683.498244 569.499463 C 683.498244 563.976381 687.978467 559.498664 693.500406 559.498664 C 699.022345 559.498664 703.498334 563.976381 703.498334 569.499463 Z M 703.498334 569.499463 \" transform=\"matrix(0.922457,0,0,0.922973,-564.063988,-74.585808)\"/>\n<path style=\"fill-rule:nonzero;fill:rgb(100%,100%,100%);fill-opacity:1;stroke-width:1;stroke-linecap:butt;stroke-linejoin:miter;stroke:rgb(20%,20%,20%);stroke-opacity:1;stroke-miterlimit:4;\" d=\"M 703.498334 609.498429 C 703.498334 615.021511 699.022345 619.499228 693.500406 619.499228 C 687.978467 619.499228 683.498244 615.021511 683.498244 609.498429 C 683.498244 603.975346 687.978467 599.501861 693.500406 599.501861 C 699.022345 599.501861 703.498334 603.975346 703.498334 609.498429 Z M 703.498334 609.498429 \" transform=\"matrix(0.922457,0,0,0.922973,-564.063988,-74.585808)\"/>\n<path style=\"fill-rule:nonzero;fill:rgb(100%,100%,100%);fill-opacity:1;stroke-width:1;stroke-linecap:butt;stroke-linejoin:miter;stroke:rgb(20%,20%,20%);stroke-opacity:1;stroke-miterlimit:4;\" d=\"M 883.499147 329.50144 C 883.499147 335.024522 879.023159 339.498007 873.50122 339.498007 C 867.975046 339.498007 863.499057 335.024522 863.499057 329.50144 C 863.499057 323.978358 867.975046 319.50064 873.50122 319.50064 C 879.023159 319.50064 883.499147 323.978358 883.499147 329.50144 Z M 883.499147 329.50144 \" transform=\"matrix(0.922457,0,0,0.922973,-564.063988,-74.585808)\"/>\n<path style=\"fill-rule:nonzero;fill:rgb(100%,100%,100%);fill-opacity:1;stroke-width:1;stroke-linecap:butt;stroke-linejoin:miter;stroke:rgb(20%,20%,20%);stroke-opacity:1;stroke-miterlimit:4;\" d=\"M 883.499147 369.500405 C 883.499147 375.023487 879.023159 379.501204 873.50122 379.501204 C 867.975046 379.501204 863.499057 375.023487 863.499057 369.500405 C 863.499057 363.977323 867.975046 359.499606 873.50122 359.499606 C 879.023159 359.499606 883.499147 363.977323 883.499147 369.500405 Z M 883.499147 369.500405 \" transform=\"matrix(0.922457,0,0,0.922973,-564.063988,-74.585808)\"/>\n<path style=\"fill-rule:nonzero;fill:rgb(100%,100%,100%);fill-opacity:1;stroke-width:1;stroke-linecap:butt;stroke-linejoin:miter;stroke:rgb(20%,20%,20%);stroke-opacity:1;stroke-miterlimit:4;\" d=\"M 883.499147 409.49937 C 883.499147 415.022452 879.023159 419.50017 873.50122 419.50017 C 867.975046 419.50017 863.499057 415.022452 863.499057 409.49937 C 863.499057 403.976288 867.975046 399.498571 873.50122 399.498571 C 879.023159 399.498571 883.499147 403.976288 883.499147 409.49937 Z M 883.499147 409.49937 \" transform=\"matrix(0.922457,0,0,0.922973,-564.063988,-74.585808)\"/>\n<path style=\"fill-rule:nonzero;fill:rgb(100%,100%,100%);fill-opacity:1;stroke-width:1;stroke-linecap:butt;stroke-linejoin:miter;stroke:rgb(20%,20%,20%);stroke-opacity:1;stroke-miterlimit:4;\" d=\"M 883.499147 449.498335 C 883.499147 455.021418 879.023159 459.499135 873.50122 459.499135 C 867.975046 459.499135 863.499057 455.021418 863.499057 449.498335 C 863.499057 443.975253 867.975046 439.501768 873.50122 439.501768 C 879.023159 439.501768 883.499147 443.975253 883.499147 449.498335 Z M 883.499147 449.498335 \" transform=\"matrix(0.922457,0,0,0.922973,-564.063988,-74.585808)\"/>\n<path style=\"fill-rule:nonzero;fill:rgb(100%,100%,100%);fill-opacity:1;stroke-width:1;stroke-linecap:butt;stroke-linejoin:miter;stroke:rgb(20%,20%,20%);stroke-opacity:1;stroke-miterlimit:4;\" d=\"M 1063.499961 389.502004 C 1063.499961 395.020854 1059.023972 399.498571 1053.502033 399.498571 C 1047.975859 399.498571 1043.49987 395.020854 1043.49987 389.502004 C 1043.49987 383.978922 1047.975859 379.501204 1053.502033 379.501204 C 1059.023972 379.501204 1063.499961 383.978922 1063.499961 389.502004 Z M 1063.499961 389.502004 \" transform=\"matrix(0.922457,0,0,0.922973,-564.063988,-74.585808)\"/>\n<g style=\"fill:rgb(0%,0%,0%);fill-opacity:1;\">\n  <use xlink:href=\"#glyph0-1\" x=\"43.375\" y=\"528.761163\"/>\n  <use xlink:href=\"#glyph0-2\" x=\"47.061224\" y=\"528.761163\"/>\n  <use xlink:href=\"#glyph0-3\" x=\"52.595964\" y=\"528.761163\"/>\n  <use xlink:href=\"#glyph0-4\" x=\"58.130705\" y=\"528.761163\"/>\n  <use xlink:href=\"#glyph0-5\" x=\"63.665446\" y=\"528.761163\"/>\n  <use xlink:href=\"#glyph0-6\" x=\"66.740902\" y=\"528.761163\"/>\n  <use xlink:href=\"#glyph0-7\" x=\"69.508272\" y=\"528.761163\"/>\n  <use xlink:href=\"#glyph0-8\" x=\"76.269953\" y=\"528.761163\"/>\n  <use xlink:href=\"#glyph0-9\" x=\"81.183116\" y=\"528.761163\"/>\n  <use xlink:href=\"#glyph0-10\" x=\"86.717856\" y=\"528.761163\"/>\n  <use xlink:href=\"#glyph0-11\" x=\"91.63102\" y=\"528.761163\"/>\n  <use xlink:href=\"#glyph0-6\" x=\"95.317243\" y=\"528.761163\"/>\n</g>\n<g style=\"fill:rgb(0%,0%,0%);fill-opacity:1;\">\n  <use xlink:href=\"#glyph1-1\" x=\"98.084614\" y=\"528.761163\"/>\n  <use xlink:href=\"#glyph1-2\" x=\"106.278624\" y=\"528.761163\"/>\n  <use xlink:href=\"#glyph1-3\" x=\"109.797292\" y=\"528.761163\"/>\n</g>\n<g style=\"fill:rgb(0%,0%,0%);fill-opacity:1;\">\n  <use xlink:href=\"#glyph0-12\" x=\"118.996637\" y=\"528.761163\"/>\n  <use xlink:href=\"#glyph0-13\" x=\"122.315319\" y=\"528.761163\"/>\n</g>\n<g style=\"fill:rgb(0%,0%,0%);fill-opacity:1;\">\n  <use xlink:href=\"#glyph0-14\" x=\"209.414062\" y=\"528.761163\"/>\n  <use xlink:href=\"#glyph0-15\" x=\"217.408087\" y=\"528.761163\"/>\n  <use xlink:href=\"#glyph0-16\" x=\"220.483544\" y=\"528.761163\"/>\n  <use xlink:href=\"#glyph0-16\" x=\"226.018284\" y=\"528.761163\"/>\n  <use xlink:href=\"#glyph0-10\" x=\"231.553025\" y=\"528.761163\"/>\n  <use xlink:href=\"#glyph0-2\" x=\"236.466188\" y=\"528.761163\"/>\n  <use xlink:href=\"#glyph0-6\" x=\"242.000929\" y=\"528.761163\"/>\n  <use xlink:href=\"#glyph0-7\" x=\"244.768299\" y=\"528.761163\"/>\n  <use xlink:href=\"#glyph0-8\" x=\"251.529979\" y=\"528.761163\"/>\n  <use xlink:href=\"#glyph0-9\" x=\"256.443143\" y=\"528.761163\"/>\n  <use xlink:href=\"#glyph0-10\" x=\"261.977883\" y=\"528.761163\"/>\n  <use xlink:href=\"#glyph0-11\" x=\"266.891047\" y=\"528.761163\"/>\n  <use xlink:href=\"#glyph0-6\" x=\"270.57727\" y=\"528.761163\"/>\n</g>\n<g style=\"fill:rgb(0%,0%,0%);fill-opacity:1;\">\n  <use xlink:href=\"#glyph1-1\" x=\"273.344641\" y=\"528.761163\"/>\n  <use xlink:href=\"#glyph1-2\" x=\"281.538651\" y=\"528.761163\"/>\n  <use xlink:href=\"#glyph1-3\" x=\"285.057319\" y=\"528.761163\"/>\n  <use xlink:href=\"#glyph1-4\" x=\"294.256663\" y=\"528.761163\"/>\n</g>\n<g style=\"fill:rgb(0%,0%,0%);fill-opacity:1;\">\n  <use xlink:href=\"#glyph0-17\" x=\"375.457031\" y=\"528.761163\"/>\n  <use xlink:href=\"#glyph0-4\" x=\"383.451056\" y=\"528.761163\"/>\n  <use xlink:href=\"#glyph0-5\" x=\"388.985797\" y=\"528.761163\"/>\n  <use xlink:href=\"#glyph0-3\" x=\"392.061253\" y=\"528.761163\"/>\n  <use xlink:href=\"#glyph0-4\" x=\"397.595994\" y=\"528.761163\"/>\n  <use xlink:href=\"#glyph0-5\" x=\"403.130734\" y=\"528.761163\"/>\n  <use xlink:href=\"#glyph0-6\" x=\"406.206191\" y=\"528.761163\"/>\n  <use xlink:href=\"#glyph0-7\" x=\"408.973561\" y=\"528.761163\"/>\n  <use xlink:href=\"#glyph0-8\" x=\"415.735241\" y=\"528.761163\"/>\n  <use xlink:href=\"#glyph0-9\" x=\"420.648405\" y=\"528.761163\"/>\n  <use xlink:href=\"#glyph0-10\" x=\"426.183145\" y=\"528.761163\"/>\n  <use xlink:href=\"#glyph0-11\" x=\"431.096308\" y=\"528.761163\"/>\n  <use xlink:href=\"#glyph0-6\" x=\"434.782532\" y=\"528.761163\"/>\n</g>\n<g style=\"fill:rgb(0%,0%,0%);fill-opacity:1;\">\n  <use xlink:href=\"#glyph1-1\" x=\"437.549903\" y=\"528.761163\"/>\n  <use xlink:href=\"#glyph1-2\" x=\"445.743913\" y=\"528.761163\"/>\n  <use xlink:href=\"#glyph1-3\" x=\"449.262581\" y=\"528.761163\"/>\n</g>\n<g style=\"fill:rgb(0%,0%,0%);fill-opacity:1;\">\n  <use xlink:href=\"#glyph0-12\" x=\"458.461925\" y=\"528.761163\"/>\n</g>\n</g>\n</svg>"
          },
          "metadata": {}
        }
      ]
    },
    {
      "cell_type": "code",
      "source": [
        "#Compile the model\n",
        "model_4.compile(loss='binary_crossentropy', optimizer='adam', metrics=['accuracy'])\n",
        "\n",
        "#Fit training data to the model\n",
        "model_4.fit(x_train, y_train, epochs=10, batch_size=32, validation_data=(x_test, y_test))\n"
      ],
      "metadata": {
        "colab": {
          "base_uri": "https://localhost:8080/"
        },
        "outputId": "8adb4554-6315-4f34-b850-e74a97f2c212",
        "id": "H2mgPuHld3OE"
      },
      "execution_count": 36,
      "outputs": [
        {
          "output_type": "stream",
          "name": "stdout",
          "text": [
            "Epoch 1/10\n",
            "143/143 [==============================] - 2s 6ms/step - loss: 0.8293 - accuracy: 0.2410 - val_loss: 0.7174 - val_accuracy: 0.2431\n",
            "Epoch 2/10\n",
            "143/143 [==============================] - 1s 4ms/step - loss: 0.6565 - accuracy: 0.6747 - val_loss: 0.6116 - val_accuracy: 0.7538\n",
            "Epoch 3/10\n",
            "143/143 [==============================] - 1s 4ms/step - loss: 0.5899 - accuracy: 0.7539 - val_loss: 0.5742 - val_accuracy: 0.7538\n",
            "Epoch 4/10\n",
            "143/143 [==============================] - 0s 3ms/step - loss: 0.5672 - accuracy: 0.7539 - val_loss: 0.5622 - val_accuracy: 0.7538\n",
            "Epoch 5/10\n",
            "143/143 [==============================] - 0s 2ms/step - loss: 0.5602 - accuracy: 0.7539 - val_loss: 0.5590 - val_accuracy: 0.7538\n",
            "Epoch 6/10\n",
            "143/143 [==============================] - 0s 3ms/step - loss: 0.5506 - accuracy: 0.7539 - val_loss: 0.5098 - val_accuracy: 0.7538\n",
            "Epoch 7/10\n",
            "143/143 [==============================] - 0s 3ms/step - loss: 0.4802 - accuracy: 0.7539 - val_loss: 0.4521 - val_accuracy: 0.7538\n",
            "Epoch 8/10\n",
            "143/143 [==============================] - 0s 3ms/step - loss: 0.4335 - accuracy: 0.7539 - val_loss: 0.4111 - val_accuracy: 0.7538\n",
            "Epoch 9/10\n",
            "143/143 [==============================] - 0s 3ms/step - loss: 0.3982 - accuracy: 0.7539 - val_loss: 0.3791 - val_accuracy: 0.7538\n",
            "Epoch 10/10\n",
            "143/143 [==============================] - 0s 3ms/step - loss: 0.3696 - accuracy: 0.7539 - val_loss: 0.3515 - val_accuracy: 0.7538\n"
          ]
        },
        {
          "output_type": "execute_result",
          "data": {
            "text/plain": [
              "<keras.callbacks.History at 0x7ff4a77efd60>"
            ]
          },
          "metadata": {},
          "execution_count": 36
        }
      ]
    },
    {
      "cell_type": "code",
      "source": [
        "# Evaluate model on the test data \n",
        "loss, accuracy = model_4.evaluate(x_test, y_test)\n",
        "print(f'Test Loss: {loss:.4f}')\n",
        "print(f'Test Accuracy: {accuracy:.4f}')"
      ],
      "metadata": {
        "colab": {
          "base_uri": "https://localhost:8080/"
        },
        "outputId": "29dc96da-4e5c-491b-84ef-94af8e85d943",
        "id": "YPv7PZ4Jd3OE"
      },
      "execution_count": 37,
      "outputs": [
        {
          "output_type": "stream",
          "name": "stdout",
          "text": [
            "61/61 [==============================] - 0s 1ms/step - loss: 0.3515 - accuracy: 0.7538\n",
            "Test Loss: 0.3515\n",
            "Test Accuracy: 0.7538\n"
          ]
        }
      ]
    },
    {
      "cell_type": "markdown",
      "source": [
        "# Model building 5 (experimenting with RMSprop optimizer)\n",
        "The fifth model attempts to use a different optimizer when compiling the model, the RMSprop optimizer. The architecture are as follows:\n",
        "\n",
        "* Fully connected neural network (Dense)\n",
        "* First layer   - 4 neurons -AF: RELU\n",
        "* Second layer  - 1 neuron  -AF: Sigmoid\n",
        "\n",
        "Note: the test score are considerably high, similar to model_4\n"
      ],
      "metadata": {
        "id": "lsLJIq0mmLZ0"
      }
    },
    {
      "cell_type": "code",
      "source": [
        "# Define the model:\n",
        "model_5 = Sequential()\n",
        "model_5.add(Dense(4, input_dim=12, activation='relu'))\n",
        "model_5.add(Dense(1, activation='sigmoid'))\n",
        "print(model_5.summary())"
      ],
      "metadata": {
        "colab": {
          "base_uri": "https://localhost:8080/"
        },
        "outputId": "e4afabda-4d54-4c80-96e4-919d287e9c22",
        "id": "9ZSC06p6mLaB"
      },
      "execution_count": 38,
      "outputs": [
        {
          "output_type": "stream",
          "name": "stdout",
          "text": [
            "Model: \"sequential_4\"\n",
            "_________________________________________________________________\n",
            " Layer (type)                Output Shape              Param #   \n",
            "=================================================================\n",
            " dense_9 (Dense)             (None, 4)                 52        \n",
            "                                                                 \n",
            " dense_10 (Dense)            (None, 1)                 5         \n",
            "                                                                 \n",
            "=================================================================\n",
            "Total params: 57\n",
            "Trainable params: 57\n",
            "Non-trainable params: 0\n",
            "_________________________________________________________________\n",
            "None\n"
          ]
        }
      ]
    },
    {
      "cell_type": "code",
      "source": [
        "svg4_path = '/content/drive/MyDrive/Colab Notebooks/nn (2).svg'\n",
        "display(SVG(svg4_path))\n"
      ],
      "metadata": {
        "colab": {
          "base_uri": "https://localhost:8080/",
          "height": 840
        },
        "outputId": "a78eafcc-5b76-4c15-8d7d-064c27ef0f3c",
        "id": "bhUQ41_Ec0k5"
      },
      "execution_count": 39,
      "outputs": [
        {
          "output_type": "display_data",
          "data": {
            "text/plain": [
              "<IPython.core.display.SVG object>"
            ],
            "image/svg+xml": "<svg xmlns=\"http://www.w3.org/2000/svg\" xmlns:xlink=\"http://www.w3.org/1999/xlink\" width=\"1707px\" height=\"799px\" viewBox=\"0 0 1279 599\" version=\"1.1\">\n<defs>\n<g>\n<symbol overflow=\"visible\" id=\"glyph0-0\">\n<path style=\"stroke:none;\" d=\"M 1.53125 0 L 1.53125 -6.921875 L 7.0625 -6.921875 L 7.0625 0 Z M 1.703125 -0.171875 L 6.890625 -0.171875 L 6.890625 -6.75 L 1.703125 -6.75 Z M 1.703125 -0.171875 \"/>\n</symbol>\n<symbol overflow=\"visible\" id=\"glyph0-1\">\n<path style=\"stroke:none;\" d=\"M 3.40625 -0.203125 L 3.40625 0 L 0.28125 0 L 0.28125 -0.203125 L 0.53125 -0.203125 C 0.832031 -0.203125 1.050781 -0.289062 1.1875 -0.46875 C 1.28125 -0.582031 1.328125 -0.859375 1.328125 -1.296875 L 1.328125 -6.03125 C 1.328125 -6.40625 1.300781 -6.648438 1.25 -6.765625 C 1.21875 -6.859375 1.144531 -6.9375 1.03125 -7 C 0.875 -7.09375 0.707031 -7.140625 0.53125 -7.140625 L 0.28125 -7.140625 L 0.28125 -7.328125 L 3.40625 -7.328125 L 3.40625 -7.140625 L 3.15625 -7.140625 C 2.851562 -7.140625 2.632812 -7.050781 2.5 -6.875 C 2.40625 -6.757812 2.359375 -6.476562 2.359375 -6.03125 L 2.359375 -1.296875 C 2.359375 -0.921875 2.382812 -0.675781 2.4375 -0.5625 C 2.46875 -0.46875 2.539062 -0.390625 2.65625 -0.328125 C 2.8125 -0.242188 2.976562 -0.203125 3.15625 -0.203125 Z M 3.40625 -0.203125 \"/>\n</symbol>\n<symbol overflow=\"visible\" id=\"glyph0-2\">\n<path style=\"stroke:none;\" d=\"M 1.78125 -4.046875 C 2.363281 -4.742188 2.921875 -5.09375 3.453125 -5.09375 C 3.710938 -5.09375 3.941406 -5.023438 4.140625 -4.890625 C 4.335938 -4.753906 4.492188 -4.535156 4.609375 -4.234375 C 4.679688 -4.015625 4.71875 -3.679688 4.71875 -3.234375 L 4.71875 -1.125 C 4.71875 -0.8125 4.742188 -0.597656 4.796875 -0.484375 C 4.835938 -0.390625 4.898438 -0.316406 4.984375 -0.265625 C 5.078125 -0.210938 5.242188 -0.1875 5.484375 -0.1875 L 5.484375 0 L 3.03125 0 L 3.03125 -0.1875 L 3.140625 -0.1875 C 3.367188 -0.1875 3.53125 -0.222656 3.625 -0.296875 C 3.71875 -0.367188 3.78125 -0.472656 3.8125 -0.609375 C 3.820312 -0.660156 3.828125 -0.832031 3.828125 -1.125 L 3.828125 -3.140625 C 3.828125 -3.597656 3.769531 -3.925781 3.65625 -4.125 C 3.539062 -4.332031 3.34375 -4.4375 3.0625 -4.4375 C 2.632812 -4.4375 2.207031 -4.203125 1.78125 -3.734375 L 1.78125 -1.125 C 1.78125 -0.78125 1.800781 -0.570312 1.84375 -0.5 C 1.894531 -0.394531 1.960938 -0.316406 2.046875 -0.265625 C 2.140625 -0.210938 2.320312 -0.1875 2.59375 -0.1875 L 2.59375 0 L 0.140625 0 L 0.140625 -0.1875 L 0.25 -0.1875 C 0.5 -0.1875 0.664062 -0.25 0.75 -0.375 C 0.84375 -0.507812 0.890625 -0.757812 0.890625 -1.125 L 0.890625 -2.953125 C 0.890625 -3.546875 0.875 -3.90625 0.84375 -4.03125 C 0.820312 -4.164062 0.78125 -4.253906 0.71875 -4.296875 C 0.664062 -4.347656 0.59375 -4.375 0.5 -4.375 C 0.40625 -4.375 0.285156 -4.347656 0.140625 -4.296875 L 0.0625 -4.5 L 1.5625 -5.09375 L 1.78125 -5.09375 Z M 1.78125 -4.046875 \"/>\n</symbol>\n<symbol overflow=\"visible\" id=\"glyph0-3\">\n<path style=\"stroke:none;\" d=\"M -0.015625 -4.46875 L 1.515625 -5.078125 L 1.71875 -5.078125 L 1.71875 -3.921875 C 1.96875 -4.359375 2.222656 -4.660156 2.484375 -4.828125 C 2.742188 -5.003906 3.015625 -5.09375 3.296875 -5.09375 C 3.796875 -5.09375 4.210938 -4.898438 4.546875 -4.515625 C 4.953125 -4.035156 5.15625 -3.414062 5.15625 -2.65625 C 5.15625 -1.800781 4.910156 -1.09375 4.421875 -0.53125 C 4.015625 -0.0703125 3.503906 0.15625 2.890625 0.15625 C 2.628906 0.15625 2.398438 0.113281 2.203125 0.03125 C 2.054688 -0.0195312 1.894531 -0.125 1.71875 -0.28125 L 1.71875 1.21875 C 1.71875 1.5625 1.738281 1.773438 1.78125 1.859375 C 1.820312 1.953125 1.894531 2.023438 2 2.078125 C 2.101562 2.140625 2.289062 2.171875 2.5625 2.171875 L 2.5625 2.375 L -0.03125 2.375 L -0.03125 2.171875 L 0.09375 2.171875 C 0.289062 2.171875 0.460938 2.132812 0.609375 2.0625 C 0.671875 2.019531 0.722656 1.953125 0.765625 1.859375 C 0.804688 1.773438 0.828125 1.550781 0.828125 1.1875 L 0.828125 -3.5 C 0.828125 -3.8125 0.8125 -4.007812 0.78125 -4.09375 C 0.75 -4.1875 0.703125 -4.253906 0.640625 -4.296875 C 0.578125 -4.335938 0.492188 -4.359375 0.390625 -4.359375 C 0.296875 -4.359375 0.179688 -4.335938 0.046875 -4.296875 Z M 1.71875 -3.609375 L 1.71875 -1.75 C 1.71875 -1.351562 1.734375 -1.09375 1.765625 -0.96875 C 1.816406 -0.757812 1.941406 -0.570312 2.140625 -0.40625 C 2.335938 -0.25 2.582031 -0.171875 2.875 -0.171875 C 3.238281 -0.171875 3.53125 -0.3125 3.75 -0.59375 C 4.039062 -0.957031 4.1875 -1.472656 4.1875 -2.140625 C 4.1875 -2.898438 4.019531 -3.484375 3.6875 -3.890625 C 3.457031 -4.171875 3.1875 -4.3125 2.875 -4.3125 C 2.695312 -4.3125 2.523438 -4.269531 2.359375 -4.1875 C 2.234375 -4.125 2.019531 -3.929688 1.71875 -3.609375 Z M 1.71875 -3.609375 \"/>\n</symbol>\n<symbol overflow=\"visible\" id=\"glyph0-4\">\n<path style=\"stroke:none;\" d=\"M 4.6875 -4.953125 L 4.6875 -1.953125 C 4.6875 -1.378906 4.695312 -1.023438 4.71875 -0.890625 C 4.75 -0.765625 4.789062 -0.675781 4.84375 -0.625 C 4.90625 -0.582031 4.976562 -0.5625 5.0625 -0.5625 C 5.175781 -0.5625 5.300781 -0.59375 5.4375 -0.65625 L 5.515625 -0.453125 L 4.03125 0.15625 L 3.796875 0.15625 L 3.796875 -0.890625 C 3.367188 -0.429688 3.039062 -0.140625 2.8125 -0.015625 C 2.59375 0.0976562 2.359375 0.15625 2.109375 0.15625 C 1.835938 0.15625 1.597656 0.078125 1.390625 -0.078125 C 1.179688 -0.242188 1.035156 -0.453125 0.953125 -0.703125 C 0.878906 -0.960938 0.84375 -1.320312 0.84375 -1.78125 L 0.84375 -3.984375 C 0.84375 -4.222656 0.816406 -4.382812 0.765625 -4.46875 C 0.722656 -4.5625 0.648438 -4.632812 0.546875 -4.6875 C 0.453125 -4.738281 0.273438 -4.757812 0.015625 -4.75 L 0.015625 -4.953125 L 1.75 -4.953125 L 1.75 -1.640625 C 1.75 -1.179688 1.828125 -0.878906 1.984375 -0.734375 C 2.140625 -0.585938 2.332031 -0.515625 2.5625 -0.515625 C 2.71875 -0.515625 2.894531 -0.5625 3.09375 -0.65625 C 3.289062 -0.757812 3.523438 -0.945312 3.796875 -1.21875 L 3.796875 -4.03125 C 3.796875 -4.3125 3.742188 -4.5 3.640625 -4.59375 C 3.535156 -4.695312 3.320312 -4.75 3 -4.75 L 3 -4.953125 Z M 4.6875 -4.953125 \"/>\n</symbol>\n<symbol overflow=\"visible\" id=\"glyph0-5\">\n<path style=\"stroke:none;\" d=\"M 1.78125 -6.578125 L 1.78125 -4.953125 L 2.9375 -4.953125 L 2.9375 -4.578125 L 1.78125 -4.578125 L 1.78125 -1.359375 C 1.78125 -1.035156 1.828125 -0.816406 1.921875 -0.703125 C 2.015625 -0.597656 2.132812 -0.546875 2.28125 -0.546875 C 2.394531 -0.546875 2.503906 -0.582031 2.609375 -0.65625 C 2.722656 -0.726562 2.8125 -0.835938 2.875 -0.984375 L 3.09375 -0.984375 C 2.96875 -0.628906 2.785156 -0.363281 2.546875 -0.1875 C 2.316406 -0.0078125 2.082031 0.078125 1.84375 0.078125 C 1.675781 0.078125 1.515625 0.0351562 1.359375 -0.046875 C 1.203125 -0.140625 1.082031 -0.269531 1 -0.4375 C 0.925781 -0.613281 0.890625 -0.882812 0.890625 -1.25 L 0.890625 -4.578125 L 0.109375 -4.578125 L 0.109375 -4.75 C 0.304688 -4.832031 0.507812 -4.96875 0.71875 -5.15625 C 0.925781 -5.34375 1.109375 -5.566406 1.265625 -5.828125 C 1.347656 -5.960938 1.460938 -6.210938 1.609375 -6.578125 Z M 1.78125 -6.578125 \"/>\n</symbol>\n<symbol overflow=\"visible\" id=\"glyph0-6\">\n<path style=\"stroke:none;\" d=\"\"/>\n</symbol>\n<symbol overflow=\"visible\" id=\"glyph0-7\">\n<path style=\"stroke:none;\" d=\"M 6.34375 -2.03125 L 6.515625 -1.984375 L 5.890625 0 L 0.21875 0 L 0.21875 -0.203125 L 0.5 -0.203125 C 0.8125 -0.203125 1.03125 -0.300781 1.15625 -0.5 C 1.238281 -0.613281 1.28125 -0.878906 1.28125 -1.296875 L 1.28125 -6.03125 C 1.28125 -6.488281 1.226562 -6.773438 1.125 -6.890625 C 0.976562 -7.054688 0.769531 -7.140625 0.5 -7.140625 L 0.21875 -7.140625 L 0.21875 -7.328125 L 3.53125 -7.328125 L 3.53125 -7.140625 C 3.144531 -7.140625 2.875 -7.097656 2.71875 -7.015625 C 2.5625 -6.941406 2.453125 -6.847656 2.390625 -6.734375 C 2.335938 -6.617188 2.3125 -6.34375 2.3125 -5.90625 L 2.3125 -1.296875 C 2.3125 -1.003906 2.335938 -0.800781 2.390625 -0.6875 C 2.441406 -0.613281 2.507812 -0.554688 2.59375 -0.515625 C 2.6875 -0.484375 2.96875 -0.46875 3.4375 -0.46875 L 3.96875 -0.46875 C 4.53125 -0.46875 4.925781 -0.507812 5.15625 -0.59375 C 5.382812 -0.675781 5.59375 -0.820312 5.78125 -1.03125 C 5.96875 -1.238281 6.15625 -1.570312 6.34375 -2.03125 Z M 6.34375 -2.03125 \"/>\n</symbol>\n<symbol overflow=\"visible\" id=\"glyph0-8\">\n<path style=\"stroke:none;\" d=\"M 3.15625 -0.71875 C 2.644531 -0.320312 2.320312 -0.09375 2.1875 -0.03125 C 2 0.0625 1.796875 0.109375 1.578125 0.109375 C 1.234375 0.109375 0.945312 -0.00390625 0.71875 -0.234375 C 0.5 -0.472656 0.390625 -0.785156 0.390625 -1.171875 C 0.390625 -1.410156 0.445312 -1.617188 0.5625 -1.796875 C 0.707031 -2.046875 0.960938 -2.273438 1.328125 -2.484375 C 1.691406 -2.703125 2.300781 -2.96875 3.15625 -3.28125 L 3.15625 -3.484375 C 3.15625 -3.972656 3.070312 -4.304688 2.90625 -4.484375 C 2.75 -4.671875 2.523438 -4.765625 2.234375 -4.765625 C 2.003906 -4.765625 1.820312 -4.707031 1.6875 -4.59375 C 1.550781 -4.46875 1.484375 -4.328125 1.484375 -4.171875 L 1.5 -3.84375 C 1.5 -3.6875 1.457031 -3.5625 1.375 -3.46875 C 1.289062 -3.375 1.175781 -3.328125 1.03125 -3.328125 C 0.90625 -3.328125 0.796875 -3.375 0.703125 -3.46875 C 0.617188 -3.5625 0.578125 -3.691406 0.578125 -3.859375 C 0.578125 -4.171875 0.734375 -4.453125 1.046875 -4.703125 C 1.367188 -4.960938 1.816406 -5.09375 2.390625 -5.09375 C 2.828125 -5.09375 3.1875 -5.019531 3.46875 -4.875 C 3.6875 -4.769531 3.84375 -4.597656 3.9375 -4.359375 C 4.007812 -4.203125 4.046875 -3.882812 4.046875 -3.40625 L 4.046875 -1.71875 C 4.046875 -1.25 4.050781 -0.957031 4.0625 -0.84375 C 4.082031 -0.738281 4.113281 -0.664062 4.15625 -0.625 C 4.195312 -0.59375 4.242188 -0.578125 4.296875 -0.578125 C 4.359375 -0.578125 4.410156 -0.59375 4.453125 -0.625 C 4.523438 -0.664062 4.671875 -0.796875 4.890625 -1.015625 L 4.890625 -0.71875 C 4.484375 -0.175781 4.097656 0.09375 3.734375 0.09375 C 3.554688 0.09375 3.414062 0.0351562 3.3125 -0.078125 C 3.207031 -0.203125 3.15625 -0.414062 3.15625 -0.71875 Z M 3.15625 -1.0625 L 3.15625 -2.953125 C 2.601562 -2.734375 2.25 -2.582031 2.09375 -2.5 C 1.8125 -2.332031 1.609375 -2.160156 1.484375 -1.984375 C 1.359375 -1.816406 1.296875 -1.628906 1.296875 -1.421875 C 1.296875 -1.160156 1.375 -0.945312 1.53125 -0.78125 C 1.6875 -0.613281 1.863281 -0.53125 2.0625 -0.53125 C 2.34375 -0.53125 2.707031 -0.707031 3.15625 -1.0625 Z M 3.15625 -1.0625 \"/>\n</symbol>\n<symbol overflow=\"visible\" id=\"glyph0-9\">\n<path style=\"stroke:none;\" d=\"M 0.0625 -4.953125 L 2.375 -4.953125 L 2.375 -4.75 L 2.265625 -4.75 C 2.097656 -4.75 1.972656 -4.710938 1.890625 -4.640625 C 1.804688 -4.578125 1.765625 -4.492188 1.765625 -4.390625 C 1.765625 -4.242188 1.828125 -4.046875 1.953125 -3.796875 L 3.15625 -1.296875 L 4.265625 -4.046875 C 4.328125 -4.191406 4.359375 -4.335938 4.359375 -4.484375 C 4.359375 -4.546875 4.34375 -4.59375 4.3125 -4.625 C 4.28125 -4.664062 4.234375 -4.695312 4.171875 -4.71875 C 4.117188 -4.738281 4.015625 -4.75 3.859375 -4.75 L 3.859375 -4.953125 L 5.46875 -4.953125 L 5.46875 -4.75 C 5.332031 -4.738281 5.226562 -4.710938 5.15625 -4.671875 C 5.082031 -4.628906 5.003906 -4.546875 4.921875 -4.421875 C 4.890625 -4.367188 4.828125 -4.234375 4.734375 -4.015625 L 2.71875 0.9375 C 2.53125 1.414062 2.273438 1.773438 1.953125 2.015625 C 1.640625 2.265625 1.335938 2.390625 1.046875 2.390625 C 0.835938 2.390625 0.660156 2.328125 0.515625 2.203125 C 0.378906 2.078125 0.3125 1.9375 0.3125 1.78125 C 0.3125 1.632812 0.359375 1.515625 0.453125 1.421875 C 0.554688 1.328125 0.695312 1.28125 0.875 1.28125 C 0.988281 1.28125 1.148438 1.320312 1.359375 1.40625 C 1.503906 1.457031 1.59375 1.484375 1.625 1.484375 C 1.738281 1.484375 1.859375 1.425781 1.984375 1.3125 C 2.109375 1.195312 2.238281 0.984375 2.375 0.671875 L 2.71875 -0.1875 L 0.9375 -3.9375 C 0.882812 -4.039062 0.800781 -4.175781 0.6875 -4.34375 C 0.59375 -4.46875 0.519531 -4.554688 0.46875 -4.609375 C 0.382812 -4.660156 0.25 -4.707031 0.0625 -4.75 Z M 0.0625 -4.953125 \"/>\n</symbol>\n<symbol overflow=\"visible\" id=\"glyph0-10\">\n<path style=\"stroke:none;\" d=\"M 1.171875 -3.09375 C 1.171875 -2.351562 1.351562 -1.773438 1.71875 -1.359375 C 2.070312 -0.941406 2.492188 -0.734375 2.984375 -0.734375 C 3.304688 -0.734375 3.585938 -0.820312 3.828125 -1 C 4.066406 -1.175781 4.265625 -1.484375 4.421875 -1.921875 L 4.59375 -1.8125 C 4.519531 -1.3125 4.300781 -0.859375 3.9375 -0.453125 C 3.570312 -0.046875 3.117188 0.15625 2.578125 0.15625 C 1.984375 0.15625 1.472656 -0.0703125 1.046875 -0.53125 C 0.617188 -1 0.40625 -1.625 0.40625 -2.40625 C 0.40625 -3.257812 0.625 -3.921875 1.0625 -4.390625 C 1.5 -4.867188 2.046875 -5.109375 2.703125 -5.109375 C 3.253906 -5.109375 3.707031 -4.925781 4.0625 -4.5625 C 4.414062 -4.195312 4.59375 -3.707031 4.59375 -3.09375 Z M 1.171875 -3.40625 L 3.46875 -3.40625 C 3.445312 -3.71875 3.410156 -3.941406 3.359375 -4.078125 C 3.265625 -4.273438 3.128906 -4.429688 2.953125 -4.546875 C 2.773438 -4.660156 2.585938 -4.71875 2.390625 -4.71875 C 2.085938 -4.71875 1.816406 -4.601562 1.578125 -4.375 C 1.347656 -4.144531 1.210938 -3.820312 1.171875 -3.40625 Z M 1.171875 -3.40625 \"/>\n</symbol>\n<symbol overflow=\"visible\" id=\"glyph0-11\">\n<path style=\"stroke:none;\" d=\"M 1.796875 -5.09375 L 1.796875 -3.984375 C 2.210938 -4.722656 2.632812 -5.09375 3.0625 -5.09375 C 3.257812 -5.09375 3.421875 -5.03125 3.546875 -4.90625 C 3.679688 -4.789062 3.75 -4.65625 3.75 -4.5 C 3.75 -4.363281 3.703125 -4.242188 3.609375 -4.140625 C 3.515625 -4.046875 3.40625 -4 3.28125 -4 C 3.15625 -4 3.015625 -4.0625 2.859375 -4.1875 C 2.703125 -4.3125 2.582031 -4.375 2.5 -4.375 C 2.4375 -4.375 2.367188 -4.335938 2.296875 -4.265625 C 2.128906 -4.117188 1.960938 -3.875 1.796875 -3.53125 L 1.796875 -1.15625 C 1.796875 -0.882812 1.828125 -0.675781 1.890625 -0.53125 C 1.941406 -0.4375 2.023438 -0.351562 2.140625 -0.28125 C 2.265625 -0.21875 2.4375 -0.1875 2.65625 -0.1875 L 2.65625 0 L 0.125 0 L 0.125 -0.1875 C 0.375 -0.1875 0.5625 -0.226562 0.6875 -0.3125 C 0.78125 -0.375 0.84375 -0.46875 0.875 -0.59375 C 0.894531 -0.65625 0.90625 -0.828125 0.90625 -1.109375 L 0.90625 -3.03125 C 0.90625 -3.613281 0.890625 -3.957031 0.859375 -4.0625 C 0.835938 -4.175781 0.796875 -4.253906 0.734375 -4.296875 C 0.671875 -4.347656 0.59375 -4.375 0.5 -4.375 C 0.382812 -4.375 0.257812 -4.347656 0.125 -4.296875 L 0.0625 -4.5 L 1.5625 -5.09375 Z M 1.796875 -5.09375 \"/>\n</symbol>\n<symbol overflow=\"visible\" id=\"glyph0-12\">\n<path style=\"stroke:none;\" d=\"M 0.734375 -7.015625 L 1.84375 -7.484375 L 2.03125 -7.484375 L 2.03125 -4.28125 C 2.03125 -4.0625 2.039062 -3.929688 2.0625 -3.890625 C 2.082031 -3.847656 2.113281 -3.820312 2.15625 -3.8125 C 2.207031 -3.78125 2.347656 -3.765625 2.578125 -3.765625 L 2.578125 -3.59375 L 0.828125 -3.59375 L 0.828125 -3.765625 C 1.054688 -3.765625 1.195312 -3.773438 1.25 -3.796875 C 1.289062 -3.816406 1.320312 -3.847656 1.34375 -3.890625 C 1.363281 -3.929688 1.375 -4.0625 1.375 -4.28125 L 1.375 -6.3125 C 1.375 -6.5625 1.363281 -6.726562 1.34375 -6.8125 C 1.332031 -6.875 1.3125 -6.914062 1.28125 -6.9375 C 1.257812 -6.957031 1.226562 -6.96875 1.1875 -6.96875 C 1.113281 -6.96875 0.992188 -6.929688 0.828125 -6.859375 Z M 0.734375 -7.015625 \"/>\n</symbol>\n<symbol overflow=\"visible\" id=\"glyph0-13\">\n<path style=\"stroke:none;\" d=\"M 3.109375 -4.40625 L 2.78125 -3.59375 L 0.109375 -3.59375 L 0.109375 -3.75 C 0.992188 -4.4375 1.582031 -5 1.875 -5.4375 C 2.0625 -5.707031 2.15625 -5.96875 2.15625 -6.21875 C 2.15625 -6.4375 2.078125 -6.617188 1.921875 -6.765625 C 1.773438 -6.921875 1.585938 -7 1.359375 -7 C 1.148438 -7 0.96875 -6.941406 0.8125 -6.828125 C 0.664062 -6.722656 0.550781 -6.566406 0.46875 -6.359375 L 0.234375 -6.359375 C 0.273438 -6.710938 0.410156 -6.988281 0.640625 -7.1875 C 0.867188 -7.382812 1.164062 -7.484375 1.53125 -7.484375 C 1.914062 -7.484375 2.226562 -7.378906 2.46875 -7.171875 C 2.707031 -6.960938 2.828125 -6.726562 2.828125 -6.46875 C 2.828125 -6.226562 2.738281 -5.972656 2.5625 -5.703125 C 2.289062 -5.285156 1.757812 -4.753906 0.96875 -4.109375 L 1.984375 -4.109375 C 2.296875 -4.109375 2.5 -4.128906 2.59375 -4.171875 C 2.695312 -4.210938 2.785156 -4.289062 2.859375 -4.40625 Z M 3.109375 -4.40625 \"/>\n</symbol>\n<symbol overflow=\"visible\" id=\"glyph0-14\">\n<path style=\"stroke:none;\" d=\"M 2.28125 -3.9375 L 5.671875 -3.9375 L 5.671875 -6.03125 C 5.671875 -6.40625 5.648438 -6.648438 5.609375 -6.765625 C 5.566406 -6.859375 5.488281 -6.9375 5.375 -7 C 5.21875 -7.09375 5.054688 -7.140625 4.890625 -7.140625 L 4.625 -7.140625 L 4.625 -7.328125 L 7.765625 -7.328125 L 7.765625 -7.140625 L 7.5 -7.140625 C 7.332031 -7.140625 7.171875 -7.097656 7.015625 -7.015625 C 6.898438 -6.953125 6.820312 -6.863281 6.78125 -6.75 C 6.738281 -6.632812 6.71875 -6.394531 6.71875 -6.03125 L 6.71875 -1.296875 C 6.71875 -0.921875 6.738281 -0.675781 6.78125 -0.5625 C 6.820312 -0.46875 6.894531 -0.390625 7 -0.328125 C 7.164062 -0.242188 7.332031 -0.203125 7.5 -0.203125 L 7.765625 -0.203125 L 7.765625 0 L 4.625 0 L 4.625 -0.203125 L 4.890625 -0.203125 C 5.191406 -0.203125 5.410156 -0.289062 5.546875 -0.46875 C 5.628906 -0.582031 5.671875 -0.859375 5.671875 -1.296875 L 5.671875 -3.53125 L 2.28125 -3.53125 L 2.28125 -1.296875 C 2.28125 -0.921875 2.300781 -0.675781 2.34375 -0.5625 C 2.375 -0.46875 2.453125 -0.390625 2.578125 -0.328125 C 2.722656 -0.242188 2.882812 -0.203125 3.0625 -0.203125 L 3.328125 -0.203125 L 3.328125 0 L 0.1875 0 L 0.1875 -0.203125 L 0.453125 -0.203125 C 0.753906 -0.203125 0.972656 -0.289062 1.109375 -0.46875 C 1.191406 -0.582031 1.234375 -0.859375 1.234375 -1.296875 L 1.234375 -6.03125 C 1.234375 -6.40625 1.210938 -6.648438 1.171875 -6.765625 C 1.128906 -6.859375 1.050781 -6.9375 0.9375 -7 C 0.78125 -7.09375 0.617188 -7.140625 0.453125 -7.140625 L 0.1875 -7.140625 L 0.1875 -7.328125 L 3.328125 -7.328125 L 3.328125 -7.140625 L 3.0625 -7.140625 C 2.882812 -7.140625 2.722656 -7.097656 2.578125 -7.015625 C 2.460938 -6.953125 2.382812 -6.863281 2.34375 -6.75 C 2.300781 -6.632812 2.28125 -6.394531 2.28125 -6.03125 Z M 2.28125 -3.9375 \"/>\n</symbol>\n<symbol overflow=\"visible\" id=\"glyph0-15\">\n<path style=\"stroke:none;\" d=\"M 1.609375 -7.6875 C 1.753906 -7.6875 1.878906 -7.632812 1.984375 -7.53125 C 2.097656 -7.425781 2.15625 -7.296875 2.15625 -7.140625 C 2.15625 -6.992188 2.097656 -6.863281 1.984375 -6.75 C 1.878906 -6.644531 1.753906 -6.59375 1.609375 -6.59375 C 1.453125 -6.59375 1.316406 -6.644531 1.203125 -6.75 C 1.097656 -6.863281 1.046875 -6.992188 1.046875 -7.140625 C 1.046875 -7.296875 1.097656 -7.425781 1.203125 -7.53125 C 1.316406 -7.632812 1.453125 -7.6875 1.609375 -7.6875 Z M 2.046875 -5.09375 L 2.046875 -1.125 C 2.046875 -0.8125 2.066406 -0.601562 2.109375 -0.5 C 2.160156 -0.394531 2.226562 -0.316406 2.3125 -0.265625 C 2.40625 -0.210938 2.566406 -0.1875 2.796875 -0.1875 L 2.796875 0 L 0.40625 0 L 0.40625 -0.1875 C 0.644531 -0.1875 0.804688 -0.207031 0.890625 -0.25 C 0.972656 -0.300781 1.035156 -0.378906 1.078125 -0.484375 C 1.128906 -0.597656 1.15625 -0.8125 1.15625 -1.125 L 1.15625 -3.03125 C 1.15625 -3.5625 1.140625 -3.910156 1.109375 -4.078125 C 1.078125 -4.191406 1.035156 -4.269531 0.984375 -4.3125 C 0.929688 -4.351562 0.859375 -4.375 0.765625 -4.375 C 0.660156 -4.375 0.539062 -4.347656 0.40625 -4.296875 L 0.328125 -4.5 L 1.8125 -5.09375 Z M 2.046875 -5.09375 \"/>\n</symbol>\n<symbol overflow=\"visible\" id=\"glyph0-16\">\n<path style=\"stroke:none;\" d=\"M 3.84375 -0.5625 C 3.601562 -0.300781 3.363281 -0.113281 3.125 0 C 2.894531 0.101562 2.648438 0.15625 2.390625 0.15625 C 1.847656 0.15625 1.375 -0.0664062 0.96875 -0.515625 C 0.570312 -0.972656 0.375 -1.554688 0.375 -2.265625 C 0.375 -2.984375 0.59375 -3.632812 1.03125 -4.21875 C 1.476562 -4.8125 2.054688 -5.109375 2.765625 -5.109375 C 3.191406 -5.109375 3.550781 -4.96875 3.84375 -4.6875 L 3.84375 -5.609375 C 3.84375 -6.171875 3.828125 -6.515625 3.796875 -6.640625 C 3.773438 -6.773438 3.734375 -6.863281 3.671875 -6.90625 C 3.617188 -6.957031 3.546875 -6.984375 3.453125 -6.984375 C 3.359375 -6.984375 3.234375 -6.953125 3.078125 -6.890625 L 3.015625 -7.09375 L 4.484375 -7.6875 L 4.734375 -7.6875 L 4.734375 -1.96875 C 4.734375 -1.382812 4.742188 -1.023438 4.765625 -0.890625 C 4.796875 -0.765625 4.835938 -0.675781 4.890625 -0.625 C 4.953125 -0.582031 5.023438 -0.5625 5.109375 -0.5625 C 5.203125 -0.5625 5.332031 -0.59375 5.5 -0.65625 L 5.5625 -0.453125 L 4.09375 0.15625 L 3.84375 0.15625 Z M 3.84375 -0.9375 L 3.84375 -3.484375 C 3.820312 -3.734375 3.753906 -3.957031 3.640625 -4.15625 C 3.535156 -4.363281 3.394531 -4.515625 3.21875 -4.609375 C 3.039062 -4.710938 2.867188 -4.765625 2.703125 -4.765625 C 2.378906 -4.765625 2.09375 -4.625 1.84375 -4.34375 C 1.519531 -3.96875 1.359375 -3.421875 1.359375 -2.703125 C 1.359375 -1.972656 1.515625 -1.410156 1.828125 -1.015625 C 2.148438 -0.628906 2.503906 -0.4375 2.890625 -0.4375 C 3.210938 -0.4375 3.53125 -0.601562 3.84375 -0.9375 Z M 3.84375 -0.9375 \"/>\n</symbol>\n<symbol overflow=\"visible\" id=\"glyph0-17\">\n<path style=\"stroke:none;\" d=\"M 4.046875 -7.5 C 4.992188 -7.5 5.816406 -7.132812 6.515625 -6.40625 C 7.210938 -5.6875 7.5625 -4.785156 7.5625 -3.703125 C 7.5625 -2.597656 7.207031 -1.675781 6.5 -0.9375 C 5.800781 -0.195312 4.953125 0.171875 3.953125 0.171875 C 2.953125 0.171875 2.109375 -0.1875 1.421875 -0.90625 C 0.734375 -1.625 0.390625 -2.550781 0.390625 -3.6875 C 0.390625 -4.851562 0.785156 -5.804688 1.578125 -6.546875 C 2.265625 -7.179688 3.085938 -7.5 4.046875 -7.5 Z M 3.9375 -7.109375 C 3.28125 -7.109375 2.753906 -6.863281 2.359375 -6.375 C 1.867188 -5.769531 1.625 -4.882812 1.625 -3.71875 C 1.625 -2.519531 1.878906 -1.597656 2.390625 -0.953125 C 2.785156 -0.460938 3.304688 -0.21875 3.953125 -0.21875 C 4.640625 -0.21875 5.207031 -0.484375 5.65625 -1.015625 C 6.101562 -1.554688 6.328125 -2.40625 6.328125 -3.5625 C 6.328125 -4.820312 6.078125 -5.757812 5.578125 -6.375 C 5.179688 -6.863281 4.632812 -7.109375 3.9375 -7.109375 Z M 3.9375 -7.109375 \"/>\n</symbol>\n<symbol overflow=\"visible\" id=\"glyph1-0\">\n<path style=\"stroke:none;\" d=\"M 0.546875 1.953125 L 0.546875 -7.8125 L 6.078125 -7.8125 L 6.078125 1.953125 Z M 1.171875 1.34375 L 5.46875 1.34375 L 5.46875 -7.1875 L 1.171875 -7.1875 Z M 1.171875 1.34375 \"/>\n</symbol>\n<symbol overflow=\"visible\" id=\"glyph1-1\">\n<path style=\"stroke:none;\" d=\"M 4.640625 -0.859375 L 7.015625 -0.859375 L 7.015625 0 L 4.640625 0 C 4.015625 0 3.429688 -0.15625 2.890625 -0.46875 C 2.359375 -0.78125 1.9375 -1.203125 1.625 -1.734375 C 1.320312 -2.265625 1.171875 -2.84375 1.171875 -3.46875 C 1.171875 -4.09375 1.320312 -4.671875 1.625 -5.203125 C 1.9375 -5.742188 2.359375 -6.171875 2.890625 -6.484375 C 3.429688 -6.796875 4.015625 -6.953125 4.640625 -6.953125 L 7.015625 -6.953125 L 7.015625 -6.078125 L 4.640625 -6.078125 C 4.171875 -6.078125 3.734375 -5.957031 3.328125 -5.71875 C 2.929688 -5.488281 2.617188 -5.175781 2.390625 -4.78125 C 2.234375 -4.5 2.128906 -4.207031 2.078125 -3.90625 L 7.015625 -3.90625 L 7.015625 -3.03125 L 2.078125 -3.03125 C 2.128906 -2.726562 2.234375 -2.441406 2.390625 -2.171875 C 2.617188 -1.765625 2.929688 -1.441406 3.328125 -1.203125 C 3.734375 -0.972656 4.171875 -0.859375 4.640625 -0.859375 Z M 4.640625 -0.859375 \"/>\n</symbol>\n<symbol overflow=\"visible\" id=\"glyph1-2\">\n<path style=\"stroke:none;\" d=\"\"/>\n</symbol>\n<symbol overflow=\"visible\" id=\"glyph1-3\">\n<path style=\"stroke:none;\" d=\"M 5.875 -3.9375 C 6.195312 -3.894531 6.46875 -3.789062 6.6875 -3.625 C 6.90625 -3.457031 7.09375 -3.21875 7.25 -2.90625 L 8.4375 -0.65625 L 9.265625 -0.65625 L 9.265625 0 L 6.609375 0 L 5.328125 -2.4375 C 5.078125 -2.945312 4.863281 -3.269531 4.6875 -3.40625 C 4.507812 -3.539062 4.265625 -3.609375 3.953125 -3.609375 L 3.625 -3.609375 L 3.625 -0.65625 L 4.671875 -0.65625 L 4.671875 0 L 0.515625 0 L 0.515625 -0.65625 L 1.546875 -0.65625 L 1.546875 -7.421875 L 0.515625 -7.421875 L 0.515625 -8.078125 L 5.125 -8.078125 C 6.0625 -8.078125 6.78125 -7.890625 7.28125 -7.515625 C 7.789062 -7.140625 8.046875 -6.601562 8.046875 -5.90625 C 8.046875 -5.34375 7.863281 -4.894531 7.5 -4.5625 C 7.144531 -4.238281 6.601562 -4.03125 5.875 -3.9375 Z M 3.625 -4.265625 L 4.34375 -4.265625 C 4.84375 -4.265625 5.226562 -4.398438 5.5 -4.671875 C 5.769531 -4.941406 5.90625 -5.332031 5.90625 -5.84375 C 5.90625 -6.351562 5.769531 -6.742188 5.5 -7.015625 C 5.226562 -7.285156 4.84375 -7.421875 4.34375 -7.421875 L 3.625 -7.421875 Z M 2.96875 -0.65625 L 2.96875 -7.421875 L 2.203125 -7.421875 L 2.203125 -0.65625 Z M 7.6875 -0.65625 L 6.671875 -2.609375 C 6.554688 -2.828125 6.425781 -2.988281 6.28125 -3.09375 C 6.15625 -3.195312 5.988281 -3.265625 5.78125 -3.296875 L 5.578125 -3.328125 C 5.660156 -3.203125 5.769531 -3.003906 5.90625 -2.734375 L 7 -0.65625 Z M 6.109375 -7.328125 C 6.179688 -7.234375 6.253906 -7.113281 6.328125 -6.96875 C 6.492188 -6.625 6.570312 -6.25 6.5625 -5.84375 C 6.5625 -5.695312 6.554688 -5.570312 6.546875 -5.46875 C 6.535156 -5.375 6.507812 -5.253906 6.46875 -5.109375 C 6.4375 -4.960938 6.382812 -4.820312 6.3125 -4.6875 C 6.644531 -4.78125 6.898438 -4.90625 7.078125 -5.0625 C 7.296875 -5.257812 7.40625 -5.539062 7.40625 -5.90625 C 7.40625 -6.144531 7.363281 -6.351562 7.28125 -6.53125 C 7.195312 -6.707031 7.070312 -6.859375 6.90625 -6.984375 C 6.695312 -7.140625 6.429688 -7.253906 6.109375 -7.328125 Z M 6.109375 -7.328125 \"/>\n</symbol>\n<symbol overflow=\"visible\" id=\"glyph1-4\">\n<path style=\"stroke:none;\" d=\"M 2.4375 -5.25 L 2.4375 -7.453125 L 0.765625 -5.25 Z M 3.984375 -3.609375 L 1.640625 -3.609375 L 1.640625 -4.0625 L 2.4375 -4.0625 L 2.4375 -4.8125 L 0.28125 -4.8125 L 0.28125 -5.265625 L 2.453125 -8.125 L 3.203125 -8.125 L 3.203125 -5.25 L 4.09375 -5.25 L 4.09375 -4.8125 L 3.203125 -4.8125 L 3.203125 -4.0625 L 3.984375 -4.0625 Z M 3.984375 -3.609375 \"/>\n</symbol>\n</g>\n</defs>\n<g id=\"surface1\">\n<path style=\"fill-rule:nonzero;fill:rgb(0%,0%,0%);fill-opacity:1;stroke-width:0.5;stroke-linecap:butt;stroke-linejoin:miter;stroke:rgb(31.372549%,31.372549%,31.372549%);stroke-opacity:1;stroke-miterlimit:4;\" d=\"M 693.500406 169.501347 L 873.50122 329.50144 \" transform=\"matrix(0.922457,0,0,0.922973,-564.063988,-74.585808)\"/>\n<path style=\"fill-rule:nonzero;fill:rgb(0%,0%,0%);fill-opacity:1;stroke-width:0.5;stroke-linecap:butt;stroke-linejoin:miter;stroke:rgb(31.372549%,31.372549%,31.372549%);stroke-opacity:1;stroke-miterlimit:4;\" d=\"M 693.500406 169.501347 L 873.50122 369.500405 \" transform=\"matrix(0.922457,0,0,0.922973,-564.063988,-74.585808)\"/>\n<path style=\"fill-rule:nonzero;fill:rgb(0%,0%,0%);fill-opacity:1;stroke-width:0.5;stroke-linecap:butt;stroke-linejoin:miter;stroke:rgb(31.372549%,31.372549%,31.372549%);stroke-opacity:1;stroke-miterlimit:4;\" d=\"M 693.500406 209.500312 L 873.50122 329.50144 \" transform=\"matrix(0.922457,0,0,0.922973,-564.063988,-74.585808)\"/>\n<path style=\"fill-rule:nonzero;fill:rgb(0%,0%,0%);fill-opacity:1;stroke-width:0.5;stroke-linecap:butt;stroke-linejoin:miter;stroke:rgb(31.372549%,31.372549%,31.372549%);stroke-opacity:1;stroke-miterlimit:4;\" d=\"M 693.500406 209.500312 L 873.50122 369.500405 \" transform=\"matrix(0.922457,0,0,0.922973,-564.063988,-74.585808)\"/>\n<path style=\"fill-rule:nonzero;fill:rgb(0%,0%,0%);fill-opacity:1;stroke-width:0.5;stroke-linecap:butt;stroke-linejoin:miter;stroke:rgb(31.372549%,31.372549%,31.372549%);stroke-opacity:1;stroke-miterlimit:4;\" d=\"M 693.500406 249.499277 L 873.50122 329.50144 \" transform=\"matrix(0.922457,0,0,0.922973,-564.063988,-74.585808)\"/>\n<path style=\"fill-rule:nonzero;fill:rgb(0%,0%,0%);fill-opacity:1;stroke-width:0.5;stroke-linecap:butt;stroke-linejoin:miter;stroke:rgb(31.372549%,31.372549%,31.372549%);stroke-opacity:1;stroke-miterlimit:4;\" d=\"M 693.500406 249.499277 L 873.50122 369.500405 \" transform=\"matrix(0.922457,0,0,0.922973,-564.063988,-74.585808)\"/>\n<path style=\"fill-rule:nonzero;fill:rgb(0%,0%,0%);fill-opacity:1;stroke-width:0.5;stroke-linecap:butt;stroke-linejoin:miter;stroke:rgb(31.372549%,31.372549%,31.372549%);stroke-opacity:1;stroke-miterlimit:4;\" d=\"M 693.500406 289.498242 L 873.50122 329.50144 \" transform=\"matrix(0.922457,0,0,0.922973,-564.063988,-74.585808)\"/>\n<path style=\"fill-rule:nonzero;fill:rgb(0%,0%,0%);fill-opacity:1;stroke-width:0.5;stroke-linecap:butt;stroke-linejoin:miter;stroke:rgb(31.372549%,31.372549%,31.372549%);stroke-opacity:1;stroke-miterlimit:4;\" d=\"M 693.500406 289.498242 L 873.50122 369.500405 \" transform=\"matrix(0.922457,0,0,0.922973,-564.063988,-74.585808)\"/>\n<path style=\"fill:none;stroke-width:0.5;stroke-linecap:butt;stroke-linejoin:miter;stroke:rgb(31.372549%,31.372549%,31.372549%);stroke-opacity:1;stroke-miterlimit:4;\" d=\"M 693.500406 329.50144 L 873.50122 329.50144 \" transform=\"matrix(0.922457,0,0,0.922973,-564.063988,-74.585808)\"/>\n<path style=\"fill-rule:nonzero;fill:rgb(0%,0%,0%);fill-opacity:1;stroke-width:0.5;stroke-linecap:butt;stroke-linejoin:miter;stroke:rgb(31.372549%,31.372549%,31.372549%);stroke-opacity:1;stroke-miterlimit:4;\" d=\"M 693.500406 329.50144 L 873.50122 369.500405 \" transform=\"matrix(0.922457,0,0,0.922973,-564.063988,-74.585808)\"/>\n<path style=\"fill-rule:nonzero;fill:rgb(0%,0%,0%);fill-opacity:1;stroke-width:0.5;stroke-linecap:butt;stroke-linejoin:miter;stroke:rgb(31.372549%,31.372549%,31.372549%);stroke-opacity:1;stroke-miterlimit:4;\" d=\"M 693.500406 369.500405 L 873.50122 329.50144 \" transform=\"matrix(0.922457,0,0,0.922973,-564.063988,-74.585808)\"/>\n<path style=\"fill:none;stroke-width:0.5;stroke-linecap:butt;stroke-linejoin:miter;stroke:rgb(31.372549%,31.372549%,31.372549%);stroke-opacity:1;stroke-miterlimit:4;\" d=\"M 693.500406 369.500405 L 873.50122 369.500405 \" transform=\"matrix(0.922457,0,0,0.922973,-564.063988,-74.585808)\"/>\n<path style=\"fill-rule:nonzero;fill:rgb(0%,0%,0%);fill-opacity:1;stroke-width:0.5;stroke-linecap:butt;stroke-linejoin:miter;stroke:rgb(31.372549%,31.372549%,31.372549%);stroke-opacity:1;stroke-miterlimit:4;\" d=\"M 693.500406 409.49937 L 873.50122 329.50144 \" transform=\"matrix(0.922457,0,0,0.922973,-564.063988,-74.585808)\"/>\n<path style=\"fill-rule:nonzero;fill:rgb(0%,0%,0%);fill-opacity:1;stroke-width:0.5;stroke-linecap:butt;stroke-linejoin:miter;stroke:rgb(31.372549%,31.372549%,31.372549%);stroke-opacity:1;stroke-miterlimit:4;\" d=\"M 693.500406 409.49937 L 873.50122 369.500405 \" transform=\"matrix(0.922457,0,0,0.922973,-564.063988,-74.585808)\"/>\n<path style=\"fill-rule:nonzero;fill:rgb(0%,0%,0%);fill-opacity:1;stroke-width:0.5;stroke-linecap:butt;stroke-linejoin:miter;stroke:rgb(31.372549%,31.372549%,31.372549%);stroke-opacity:1;stroke-miterlimit:4;\" d=\"M 693.500406 449.498335 L 873.50122 329.50144 \" transform=\"matrix(0.922457,0,0,0.922973,-564.063988,-74.585808)\"/>\n<path style=\"fill-rule:nonzero;fill:rgb(0%,0%,0%);fill-opacity:1;stroke-width:0.5;stroke-linecap:butt;stroke-linejoin:miter;stroke:rgb(31.372549%,31.372549%,31.372549%);stroke-opacity:1;stroke-miterlimit:4;\" d=\"M 693.500406 449.498335 L 873.50122 369.500405 \" transform=\"matrix(0.922457,0,0,0.922973,-564.063988,-74.585808)\"/>\n<path style=\"fill-rule:nonzero;fill:rgb(0%,0%,0%);fill-opacity:1;stroke-width:0.5;stroke-linecap:butt;stroke-linejoin:miter;stroke:rgb(31.372549%,31.372549%,31.372549%);stroke-opacity:1;stroke-miterlimit:4;\" d=\"M 693.500406 489.501533 L 873.50122 329.50144 \" transform=\"matrix(0.922457,0,0,0.922973,-564.063988,-74.585808)\"/>\n<path style=\"fill-rule:nonzero;fill:rgb(0%,0%,0%);fill-opacity:1;stroke-width:0.5;stroke-linecap:butt;stroke-linejoin:miter;stroke:rgb(31.372549%,31.372549%,31.372549%);stroke-opacity:1;stroke-miterlimit:4;\" d=\"M 693.500406 489.501533 L 873.50122 369.500405 \" transform=\"matrix(0.922457,0,0,0.922973,-564.063988,-74.585808)\"/>\n<path style=\"fill-rule:nonzero;fill:rgb(0%,0%,0%);fill-opacity:1;stroke-width:0.5;stroke-linecap:butt;stroke-linejoin:miter;stroke:rgb(31.372549%,31.372549%,31.372549%);stroke-opacity:1;stroke-miterlimit:4;\" d=\"M 693.500406 529.500498 L 873.50122 329.50144 \" transform=\"matrix(0.922457,0,0,0.922973,-564.063988,-74.585808)\"/>\n<path style=\"fill-rule:nonzero;fill:rgb(0%,0%,0%);fill-opacity:1;stroke-width:0.5;stroke-linecap:butt;stroke-linejoin:miter;stroke:rgb(31.372549%,31.372549%,31.372549%);stroke-opacity:1;stroke-miterlimit:4;\" d=\"M 693.500406 529.500498 L 873.50122 369.500405 \" transform=\"matrix(0.922457,0,0,0.922973,-564.063988,-74.585808)\"/>\n<path style=\"fill-rule:nonzero;fill:rgb(0%,0%,0%);fill-opacity:1;stroke-width:0.5;stroke-linecap:butt;stroke-linejoin:miter;stroke:rgb(31.372549%,31.372549%,31.372549%);stroke-opacity:1;stroke-miterlimit:4;\" d=\"M 693.500406 569.499463 L 873.50122 329.50144 \" transform=\"matrix(0.922457,0,0,0.922973,-564.063988,-74.585808)\"/>\n<path style=\"fill-rule:nonzero;fill:rgb(0%,0%,0%);fill-opacity:1;stroke-width:0.5;stroke-linecap:butt;stroke-linejoin:miter;stroke:rgb(31.372549%,31.372549%,31.372549%);stroke-opacity:1;stroke-miterlimit:4;\" d=\"M 693.500406 569.499463 L 873.50122 369.500405 \" transform=\"matrix(0.922457,0,0,0.922973,-564.063988,-74.585808)\"/>\n<path style=\"fill-rule:nonzero;fill:rgb(0%,0%,0%);fill-opacity:1;stroke-width:0.5;stroke-linecap:butt;stroke-linejoin:miter;stroke:rgb(31.372549%,31.372549%,31.372549%);stroke-opacity:1;stroke-miterlimit:4;\" d=\"M 693.500406 609.498429 L 873.50122 329.50144 \" transform=\"matrix(0.922457,0,0,0.922973,-564.063988,-74.585808)\"/>\n<path style=\"fill-rule:nonzero;fill:rgb(0%,0%,0%);fill-opacity:1;stroke-width:0.5;stroke-linecap:butt;stroke-linejoin:miter;stroke:rgb(31.372549%,31.372549%,31.372549%);stroke-opacity:1;stroke-miterlimit:4;\" d=\"M 693.500406 609.498429 L 873.50122 369.500405 \" transform=\"matrix(0.922457,0,0,0.922973,-564.063988,-74.585808)\"/>\n<path style=\"fill-rule:nonzero;fill:rgb(0%,0%,0%);fill-opacity:1;stroke-width:0.5;stroke-linecap:butt;stroke-linejoin:miter;stroke:rgb(31.372549%,31.372549%,31.372549%);stroke-opacity:1;stroke-miterlimit:4;\" d=\"M 873.50122 329.50144 L 1053.502033 389.502004 \" transform=\"matrix(0.922457,0,0,0.922973,-564.063988,-74.585808)\"/>\n<path style=\"fill-rule:nonzero;fill:rgb(0%,0%,0%);fill-opacity:1;stroke-width:0.5;stroke-linecap:butt;stroke-linejoin:miter;stroke:rgb(31.372549%,31.372549%,31.372549%);stroke-opacity:1;stroke-miterlimit:4;\" d=\"M 873.50122 369.500405 L 1053.502033 389.502004 \" transform=\"matrix(0.922457,0,0,0.922973,-564.063988,-74.585808)\"/>\n<path style=\"fill-rule:nonzero;fill:rgb(0%,0%,0%);fill-opacity:1;stroke-width:0.5;stroke-linecap:butt;stroke-linejoin:miter;stroke:rgb(31.372549%,31.372549%,31.372549%);stroke-opacity:1;stroke-miterlimit:4;\" d=\"M 693.500406 169.501347 L 873.50122 409.49937 \" transform=\"matrix(0.922457,0,0,0.922973,-564.063988,-74.585808)\"/>\n<path style=\"fill-rule:nonzero;fill:rgb(0%,0%,0%);fill-opacity:1;stroke-width:0.5;stroke-linecap:butt;stroke-linejoin:miter;stroke:rgb(31.372549%,31.372549%,31.372549%);stroke-opacity:1;stroke-miterlimit:4;\" d=\"M 693.500406 209.500312 L 873.50122 409.49937 \" transform=\"matrix(0.922457,0,0,0.922973,-564.063988,-74.585808)\"/>\n<path style=\"fill-rule:nonzero;fill:rgb(0%,0%,0%);fill-opacity:1;stroke-width:0.5;stroke-linecap:butt;stroke-linejoin:miter;stroke:rgb(31.372549%,31.372549%,31.372549%);stroke-opacity:1;stroke-miterlimit:4;\" d=\"M 693.500406 249.499277 L 873.50122 409.49937 \" transform=\"matrix(0.922457,0,0,0.922973,-564.063988,-74.585808)\"/>\n<path style=\"fill-rule:nonzero;fill:rgb(0%,0%,0%);fill-opacity:1;stroke-width:0.5;stroke-linecap:butt;stroke-linejoin:miter;stroke:rgb(31.372549%,31.372549%,31.372549%);stroke-opacity:1;stroke-miterlimit:4;\" d=\"M 693.500406 289.498242 L 873.50122 409.49937 \" transform=\"matrix(0.922457,0,0,0.922973,-564.063988,-74.585808)\"/>\n<path style=\"fill-rule:nonzero;fill:rgb(0%,0%,0%);fill-opacity:1;stroke-width:0.5;stroke-linecap:butt;stroke-linejoin:miter;stroke:rgb(31.372549%,31.372549%,31.372549%);stroke-opacity:1;stroke-miterlimit:4;\" d=\"M 693.500406 329.50144 L 873.50122 409.49937 \" transform=\"matrix(0.922457,0,0,0.922973,-564.063988,-74.585808)\"/>\n<path style=\"fill-rule:nonzero;fill:rgb(0%,0%,0%);fill-opacity:1;stroke-width:0.5;stroke-linecap:butt;stroke-linejoin:miter;stroke:rgb(31.372549%,31.372549%,31.372549%);stroke-opacity:1;stroke-miterlimit:4;\" d=\"M 693.500406 369.500405 L 873.50122 409.49937 \" transform=\"matrix(0.922457,0,0,0.922973,-564.063988,-74.585808)\"/>\n<path style=\"fill:none;stroke-width:0.5;stroke-linecap:butt;stroke-linejoin:miter;stroke:rgb(31.372549%,31.372549%,31.372549%);stroke-opacity:1;stroke-miterlimit:4;\" d=\"M 693.500406 409.49937 L 873.50122 409.49937 \" transform=\"matrix(0.922457,0,0,0.922973,-564.063988,-74.585808)\"/>\n<path style=\"fill-rule:nonzero;fill:rgb(0%,0%,0%);fill-opacity:1;stroke-width:0.5;stroke-linecap:butt;stroke-linejoin:miter;stroke:rgb(31.372549%,31.372549%,31.372549%);stroke-opacity:1;stroke-miterlimit:4;\" d=\"M 693.500406 449.498335 L 873.50122 409.49937 \" transform=\"matrix(0.922457,0,0,0.922973,-564.063988,-74.585808)\"/>\n<path style=\"fill-rule:nonzero;fill:rgb(0%,0%,0%);fill-opacity:1;stroke-width:0.5;stroke-linecap:butt;stroke-linejoin:miter;stroke:rgb(31.372549%,31.372549%,31.372549%);stroke-opacity:1;stroke-miterlimit:4;\" d=\"M 693.500406 489.501533 L 873.50122 409.49937 \" transform=\"matrix(0.922457,0,0,0.922973,-564.063988,-74.585808)\"/>\n<path style=\"fill-rule:nonzero;fill:rgb(0%,0%,0%);fill-opacity:1;stroke-width:0.5;stroke-linecap:butt;stroke-linejoin:miter;stroke:rgb(31.372549%,31.372549%,31.372549%);stroke-opacity:1;stroke-miterlimit:4;\" d=\"M 693.500406 529.500498 L 873.50122 409.49937 \" transform=\"matrix(0.922457,0,0,0.922973,-564.063988,-74.585808)\"/>\n<path style=\"fill-rule:nonzero;fill:rgb(0%,0%,0%);fill-opacity:1;stroke-width:0.5;stroke-linecap:butt;stroke-linejoin:miter;stroke:rgb(31.372549%,31.372549%,31.372549%);stroke-opacity:1;stroke-miterlimit:4;\" d=\"M 693.500406 569.499463 L 873.50122 409.49937 \" transform=\"matrix(0.922457,0,0,0.922973,-564.063988,-74.585808)\"/>\n<path style=\"fill-rule:nonzero;fill:rgb(0%,0%,0%);fill-opacity:1;stroke-width:0.5;stroke-linecap:butt;stroke-linejoin:miter;stroke:rgb(31.372549%,31.372549%,31.372549%);stroke-opacity:1;stroke-miterlimit:4;\" d=\"M 693.500406 609.498429 L 873.50122 409.49937 \" transform=\"matrix(0.922457,0,0,0.922973,-564.063988,-74.585808)\"/>\n<path style=\"fill-rule:nonzero;fill:rgb(0%,0%,0%);fill-opacity:1;stroke-width:0.5;stroke-linecap:butt;stroke-linejoin:miter;stroke:rgb(31.372549%,31.372549%,31.372549%);stroke-opacity:1;stroke-miterlimit:4;\" d=\"M 873.50122 409.49937 L 1053.502033 389.502004 \" transform=\"matrix(0.922457,0,0,0.922973,-564.063988,-74.585808)\"/>\n<path style=\"fill-rule:nonzero;fill:rgb(0%,0%,0%);fill-opacity:1;stroke-width:0.5;stroke-linecap:butt;stroke-linejoin:miter;stroke:rgb(31.372549%,31.372549%,31.372549%);stroke-opacity:1;stroke-miterlimit:4;\" d=\"M 693.500406 169.501347 L 873.50122 449.498335 \" transform=\"matrix(0.922457,0,0,0.922973,-564.063988,-74.585808)\"/>\n<path style=\"fill-rule:nonzero;fill:rgb(0%,0%,0%);fill-opacity:1;stroke-width:0.5;stroke-linecap:butt;stroke-linejoin:miter;stroke:rgb(31.372549%,31.372549%,31.372549%);stroke-opacity:1;stroke-miterlimit:4;\" d=\"M 693.500406 209.500312 L 873.50122 449.498335 \" transform=\"matrix(0.922457,0,0,0.922973,-564.063988,-74.585808)\"/>\n<path style=\"fill-rule:nonzero;fill:rgb(0%,0%,0%);fill-opacity:1;stroke-width:0.5;stroke-linecap:butt;stroke-linejoin:miter;stroke:rgb(31.372549%,31.372549%,31.372549%);stroke-opacity:1;stroke-miterlimit:4;\" d=\"M 693.500406 249.499277 L 873.50122 449.498335 \" transform=\"matrix(0.922457,0,0,0.922973,-564.063988,-74.585808)\"/>\n<path style=\"fill-rule:nonzero;fill:rgb(0%,0%,0%);fill-opacity:1;stroke-width:0.5;stroke-linecap:butt;stroke-linejoin:miter;stroke:rgb(31.372549%,31.372549%,31.372549%);stroke-opacity:1;stroke-miterlimit:4;\" d=\"M 693.500406 289.498242 L 873.50122 449.498335 \" transform=\"matrix(0.922457,0,0,0.922973,-564.063988,-74.585808)\"/>\n<path style=\"fill-rule:nonzero;fill:rgb(0%,0%,0%);fill-opacity:1;stroke-width:0.5;stroke-linecap:butt;stroke-linejoin:miter;stroke:rgb(31.372549%,31.372549%,31.372549%);stroke-opacity:1;stroke-miterlimit:4;\" d=\"M 693.500406 329.50144 L 873.50122 449.498335 \" transform=\"matrix(0.922457,0,0,0.922973,-564.063988,-74.585808)\"/>\n<path style=\"fill-rule:nonzero;fill:rgb(0%,0%,0%);fill-opacity:1;stroke-width:0.5;stroke-linecap:butt;stroke-linejoin:miter;stroke:rgb(31.372549%,31.372549%,31.372549%);stroke-opacity:1;stroke-miterlimit:4;\" d=\"M 693.500406 369.500405 L 873.50122 449.498335 \" transform=\"matrix(0.922457,0,0,0.922973,-564.063988,-74.585808)\"/>\n<path style=\"fill-rule:nonzero;fill:rgb(0%,0%,0%);fill-opacity:1;stroke-width:0.5;stroke-linecap:butt;stroke-linejoin:miter;stroke:rgb(31.372549%,31.372549%,31.372549%);stroke-opacity:1;stroke-miterlimit:4;\" d=\"M 693.500406 409.49937 L 873.50122 449.498335 \" transform=\"matrix(0.922457,0,0,0.922973,-564.063988,-74.585808)\"/>\n<path style=\"fill:none;stroke-width:0.5;stroke-linecap:butt;stroke-linejoin:miter;stroke:rgb(31.372549%,31.372549%,31.372549%);stroke-opacity:1;stroke-miterlimit:4;\" d=\"M 693.500406 449.498335 L 873.50122 449.498335 \" transform=\"matrix(0.922457,0,0,0.922973,-564.063988,-74.585808)\"/>\n<path style=\"fill-rule:nonzero;fill:rgb(0%,0%,0%);fill-opacity:1;stroke-width:0.5;stroke-linecap:butt;stroke-linejoin:miter;stroke:rgb(31.372549%,31.372549%,31.372549%);stroke-opacity:1;stroke-miterlimit:4;\" d=\"M 693.500406 489.501533 L 873.50122 449.498335 \" transform=\"matrix(0.922457,0,0,0.922973,-564.063988,-74.585808)\"/>\n<path style=\"fill-rule:nonzero;fill:rgb(0%,0%,0%);fill-opacity:1;stroke-width:0.5;stroke-linecap:butt;stroke-linejoin:miter;stroke:rgb(31.372549%,31.372549%,31.372549%);stroke-opacity:1;stroke-miterlimit:4;\" d=\"M 693.500406 529.500498 L 873.50122 449.498335 \" transform=\"matrix(0.922457,0,0,0.922973,-564.063988,-74.585808)\"/>\n<path style=\"fill-rule:nonzero;fill:rgb(0%,0%,0%);fill-opacity:1;stroke-width:0.5;stroke-linecap:butt;stroke-linejoin:miter;stroke:rgb(31.372549%,31.372549%,31.372549%);stroke-opacity:1;stroke-miterlimit:4;\" d=\"M 693.500406 569.499463 L 873.50122 449.498335 \" transform=\"matrix(0.922457,0,0,0.922973,-564.063988,-74.585808)\"/>\n<path style=\"fill-rule:nonzero;fill:rgb(0%,0%,0%);fill-opacity:1;stroke-width:0.5;stroke-linecap:butt;stroke-linejoin:miter;stroke:rgb(31.372549%,31.372549%,31.372549%);stroke-opacity:1;stroke-miterlimit:4;\" d=\"M 693.500406 609.498429 L 873.50122 449.498335 \" transform=\"matrix(0.922457,0,0,0.922973,-564.063988,-74.585808)\"/>\n<path style=\"fill-rule:nonzero;fill:rgb(0%,0%,0%);fill-opacity:1;stroke-width:0.5;stroke-linecap:butt;stroke-linejoin:miter;stroke:rgb(31.372549%,31.372549%,31.372549%);stroke-opacity:1;stroke-miterlimit:4;\" d=\"M 873.50122 449.498335 L 1053.502033 389.502004 \" transform=\"matrix(0.922457,0,0,0.922973,-564.063988,-74.585808)\"/>\n<path style=\"fill-rule:nonzero;fill:rgb(100%,100%,100%);fill-opacity:1;stroke-width:1;stroke-linecap:butt;stroke-linejoin:miter;stroke:rgb(20%,20%,20%);stroke-opacity:1;stroke-miterlimit:4;\" d=\"M 703.498334 169.501347 C 703.498334 175.024429 699.022345 179.497914 693.500406 179.497914 C 687.978467 179.497914 683.498244 175.024429 683.498244 169.501347 C 683.498244 163.978265 687.978467 159.500547 693.500406 159.500547 C 699.022345 159.500547 703.498334 163.978265 703.498334 169.501347 Z M 703.498334 169.501347 \" transform=\"matrix(0.922457,0,0,0.922973,-564.063988,-74.585808)\"/>\n<path style=\"fill-rule:nonzero;fill:rgb(100%,100%,100%);fill-opacity:1;stroke-width:1;stroke-linecap:butt;stroke-linejoin:miter;stroke:rgb(20%,20%,20%);stroke-opacity:1;stroke-miterlimit:4;\" d=\"M 703.498334 209.500312 C 703.498334 215.023394 699.022345 219.501111 693.500406 219.501111 C 687.978467 219.501111 683.498244 215.023394 683.498244 209.500312 C 683.498244 203.97723 687.978467 199.499513 693.500406 199.499513 C 699.022345 199.499513 703.498334 203.97723 703.498334 209.500312 Z M 703.498334 209.500312 \" transform=\"matrix(0.922457,0,0,0.922973,-564.063988,-74.585808)\"/>\n<path style=\"fill-rule:nonzero;fill:rgb(100%,100%,100%);fill-opacity:1;stroke-width:1;stroke-linecap:butt;stroke-linejoin:miter;stroke:rgb(20%,20%,20%);stroke-opacity:1;stroke-miterlimit:4;\" d=\"M 703.498334 249.499277 C 703.498334 255.022359 699.022345 259.500076 693.500406 259.500076 C 687.978467 259.500076 683.498244 255.022359 683.498244 249.499277 C 683.498244 243.976195 687.978467 239.498478 693.500406 239.498478 C 699.022345 239.498478 703.498334 243.976195 703.498334 249.499277 Z M 703.498334 249.499277 \" transform=\"matrix(0.922457,0,0,0.922973,-564.063988,-74.585808)\"/>\n<path style=\"fill-rule:nonzero;fill:rgb(100%,100%,100%);fill-opacity:1;stroke-width:1;stroke-linecap:butt;stroke-linejoin:miter;stroke:rgb(20%,20%,20%);stroke-opacity:1;stroke-miterlimit:4;\" d=\"M 703.498334 289.498242 C 703.498334 295.021325 699.022345 299.499042 693.500406 299.499042 C 687.978467 299.499042 683.498244 295.021325 683.498244 289.498242 C 683.498244 283.97516 687.978467 279.501675 693.500406 279.501675 C 699.022345 279.501675 703.498334 283.97516 703.498334 289.498242 Z M 703.498334 289.498242 \" transform=\"matrix(0.922457,0,0,0.922973,-564.063988,-74.585808)\"/>\n<path style=\"fill-rule:nonzero;fill:rgb(100%,100%,100%);fill-opacity:1;stroke-width:1;stroke-linecap:butt;stroke-linejoin:miter;stroke:rgb(20%,20%,20%);stroke-opacity:1;stroke-miterlimit:4;\" d=\"M 703.498334 329.50144 C 703.498334 335.024522 699.022345 339.498007 693.500406 339.498007 C 687.978467 339.498007 683.498244 335.024522 683.498244 329.50144 C 683.498244 323.978358 687.978467 319.50064 693.500406 319.50064 C 699.022345 319.50064 703.498334 323.978358 703.498334 329.50144 Z M 703.498334 329.50144 \" transform=\"matrix(0.922457,0,0,0.922973,-564.063988,-74.585808)\"/>\n<path style=\"fill-rule:nonzero;fill:rgb(100%,100%,100%);fill-opacity:1;stroke-width:1;stroke-linecap:butt;stroke-linejoin:miter;stroke:rgb(20%,20%,20%);stroke-opacity:1;stroke-miterlimit:4;\" d=\"M 703.498334 369.500405 C 703.498334 375.023487 699.022345 379.501204 693.500406 379.501204 C 687.978467 379.501204 683.498244 375.023487 683.498244 369.500405 C 683.498244 363.977323 687.978467 359.499606 693.500406 359.499606 C 699.022345 359.499606 703.498334 363.977323 703.498334 369.500405 Z M 703.498334 369.500405 \" transform=\"matrix(0.922457,0,0,0.922973,-564.063988,-74.585808)\"/>\n<path style=\"fill-rule:nonzero;fill:rgb(100%,100%,100%);fill-opacity:1;stroke-width:1;stroke-linecap:butt;stroke-linejoin:miter;stroke:rgb(20%,20%,20%);stroke-opacity:1;stroke-miterlimit:4;\" d=\"M 703.498334 409.49937 C 703.498334 415.022452 699.022345 419.50017 693.500406 419.50017 C 687.978467 419.50017 683.498244 415.022452 683.498244 409.49937 C 683.498244 403.976288 687.978467 399.498571 693.500406 399.498571 C 699.022345 399.498571 703.498334 403.976288 703.498334 409.49937 Z M 703.498334 409.49937 \" transform=\"matrix(0.922457,0,0,0.922973,-564.063988,-74.585808)\"/>\n<path style=\"fill-rule:nonzero;fill:rgb(100%,100%,100%);fill-opacity:1;stroke-width:1;stroke-linecap:butt;stroke-linejoin:miter;stroke:rgb(20%,20%,20%);stroke-opacity:1;stroke-miterlimit:4;\" d=\"M 703.498334 449.498335 C 703.498334 455.021418 699.022345 459.499135 693.500406 459.499135 C 687.978467 459.499135 683.498244 455.021418 683.498244 449.498335 C 683.498244 443.975253 687.978467 439.501768 693.500406 439.501768 C 699.022345 439.501768 703.498334 443.975253 703.498334 449.498335 Z M 703.498334 449.498335 \" transform=\"matrix(0.922457,0,0,0.922973,-564.063988,-74.585808)\"/>\n<path style=\"fill-rule:nonzero;fill:rgb(100%,100%,100%);fill-opacity:1;stroke-width:1;stroke-linecap:butt;stroke-linejoin:miter;stroke:rgb(20%,20%,20%);stroke-opacity:1;stroke-miterlimit:4;\" d=\"M 703.498334 489.501533 C 703.498334 495.024615 699.022345 499.4981 693.500406 499.4981 C 687.978467 499.4981 683.498244 495.024615 683.498244 489.501533 C 683.498244 483.978451 687.978467 479.500734 693.500406 479.500734 C 699.022345 479.500734 703.498334 483.978451 703.498334 489.501533 Z M 703.498334 489.501533 \" transform=\"matrix(0.922457,0,0,0.922973,-564.063988,-74.585808)\"/>\n<path style=\"fill-rule:nonzero;fill:rgb(100%,100%,100%);fill-opacity:1;stroke-width:1;stroke-linecap:butt;stroke-linejoin:miter;stroke:rgb(20%,20%,20%);stroke-opacity:1;stroke-miterlimit:4;\" d=\"M 703.498334 529.500498 C 703.498334 535.02358 699.022345 539.501297 693.500406 539.501297 C 687.978467 539.501297 683.498244 535.02358 683.498244 529.500498 C 683.498244 523.977416 687.978467 519.499699 693.500406 519.499699 C 699.022345 519.499699 703.498334 523.977416 703.498334 529.500498 Z M 703.498334 529.500498 \" transform=\"matrix(0.922457,0,0,0.922973,-564.063988,-74.585808)\"/>\n<path style=\"fill-rule:nonzero;fill:rgb(100%,100%,100%);fill-opacity:1;stroke-width:1;stroke-linecap:butt;stroke-linejoin:miter;stroke:rgb(20%,20%,20%);stroke-opacity:1;stroke-miterlimit:4;\" d=\"M 703.498334 569.499463 C 703.498334 575.022545 699.022345 579.500263 693.500406 579.500263 C 687.978467 579.500263 683.498244 575.022545 683.498244 569.499463 C 683.498244 563.976381 687.978467 559.498664 693.500406 559.498664 C 699.022345 559.498664 703.498334 563.976381 703.498334 569.499463 Z M 703.498334 569.499463 \" transform=\"matrix(0.922457,0,0,0.922973,-564.063988,-74.585808)\"/>\n<path style=\"fill-rule:nonzero;fill:rgb(100%,100%,100%);fill-opacity:1;stroke-width:1;stroke-linecap:butt;stroke-linejoin:miter;stroke:rgb(20%,20%,20%);stroke-opacity:1;stroke-miterlimit:4;\" d=\"M 703.498334 609.498429 C 703.498334 615.021511 699.022345 619.499228 693.500406 619.499228 C 687.978467 619.499228 683.498244 615.021511 683.498244 609.498429 C 683.498244 603.975346 687.978467 599.501861 693.500406 599.501861 C 699.022345 599.501861 703.498334 603.975346 703.498334 609.498429 Z M 703.498334 609.498429 \" transform=\"matrix(0.922457,0,0,0.922973,-564.063988,-74.585808)\"/>\n<path style=\"fill-rule:nonzero;fill:rgb(100%,100%,100%);fill-opacity:1;stroke-width:1;stroke-linecap:butt;stroke-linejoin:miter;stroke:rgb(20%,20%,20%);stroke-opacity:1;stroke-miterlimit:4;\" d=\"M 883.499147 329.50144 C 883.499147 335.024522 879.023159 339.498007 873.50122 339.498007 C 867.975046 339.498007 863.499057 335.024522 863.499057 329.50144 C 863.499057 323.978358 867.975046 319.50064 873.50122 319.50064 C 879.023159 319.50064 883.499147 323.978358 883.499147 329.50144 Z M 883.499147 329.50144 \" transform=\"matrix(0.922457,0,0,0.922973,-564.063988,-74.585808)\"/>\n<path style=\"fill-rule:nonzero;fill:rgb(100%,100%,100%);fill-opacity:1;stroke-width:1;stroke-linecap:butt;stroke-linejoin:miter;stroke:rgb(20%,20%,20%);stroke-opacity:1;stroke-miterlimit:4;\" d=\"M 883.499147 369.500405 C 883.499147 375.023487 879.023159 379.501204 873.50122 379.501204 C 867.975046 379.501204 863.499057 375.023487 863.499057 369.500405 C 863.499057 363.977323 867.975046 359.499606 873.50122 359.499606 C 879.023159 359.499606 883.499147 363.977323 883.499147 369.500405 Z M 883.499147 369.500405 \" transform=\"matrix(0.922457,0,0,0.922973,-564.063988,-74.585808)\"/>\n<path style=\"fill-rule:nonzero;fill:rgb(100%,100%,100%);fill-opacity:1;stroke-width:1;stroke-linecap:butt;stroke-linejoin:miter;stroke:rgb(20%,20%,20%);stroke-opacity:1;stroke-miterlimit:4;\" d=\"M 883.499147 409.49937 C 883.499147 415.022452 879.023159 419.50017 873.50122 419.50017 C 867.975046 419.50017 863.499057 415.022452 863.499057 409.49937 C 863.499057 403.976288 867.975046 399.498571 873.50122 399.498571 C 879.023159 399.498571 883.499147 403.976288 883.499147 409.49937 Z M 883.499147 409.49937 \" transform=\"matrix(0.922457,0,0,0.922973,-564.063988,-74.585808)\"/>\n<path style=\"fill-rule:nonzero;fill:rgb(100%,100%,100%);fill-opacity:1;stroke-width:1;stroke-linecap:butt;stroke-linejoin:miter;stroke:rgb(20%,20%,20%);stroke-opacity:1;stroke-miterlimit:4;\" d=\"M 883.499147 449.498335 C 883.499147 455.021418 879.023159 459.499135 873.50122 459.499135 C 867.975046 459.499135 863.499057 455.021418 863.499057 449.498335 C 863.499057 443.975253 867.975046 439.501768 873.50122 439.501768 C 879.023159 439.501768 883.499147 443.975253 883.499147 449.498335 Z M 883.499147 449.498335 \" transform=\"matrix(0.922457,0,0,0.922973,-564.063988,-74.585808)\"/>\n<path style=\"fill-rule:nonzero;fill:rgb(100%,100%,100%);fill-opacity:1;stroke-width:1;stroke-linecap:butt;stroke-linejoin:miter;stroke:rgb(20%,20%,20%);stroke-opacity:1;stroke-miterlimit:4;\" d=\"M 1063.499961 389.502004 C 1063.499961 395.020854 1059.023972 399.498571 1053.502033 399.498571 C 1047.975859 399.498571 1043.49987 395.020854 1043.49987 389.502004 C 1043.49987 383.978922 1047.975859 379.501204 1053.502033 379.501204 C 1059.023972 379.501204 1063.499961 383.978922 1063.499961 389.502004 Z M 1063.499961 389.502004 \" transform=\"matrix(0.922457,0,0,0.922973,-564.063988,-74.585808)\"/>\n<g style=\"fill:rgb(0%,0%,0%);fill-opacity:1;\">\n  <use xlink:href=\"#glyph0-1\" x=\"43.375\" y=\"528.761163\"/>\n  <use xlink:href=\"#glyph0-2\" x=\"47.061224\" y=\"528.761163\"/>\n  <use xlink:href=\"#glyph0-3\" x=\"52.595964\" y=\"528.761163\"/>\n  <use xlink:href=\"#glyph0-4\" x=\"58.130705\" y=\"528.761163\"/>\n  <use xlink:href=\"#glyph0-5\" x=\"63.665446\" y=\"528.761163\"/>\n  <use xlink:href=\"#glyph0-6\" x=\"66.740902\" y=\"528.761163\"/>\n  <use xlink:href=\"#glyph0-7\" x=\"69.508272\" y=\"528.761163\"/>\n  <use xlink:href=\"#glyph0-8\" x=\"76.269953\" y=\"528.761163\"/>\n  <use xlink:href=\"#glyph0-9\" x=\"81.183116\" y=\"528.761163\"/>\n  <use xlink:href=\"#glyph0-10\" x=\"86.717856\" y=\"528.761163\"/>\n  <use xlink:href=\"#glyph0-11\" x=\"91.63102\" y=\"528.761163\"/>\n  <use xlink:href=\"#glyph0-6\" x=\"95.317243\" y=\"528.761163\"/>\n</g>\n<g style=\"fill:rgb(0%,0%,0%);fill-opacity:1;\">\n  <use xlink:href=\"#glyph1-1\" x=\"98.084614\" y=\"528.761163\"/>\n  <use xlink:href=\"#glyph1-2\" x=\"106.278624\" y=\"528.761163\"/>\n  <use xlink:href=\"#glyph1-3\" x=\"109.797292\" y=\"528.761163\"/>\n</g>\n<g style=\"fill:rgb(0%,0%,0%);fill-opacity:1;\">\n  <use xlink:href=\"#glyph0-12\" x=\"118.996637\" y=\"528.761163\"/>\n  <use xlink:href=\"#glyph0-13\" x=\"122.315319\" y=\"528.761163\"/>\n</g>\n<g style=\"fill:rgb(0%,0%,0%);fill-opacity:1;\">\n  <use xlink:href=\"#glyph0-14\" x=\"209.414062\" y=\"528.761163\"/>\n  <use xlink:href=\"#glyph0-15\" x=\"217.408087\" y=\"528.761163\"/>\n  <use xlink:href=\"#glyph0-16\" x=\"220.483544\" y=\"528.761163\"/>\n  <use xlink:href=\"#glyph0-16\" x=\"226.018284\" y=\"528.761163\"/>\n  <use xlink:href=\"#glyph0-10\" x=\"231.553025\" y=\"528.761163\"/>\n  <use xlink:href=\"#glyph0-2\" x=\"236.466188\" y=\"528.761163\"/>\n  <use xlink:href=\"#glyph0-6\" x=\"242.000929\" y=\"528.761163\"/>\n  <use xlink:href=\"#glyph0-7\" x=\"244.768299\" y=\"528.761163\"/>\n  <use xlink:href=\"#glyph0-8\" x=\"251.529979\" y=\"528.761163\"/>\n  <use xlink:href=\"#glyph0-9\" x=\"256.443143\" y=\"528.761163\"/>\n  <use xlink:href=\"#glyph0-10\" x=\"261.977883\" y=\"528.761163\"/>\n  <use xlink:href=\"#glyph0-11\" x=\"266.891047\" y=\"528.761163\"/>\n  <use xlink:href=\"#glyph0-6\" x=\"270.57727\" y=\"528.761163\"/>\n</g>\n<g style=\"fill:rgb(0%,0%,0%);fill-opacity:1;\">\n  <use xlink:href=\"#glyph1-1\" x=\"273.344641\" y=\"528.761163\"/>\n  <use xlink:href=\"#glyph1-2\" x=\"281.538651\" y=\"528.761163\"/>\n  <use xlink:href=\"#glyph1-3\" x=\"285.057319\" y=\"528.761163\"/>\n  <use xlink:href=\"#glyph1-4\" x=\"294.256663\" y=\"528.761163\"/>\n</g>\n<g style=\"fill:rgb(0%,0%,0%);fill-opacity:1;\">\n  <use xlink:href=\"#glyph0-17\" x=\"375.457031\" y=\"528.761163\"/>\n  <use xlink:href=\"#glyph0-4\" x=\"383.451056\" y=\"528.761163\"/>\n  <use xlink:href=\"#glyph0-5\" x=\"388.985797\" y=\"528.761163\"/>\n  <use xlink:href=\"#glyph0-3\" x=\"392.061253\" y=\"528.761163\"/>\n  <use xlink:href=\"#glyph0-4\" x=\"397.595994\" y=\"528.761163\"/>\n  <use xlink:href=\"#glyph0-5\" x=\"403.130734\" y=\"528.761163\"/>\n  <use xlink:href=\"#glyph0-6\" x=\"406.206191\" y=\"528.761163\"/>\n  <use xlink:href=\"#glyph0-7\" x=\"408.973561\" y=\"528.761163\"/>\n  <use xlink:href=\"#glyph0-8\" x=\"415.735241\" y=\"528.761163\"/>\n  <use xlink:href=\"#glyph0-9\" x=\"420.648405\" y=\"528.761163\"/>\n  <use xlink:href=\"#glyph0-10\" x=\"426.183145\" y=\"528.761163\"/>\n  <use xlink:href=\"#glyph0-11\" x=\"431.096308\" y=\"528.761163\"/>\n  <use xlink:href=\"#glyph0-6\" x=\"434.782532\" y=\"528.761163\"/>\n</g>\n<g style=\"fill:rgb(0%,0%,0%);fill-opacity:1;\">\n  <use xlink:href=\"#glyph1-1\" x=\"437.549903\" y=\"528.761163\"/>\n  <use xlink:href=\"#glyph1-2\" x=\"445.743913\" y=\"528.761163\"/>\n  <use xlink:href=\"#glyph1-3\" x=\"449.262581\" y=\"528.761163\"/>\n</g>\n<g style=\"fill:rgb(0%,0%,0%);fill-opacity:1;\">\n  <use xlink:href=\"#glyph0-12\" x=\"458.461925\" y=\"528.761163\"/>\n</g>\n</g>\n</svg>"
          },
          "metadata": {}
        }
      ]
    },
    {
      "cell_type": "code",
      "source": [
        "#Compile the model\n",
        "model_5.compile(loss='binary_crossentropy', optimizer='RMSprop', metrics=['accuracy'])\n",
        "\n",
        "#Fit training data to the model\n",
        "model_5.fit(x_train, y_train, epochs=10, batch_size=32, validation_data=(x_test, y_test))"
      ],
      "metadata": {
        "colab": {
          "base_uri": "https://localhost:8080/"
        },
        "outputId": "484e5e74-e6f0-4aa2-88e6-f797f58de53e",
        "id": "jivearc_mLaC"
      },
      "execution_count": 40,
      "outputs": [
        {
          "output_type": "stream",
          "name": "stdout",
          "text": [
            "Epoch 1/10\n",
            "143/143 [==============================] - 1s 4ms/step - loss: 11.0738 - accuracy: 0.3708 - val_loss: 3.4965 - val_accuracy: 0.6641\n",
            "Epoch 2/10\n",
            "143/143 [==============================] - 0s 3ms/step - loss: 2.5259 - accuracy: 0.6666 - val_loss: 1.6629 - val_accuracy: 0.6810\n",
            "Epoch 3/10\n",
            "143/143 [==============================] - 0s 3ms/step - loss: 1.0030 - accuracy: 0.7484 - val_loss: 0.5899 - val_accuracy: 0.7949\n",
            "Epoch 4/10\n",
            "143/143 [==============================] - 0s 3ms/step - loss: 0.3807 - accuracy: 0.8709 - val_loss: 0.2695 - val_accuracy: 0.8954\n",
            "Epoch 5/10\n",
            "143/143 [==============================] - 0s 3ms/step - loss: 0.2330 - accuracy: 0.9215 - val_loss: 0.1848 - val_accuracy: 0.9344\n",
            "Epoch 6/10\n",
            "143/143 [==============================] - 0s 3ms/step - loss: 0.1846 - accuracy: 0.9397 - val_loss: 0.2782 - val_accuracy: 0.8897\n",
            "Epoch 7/10\n",
            "143/143 [==============================] - 0s 3ms/step - loss: 0.1687 - accuracy: 0.9439 - val_loss: 0.1474 - val_accuracy: 0.9503\n",
            "Epoch 8/10\n",
            "143/143 [==============================] - 0s 2ms/step - loss: 0.1607 - accuracy: 0.9450 - val_loss: 0.1424 - val_accuracy: 0.9503\n",
            "Epoch 9/10\n",
            "143/143 [==============================] - 0s 3ms/step - loss: 0.1534 - accuracy: 0.9485 - val_loss: 0.1406 - val_accuracy: 0.9497\n",
            "Epoch 10/10\n",
            "143/143 [==============================] - 0s 3ms/step - loss: 0.1503 - accuracy: 0.9485 - val_loss: 0.1484 - val_accuracy: 0.9564\n"
          ]
        },
        {
          "output_type": "execute_result",
          "data": {
            "text/plain": [
              "<keras.callbacks.History at 0x7ff4a5a7d4b0>"
            ]
          },
          "metadata": {},
          "execution_count": 40
        }
      ]
    },
    {
      "cell_type": "code",
      "source": [
        "# Evaluate model on the test data \n",
        "loss, accuracy = model_5.evaluate(x_test, y_test)\n",
        "print(f'Test Loss: {loss:.4f}')\n",
        "print(f'Test Accuracy: {accuracy:.4f}')"
      ],
      "metadata": {
        "colab": {
          "base_uri": "https://localhost:8080/"
        },
        "outputId": "6e9caf9d-d46a-40ce-f9fd-229f4fa1d90e",
        "id": "6lufZP8dmLaC"
      },
      "execution_count": 41,
      "outputs": [
        {
          "output_type": "stream",
          "name": "stdout",
          "text": [
            "61/61 [==============================] - 0s 1ms/step - loss: 0.1484 - accuracy: 0.9564\n",
            "Test Loss: 0.1484\n",
            "Test Accuracy: 0.9564\n"
          ]
        }
      ]
    },
    {
      "cell_type": "markdown",
      "source": [
        "#Tuning Model 4 and 5\n",
        "Since Model_4 and Model_5 has the highest test score so far, hyperparameter tuning will be performed on the combination of both models.\n",
        "The new model will be using the tanh activation function whilst optimized using the RMSprop optimizer. \n",
        "* Fully connected neural network (Dense)\n",
        "* First layer   - 4 neurons -AF: tanh\n",
        "* Second layer  - 2 neuron  -AF: Sigmoid\n",
        "\n",
        "GirdSeach is also utilized to find the best parameters to fit the model.\n",
        "\n"
      ],
      "metadata": {
        "id": "wkXiKNxJnX4y"
      }
    },
    {
      "cell_type": "code",
      "source": [
        "from keras.wrappers.scikit_learn import KerasClassifier\n",
        "from sklearn.model_selection import GridSearchCV\n",
        "\n",
        "# Define the function to create the model\n",
        "def create_model(hidden_units=4, learning_rate=0.01):\n",
        "    model = Sequential()\n",
        "    model.add(Dense(4, input_dim=12, activation='tanh'))\n",
        "    model.add(Dense(1, activation='sigmoid'))\n",
        "    model.compile(loss='binary_crossentropy', optimizer='RMSprop', metrics=['accuracy'])\n",
        "    return model\n",
        "\n",
        "# Wrap the model creation function in KerasClassifier\n",
        "keras_model = KerasClassifier(build_fn=create_model)\n",
        "\n",
        "# Define the parameter grid\n",
        "param_grid = {\n",
        "    'hidden_units': [4, 8, 16],\n",
        "    'learning_rate': [0.1, 0.01, 0.001],\n",
        "    'batch_size': [20, 32, 64],\n",
        "}\n",
        "\n",
        "\n",
        "# Create the GridSearchCV object\n",
        "grid_search = GridSearchCV(estimator=keras_model, param_grid=param_grid, cv=5)\n",
        "\n",
        "# Fit the training data to perform the grid search\n",
        "grid_search.fit(x_train, y_train)\n",
        "\n",
        "# Print the best parameters and score\n",
        "print(grid_search.best_params_)\n",
        "print(grid_search.best_score_)\n"
      ],
      "metadata": {
        "colab": {
          "base_uri": "https://localhost:8080/"
        },
        "id": "-d1jt8gGotS_",
        "outputId": "e124d228-2830-40d6-bcf3-ae30ffb83e2c"
      },
      "execution_count": 42,
      "outputs": [
        {
          "output_type": "stream",
          "name": "stderr",
          "text": [
            "<ipython-input-42-a35e2114ddea>:13: DeprecationWarning: KerasClassifier is deprecated, use Sci-Keras (https://github.com/adriangb/scikeras) instead. See https://www.adriangb.com/scikeras/stable/migration.html for help migrating.\n",
            "  keras_model = KerasClassifier(build_fn=create_model)\n"
          ]
        },
        {
          "output_type": "stream",
          "name": "stdout",
          "text": [
            "182/182 [==============================] - 1s 3ms/step - loss: 0.3742 - accuracy: 0.8925\n",
            "46/46 [==============================] - 0s 2ms/step - loss: 0.3228 - accuracy: 0.9220\n",
            "182/182 [==============================] - 1s 3ms/step - loss: 1.1853 - accuracy: 0.2422\n",
            "46/46 [==============================] - 0s 3ms/step - loss: 0.9348 - accuracy: 0.2615\n",
            "182/182 [==============================] - 1s 2ms/step - loss: 0.6532 - accuracy: 0.6339\n",
            "46/46 [==============================] - 0s 2ms/step - loss: 0.5790 - accuracy: 0.7679\n",
            "182/182 [==============================] - 1s 2ms/step - loss: 0.8816 - accuracy: 0.2056\n",
            "46/46 [==============================] - 0s 2ms/step - loss: 0.7204 - accuracy: 0.2123\n",
            "182/182 [==============================] - 1s 2ms/step - loss: 0.5532 - accuracy: 0.7529\n",
            "46/46 [==============================] - 0s 2ms/step - loss: 0.4875 - accuracy: 0.7580\n",
            "182/182 [==============================] - 1s 2ms/step - loss: 0.5074 - accuracy: 0.7960\n",
            "46/46 [==============================] - 0s 2ms/step - loss: 0.4940 - accuracy: 0.8077\n",
            "182/182 [==============================] - 1s 2ms/step - loss: 0.5472 - accuracy: 0.8227\n",
            "46/46 [==============================] - 0s 2ms/step - loss: 0.4054 - accuracy: 0.9099\n",
            "182/182 [==============================] - 1s 2ms/step - loss: 0.4099 - accuracy: 0.8252\n",
            "46/46 [==============================] - 0s 1ms/step - loss: 0.3396 - accuracy: 0.9043\n",
            "182/182 [==============================] - 1s 2ms/step - loss: 1.0653 - accuracy: 0.2482\n",
            "46/46 [==============================] - 0s 1ms/step - loss: 0.8527 - accuracy: 0.2376\n",
            "182/182 [==============================] - 1s 2ms/step - loss: 0.5721 - accuracy: 0.7702\n",
            "46/46 [==============================] - 0s 2ms/step - loss: 0.4113 - accuracy: 0.8174\n",
            "182/182 [==============================] - 1s 3ms/step - loss: 0.3483 - accuracy: 0.9329\n",
            "46/46 [==============================] - 0s 2ms/step - loss: 0.2860 - accuracy: 0.9407\n",
            "182/182 [==============================] - 1s 3ms/step - loss: 0.3871 - accuracy: 0.8798\n",
            "46/46 [==============================] - 0s 2ms/step - loss: 0.3334 - accuracy: 0.9000\n",
            "182/182 [==============================] - 1s 2ms/step - loss: 0.5667 - accuracy: 0.8389\n",
            "46/46 [==============================] - 0s 1ms/step - loss: 0.4695 - accuracy: 0.8735\n",
            "182/182 [==============================] - 1s 2ms/step - loss: 0.3171 - accuracy: 0.8936\n",
            "46/46 [==============================] - 0s 2ms/step - loss: 0.2965 - accuracy: 0.9021\n",
            "182/182 [==============================] - 1s 2ms/step - loss: 0.7829 - accuracy: 0.4984\n",
            "46/46 [==============================] - 0s 2ms/step - loss: 0.6097 - accuracy: 0.7580\n",
            "182/182 [==============================] - 1s 1ms/step - loss: 0.3215 - accuracy: 0.8892\n",
            "46/46 [==============================] - 0s 1ms/step - loss: 0.2805 - accuracy: 0.9055\n",
            "182/182 [==============================] - 1s 2ms/step - loss: 0.4670 - accuracy: 0.8111\n",
            "46/46 [==============================] - 0s 2ms/step - loss: 0.3609 - accuracy: 0.8516\n",
            "182/182 [==============================] - 1s 2ms/step - loss: 0.5685 - accuracy: 0.7504\n",
            "46/46 [==============================] - 0s 2ms/step - loss: 0.4665 - accuracy: 0.7679\n",
            "182/182 [==============================] - 1s 2ms/step - loss: 1.0235 - accuracy: 0.2482\n",
            "46/46 [==============================] - 0s 1ms/step - loss: 0.8366 - accuracy: 0.2376\n",
            "182/182 [==============================] - 1s 2ms/step - loss: 0.4231 - accuracy: 0.8955\n",
            "46/46 [==============================] - 0s 2ms/step - loss: 0.3456 - accuracy: 0.9098\n",
            "182/182 [==============================] - 1s 2ms/step - loss: 0.5401 - accuracy: 0.8765\n",
            "46/46 [==============================] - 0s 3ms/step - loss: 0.4418 - accuracy: 0.9077\n",
            "182/182 [==============================] - 1s 2ms/step - loss: 0.8915 - accuracy: 0.2422\n",
            "46/46 [==============================] - 0s 1ms/step - loss: 0.6849 - accuracy: 0.2615\n",
            "182/182 [==============================] - 1s 2ms/step - loss: 0.3397 - accuracy: 0.9118\n",
            "46/46 [==============================] - 0s 1ms/step - loss: 0.2873 - accuracy: 0.9197\n",
            "182/182 [==============================] - 1s 2ms/step - loss: 0.5552 - accuracy: 0.8455\n",
            "46/46 [==============================] - 0s 2ms/step - loss: 0.4314 - accuracy: 0.9054\n",
            "182/182 [==============================] - 1s 2ms/step - loss: 0.5382 - accuracy: 0.7529\n",
            "46/46 [==============================] - 0s 2ms/step - loss: 0.4958 - accuracy: 0.7569\n",
            "182/182 [==============================] - 1s 2ms/step - loss: 0.5906 - accuracy: 0.7567\n",
            "46/46 [==============================] - 0s 1ms/step - loss: 0.5742 - accuracy: 0.7429\n",
            "182/182 [==============================] - 1s 2ms/step - loss: 1.1984 - accuracy: 0.2422\n",
            "46/46 [==============================] - 0s 2ms/step - loss: 0.9548 - accuracy: 0.2615\n",
            "182/182 [==============================] - 1s 2ms/step - loss: 0.6338 - accuracy: 0.6207\n",
            "46/46 [==============================] - 0s 1ms/step - loss: 0.5057 - accuracy: 0.9021\n",
            "182/182 [==============================] - 1s 2ms/step - loss: 0.4676 - accuracy: 0.8689\n",
            "46/46 [==============================] - 0s 2ms/step - loss: 0.3995 - accuracy: 0.8834\n",
            "182/182 [==============================] - 1s 3ms/step - loss: 0.3933 - accuracy: 0.8590\n",
            "46/46 [==============================] - 1s 2ms/step - loss: 0.3048 - accuracy: 0.8889\n",
            "182/182 [==============================] - 1s 2ms/step - loss: 0.6441 - accuracy: 0.7523\n",
            "46/46 [==============================] - 0s 2ms/step - loss: 0.5601 - accuracy: 0.7374\n",
            "182/182 [==============================] - 1s 2ms/step - loss: 0.7283 - accuracy: 0.4946\n",
            "46/46 [==============================] - 0s 2ms/step - loss: 0.5856 - accuracy: 0.8462\n",
            "182/182 [==============================] - 1s 2ms/step - loss: 0.8085 - accuracy: 0.3529\n",
            "46/46 [==============================] - 0s 2ms/step - loss: 0.4358 - accuracy: 0.7734\n",
            "182/182 [==============================] - 1s 2ms/step - loss: 0.6491 - accuracy: 0.6567\n",
            "46/46 [==============================] - 0s 1ms/step - loss: 0.5377 - accuracy: 0.8240\n",
            "182/182 [==============================] - 1s 2ms/step - loss: 0.5145 - accuracy: 0.7631\n",
            "46/46 [==============================] - 0s 2ms/step - loss: 0.4016 - accuracy: 0.8427\n",
            "182/182 [==============================] - 1s 2ms/step - loss: 1.3725 - accuracy: 0.2431\n",
            "46/46 [==============================] - 0s 2ms/step - loss: 1.1019 - accuracy: 0.2571\n",
            "182/182 [==============================] - 1s 2ms/step - loss: 0.5860 - accuracy: 0.7187\n",
            "46/46 [==============================] - 0s 2ms/step - loss: 0.5732 - accuracy: 0.7385\n",
            "182/182 [==============================] - 1s 2ms/step - loss: 0.5178 - accuracy: 0.7903\n",
            "46/46 [==============================] - 0s 2ms/step - loss: 0.4170 - accuracy: 0.8548\n",
            "182/182 [==============================] - 1s 3ms/step - loss: 0.3660 - accuracy: 0.9153\n",
            "46/46 [==============================] - 0s 2ms/step - loss: 0.3291 - accuracy: 0.9219\n",
            "182/182 [==============================] - 1s 3ms/step - loss: 0.5845 - accuracy: 0.7361\n",
            "46/46 [==============================] - 0s 3ms/step - loss: 0.5603 - accuracy: 0.7503\n",
            "182/182 [==============================] - 1s 2ms/step - loss: 1.1375 - accuracy: 0.2428\n",
            "46/46 [==============================] - 0s 2ms/step - loss: 0.7889 - accuracy: 0.2637\n",
            "182/182 [==============================] - 1s 2ms/step - loss: 0.5798 - accuracy: 0.7578\n",
            "46/46 [==============================] - 0s 2ms/step - loss: 0.5754 - accuracy: 0.7385\n",
            "182/182 [==============================] - 1s 2ms/step - loss: 0.4325 - accuracy: 0.8474\n",
            "46/46 [==============================] - 0s 2ms/step - loss: 0.3431 - accuracy: 0.9076\n",
            "182/182 [==============================] - 1s 2ms/step - loss: 0.5922 - accuracy: 0.7152\n",
            "46/46 [==============================] - 0s 2ms/step - loss: 0.4662 - accuracy: 0.8757\n",
            "182/182 [==============================] - 1s 2ms/step - loss: 0.4406 - accuracy: 0.8557\n",
            "46/46 [==============================] - 0s 2ms/step - loss: 0.3376 - accuracy: 0.9087\n",
            "114/114 [==============================] - 1s 2ms/step - loss: 0.6744 - accuracy: 0.6494\n",
            "29/29 [==============================] - 0s 2ms/step - loss: 0.5804 - accuracy: 0.7374\n",
            "114/114 [==============================] - 1s 2ms/step - loss: 0.7320 - accuracy: 0.5755\n",
            "29/29 [==============================] - 0s 2ms/step - loss: 0.5489 - accuracy: 0.8593\n",
            "114/114 [==============================] - 2s 3ms/step - loss: 0.3271 - accuracy: 0.9200\n",
            "29/29 [==============================] - 0s 3ms/step - loss: 0.3025 - accuracy: 0.9219\n",
            "114/114 [==============================] - 1s 2ms/step - loss: 0.7241 - accuracy: 0.4195\n",
            "29/29 [==============================] - 0s 2ms/step - loss: 0.6460 - accuracy: 0.7624\n",
            "114/114 [==============================] - 1s 2ms/step - loss: 0.5954 - accuracy: 0.7529\n",
            "29/29 [==============================] - 0s 2ms/step - loss: 0.5625 - accuracy: 0.7580\n",
            "114/114 [==============================] - 1s 2ms/step - loss: 0.5296 - accuracy: 0.7567\n",
            "29/29 [==============================] - 0s 1ms/step - loss: 0.5121 - accuracy: 0.7429\n",
            "114/114 [==============================] - 1s 2ms/step - loss: 0.8904 - accuracy: 0.2422\n",
            "29/29 [==============================] - 0s 2ms/step - loss: 0.7809 - accuracy: 0.2615\n",
            "114/114 [==============================] - 1s 2ms/step - loss: 1.1364 - accuracy: 0.2496\n",
            "29/29 [==============================] - 0s 2ms/step - loss: 1.0122 - accuracy: 0.2321\n",
            "114/114 [==============================] - 1s 2ms/step - loss: 0.9032 - accuracy: 0.2482\n",
            "29/29 [==============================] - 0s 1ms/step - loss: 0.7881 - accuracy: 0.2376\n",
            "114/114 [==============================] - 1s 2ms/step - loss: 0.5479 - accuracy: 0.8694\n",
            "29/29 [==============================] - 0s 1ms/step - loss: 0.4709 - accuracy: 0.9318\n",
            "114/114 [==============================] - 1s 2ms/step - loss: 0.5408 - accuracy: 0.7759\n",
            "29/29 [==============================] - 0s 1ms/step - loss: 0.4569 - accuracy: 0.7769\n",
            "114/114 [==============================] - 1s 2ms/step - loss: 0.8385 - accuracy: 0.2425\n",
            "29/29 [==============================] - 0s 1ms/step - loss: 0.7208 - accuracy: 0.2615\n",
            "114/114 [==============================] - 1s 2ms/step - loss: 0.8233 - accuracy: 0.2490\n",
            "29/29 [==============================] - 0s 2ms/step - loss: 0.7343 - accuracy: 0.2321\n",
            "114/114 [==============================] - 1s 3ms/step - loss: 0.5623 - accuracy: 0.7694\n",
            "29/29 [==============================] - 0s 3ms/step - loss: 0.4938 - accuracy: 0.8020\n",
            "114/114 [==============================] - 1s 2ms/step - loss: 0.5257 - accuracy: 0.8117\n",
            "29/29 [==============================] - 0s 2ms/step - loss: 0.4820 - accuracy: 0.8350\n",
            "114/114 [==============================] - 1s 2ms/step - loss: 0.6206 - accuracy: 0.7525\n",
            "29/29 [==============================] - 0s 2ms/step - loss: 0.5493 - accuracy: 0.8374\n",
            "114/114 [==============================] - 1s 2ms/step - loss: 0.6091 - accuracy: 0.8224\n",
            "29/29 [==============================] - 0s 1ms/step - loss: 0.5339 - accuracy: 0.8945\n",
            "114/114 [==============================] - 1s 2ms/step - loss: 0.4506 - accuracy: 0.8818\n",
            "29/29 [==============================] - 0s 1ms/step - loss: 0.3958 - accuracy: 0.8933\n",
            "114/114 [==============================] - 1s 2ms/step - loss: 1.9562 - accuracy: 0.2482\n",
            "29/29 [==============================] - 0s 1ms/step - loss: 1.7856 - accuracy: 0.2376\n",
            "114/114 [==============================] - 1s 2ms/step - loss: 1.1002 - accuracy: 0.2471\n",
            "29/29 [==============================] - 0s 1ms/step - loss: 0.9665 - accuracy: 0.2420\n",
            "114/114 [==============================] - 1s 2ms/step - loss: 0.5788 - accuracy: 0.7575\n",
            "29/29 [==============================] - 0s 2ms/step - loss: 0.5731 - accuracy: 0.7462\n",
            "114/114 [==============================] - 1s 2ms/step - loss: 0.4707 - accuracy: 0.8040\n",
            "29/29 [==============================] - 0s 1ms/step - loss: 0.4427 - accuracy: 0.8055\n",
            "114/114 [==============================] - 1s 3ms/step - loss: 0.9715 - accuracy: 0.1207\n",
            "29/29 [==============================] - 0s 2ms/step - loss: 0.8282 - accuracy: 0.2057\n",
            "114/114 [==============================] - 1s 2ms/step - loss: 0.5388 - accuracy: 0.7664\n",
            "29/29 [==============================] - 0s 2ms/step - loss: 0.4407 - accuracy: 0.9186\n",
            "114/114 [==============================] - 1s 2ms/step - loss: 0.5366 - accuracy: 0.7529\n",
            "29/29 [==============================] - 0s 2ms/step - loss: 0.4755 - accuracy: 0.7580\n",
            "114/114 [==============================] - 1s 2ms/step - loss: 1.6332 - accuracy: 0.2433\n",
            "29/29 [==============================] - 0s 2ms/step - loss: 1.4311 - accuracy: 0.2571\n",
            "114/114 [==============================] - 1s 2ms/step - loss: 0.7629 - accuracy: 0.2400\n",
            "29/29 [==============================] - 0s 2ms/step - loss: 0.6253 - accuracy: 0.2615\n",
            "114/114 [==============================] - 1s 2ms/step - loss: 0.7012 - accuracy: 0.3252\n",
            "29/29 [==============================] - 0s 1ms/step - loss: 0.6124 - accuracy: 0.9054\n",
            "114/114 [==============================] - 1s 2ms/step - loss: 0.9892 - accuracy: 0.2482\n",
            "29/29 [==============================] - 0s 2ms/step - loss: 0.6803 - accuracy: 0.2376\n",
            "114/114 [==============================] - 1s 2ms/step - loss: 0.5765 - accuracy: 0.7669\n",
            "29/29 [==============================] - 0s 1ms/step - loss: 0.5364 - accuracy: 0.7866\n",
            "114/114 [==============================] - 1s 2ms/step - loss: 0.4887 - accuracy: 0.7558\n",
            "29/29 [==============================] - 0s 1ms/step - loss: 0.4700 - accuracy: 0.7604\n",
            "114/114 [==============================] - 1s 2ms/step - loss: 0.6814 - accuracy: 0.7399\n",
            "29/29 [==============================] - 0s 2ms/step - loss: 0.5447 - accuracy: 0.8571\n",
            "114/114 [==============================] - 1s 2ms/step - loss: 0.5321 - accuracy: 0.7716\n",
            "29/29 [==============================] - 0s 1ms/step - loss: 0.4563 - accuracy: 0.8295\n",
            "114/114 [==============================] - 1s 2ms/step - loss: 0.6744 - accuracy: 0.5904\n",
            "29/29 [==============================] - 0s 3ms/step - loss: 0.6160 - accuracy: 0.7624\n",
            "114/114 [==============================] - 1s 3ms/step - loss: 1.3222 - accuracy: 0.2471\n",
            "29/29 [==============================] - 0s 2ms/step - loss: 1.1602 - accuracy: 0.2420\n",
            "114/114 [==============================] - 1s 3ms/step - loss: 0.9626 - accuracy: 0.3046\n",
            "29/29 [==============================] - 0s 2ms/step - loss: 0.6416 - accuracy: 0.7033\n",
            "114/114 [==============================] - 1s 2ms/step - loss: 0.5788 - accuracy: 0.7578\n",
            "29/29 [==============================] - 0s 2ms/step - loss: 0.5425 - accuracy: 0.7385\n",
            "114/114 [==============================] - 1s 2ms/step - loss: 0.6811 - accuracy: 0.6020\n",
            "29/29 [==============================] - 0s 2ms/step - loss: 0.5642 - accuracy: 0.8394\n",
            "114/114 [==============================] - 1s 2ms/step - loss: 0.6840 - accuracy: 0.3933\n",
            "29/29 [==============================] - 0s 2ms/step - loss: 0.5855 - accuracy: 0.9065\n",
            "114/114 [==============================] - 1s 2ms/step - loss: 0.6125 - accuracy: 0.7419\n",
            "29/29 [==============================] - 0s 2ms/step - loss: 0.5763 - accuracy: 0.7514\n",
            "114/114 [==============================] - 1s 2ms/step - loss: 0.4910 - accuracy: 0.9208\n",
            "29/29 [==============================] - 0s 2ms/step - loss: 0.4403 - accuracy: 0.9275\n",
            "114/114 [==============================] - 1s 2ms/step - loss: 0.5243 - accuracy: 0.8092\n",
            "29/29 [==============================] - 0s 1ms/step - loss: 0.4421 - accuracy: 0.8934\n",
            "114/114 [==============================] - 1s 2ms/step - loss: 0.4909 - accuracy: 0.6963\n",
            "29/29 [==============================] - 0s 1ms/step - loss: 0.3679 - accuracy: 0.8372\n",
            "114/114 [==============================] - 1s 2ms/step - loss: 0.6168 - accuracy: 0.7408\n",
            "29/29 [==============================] - 0s 1ms/step - loss: 0.4880 - accuracy: 0.8350\n",
            "114/114 [==============================] - 1s 3ms/step - loss: 0.4188 - accuracy: 0.8128\n",
            "29/29 [==============================] - 0s 2ms/step - loss: 0.3741 - accuracy: 0.8537\n",
            "57/57 [==============================] - 1s 3ms/step - loss: 0.8102 - accuracy: 0.5089\n",
            "15/15 [==============================] - 0s 3ms/step - loss: 0.6282 - accuracy: 0.6835\n",
            "57/57 [==============================] - 1s 2ms/step - loss: 0.4857 - accuracy: 0.7723\n",
            "15/15 [==============================] - 0s 2ms/step - loss: 0.4379 - accuracy: 0.7890\n",
            "57/57 [==============================] - 1s 2ms/step - loss: 0.5954 - accuracy: 0.8186\n",
            "15/15 [==============================] - 0s 2ms/step - loss: 0.5323 - accuracy: 0.8691\n",
            "57/57 [==============================] - 1s 2ms/step - loss: 0.7172 - accuracy: 0.6979\n",
            "15/15 [==============================] - 0s 2ms/step - loss: 0.6122 - accuracy: 0.7591\n",
            "57/57 [==============================] - 1s 2ms/step - loss: 0.5412 - accuracy: 0.7573\n",
            "15/15 [==============================] - 0s 2ms/step - loss: 0.5006 - accuracy: 0.7712\n",
            "57/57 [==============================] - 1s 2ms/step - loss: 0.4978 - accuracy: 0.8207\n",
            "15/15 [==============================] - 0s 2ms/step - loss: 0.4738 - accuracy: 0.8418\n",
            "57/57 [==============================] - 1s 2ms/step - loss: 0.5519 - accuracy: 0.7578\n",
            "15/15 [==============================] - 0s 2ms/step - loss: 0.5684 - accuracy: 0.7385\n",
            "57/57 [==============================] - 1s 2ms/step - loss: 0.8622 - accuracy: 0.3073\n",
            "15/15 [==============================] - 0s 3ms/step - loss: 0.7035 - accuracy: 0.4983\n",
            "57/57 [==============================] - 1s 2ms/step - loss: 0.8103 - accuracy: 0.2482\n",
            "15/15 [==============================] - 0s 2ms/step - loss: 0.7640 - accuracy: 0.2376\n",
            "57/57 [==============================] - 1s 2ms/step - loss: 0.5590 - accuracy: 0.7529\n",
            "15/15 [==============================] - 0s 2ms/step - loss: 0.5526 - accuracy: 0.7580\n",
            "57/57 [==============================] - 1s 2ms/step - loss: 0.5191 - accuracy: 0.8342\n",
            "15/15 [==============================] - 0s 2ms/step - loss: 0.4554 - accuracy: 0.8769\n",
            "57/57 [==============================] - 1s 3ms/step - loss: 0.5866 - accuracy: 0.7578\n",
            "15/15 [==============================] - 0s 3ms/step - loss: 0.5657 - accuracy: 0.7385\n",
            "57/57 [==============================] - 2s 3ms/step - loss: 0.5483 - accuracy: 0.7504\n",
            "15/15 [==============================] - 0s 3ms/step - loss: 0.5215 - accuracy: 0.7679\n",
            "57/57 [==============================] - 1s 2ms/step - loss: 0.7124 - accuracy: 0.7551\n",
            "15/15 [==============================] - 0s 2ms/step - loss: 0.5307 - accuracy: 0.7833\n",
            "57/57 [==============================] - 1s 2ms/step - loss: 0.3960 - accuracy: 0.8375\n",
            "15/15 [==============================] - 0s 2ms/step - loss: 0.3532 - accuracy: 0.8548\n",
            "57/57 [==============================] - 1s 2ms/step - loss: 1.3511 - accuracy: 0.1430\n",
            "15/15 [==============================] - 0s 2ms/step - loss: 1.2234 - accuracy: 0.1901\n",
            "57/57 [==============================] - 1s 2ms/step - loss: 0.7888 - accuracy: 0.2420\n",
            "15/15 [==============================] - 0s 2ms/step - loss: 0.7091 - accuracy: 0.2615\n",
            "57/57 [==============================] - 1s 2ms/step - loss: 0.4974 - accuracy: 0.7694\n",
            "15/15 [==============================] - 0s 3ms/step - loss: 0.4501 - accuracy: 0.7954\n",
            "57/57 [==============================] - 1s 2ms/step - loss: 0.8475 - accuracy: 0.1965\n",
            "15/15 [==============================] - 0s 2ms/step - loss: 0.7868 - accuracy: 0.1980\n",
            "57/57 [==============================] - 1s 2ms/step - loss: 0.6248 - accuracy: 0.7801\n",
            "15/15 [==============================] - 0s 2ms/step - loss: 0.5373 - accuracy: 0.8196\n",
            "57/57 [==============================] - 1s 2ms/step - loss: 0.5289 - accuracy: 0.7578\n",
            "15/15 [==============================] - 0s 2ms/step - loss: 0.4855 - accuracy: 0.8099\n",
            "57/57 [==============================] - 1s 2ms/step - loss: 0.6441 - accuracy: 0.6662\n",
            "15/15 [==============================] - 0s 2ms/step - loss: 0.6101 - accuracy: 0.7099\n",
            "57/57 [==============================] - 1s 2ms/step - loss: 0.5309 - accuracy: 0.7691\n",
            "15/15 [==============================] - 0s 2ms/step - loss: 0.4781 - accuracy: 0.8009\n",
            "57/57 [==============================] - 1s 3ms/step - loss: 0.7102 - accuracy: 0.3678\n",
            "15/15 [==============================] - 0s 2ms/step - loss: 0.6614 - accuracy: 0.8218\n",
            "57/57 [==============================] - 1s 3ms/step - loss: 1.0412 - accuracy: 0.1539\n",
            "15/15 [==============================] - 0s 3ms/step - loss: 0.9697 - accuracy: 0.1595\n",
            "57/57 [==============================] - 1s 3ms/step - loss: 0.5978 - accuracy: 0.7756\n",
            "15/15 [==============================] - 0s 3ms/step - loss: 0.5627 - accuracy: 0.7901\n",
            "57/57 [==============================] - 1s 2ms/step - loss: 0.5112 - accuracy: 0.7979\n",
            "15/15 [==============================] - 0s 2ms/step - loss: 0.4857 - accuracy: 0.8022\n",
            "57/57 [==============================] - 1s 2ms/step - loss: 0.4870 - accuracy: 0.7504\n",
            "15/15 [==============================] - 0s 2ms/step - loss: 0.4309 - accuracy: 0.7679\n",
            "57/57 [==============================] - 1s 2ms/step - loss: 0.5083 - accuracy: 0.7856\n",
            "15/15 [==============================] - 0s 2ms/step - loss: 0.4504 - accuracy: 0.8350\n",
            "57/57 [==============================] - 1s 2ms/step - loss: 0.4338 - accuracy: 0.8642\n",
            "15/15 [==============================] - 0s 2ms/step - loss: 0.3995 - accuracy: 0.8911\n",
            "57/57 [==============================] - 1s 2ms/step - loss: 0.8528 - accuracy: 0.6423\n",
            "15/15 [==============================] - 0s 2ms/step - loss: 0.6916 - accuracy: 0.7000\n",
            "57/57 [==============================] - 1s 2ms/step - loss: 0.8550 - accuracy: 0.1158\n",
            "15/15 [==============================] - 0s 2ms/step - loss: 0.7937 - accuracy: 0.1429\n",
            "57/57 [==============================] - 1s 2ms/step - loss: 0.5495 - accuracy: 0.8197\n",
            "15/15 [==============================] - 0s 2ms/step - loss: 0.4824 - accuracy: 0.8801\n",
            "57/57 [==============================] - 1s 2ms/step - loss: 1.5534 - accuracy: 0.2482\n",
            "15/15 [==============================] - 0s 2ms/step - loss: 1.2823 - accuracy: 0.2376\n",
            "57/57 [==============================] - 1s 2ms/step - loss: 0.4520 - accuracy: 0.7529\n",
            "15/15 [==============================] - 0s 2ms/step - loss: 0.4162 - accuracy: 0.7580\n",
            "57/57 [==============================] - 1s 2ms/step - loss: 0.5117 - accuracy: 0.7567\n",
            "15/15 [==============================] - 0s 2ms/step - loss: 0.4977 - accuracy: 0.7429\n",
            "57/57 [==============================] - 2s 6ms/step - loss: 0.8178 - accuracy: 0.5078\n",
            "15/15 [==============================] - 0s 2ms/step - loss: 0.6838 - accuracy: 0.6451\n",
            "57/57 [==============================] - 1s 2ms/step - loss: 0.5996 - accuracy: 0.7504\n",
            "15/15 [==============================] - 0s 2ms/step - loss: 0.5490 - accuracy: 0.7679\n",
            "57/57 [==============================] - 1s 2ms/step - loss: 1.0098 - accuracy: 0.2224\n",
            "15/15 [==============================] - 0s 3ms/step - loss: 0.7709 - accuracy: 0.4598\n",
            "57/57 [==============================] - 1s 2ms/step - loss: 0.6085 - accuracy: 0.7529\n",
            "15/15 [==============================] - 0s 2ms/step - loss: 0.5873 - accuracy: 0.7580\n",
            "57/57 [==============================] - 1s 2ms/step - loss: 0.6588 - accuracy: 0.7385\n",
            "15/15 [==============================] - 0s 2ms/step - loss: 0.6278 - accuracy: 0.7615\n",
            "57/57 [==============================] - 1s 2ms/step - loss: 1.7700 - accuracy: 0.2288\n",
            "15/15 [==============================] - 0s 2ms/step - loss: 1.6299 - accuracy: 0.2549\n",
            "57/57 [==============================] - 1s 2ms/step - loss: 0.5349 - accuracy: 0.8255\n",
            "15/15 [==============================] - 0s 2ms/step - loss: 0.3664 - accuracy: 0.8768\n",
            "57/57 [==============================] - 1s 2ms/step - loss: 0.6075 - accuracy: 0.8277\n",
            "15/15 [==============================] - 0s 2ms/step - loss: 0.5655 - accuracy: 0.8801\n",
            "57/57 [==============================] - 1s 2ms/step - loss: 0.8502 - accuracy: 0.5132\n",
            "15/15 [==============================] - 0s 2ms/step - loss: 0.6237 - accuracy: 0.7074\n",
            "228/228 [==============================] - 1s 2ms/step - loss: 0.6094 - accuracy: 0.7539\n",
            "{'batch_size': 20, 'hidden_units': 4, 'learning_rate': 0.001}\n",
            "0.8748425364494323\n"
          ]
        }
      ]
    },
    {
      "cell_type": "code",
      "source": [
        "# Get the best parameters\n",
        "best_params = grid_search.best_params_\n",
        "\n",
        "# Create a new model with the best parameters\n",
        "best_model = create_model(hidden_units=best_params['hidden_units'], learning_rate=best_params['learning_rate'])\n",
        "\n",
        "# Train the best model on the entire training set\n",
        "best_model.fit(x_train, y_train, epochs=10, batch_size=best_params['batch_size'])\n",
        "\n",
        "# Evaluate the best model on the test set\n",
        "test_loss, test_accuracy = best_model.evaluate(x_test, y_test)\n",
        "\n",
        "# Print the test accuracy\n",
        "print(\"Test Accuracy:\", test_accuracy)\n"
      ],
      "metadata": {
        "colab": {
          "base_uri": "https://localhost:8080/"
        },
        "id": "VbESWLtGqcsy",
        "outputId": "fc317f46-c6c9-4dbc-843e-0d53c48d14f7"
      },
      "execution_count": 48,
      "outputs": [
        {
          "output_type": "stream",
          "name": "stdout",
          "text": [
            "Epoch 1/10\n",
            "228/228 [==============================] - 1s 3ms/step - loss: 0.5789 - accuracy: 0.7447\n",
            "Epoch 2/10\n",
            "228/228 [==============================] - 0s 2ms/step - loss: 0.3795 - accuracy: 0.8790\n",
            "Epoch 3/10\n",
            "228/228 [==============================] - 0s 2ms/step - loss: 0.3094 - accuracy: 0.8940\n",
            "Epoch 4/10\n",
            "228/228 [==============================] - 0s 2ms/step - loss: 0.2791 - accuracy: 0.8997\n",
            "Epoch 5/10\n",
            "228/228 [==============================] - 0s 2ms/step - loss: 0.2591 - accuracy: 0.9074\n",
            "Epoch 6/10\n",
            "228/228 [==============================] - 0s 2ms/step - loss: 0.2414 - accuracy: 0.9133\n",
            "Epoch 7/10\n",
            "228/228 [==============================] - 0s 2ms/step - loss: 0.2271 - accuracy: 0.9173\n",
            "Epoch 8/10\n",
            "228/228 [==============================] - 0s 2ms/step - loss: 0.2168 - accuracy: 0.9239\n",
            "Epoch 9/10\n",
            "228/228 [==============================] - 0s 2ms/step - loss: 0.2096 - accuracy: 0.9248\n",
            "Epoch 10/10\n",
            "228/228 [==============================] - 0s 2ms/step - loss: 0.2016 - accuracy: 0.9265\n",
            "61/61 [==============================] - 0s 1ms/step - loss: 0.1868 - accuracy: 0.9303\n",
            "Test Accuracy: 0.9302564263343811\n"
          ]
        }
      ]
    },
    {
      "cell_type": "markdown",
      "source": [
        "#Evaluation Analysis"
      ],
      "metadata": {
        "id": "M1Ecooxr7S9t"
      }
    },
    {
      "cell_type": "markdown",
      "source": [
        "After performing the hyperparamter tunings, the accuracy test score did not see any significant improvement. This is likely due to my lack of understanding on the tuning techniques. The following is a confusion matrix to evaluate the final model."
      ],
      "metadata": {
        "id": "WbTLQmyq8nby"
      }
    },
    {
      "cell_type": "code",
      "source": [
        "from sklearn.metrics import confusion_matrix\n",
        "\n",
        "# Predict the classes for the test set\n",
        "y_pred = best_model.predict(x_test)\n",
        "\n",
        "# Convert the predicted probabilities to class labels\n",
        "y_pred_classes = (y_pred > 0.5).astype(int)\n",
        "\n",
        "# Get the confusion matrix\n",
        "cm = confusion_matrix(y_test, y_pred_classes)\n",
        "print(\"Confusion Matrix:\")\n",
        "print(cm)\n"
      ],
      "metadata": {
        "colab": {
          "base_uri": "https://localhost:8080/"
        },
        "id": "vIlo5YbN7Wo0",
        "outputId": "c4a9deb8-e551-4019-9fff-79d5870ec043"
      },
      "execution_count": 44,
      "outputs": [
        {
          "output_type": "stream",
          "name": "stdout",
          "text": [
            "61/61 [==============================] - 0s 1ms/step\n",
            "Confusion Matrix:\n",
            "[[1470    0]\n",
            " [ 480    0]]\n"
          ]
        }
      ]
    },
    {
      "cell_type": "code",
      "source": [
        "import numpy as np\n",
        "\n",
        "# Define the confusion matrix\n",
        "confusion_matrix = np.array([[1442, 28], [101, 379]])\n",
        "\n",
        "# Calculate the True Positives, True Negatives, False Positives, and False Negatives\n",
        "TP = confusion_matrix[1, 1]\n",
        "TN = confusion_matrix[0, 0]\n",
        "FP = confusion_matrix[0, 1]\n",
        "FN = confusion_matrix[1, 0]\n",
        "\n",
        "# Calculate accuracy\n",
        "accuracy = (TP + TN) / np.sum(confusion_matrix)\n",
        "\n",
        "# Calculate precision\n",
        "precision = TP / (TP + FP)\n",
        "\n",
        "# Calculate recall (also known as sensitivity or true positive rate)\n",
        "recall = TP / (TP + FN)\n",
        "\n",
        "# Calculate specificity (true negative rate)\n",
        "specificity = TN / (TN + FP)\n",
        "\n",
        "# Print the results\n",
        "print(\"Accuracy:\", accuracy)\n",
        "print(\"Precision:\", precision)\n",
        "print(\"Recall:\", recall)\n",
        "print(\"Specificity:\", specificity)\n"
      ],
      "metadata": {
        "colab": {
          "base_uri": "https://localhost:8080/"
        },
        "id": "kJQVEvXY-aDv",
        "outputId": "28ac9b52-e77d-447d-87a7-2820c1181bf8"
      },
      "execution_count": 45,
      "outputs": [
        {
          "output_type": "stream",
          "name": "stdout",
          "text": [
            "Accuracy: 0.9338461538461539\n",
            "Precision: 0.9312039312039312\n",
            "Recall: 0.7895833333333333\n",
            "Specificity: 0.9809523809523809\n"
          ]
        }
      ]
    },
    {
      "cell_type": "markdown",
      "source": [
        "##Break down of the confusion matrix:\n",
        "\n",
        "True Positives (TP): 379.\\\n",
        "True Negatives (TN): 1442.\\\n",
        "False Positives (FP):28.\\\n",
        "False Negatives (FN): 101.\\\n",
        "Accuracy: 0.9338461538461539\\\n",
        "Precision: 0.9312039312039312\\\n",
        "Recall: 0.7895833333333333\\\n",
        "Specificity: 0.9809523809523809\\"
      ],
      "metadata": {
        "id": "mSeMxDaj8HR2"
      }
    }
  ]
}